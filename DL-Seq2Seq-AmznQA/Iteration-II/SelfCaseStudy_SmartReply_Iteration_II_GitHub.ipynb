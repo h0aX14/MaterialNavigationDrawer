{
  "nbformat": 4,
  "nbformat_minor": 0,
  "metadata": {
    "colab": {
      "name": "SelfCaseStudy_SmartReply_Iteration-II_GitHub.ipynb",
      "provenance": [],
      "authorship_tag": "ABX9TyOO2wDa8AU+5Ls0XYz7DT2b",
      "include_colab_link": true
    },
    "kernelspec": {
      "name": "python3",
      "display_name": "Python 3"
    }
  },
  "cells": [
    {
      "cell_type": "markdown",
      "metadata": {
        "id": "view-in-github",
        "colab_type": "text"
      },
      "source": [
        "<a href=\"https://colab.research.google.com/github/hsomaiya/MaterialNavigationDrawer/blob/master/DL-Seq2Seq-AmznQA/Iteration-II/SelfCaseStudy_SmartReply_Iteration_II_GitHub.ipynb\" target=\"_parent\"><img src=\"https://colab.research.google.com/assets/colab-badge.svg\" alt=\"Open In Colab\"/></a>"
      ]
    },
    {
      "cell_type": "markdown",
      "metadata": {
        "id": "Xqp_0v_9sk2f",
        "colab_type": "text"
      },
      "source": [
        "## Data Acquisiton, Data Processing, Data Analysis, Data Preparation, ML Modeling, ML Evaluation and ML Inferencing"
      ]
    },
    {
      "cell_type": "markdown",
      "metadata": {
        "id": "hRXJgrAPtBlg",
        "colab_type": "text"
      },
      "source": [
        "### 1. Importing libraries"
      ]
    },
    {
      "cell_type": "code",
      "metadata": {
        "id": "80TiGxqek0mX",
        "colab_type": "code",
        "colab": {
          "base_uri": "https://localhost:8080/",
          "height": 66
        },
        "outputId": "f61f9c87-0ad6-4877-ae0a-66f46f8f91a2"
      },
      "source": [
        "!pip install -qq tf-nightly==2.4.0-dev20200815"
      ],
      "execution_count": null,
      "outputs": [
        {
          "output_type": "stream",
          "text": [
            "\u001b[K     |████████████████████████████████| 325.9MB 53kB/s \n",
            "\u001b[K     |████████████████████████████████| 10.6MB 55.2MB/s \n",
            "\u001b[K     |████████████████████████████████| 460kB 53.2MB/s \n",
            "\u001b[?25h"
          ],
          "name": "stdout"
        }
      ]
    },
    {
      "cell_type": "code",
      "metadata": {
        "id": "EkXXB3F_tF4c",
        "colab_type": "code",
        "colab": {}
      },
      "source": [
        "# For data acquisition\n",
        "from bs4 import BeautifulSoup\n",
        "import gzip\n",
        "from html import unescape\n",
        "import json\n",
        "import matplotlib.pyplot as plt\n",
        "import numpy as np\n",
        "import os\n",
        "import pandas as pd\n",
        "import re\n",
        "from skimage import io\n",
        "import cv2\n",
        "from google.colab.patches import cv2_imshow\n",
        "# For ml modeling\n",
        "import matplotlib.pyplot as plt\n",
        "from multiprocessing import Pool, Process\n",
        "from nltk.translate.bleu_score import corpus_bleu\n",
        "from numpy import argmax, array, asarray, zeros, save, load\n",
        "import pickle\n",
        "import random\n",
        "from sklearn.model_selection import train_test_split\n",
        "import shutil\n",
        "import tensorflow as tf\n",
        "from tensorflow.keras.optimizers import Adam\n",
        "from tensorflow.keras.preprocessing.sequence import pad_sequences\n",
        "from tensorflow.keras.preprocessing.text import Tokenizer\n",
        "from tqdm import tqdm\n",
        "import urllib"
      ],
      "execution_count": null,
      "outputs": []
    },
    {
      "cell_type": "code",
      "metadata": {
        "colab_type": "code",
        "id": "lgPhsPULYZPJ",
        "colab": {
          "base_uri": "https://localhost:8080/",
          "height": 33
        },
        "outputId": "ebda3f47-520f-41a7-bf85-3855f1296840"
      },
      "source": [
        "print(tf.__version__)"
      ],
      "execution_count": null,
      "outputs": [
        {
          "output_type": "stream",
          "text": [
            "2.4.0-dev20200815\n"
          ],
          "name": "stdout"
        }
      ]
    },
    {
      "cell_type": "code",
      "metadata": {
        "colab_type": "code",
        "id": "pxEUfiIfYZPL",
        "colab": {
          "base_uri": "https://localhost:8080/",
          "height": 293
        },
        "outputId": "5c0fa369-753a-4385-fe22-5ec88b0d9654"
      },
      "source": [
        "from tensorflow.python.client import device_lib\n",
        "print(device_lib.list_local_devices())"
      ],
      "execution_count": null,
      "outputs": [
        {
          "output_type": "stream",
          "text": [
            "[name: \"/device:CPU:0\"\n",
            "device_type: \"CPU\"\n",
            "memory_limit: 268435456\n",
            "locality {\n",
            "}\n",
            "incarnation: 9131743941388616000\n",
            ", name: \"/device:GPU:0\"\n",
            "device_type: \"GPU\"\n",
            "memory_limit: 14611321984\n",
            "locality {\n",
            "  bus_id: 1\n",
            "  links {\n",
            "  }\n",
            "}\n",
            "incarnation: 15280388237352356988\n",
            "physical_device_desc: \"device: 0, name: Tesla T4, pci bus id: 0000:00:04.0, compute capability: 7.5\"\n",
            "]\n"
          ],
          "name": "stdout"
        }
      ]
    },
    {
      "cell_type": "code",
      "metadata": {
        "id": "ZRpULmTZyN_w",
        "colab_type": "code",
        "colab": {}
      },
      "source": [
        "from datetime import datetime\n",
        "\n",
        "def timer(start_time=None):\n",
        "  \"\"\" \n",
        "  Measure the block's execution time using the clock \n",
        "  \"\"\"\n",
        "  if not start_time:\n",
        "    start_time = datetime.now()\n",
        "    return start_time\n",
        "  elif start_time:\n",
        "    thour, temp_sec = divmod((datetime.now() - start_time).total_seconds(), 3600)\n",
        "    tmin, tsec = divmod(temp_sec, 60)\n",
        "    print('Time taken: %i hours %i minutes and %s seconds.' % (thour, tmin, round(tsec, 2)))"
      ],
      "execution_count": null,
      "outputs": []
    },
    {
      "cell_type": "code",
      "metadata": {
        "id": "64kJ59WetHZ3",
        "colab_type": "code",
        "colab": {}
      },
      "source": [
        "os.chdir('/content')"
      ],
      "execution_count": null,
      "outputs": []
    },
    {
      "cell_type": "code",
      "metadata": {
        "colab_type": "code",
        "id": "YSi_PCgSYZPM",
        "colab": {}
      },
      "source": [
        "SEED = 42\n",
        "os.environ['PYTHONHASHSEED']=str(SEED)\n",
        "os.environ['TF_CUDNN_DETERMINISTIC'] = '1'  # TF 2.1+\n",
        "random.seed(SEED)\n",
        "np.random.seed(SEED)\n",
        "tf.random.set_seed(SEED)"
      ],
      "execution_count": null,
      "outputs": []
    },
    {
      "cell_type": "markdown",
      "metadata": {
        "id": "KfqeiiqNqlCg",
        "colab_type": "text"
      },
      "source": [
        "### 2. Downloading dataset"
      ]
    },
    {
      "cell_type": "markdown",
      "metadata": {
        "id": "ogRgTL6esTxX",
        "colab_type": "text"
      },
      "source": [
        "Steps:\n",
        "1. Download CurlWget in Google Chrome Browser https://chrome.google.com/webstore/detail/curlwget/jmocjfidanebdlinpbcdkcmgdifblncg/related?hl=en\n",
        "2. Watch the tutorial uploaded by author\n",
        "3. Download 14 dataset from Questions with multiple answers section of Amazon question/answer data link http://jmcauley.ucsd.edu/data/amazon/qa/\n",
        "4. Fill the Google form https://forms.gle/A8hBfPxKkKGFCP238 and get the metadata dataset link"
      ]
    },
    {
      "cell_type": "code",
      "metadata": {
        "id": "xInKGFPvpIOs",
        "colab_type": "code",
        "colab": {}
      },
      "source": [
        "!wget -qq --header=\"Host: jmcauley.ucsd.edu\" --header=\"User-Agent: Mozilla/5.0 (Windows NT 10.0; Win64; x64) AppleWebKit/537.36 (KHTML, like Gecko) Chrome/83.0.4103.116 Safari/537.36\" --header=\"Accept: text/html,application/xhtml+xml,application/xml;q=0.9,image/webp,image/apng,*/*;q=0.8,application/signed-exchange;v=b3;q=0.9\" --header=\"Accept-Language: en-US,en;q=0.9\" --header=\"Referer: http://jmcauley.ucsd.edu/data/amazon/qa/\" --header=\"Cookie: __extfc=1\" --header=\"Connection: keep-alive\" \"http://jmcauley.ucsd.edu/data/amazon/qa/icdm/QA_Automotive.json.gz\" -c -O 'QA_Automotive.json.gz'\n",
        "!wget -qq --header=\"Host: jmcauley.ucsd.edu\" --header=\"User-Agent: Mozilla/5.0 (Windows NT 10.0; Win64; x64) AppleWebKit/537.36 (KHTML, like Gecko) Chrome/83.0.4103.116 Safari/537.36\" --header=\"Accept: text/html,application/xhtml+xml,application/xml;q=0.9,image/webp,image/apng,*/*;q=0.8,application/signed-exchange;v=b3;q=0.9\" --header=\"Accept-Language: en-US,en;q=0.9\" --header=\"Referer: http://jmcauley.ucsd.edu/data/amazon/qa/\" --header=\"Cookie: __extfc=1\" --header=\"Connection: keep-alive\" \"http://jmcauley.ucsd.edu/data/amazon/qa/icdm/QA_Cell_Phones_and_Accessories.json.gz\" -c -O 'QA_Cell_Phones_and_Accessories.json.gz'\n",
        "!wget -qq --header=\"Host: jmcauley.ucsd.edu\" --header=\"User-Agent: Mozilla/5.0 (Windows NT 10.0; Win64; x64) AppleWebKit/537.36 (KHTML, like Gecko) Chrome/83.0.4103.116 Safari/537.36\" --header=\"Accept: text/html,application/xhtml+xml,application/xml;q=0.9,image/webp,image/apng,*/*;q=0.8,application/signed-exchange;v=b3;q=0.9\" --header=\"Accept-Language: en-US,en;q=0.9\" --header=\"Referer: http://jmcauley.ucsd.edu/data/amazon/qa/\" --header=\"Cookie: __extfc=1\" --header=\"Connection: keep-alive\" \"http://jmcauley.ucsd.edu/data/amazon/qa/icdm/QA_Clothing_Shoes_and_Jewelry.json.gz\" -c -O 'QA_Clothing_Shoes_and_Jewelry.json.gz'\n",
        "!wget -qq --header=\"Host: jmcauley.ucsd.edu\" --header=\"User-Agent: Mozilla/5.0 (Windows NT 10.0; Win64; x64) AppleWebKit/537.36 (KHTML, like Gecko) Chrome/83.0.4103.116 Safari/537.36\" --header=\"Accept: text/html,application/xhtml+xml,application/xml;q=0.9,image/webp,image/apng,*/*;q=0.8,application/signed-exchange;v=b3;q=0.9\" --header=\"Accept-Language: en-US,en;q=0.9\" --header=\"Referer: http://jmcauley.ucsd.edu/data/amazon/qa/\" --header=\"Cookie: __extfc=1\" --header=\"Connection: keep-alive\" \"http://jmcauley.ucsd.edu/data/amazon/qa/icdm/QA_Electronics.json.gz\" -c -O 'QA_Electronics.json.gz'\n",
        "!wget -qq --header=\"Host: jmcauley.ucsd.edu\" --header=\"User-Agent: Mozilla/5.0 (Windows NT 10.0; Win64; x64) AppleWebKit/537.36 (KHTML, like Gecko) Chrome/83.0.4103.116 Safari/537.36\" --header=\"Accept: text/html,application/xhtml+xml,application/xml;q=0.9,image/webp,image/apng,*/*;q=0.8,application/signed-exchange;v=b3;q=0.9\" --header=\"Accept-Language: en-US,en;q=0.9\" --header=\"Referer: http://jmcauley.ucsd.edu/data/amazon/qa/\" --header=\"Cookie: __extfc=1\" --header=\"Connection: keep-alive\" \"http://jmcauley.ucsd.edu/data/amazon/qa/icdm/QA_Grocery_and_Gourmet_Food.json.gz\" -c -O 'QA_Grocery_and_Gourmet_Food.json.gz'\n",
        "!wget -qq --header=\"Host: jmcauley.ucsd.edu\" --header=\"User-Agent: Mozilla/5.0 (Windows NT 10.0; Win64; x64) AppleWebKit/537.36 (KHTML, like Gecko) Chrome/83.0.4103.116 Safari/537.36\" --header=\"Accept: text/html,application/xhtml+xml,application/xml;q=0.9,image/webp,image/apng,*/*;q=0.8,application/signed-exchange;v=b3;q=0.9\" --header=\"Accept-Language: en-US,en;q=0.9\" --header=\"Referer: http://jmcauley.ucsd.edu/data/amazon/qa/\" --header=\"Cookie: __extfc=1\" --header=\"Connection: keep-alive\" \"http://jmcauley.ucsd.edu/data/amazon/qa/icdm/QA_Home_and_Kitchen.json.gz\" -c -O 'QA_Home_and_Kitchen.json.gz'\n",
        "!wget -qq --header=\"Host: jmcauley.ucsd.edu\" --header=\"User-Agent: Mozilla/5.0 (Windows NT 10.0; Win64; x64) AppleWebKit/537.36 (KHTML, like Gecko) Chrome/83.0.4103.116 Safari/537.36\" --header=\"Accept: text/html,application/xhtml+xml,application/xml;q=0.9,image/webp,image/apng,*/*;q=0.8,application/signed-exchange;v=b3;q=0.9\" --header=\"Accept-Language: en-US,en;q=0.9\" --header=\"Referer: http://jmcauley.ucsd.edu/data/amazon/qa/\" --header=\"Cookie: __extfc=1\" --header=\"Connection: keep-alive\" \"http://jmcauley.ucsd.edu/data/amazon/qa/icdm/QA_Musical_Instruments.json.gz\" -c -O 'QA_Musical_Instruments.json.gz'\n",
        "!wget -qq --header=\"Host: jmcauley.ucsd.edu\" --header=\"User-Agent: Mozilla/5.0 (Windows NT 10.0; Win64; x64) AppleWebKit/537.36 (KHTML, like Gecko) Chrome/83.0.4103.116 Safari/537.36\" --header=\"Accept: text/html,application/xhtml+xml,application/xml;q=0.9,image/webp,image/apng,*/*;q=0.8,application/signed-exchange;v=b3;q=0.9\" --header=\"Accept-Language: en-US,en;q=0.9\" --header=\"Referer: http://jmcauley.ucsd.edu/data/amazon/qa/\" --header=\"Cookie: __extfc=1\" --header=\"Connection: keep-alive\" \"http://jmcauley.ucsd.edu/data/amazon/qa/icdm/QA_Office_Products.json.gz\" -c -O 'QA_Office_Products.json.gz'\n",
        "!wget -qq --header=\"Host: jmcauley.ucsd.edu\" --header=\"User-Agent: Mozilla/5.0 (Windows NT 10.0; Win64; x64) AppleWebKit/537.36 (KHTML, like Gecko) Chrome/83.0.4103.116 Safari/537.36\" --header=\"Accept: text/html,application/xhtml+xml,application/xml;q=0.9,image/webp,image/apng,*/*;q=0.8,application/signed-exchange;v=b3;q=0.9\" --header=\"Accept-Language: en-US,en;q=0.9\" --header=\"Referer: http://jmcauley.ucsd.edu/data/amazon/qa/\" --header=\"Cookie: __extfc=1\" --header=\"Connection: keep-alive\" \"http://jmcauley.ucsd.edu/data/amazon/qa/icdm/QA_Patio_Lawn_and_Garden.json.gz\" -c -O 'QA_Patio_Lawn_and_Garden.json.gz'\n",
        "!wget -qq --header=\"Host: jmcauley.ucsd.edu\" --header=\"User-Agent: Mozilla/5.0 (Windows NT 10.0; Win64; x64) AppleWebKit/537.36 (KHTML, like Gecko) Chrome/83.0.4103.116 Safari/537.36\" --header=\"Accept: text/html,application/xhtml+xml,application/xml;q=0.9,image/webp,image/apng,*/*;q=0.8,application/signed-exchange;v=b3;q=0.9\" --header=\"Accept-Language: en-US,en;q=0.9\" --header=\"Referer: http://jmcauley.ucsd.edu/data/amazon/qa/\" --header=\"Cookie: __extfc=1\" --header=\"Connection: keep-alive\" \"http://jmcauley.ucsd.edu/data/amazon/qa/icdm/QA_Pet_Supplies.json.gz\" -c -O 'QA_Pet_Supplies.json.gz'\n",
        "!wget -qq --header=\"Host: jmcauley.ucsd.edu\" --header=\"User-Agent: Mozilla/5.0 (Windows NT 10.0; Win64; x64) AppleWebKit/537.36 (KHTML, like Gecko) Chrome/83.0.4103.116 Safari/537.36\" --header=\"Accept: text/html,application/xhtml+xml,application/xml;q=0.9,image/webp,image/apng,*/*;q=0.8,application/signed-exchange;v=b3;q=0.9\" --header=\"Accept-Language: en-US,en;q=0.9\" --header=\"Referer: http://jmcauley.ucsd.edu/data/amazon/qa/\" --header=\"Cookie: __extfc=1\" --header=\"Connection: keep-alive\" \"http://jmcauley.ucsd.edu/data/amazon/qa/icdm/QA_Sports_and_Outdoors.json.gz\" -c -O 'QA_Sports_and_Outdoors.json.gz'\n",
        "!wget -qq --header=\"Host: jmcauley.ucsd.edu\" --header=\"User-Agent: Mozilla/5.0 (Windows NT 10.0; Win64; x64) AppleWebKit/537.36 (KHTML, like Gecko) Chrome/83.0.4103.116 Safari/537.36\" --header=\"Accept: text/html,application/xhtml+xml,application/xml;q=0.9,image/webp,image/apng,*/*;q=0.8,application/signed-exchange;v=b3;q=0.9\" --header=\"Accept-Language: en-US,en;q=0.9\" --header=\"Referer: http://jmcauley.ucsd.edu/data/amazon/qa/\" --header=\"Cookie: __extfc=1\" --header=\"Connection: keep-alive\" \"http://jmcauley.ucsd.edu/data/amazon/qa/icdm/QA_Tools_and_Home_Improvement.json.gz\" -c -O 'QA_Tools_and_Home_Improvement.json.gz'\n",
        "!wget -qq --header=\"Host: jmcauley.ucsd.edu\" --header=\"User-Agent: Mozilla/5.0 (Windows NT 10.0; Win64; x64) AppleWebKit/537.36 (KHTML, like Gecko) Chrome/83.0.4103.116 Safari/537.36\" --header=\"Accept: text/html,application/xhtml+xml,application/xml;q=0.9,image/webp,image/apng,*/*;q=0.8,application/signed-exchange;v=b3;q=0.9\" --header=\"Accept-Language: en-US,en;q=0.9\" --header=\"Referer: http://jmcauley.ucsd.edu/data/amazon/qa/\" --header=\"Cookie: __extfc=1\" --header=\"Connection: keep-alive\" \"http://jmcauley.ucsd.edu/data/amazon/qa/icdm/QA_Toys_and_Games.json.gz\" -c -O 'QA_Toys_and_Games.json.gz'\n",
        "!wget -qq --header=\"Host: jmcauley.ucsd.edu\" --header=\"User-Agent: Mozilla/5.0 (Windows NT 10.0; Win64; x64) AppleWebKit/537.36 (KHTML, like Gecko) Chrome/83.0.4103.116 Safari/537.36\" --header=\"Accept: text/html,application/xhtml+xml,application/xml;q=0.9,image/webp,image/apng,*/*;q=0.8,application/signed-exchange;v=b3;q=0.9\" --header=\"Accept-Language: en-US,en;q=0.9\" --header=\"Referer: http://jmcauley.ucsd.edu/data/amazon/qa/\" --header=\"Cookie: __extfc=1\" --header=\"Connection: keep-alive\" \"http://jmcauley.ucsd.edu/data/amazon/qa/icdm/QA_Video_Games.json.gz\" -c -O 'QA_Video_Games.json.gz'"
      ],
      "execution_count": null,
      "outputs": []
    },
    {
      "cell_type": "code",
      "metadata": {
        "id": "rLKZY2Cvl8ok",
        "colab_type": "code",
        "colab": {}
      },
      "source": [
        "# Download metadata in this code cell\n",
        "# Direct links removed\n",
        "# Please fill the google form provided by the author of the dataset"
      ],
      "execution_count": null,
      "outputs": []
    },
    {
      "cell_type": "code",
      "metadata": {
        "id": "4KeW0b8Zx9Fh",
        "colab_type": "code",
        "colab": {}
      },
      "source": [
        "rootdir='/content'"
      ],
      "execution_count": null,
      "outputs": []
    },
    {
      "cell_type": "markdown",
      "metadata": {
        "id": "cVHj22ek2dg2",
        "colab_type": "text"
      },
      "source": [
        "### 3. Extracting data"
      ]
    },
    {
      "cell_type": "code",
      "metadata": {
        "id": "vicrL1n1TPca",
        "colab_type": "code",
        "colab": {}
      },
      "source": [
        "# Data collection\n",
        "# Only those categories have been downloaded for which QA_*.json.gz files \n",
        "# and meta_*.json.gz files are available\n",
        "\n",
        "# Extraction logic\n",
        "# 1. During extraction of data from QA_*.json.gz files - collect questions, \n",
        "# question type, answers and ASIN.\n",
        "# 2. During extraction of data from meta_*.json.gz files, apply some filters\n",
        "# - Use ASIN from step 1 and move ahead only if ASIN matches\n",
        "# - If ASIN matches, move ahead if this data point has title, price and image\n",
        "# - If the title, price and image are not None, remove dollar '$' sign from price\n",
        "# - After removing dollar '$' sign from price, attempt to cast it to float value\n",
        "# - If cast is successful, then only store this data point (ASIN, title, price, image) \n",
        "#   else discard this data point"
      ],
      "execution_count": null,
      "outputs": []
    },
    {
      "cell_type": "code",
      "metadata": {
        "id": "jrFCRIo2aH7J",
        "colab_type": "code",
        "colab": {}
      },
      "source": [
        "def parseJson(mFile):\n",
        "  \"\"\" \n",
        "  Parses (unzip and read) the *.json.gz file \n",
        "  \"\"\"\n",
        "  gzipFile = gzip.open(mFile, 'rb')\n",
        "  for line in gzipFile:\n",
        "    yield eval(line)\n",
        "\n",
        "def showFileContents(dir, fType, totalLinesLimit=1):\n",
        "  \"\"\" \n",
        "  Displays the contents of the *.json.gz file\n",
        "  If the totalLinesLimit is greater than single\n",
        "  *.json.gz file, then read remaining lines \n",
        "  from the next *.json.gz file \n",
        "  \"\"\"\n",
        "  \n",
        "  if totalLinesLimit < 1:\n",
        "    print(\"Invalid number of totalLinesLimit\")\n",
        "    return\n",
        "\n",
        "  for mFile in sorted(os.listdir(rootdir)):\n",
        "    linesCount = 0\n",
        "    if mFile.endswith(\".json.gz\") and mFile.startswith(fType):\n",
        "      print(\"Viewing file:\", mFile)\n",
        "      jsonFile = parseJson(mFile)\n",
        "      for line in jsonFile: \n",
        "        print(line)\n",
        "        linesCount +=1\n",
        "        if linesCount == totalLinesLimit:\n",
        "          return\n",
        "          \n",
        "def createDataFrame(dir, retain_additional_info=False):\n",
        "  \"\"\" \n",
        "  Creates and returns a pandas.Dataframe from all QA_*.json.gz files.\n",
        "  If the flag retain_additional_info is True, this function\n",
        "  will collect additional data from all the *.json.gz file, \n",
        "  and return this along with the pandas.Dataframe \n",
        "  \"\"\"\n",
        "  if retain_additional_info:\n",
        "    info = dict()\n",
        "    numOfAns = dict()\n",
        "    quesType = dict()\n",
        "    quesOneWord = dict()\n",
        "    quesTwoWords = dict()\n",
        "    quesLen = dict()\n",
        "    ansType = dict()\n",
        "    ansScore = dict()\n",
        "    ansHelpful = dict()\n",
        "    ansOneWord = dict()\n",
        "    ansTwoWords = dict()\n",
        "    ansLen = dict()\n",
        "\n",
        "  questions = list()\n",
        "  answers = list()\n",
        "  questionsType = list()\n",
        "  # Store asins\n",
        "  asins = list()\n",
        "  asinsDict = dict()\n",
        "\n",
        "  # For each file\n",
        "  for mFile in sorted(os.listdir(rootdir)):\n",
        "    # If file is a json.gz file\n",
        "    if mFile.endswith(\".json.gz\") and mFile.startswith(\"QA_\"):\n",
        "      start_time = timer()\n",
        "      print(\"Processing file:\", mFile)\n",
        "      # Parse the file\n",
        "      jsonFile = parseJson(mFile)\n",
        "      # For each line in the parsed file\n",
        "      for line in jsonFile: \n",
        "        # For each question present in the line\n",
        "        for j in range(len(line.get('questions'))):\n",
        "          # Collect asin \n",
        "          asin = line.get('asin')\n",
        "\n",
        "          # Get the question text\n",
        "          question = line.get('questions')[j].get('questionText')\n",
        "          qtype =  line.get('questions')[j].get('questionType')\n",
        "\n",
        "\n",
        "          # Collecting additional info\n",
        "          nAns = len(line.get('questions')[j].get('answers'))\n",
        "          if retain_additional_info:          \n",
        "            qlen = len(question)\n",
        "            qsplit = question.split(' ')\n",
        "            # Storing additional info in the dictionary\n",
        "            if qlen == 1:\n",
        "              quesOneWord[tuple(qsplit)] = quesOneWord.get(tuple(qsplit), 0) + 1\n",
        "            else:\n",
        "              quesTwoWords[tuple(qsplit[:2])] = quesTwoWords.get(tuple(qsplit[:2]), 0) + 1\n",
        "            \n",
        "            numOfAns[nAns] = numOfAns.get(nAns, 0) + 1\n",
        "            quesType[qtype] = quesType.get(qtype, 0) + 1\n",
        "            quesLen[qlen] = quesLen.get(qlen, 0) + 1        \n",
        "\n",
        "          # For each answer to the question\n",
        "          for i in range(nAns):           \n",
        "            # Store the question\n",
        "            questions.append(question)\n",
        "            # Store the question type\n",
        "            questionsType.append(qtype)\n",
        "            # Store asin\n",
        "            asins.append(asin)\n",
        "            asinsDict[asin] = asinsDict.get(asin, False)\n",
        "\n",
        "            # Store the answer\n",
        "            answer = line.get('questions')[j].get('answers')[i].get('answerText')\n",
        "            answers.append(answer)\n",
        "            \n",
        "            if retain_additional_info:\n",
        "              # Collecting additional info\n",
        "              atype =  line.get('questions')[j].get('answers')[i].get('answerType')\n",
        "              aScore =  line.get('questions')[j].get('answers')[i].get('answerScore')\n",
        "              aHelpful =  line.get('questions')[j].get('answers')[i].get('helpful')\n",
        "              alen = len(answer)\n",
        "              asplit = answer.split(' ')\n",
        "              # Storing additional info in the dictionary\n",
        "              ansLen[alen] = ansLen.get(alen, 0) + 1\n",
        "              if alen == 1:\n",
        "                ansOneWord[tuple(asplit)] = ansOneWord.get(tuple(asplit), 0) + 1\n",
        "              else:\n",
        "                ansTwoWords[tuple(asplit[:2])] = ansTwoWords.get(tuple(asplit[:2]), 0) + 1\n",
        "\n",
        "              if atype:\n",
        "                ansType[atype] = ansType.get(atype, 0) + 1\n",
        "              else:\n",
        "                ansType['Undefined'] = ansType.get('Undefined', 0) + 1\n",
        "              \n",
        "              if aScore:\n",
        "                ansScore[aScore] = ansScore.get(aScore, 0) + 1\n",
        "              else:\n",
        "                ansScore['Undefined'] = ansScore.get('Undefined', 0) + 1\n",
        "              \n",
        "              if aHelpful:\n",
        "                # aHelpful is a list and a list is mutable and therefore non-hashable. \n",
        "                # Dictionary keys need to be hashable. \n",
        "                ansHelpful[tuple(aHelpful)] = ansHelpful.get(tuple(aHelpful), 0) + 1\n",
        "              else:\n",
        "                ansHelpful['Undefined'] = ansHelpful.get('Undefined', 0) + 1\n",
        " \n",
        "      timer(start_time)\n",
        "\n",
        "  if retain_additional_info:\n",
        "    info['numOfAns'] = numOfAns\n",
        "    info['quesType'] = quesType\n",
        "    info['ansType'] = ansType\n",
        "    info['ansHelpful'] = ansHelpful\n",
        "    info['ansScore'] = ansScore\n",
        "    info['quesLen'] = quesLen\n",
        "    info['ansLen'] = ansLen\n",
        "    info['quesOneWord'] = quesOneWord\n",
        "    info['quesTwoWords'] = quesTwoWords\n",
        "    info['ansOneWord'] = ansOneWord\n",
        "    info['ansTwoWords'] = ansTwoWords\n",
        "    return pd.DataFrame(list(zip(asins, questions, questionsType, answers)), columns =['ASIN', 'Questions', 'Questions Type', 'Answers']), info, asinsDict\n",
        "  else:\n",
        "    return pd.DataFrame(list(zip(asins, questions, questionsType, answers)), columns =['ASIN', 'Questions', 'Questions Type','Answers']), asinsDict\n",
        "\n",
        "\n",
        "def createMetaDataFrame(dir, asinsDict):\n",
        "  \"\"\" \n",
        "  Creates and returns a pandas.Dataframe from all meta_*.json.gz files.\n",
        "  asinsDict stores all the asin for which useful data has to be collected \n",
        "  from meta_*.json.gz\n",
        "  \"\"\"\n",
        "\n",
        "  titles = list()\n",
        "  prices = list()\n",
        "  images = list()\n",
        "  asins = list()\n",
        "  asinsMetaDict = dict()\n",
        "\n",
        "  # For each file\n",
        "  for mFile in sorted(os.listdir(rootdir)):\n",
        "    # If file is a json.gz file\n",
        "    if mFile.endswith(\".json.gz\") and mFile.startswith(\"meta_\"):\n",
        "      start_time = timer()\n",
        "      print(\"Processing file:\", mFile)\n",
        "      # Parse the file\n",
        "      jsonFile = parseJson(mFile)\n",
        "      # For each line in the parsed file\n",
        "      for line in jsonFile: \n",
        "        # Get the asin\n",
        "        asin = line.get('asin')\n",
        "        # If asin present hashmap of asins\n",
        "        if asin in asinsDict:\n",
        "          # Collect only useful data\n",
        "          title = line.get('title')\n",
        "          price = line.get('price')\n",
        "          image = line.get('image')\n",
        "          # If all the useful data are available for this asin\n",
        "          if title and price and image:\n",
        "            # Remove currency sign from price\n",
        "            # Example 'price': '$2.99'\n",
        "            price = price.replace('$','').strip()\n",
        "            # Attemp to convert price to float\n",
        "            try:\n",
        "                price = float(price)\n",
        "            except ValueError:\n",
        "                # If failure, then this data contains value like\n",
        "                # ASIN - B0000CBIK5, Price $14.79 - $123.60\n",
        "                # ASIN - B0002JM8PY, Price .a-box-inner{background-color:#fff}#alohaBuyBoxWidget\n",
        "                # or something else\n",
        "                continue\n",
        "           \n",
        "            # Then only store the data\n",
        "            asins.append(asin)\n",
        "            titles.append(title)\n",
        "            prices.append(price)\n",
        "            # Example 'image': ['https://images-na.ssl-images-amazon.com/images/I/31DaCEblkGL._SS40_.jpg']\n",
        "            images.append(image[0])\n",
        "            asinsMetaDict[asin] = True\n",
        "       \n",
        "      timer(start_time)\n",
        "  return pd.DataFrame(list(zip(asins, titles, prices, images)), columns =['ASIN', 'Title', 'Price','Image']), asinsMetaDict"
      ],
      "execution_count": null,
      "outputs": []
    },
    {
      "cell_type": "markdown",
      "metadata": {
        "id": "4bGL3Gk42q_P",
        "colab_type": "text"
      },
      "source": [
        "#### 3.1. Viewing file contents"
      ]
    },
    {
      "cell_type": "code",
      "metadata": {
        "id": "iTbNczVJnLjn",
        "colab_type": "code",
        "colab": {
          "base_uri": "https://localhost:8080/",
          "height": 72
        },
        "outputId": "010010ff-626a-4db8-be00-35e0e474c9d2"
      },
      "source": [
        "showFileContents(rootdir, \"QA_\")"
      ],
      "execution_count": null,
      "outputs": [
        {
          "output_type": "stream",
          "text": [
            "Viewing file: QA_Automotive.json.gz\n",
            "{'asin': 'B000182CPM', 'questions': [{'questionType': 'open-ended', 'askerID': 'A26FXHGNE8HHIU', 'questionTime': 'December 29, 2014', 'questionText': 'Will these fit my 2002 Ford F150 XLT?', 'answers': [{'answerText': \"It's all custom mounting, where there's a will there's a way, don't see why not, figure 15minutes per mud flap, there isn't any hardware included just the stamped sheet metal pieces\", 'answererID': 'AQZ8QLPPYA359', 'answerTime': 'December 29, 2014', 'helpful': [0, 0]}, {'answerText': 'You will need to drill another hole in Mud flap & bed frame for added stability.  the added bolt & nut makes it a tighter fit, you only get two existing holes on the bed frame with plastic mud flaps when you bought the truck.  These Dee Zee flaps are much heavier than the plastic/rubber flaps originally provided on truck.', 'answererID': 'A246IDL7UXVCQO', 'answerTime': 'December 29, 2014', 'helpful': [0, 0]}]}, {'questionType': 'yes/no', 'askerID': 'A365S8H55GGXPD', 'questionTime': 'July 19, 2013', 'questionText': 'is the hardware for installation included', 'answers': [{'answerText': \"It's been a while since I installed them, but I don't think any installation hardware is included.\", 'answererID': 'A3BWPG98KF0TAV', 'answerTime': 'July 19, 2013', 'helpful': [0, 0], 'answerType': '?', 'answerScore': '0.5428'}, {'answerText': '1 pair rear flaps and mounting hardware.', 'answererID': '1', 'answerTime': 'July 19, 2013', 'helpful': [0, 0], 'answerType': '?', 'answerScore': '0.5565'}, {'answerText': \"I didn't buy these for myself I bought them for our son-in-law for a Christmas gift but I think they came with the hardware.\", 'answererID': 'A1MGZTOLD2C0VS', 'answerTime': 'July 19, 2013', 'helpful': [0, 0], 'answerType': '?', 'answerScore': '0.4623'}, {'answerText': 'no', 'answererID': 'A1GU54G5GCLOGV', 'answerTime': 'July 20, 2013', 'helpful': [0, 0], 'answerType': 'N', 'answerScore': '0.0366'}]}, {'questionType': 'yes/no', 'askerID': 'A365S8H55GGXPD', 'questionTime': 'July 19, 2013', 'questionText': 'will they fit 2013 f350 dually', 'answers': [{'answerText': \"Not sure, maybe measuring width of wheels and width of flaps.  Sorry I couldn't be more help.\", 'answererID': 'A2FQI9PZSTWQTO', 'answerTime': 'July 19, 2013', 'helpful': [0, 0], 'answerType': '?', 'answerScore': '0.1260'}, {'answerText': 'They will fit the front, but will be to skinny to cover both rear wheels.', 'answererID': 'A2LXOUIQAP0Y9U', 'answerTime': 'July 19, 2013', 'helpful': [0, 0], 'answerType': '?', 'answerScore': '0.5869'}]}]}\n"
          ],
          "name": "stdout"
        }
      ]
    },
    {
      "cell_type": "code",
      "metadata": {
        "id": "wdgXdq0M242y",
        "colab_type": "code",
        "colab": {
          "base_uri": "https://localhost:8080/",
          "height": 90
        },
        "outputId": "cb275fa2-e1d1-48ac-d8b3-91073261cd7b"
      },
      "source": [
        "showFileContents(rootdir, \"meta_\", 2)"
      ],
      "execution_count": null,
      "outputs": [
        {
          "output_type": "stream",
          "text": [
            "Viewing file: meta_Automotive.json.gz\n",
            "{'category': ['Automotive', 'Lights & Lighting Accessories', 'Bulbs'], 'tech1': ' class=\"a-keyvalue prodDetTable\" role=\"presentation\">\\n         \\n           \\n           \\n           \\n           <tr>\\n            \\n            \\n              \\n              \\n               \\n                <th class=\"a-color-secondary a-size-base prodDetSectionEntry\">\\n                  Brand\\n                </th>\\n                \\n              \\n            \\n            \\n           \\n            <td class=\"a-size-base\">\\n              Elite Mailers\\n            </td>\\n            \\n           </tr>\\n           \\n           \\n          \\n        ', 'description': ['The 9 SMD LED light illuminates Amber Orange at 360 degrees. Perfect replacement or upgrade to your stock bulb. Long life span of 30000+ hours. Because this bulb is lit by SMD LED technology, they consume a lot less power and high brightness than the normal bulb'], 'fit': '', 'title': 'Elite Mailers 880 881 883 889 890 PG13 9-SMD LED Light Bulb - Amber Orange - 2 pieces', 'also_buy': [], 'image': ['https://images-na.ssl-images-amazon.com/images/I/31DaCEblkGL._SS40_.jpg'], 'tech2': '', 'brand': 'Elite Mailers', 'feature': ['Color: Amber Orange', 'Fit Part #: 880, 881, 883, 886, 889, 890, PG13, 884, 885, 892, 899, 893, 862, 894, 898, 899', 'A set (2 pieces) of SMD LED Light bulb', '360 degree shine', 'Upgrade stock light to LED Light'], 'rank': ['>#2,753,180 in Automotive (See top 100)', '>#66,637 in Automotive > Light & Lighting Accessories > Bulbs', '>#78,332 in Automotive > Motorcycle & ATV > Parts > Electrical > Lights'], 'also_view': [], 'details': {}, 'main_cat': 'Automotive', 'similar_item': '', 'date': 'April 22, 2013', 'price': '', 'asin': '7138258844'}\n",
            "{'category': ['Automotive', 'Exterior Accessories', 'Bumper Stickers, Decals & Magnets'], 'tech1': ' class=\"a-keyvalue prodDetTable\" role=\"presentation\">\\n         \\n           \\n           \\n           \\n           <tr>\\n            \\n            \\n              \\n              \\n               \\n                <th class=\"a-color-secondary a-size-base prodDetSectionEntry\">\\n                  Brand\\n                </th>\\n                \\n              \\n            \\n            \\n           \\n            <td class=\"a-size-base\">\\n              Elite Mailers\\n            </td>\\n            \\n           </tr>\\n           \\n           \\n           \\n           <tr>\\n            \\n            \\n              \\n              \\n               \\n                <th class=\"a-color-secondary a-size-base prodDetSectionEntry\">\\n                  Manufacturer Part Number\\n                </th>\\n                \\n              \\n            \\n            \\n           \\n            <td class=\"a-size-base\">\\n              iVTEC SOHC\\n            </td>\\n            \\n           </tr>\\n           \\n           \\n           \\n           <tr>\\n            \\n            \\n              \\n                \\n                <th class=\"a-color-secondary a-size-base prodDetSectionEntry\">\\n                  \\n                    \\n                     \\n                      <span class=\"a-declarative\" data-action=\"a-popover\" data-a-popover=\"{&quot;cache&quot;:&quot;true&quot;,&quot;closeButton&quot;:&quot;true&quot;,&quot;name&quot;:&quot;Folding&quot;,&quot;width&quot;:&quot;280&quot;,&quot;header&quot;:&quot;Folding&quot;,&quot;position&quot;:&quot;triggerRight&quot;,&quot;scrollable&quot;:&quot;false&quot;,&quot;url&quot;:&quot;/gp/jewelry/technical-specs-help/?ie=UTF8&amp;hideLogo=1&amp;page_ident=1000627441&quot;}\">\\n                        <a class=\"a-link-normal\" target=\"_blank\" rel=\"noopener\" href=\"/gp/jewelry/technical-specs-help/?ie=UTF8&hideLogo=1&page_ident=1000627441\">\\n                          Folding\\n                        </a>\\n                      </span>\\n                    \\n                    \\n                  \\n                </th>\\n              \\n              \\n            \\n            \\n           \\n            <td class=\"a-size-base\">\\n              No\\n            </td>\\n            \\n           </tr>\\n           \\n           \\n          \\n        ', 'description': ['Perfect to put on any smooth surface. Made with high quality vinyl that last up to 7-10 years. Make your car, laptop, computer, accessories stand out with this red hello kitty bow tie sticker.'], 'fit': '', 'title': 'Elite Mailers 9&quot;x2&quot; i-VTEC SOHC Vinyl Decal Sticker - Black - 2 pieces', 'also_buy': [], 'image': [], 'tech2': '', 'brand': 'Elite Mailers', 'feature': ['Install with ease - Peel and apply', 'Fits any car - Universal', 'Remove without any sticker residue', 'Size: 9\" x 2\"', 'Available Colors: Blue, Red, White'], 'rank': ['>#231,257 in Automotive (See top 100)', '>#12,892 in Automotive > Exterior Accessories > Bumper Stickers, Decals & Magnets'], 'also_view': [], 'details': {}, 'main_cat': 'Automotive', 'similar_item': ' class=\"a-bordered a-horizontal-stripes  a-spacing-extra-large a-size-base comparison_table\">\\n\\n\\n\\n            \\n            \\n            \\n            \\n            \\n            <tr class=\"comparison_table_image_row\">\\n                <td class=\"comparison_table_first_col\"></td>\\n\\n\\n                <th class=\"comparison_image_title_cell\" role=\"columnheader\">\\n                    <div class=\"a-row a-spacing-top-micro\">\\n                        <center>\\n                             <img alt=\"Elite Mailers 9&quot;x2&quot; i-VTEC SOHC Vinyl Decal Sticker - Black - 2 pieces\" src=\"https://images-na.ssl-images-amazon.com/images/I/41Vrb7vmaOL._SL500_AC_SS350_.jpg\" id=\"comparison_image\">\\n                        </center>\\n                    </div>\\n                    <div class=\"a-row a-spacing-top-small\">\\n                        <div id=\"comparison_title\" class=\"a-section a-spacing-none\">\\n                            <span aria-hidden=\"true\" class=\"a-size-base a-color-base a-text-bold\">\\n                                This item\\n                            </span>\\n                            <span aria-hidden=\"true\" class=\"a-size-base a-color-base\">Elite Mailers 9\"x2\" i-VTEC SOHC Vinyl Decal Sticker - Black - 2 pieces</span>\\n                        </div>\\n                        \\n                        \\n                    </div>\\n                </th>\\n\\n\\n                \\n                    <th class=\"comparison_image_title_cell comparable_item0\" role=\"columnheader\">\\n                        <a class=\"a-link-normal\" target=\"_self\" rel=\"noopener\" href=\"/dp/9099000324/ref=psdc_15710001_t1_7138258852\">\\n                          <div class=\"a-row a-spacing-top-micro\">\\n                            <center>\\n                                <img alt=\"\" src=\"https://images-na.ssl-images-amazon.com/images/I/41lqtjbOp7L._SL500_AC_SS350_.jpg\" aria-hidden=\"true\" id=\"comparison_image0\">\\n                            </center>\\n                          </div>\\n                          <div id=\"comparison_title0\" class=\"a-row a-spacing-top-small\">\\n                            <span class=\"a-size-base\">2 Pieces BLACK I-VTEC DOHC STICKER DECAL EMBLEM CIVIC S2000 ACCORD JDM IMPORT ILLEST</span>\\n                          </div>\\n                        </a>\\n                        \\n                        \\n                    </th>\\n                \\n                    <th class=\"comparison_image_title_cell comparable_item1\" role=\"columnheader\">\\n                        <a class=\"a-link-normal\" target=\"_self\" rel=\"noopener\" href=\"/dp/B07C85C7GC/ref=psdc_15710001_t2_7138258852\">\\n                          <div class=\"a-row a-spacing-top-micro\">\\n                            <center>\\n                                <img alt=\"\" src=\"https://images-na.ssl-images-amazon.com/images/I/41fnIa9KgtL._SL500_AC_SS350_.jpg\" aria-hidden=\"true\" id=\"comparison_image1\">\\n                            </center>\\n                          </div>\\n                          <div id=\"comparison_title1\" class=\"a-row a-spacing-top-small\">\\n                            <span class=\"a-size-base\">CloudWorks I-VTEC DOHC STICKER DECAL EMBLEM CIVIC S2000 ACCORD JDM 2 Pieces (WHITE)</span>\\n                          </div>\\n                        </a>\\n                        \\n                        \\n                    </th>\\n                \\n                    <th class=\"comparison_image_title_cell comparable_item2\" role=\"columnheader\">\\n                        <a class=\"a-link-normal\" target=\"_self\" rel=\"noopener\" href=\"/dp/B01MU2V662/ref=psdc_15710001_t3_7138258852\">\\n                          <div class=\"a-row a-spacing-top-micro\">\\n                            <center>\\n                                <img alt=\"\" src=\"https://images-na.ssl-images-amazon.com/images/I/41uaqDqRc7L._SL500_AC_SS350_.jpg\" aria-hidden=\"true\" id=\"comparison_image2\">\\n                            </center>\\n                          </div>\\n                          <div id=\"comparison_title2\" class=\"a-row a-spacing-top-small\">\\n                            <span class=\"a-size-base\">Demupai Honda i-VTEC Dohc Car Decal Sticker (Black)</span>\\n                          </div>\\n                        </a>\\n                        \\n                        \\n                    </th>\\n                \\n                    <th class=\"comparison_image_title_cell comparable_item3\" role=\"columnheader\">\\n                        <a class=\"a-link-normal\" target=\"_self\" rel=\"noopener\" href=\"/dp/7138258917/ref=psdc_15710001_t4_7138258852\">\\n                          <div class=\"a-row a-spacing-top-micro\">\\n                            <center>\\n                                <img alt=\"\" src=\"https://images-na.ssl-images-amazon.com/images/I/41vDn5kpzrL._SL500_AC_SS350_.jpg\" aria-hidden=\"true\" id=\"comparison_image3\">\\n                            </center>\\n                          </div>\\n                          <div id=\"comparison_title3\" class=\"a-row a-spacing-top-small\">\\n                            <span class=\"a-size-base\">Elite Mailers 9\"x2\" i-VTEC DOHC Vinyl Decal Sticker - White - 2 pieces</span>\\n                          </div>\\n                        </a>\\n                        \\n                        \\n                    </th>\\n                \\n                    <th class=\"comparison_image_title_cell comparable_item4\" role=\"columnheader\">\\n                        <a class=\"a-link-normal\" target=\"_self\" rel=\"noopener\" href=\"/dp/B005E7LDQE/ref=psdc_15710001_t5_7138258852\">\\n                          <div class=\"a-row a-spacing-top-micro\">\\n                            <center>\\n                                <img alt=\"\" src=\"https://images-na.ssl-images-amazon.com/images/I/51Gg6FxquYL._SL500_AC_SS350_.jpg\" aria-hidden=\"true\" id=\"comparison_image4\">\\n                            </center>\\n                          </div>\\n                          <div id=\"comparison_title4\" class=\"a-row a-spacing-top-small\">\\n                            <span class=\"a-size-base\">I VTEC DOHC 12\" (Pair X2) Vinyl Decal Sticker Import Tuner GLOSS RED by Underground Designs</span>\\n                          </div>\\n                        </a>\\n                        \\n                        \\n                    </th>\\n                \\n            </tr>\\n\\n\\n            <tr></tr>\\n\\n\\n            \\n            \\n            <tr>\\n                <td class=\"comparison_table_first_col\"></td>\\n\\n\\n                <td class=\"comparison_add_to_cart_button\">\\n                    \\n                        \\n                        \\n                        \\n                            <span id=\"comparison_add_to_cart_button\" class=\"a-button a-spacing-small a-button-primary\"><span class=\"a-button-inner\"><a id=\"comparison_add_to_cart_button-announce\" href=\"/gp/item-dispatch/ref=psdc_15710001_a0_7138258852?ie=UTF8&amp;itemCount=1&amp;nodeID=15684181&amp;offeringID.1=3heGcbcT4BHLafygb8FtDtI%252BSE8nYSw8%252FqfEZtNoJaSmoRMWlVydU5FMd%252Fk2DgTv9uqa%252FVRFzXBmqphmLMFi6km3qFUnAP%252FWvmcs1GGDmVkIUtVB6ut%252FFUk7le0sj76vGFdV4VPmPbWLV1mwdvqa6Q%253D%253D&amp;storeID=automotive&amp;session-id=135-0130387-0018664&amp;submit.addToCart=addToCart&amp;signInToHUC=0\" class=\"a-button-text\" role=\"button\">Add to Cart</a></span></span>\\n                        \\n                    \\n                </td>\\n\\n\\n                \\n                    <td class=\"a-text-left comparison_add_to_cart_button comparable_item0\">\\n                        \\n                            \\n                            \\n                                <span id=\"comparison_add_to_cart_button0\" class=\"a-button a-spacing-small a-button-primary\"><span class=\"a-button-inner\"><a id=\"comparison_add_to_cart_button0-announce\" href=\"/gp/item-dispatch/ref=psdc_15710001_a1_7138258852?ie=UTF8&amp;itemCount=1&amp;nodeID=15684181&amp;offeringID.1=Eay51HS2%252BmjftTA02%252Fj5p63agb9ZQZ%252FNsLUI4cl7Mn7pPESddbdzw7A1%252FeWN%252FLyVxD%252B4s9TTRPRA3FtChVRQwjqLyd%252BX67CLCFeve7Y9iJExsDi7RZzXaIhM445V0j1QD%252Bl1CGeQsfLwJff%252B2h9n2iEewE2gwx8i&amp;storeID=automotive&amp;session-id=135-0130387-0018664&amp;submit.addToCart=addToCart&amp;signInToHUC=0\" class=\"a-button-text\" role=\"button\">Add to Cart</a></span></span>\\n                            \\n                        \\n                    </td>\\n                \\n                    <td class=\"a-text-left comparison_add_to_cart_button comparable_item1\">\\n                        \\n                            \\n                            \\n                                <span id=\"comparison_add_to_cart_button1\" class=\"a-button a-spacing-small a-button-primary\"><span class=\"a-button-inner\"><a id=\"comparison_add_to_cart_button1-announce\" href=\"/gp/item-dispatch/ref=psdc_15710001_a2_7138258852?ie=UTF8&amp;itemCount=1&amp;nodeID=15684181&amp;offeringID.1=Eay51HS2%252BmgN4Ni3MYAYnHRbsc1HcssTLgy9451QxcbElBAm%252F%252Bt%252FNTkWebfTA7GrH8IPOam%252B6cWeD6fi9NS%252F7hpWvwo8ofS6dgbycmAxKdV1gLHYnPDHhvbtcmoMq%252FVdzFTka%252BbqF1cCqZi8Vx%252BEhcXT5w2XCrwK&amp;storeID=automotive&amp;session-id=135-0130387-0018664&amp;submit.addToCart=addToCart&amp;signInToHUC=0\" class=\"a-button-text\" role=\"button\">Add to Cart</a></span></span>\\n                            \\n                        \\n                    </td>\\n                \\n                    <td class=\"a-text-left comparison_add_to_cart_button comparable_item2\">\\n                        \\n                            \\n                            \\n                                <span id=\"comparison_add_to_cart_button2\" class=\"a-button a-spacing-small a-button-primary\"><span class=\"a-button-inner\"><a id=\"comparison_add_to_cart_button2-announce\" href=\"/gp/item-dispatch/ref=psdc_15710001_a3_7138258852?ie=UTF8&amp;itemCount=1&amp;nodeID=15684181&amp;offeringID.1=Eay51HS2%252BmjQ0uPd%252FLPmdVVIqKPs7BXuHWGinwbd21fAeJxV1jwyalldVjHdrRukuExjmYSbz8bo7h3Z%252BSPAE44xrWsB2joRf9QbM%252FLd0oME2Db2pMU%252FLC06IsKAna2o9XYqxVv3guFSvD%252BRaaTiJXeGnT45i2Qt&amp;storeID=automotive&amp;session-id=135-0130387-0018664&amp;submit.addToCart=addToCart&amp;signInToHUC=0\" class=\"a-button-text\" role=\"button\">Add to Cart</a></span></span>\\n                            \\n                        \\n                    </td>\\n                \\n                    <td class=\"a-text-left comparison_add_to_cart_button comparable_item3\">\\n                        \\n                            \\n                            \\n                                <span id=\"comparison_add_to_cart_button3\" class=\"a-button a-spacing-small a-button-primary\"><span class=\"a-button-inner\"><a id=\"comparison_add_to_cart_button3-announce\" href=\"/gp/item-dispatch/ref=psdc_15710001_a4_7138258852?ie=UTF8&amp;itemCount=1&amp;nodeID=15684181&amp;offeringID.1=3heGcbcT4BHLafygb8FtDtU5tr3l30KyKOeBSLNnPwAa8vwAVAI2zBnsD4EwKKJ4I9UKciVl%252FmY7VfSWkXm06SEcLby99UtzQVx%252FeTLZVjkVls617c1cVKc8Cs7Yq75pbn9ugKJP8G93E0gUWlBZSA%253D%253D&amp;storeID=automotive&amp;session-id=135-0130387-0018664&amp;submit.addToCart=addToCart&amp;signInToHUC=0\" class=\"a-button-text\" role=\"button\">Add to Cart</a></span></span>\\n                            \\n                        \\n                    </td>\\n                \\n                    <td class=\"a-text-left comparison_add_to_cart_button comparable_item4\">\\n                        \\n                            \\n                            \\n                                <span id=\"comparison_add_to_cart_button4\" class=\"a-button a-spacing-small a-button-primary\"><span class=\"a-button-inner\"><a id=\"comparison_add_to_cart_button4-announce\" href=\"/gp/item-dispatch/ref=psdc_15710001_a5_7138258852?ie=UTF8&amp;itemCount=1&amp;nodeID=15684181&amp;offeringID.1=Eay51HS2%252BmjSaaRqQCvw2N84Z8Qd9CrmJFE%252BJJ6B6eNekqJjvmhh4i9MlZvkeMehR1VJCL%252BXtRpOPMD%252BzAt426ZZT4Ou3FFtCPjjAiEbTyyeuos%252Bzc3Aqhcm4M05YjwpK%252BRUR86MPtpkUeDU3qVj9w%253D%253D&amp;storeID=automotive&amp;session-id=135-0130387-0018664&amp;submit.addToCart=addToCart&amp;signInToHUC=0\" class=\"a-button-text\" role=\"button\">Add to Cart</a></span></span>\\n                            \\n                        \\n                    </td>\\n                \\n            </tr>\\n\\n\\n            <tr id=\"comparison_custormer_rating_row\">\\n                \\n                \\n                \\n                \\n\\n                <th class=\"comparison_attribute_name_column comparison_table_first_col\" role=\"rowheader\">\\n                    <span class=\"a-size-base a-color-base\">Customer Rating</span>\\n                </th>\\n\\n\\n                <td class=\"comparison_baseitem_column\">\\n                    \\n                    \\n                    \\n                    <span>\\n                        <span class=\"a-declarative\" data-action=\"a-popover\" data-a-popover=\"{&quot;max-width&quot;:&quot;700&quot;,&quot;closeButton&quot;:&quot;false&quot;,&quot;position&quot;:&quot;triggerBottom&quot;,&quot;url&quot;:&quot; /gp/customer-reviews/widgets/average-customer-review/popover/ref=acr_dpComparsion__popover?contextId=dpComparsion&amp;asin=7138258852 &quot;,&quot;restoreFocusOnHide&quot;:&quot;false&quot;}\">\\n                            <i class=\"a-icon a-icon-star a-star-4-5 a-spacing-none\"><span class=\"a-icon-alt\">4 out of 5 stars</span></i>\\n                        </span>\\n                        <a class=\"a-link-normal\" target=\"_self\" rel=\"noopener\" href=\"/product-reviews/7138258852/ref=psdc_15710001_r0_7138258852?_encoding=UTF8&amp;showViewpoints=1\">(18)</a>\\n                        <span class=\"a-letter-space\"></span>\\n                    </span>\\n                </td>\\n\\n\\n                \\n                    <td class=\"comparison_sim_items_column comparable_item0\">\\n                        \\n                        \\n                        \\n                        <span>\\n                            <span class=\"a-declarative\" data-action=\"a-popover\" data-a-popover=\"{&quot;max-width&quot;:&quot;700&quot;,&quot;closeButton&quot;:&quot;false&quot;,&quot;position&quot;:&quot;triggerBottom&quot;,&quot;url&quot;:&quot; /gp/customer-reviews/widgets/average-customer-review/popover/ref=acr_dpComparsion__popover?contextId=dpComparsion&amp;asin=9099000324 &quot;,&quot;restoreFocusOnHide&quot;:&quot;false&quot;}\">\\n                                <i class=\"a-icon a-icon-star a-star-4 a-spacing-none\"><span class=\"a-icon-alt\">4 out of 5 stars</span></i>\\n                            </span>\\n                            <a class=\"a-link-normal\" target=\"_self\" rel=\"noopener\" href=\"/product-reviews/9099000324/ref=psdc_15710001_r1_7138258852?_encoding=UTF8&amp;showViewpoints=1\">(53)</a>\\n                            <span class=\"a-letter-space\"></span>\\n                        </span>\\n                    </td>\\n                \\n                    <td class=\"comparison_sim_items_column comparable_item1\">\\n                        \\n                        \\n                        \\n                        <span>\\n                            <span class=\"a-declarative\" data-action=\"a-popover\" data-a-popover=\"{&quot;max-width&quot;:&quot;700&quot;,&quot;closeButton&quot;:&quot;false&quot;,&quot;position&quot;:&quot;triggerBottom&quot;,&quot;url&quot;:&quot; /gp/customer-reviews/widgets/average-customer-review/popover/ref=acr_dpComparsion__popover?contextId=dpComparsion&amp;asin=B07C85C7GC &quot;,&quot;restoreFocusOnHide&quot;:&quot;false&quot;}\">\\n                                <i class=\"a-icon a-icon-star a-star-4-5 a-spacing-none\"><span class=\"a-icon-alt\">4 out of 5 stars</span></i>\\n                            </span>\\n                            <a class=\"a-link-normal\" target=\"_self\" rel=\"noopener\" href=\"/product-reviews/B07C85C7GC/ref=psdc_15710001_r2_7138258852?_encoding=UTF8&amp;showViewpoints=1\">(4)</a>\\n                            <span class=\"a-letter-space\"></span>\\n                        </span>\\n                    </td>\\n                \\n                    <td class=\"comparison_sim_items_column comparable_item2\">\\n                        \\n                        \\n                        \\n                        <span>\\n                            <span class=\"a-declarative\" data-action=\"a-popover\" data-a-popover=\"{&quot;max-width&quot;:&quot;700&quot;,&quot;closeButton&quot;:&quot;false&quot;,&quot;position&quot;:&quot;triggerBottom&quot;,&quot;url&quot;:&quot; /gp/customer-reviews/widgets/average-customer-review/popover/ref=acr_dpComparsion__popover?contextId=dpComparsion&amp;asin=B01MU2V662 &quot;,&quot;restoreFocusOnHide&quot;:&quot;false&quot;}\">\\n                                <i class=\"a-icon a-icon-star a-star-4 a-spacing-none\"><span class=\"a-icon-alt\">4 out of 5 stars</span></i>\\n                            </span>\\n                            <a class=\"a-link-normal\" target=\"_self\" rel=\"noopener\" href=\"/product-reviews/B01MU2V662/ref=psdc_15710001_r3_7138258852?_encoding=UTF8&amp;showViewpoints=1\">(9)</a>\\n                            <span class=\"a-letter-space\"></span>\\n                        </span>\\n                    </td>\\n                \\n                    <td class=\"comparison_sim_items_column comparable_item3\">\\n                        \\n                        \\n                        \\n                        <span>\\n                            <span class=\"a-declarative\" data-action=\"a-popover\" data-a-popover=\"{&quot;max-width&quot;:&quot;700&quot;,&quot;closeButton&quot;:&quot;false&quot;,&quot;position&quot;:&quot;triggerBottom&quot;,&quot;url&quot;:&quot; /gp/customer-reviews/widgets/average-customer-review/popover/ref=acr_dpComparsion__popover?contextId=dpComparsion&amp;asin=7138258917 &quot;,&quot;restoreFocusOnHide&quot;:&quot;false&quot;}\">\\n                                <i class=\"a-icon a-icon-star a-star-4 a-spacing-none\"><span class=\"a-icon-alt\">4 out of 5 stars</span></i>\\n                            </span>\\n                            <a class=\"a-link-normal\" target=\"_self\" rel=\"noopener\" href=\"/product-reviews/7138258917/ref=psdc_15710001_r4_7138258852?_encoding=UTF8&amp;showViewpoints=1\">(25)</a>\\n                            <span class=\"a-letter-space\"></span>\\n                        </span>\\n                    </td>\\n                \\n                    <td class=\"comparison_sim_items_column comparable_item4\">\\n                        \\n                        \\n                        \\n                        <span>\\n                            <span class=\"a-declarative\" data-action=\"a-popover\" data-a-popover=\"{&quot;max-width&quot;:&quot;700&quot;,&quot;closeButton&quot;:&quot;false&quot;,&quot;position&quot;:&quot;triggerBottom&quot;,&quot;url&quot;:&quot; /gp/customer-reviews/widgets/average-customer-review/popover/ref=acr_dpComparsion__popover?contextId=dpComparsion&amp;asin=B005E7LDQE &quot;,&quot;restoreFocusOnHide&quot;:&quot;false&quot;}\">\\n                                <i class=\"a-icon a-icon-star a-star-4-5 a-spacing-none\"><span class=\"a-icon-alt\">4 out of 5 stars</span></i>\\n                            </span>\\n                            <a class=\"a-link-normal\" target=\"_self\" rel=\"noopener\" href=\"/product-reviews/B005E7LDQE/ref=psdc_15710001_r5_7138258852?_encoding=UTF8&amp;showViewpoints=1\">(35)</a>\\n                            <span class=\"a-letter-space\"></span>\\n                        </span>\\n                    </td>\\n                \\n            </tr>\\n\\n\\n            <tr id=\"comparison_price_row\">\\n                <th class=\"comparison_attribute_name_column comparison_table_first_col\" role=\"rowheader\">\\n                    <span class=\"a-size-base a-color-base\">Price</span>\\n                </th>\\n\\n\\n                <td class=\"comparison_baseitem_column\">\\n                    \\n                        \\n                        \\n                        \\n                        \\n                            \\n                                \\n                                    <span class=\"a-price\" data-a-size=\"l\" data-a-color=\"base\"><span class=\"a-offscreen\">$2.99</span><span aria-hidden=\"true\"><span class=\"a-price-symbol\">$</span><span class=\"a-price-whole\">2<span class=\"a-price-decimal\">\\x00</span></span><span class=\"a-price-fraction\">99</span></span></span>\\n                                \\n                                \\n                            \\n                        \\n                    \\n                </td>\\n\\n\\n                \\n                    <td class=\"comparison_sim_items_column comparable_item0\">\\n                    \\n                        \\n                        \\n                        \\n                            \\n                                \\n                                    <span class=\"a-price\" data-a-size=\"l\" data-a-color=\"base\"><span class=\"a-offscreen\">$0.99</span><span aria-hidden=\"true\"><span class=\"a-price-symbol\">$</span><span class=\"a-price-whole\">0<span class=\"a-price-decimal\">\\x00</span></span><span class=\"a-price-fraction\">99</span></span></span>\\n                                \\n                                \\n                            \\n                        \\n                    \\n                    </td>\\n                \\n                    <td class=\"comparison_sim_items_column comparable_item1\">\\n                    \\n                        \\n                        \\n                        \\n                            \\n                                \\n                                    <span class=\"a-price\" data-a-size=\"l\" data-a-color=\"base\"><span class=\"a-offscreen\">$3.99</span><span aria-hidden=\"true\"><span class=\"a-price-symbol\">$</span><span class=\"a-price-whole\">3<span class=\"a-price-decimal\">\\x00</span></span><span class=\"a-price-fraction\">99</span></span></span>\\n                                \\n                                \\n                            \\n                        \\n                    \\n                    </td>\\n                \\n                    <td class=\"comparison_sim_items_column comparable_item2\">\\n                    \\n                        \\n                        \\n                        \\n                            \\n                                \\n                                    <span class=\"a-price\" data-a-size=\"l\" data-a-color=\"base\"><span class=\"a-offscreen\">$12.90</span><span aria-hidden=\"true\"><span class=\"a-price-symbol\">$</span><span class=\"a-price-whole\">12<span class=\"a-price-decimal\">\\x00</span></span><span class=\"a-price-fraction\">90</span></span></span>\\n                                \\n                                \\n                            \\n                        \\n                    \\n                    </td>\\n                \\n                    <td class=\"comparison_sim_items_column comparable_item3\">\\n                    \\n                        \\n                        \\n                        \\n                            \\n                                \\n                                    <span class=\"a-price\" data-a-size=\"l\" data-a-color=\"base\"><span class=\"a-offscreen\">$1.99</span><span aria-hidden=\"true\"><span class=\"a-price-symbol\">$</span><span class=\"a-price-whole\">1<span class=\"a-price-decimal\">\\x00</span></span><span class=\"a-price-fraction\">99</span></span></span>\\n                                \\n                                \\n                            \\n                        \\n                    \\n                    </td>\\n                \\n                    <td class=\"comparison_sim_items_column comparable_item4\">\\n                    \\n                        \\n                        \\n                        \\n                            \\n                                \\n                                    <span class=\"a-price\" data-a-size=\"l\" data-a-color=\"base\"><span class=\"a-offscreen\">$12.99</span><span aria-hidden=\"true\"><span class=\"a-price-symbol\">$</span><span class=\"a-price-whole\">12<span class=\"a-price-decimal\">\\x00</span></span><span class=\"a-price-fraction\">99</span></span></span>\\n                                \\n                                \\n                            \\n                        \\n                    \\n                    </td>\\n                \\n            </tr>\\n\\n\\n    \\n                <tr id=\"comparison_shipping_info_row\">\\n                    <th class=\"comparison_attribute_name_column comparison_table_first_col\" role=\"rowheader\">\\n                        <span class=\"a-size-base a-color-base\">Shipping</span>\\n                    </th>\\n\\n    \\n                    <td class=\"comparison_baseitem_column\">\\n                        \\n                            \\n                            \\n                            \\n                            \\n                            \\n                            \\n                                <span class=\"a-size-base a-color-price a-text-bold\">$2.29</span>\\n                            \\n                            \\n                        \\n                    </td>\\n\\n    \\n                    \\n                        <td class=\"comparison_sim_items_column comparable_item0\">\\n                            \\n                                \\n                                \\n                                \\n                                \\n                                \\n                                    <span class=\"a-size-base a-color-price a-text-bold\">$3.98</span>\\n                                \\n                                \\n                            \\n                        </td>\\n                    \\n                        <td class=\"comparison_sim_items_column comparable_item1\">\\n                            \\n                                \\n                                \\n                                    <span class=\"a-size-base a-color-base\">Eligible for FREE Shipping</span>\\n                                \\n                                \\n                                \\n                                \\n                                \\n                            \\n                        </td>\\n                    \\n                        <td class=\"comparison_sim_items_column comparable_item2\">\\n                            \\n                                \\n                                \\n                                    <span class=\"a-size-base a-color-base\">Eligible for FREE Shipping</span>\\n                                \\n                                \\n                                \\n                                \\n                                \\n                            \\n                        </td>\\n                    \\n                        <td class=\"comparison_sim_items_column comparable_item3\">\\n                            \\n                                \\n                                \\n                                \\n                                \\n                                \\n                                    <span class=\"a-size-base a-color-price a-text-bold\">$2.29</span>\\n                                \\n                                \\n                            \\n                        </td>\\n                    \\n                        <td class=\"comparison_sim_items_column comparable_item4\">\\n                            \\n                                \\n                                \\n                                    <span class=\"a-size-base a-color-base\">Eligible for FREE Shipping</span>\\n                                \\n                                \\n                                \\n                                \\n                                \\n                            \\n                        </td>\\n                    \\n                </tr>\\n\\n\\n\\n            <tr id=\"comparison_sold_by_row\">\\n                <th class=\"comparison_attribute_name_column comparison_table_first_col\" role=\"rowheader\">\\n                    <span class=\"a-size-base a-color-base\">Sold By</span>\\n                </th>\\n\\n  \\n                <td class=\"comparison_baseitem_column\">\\n                    \\n                        \\n                        \\n                        \\n                            <a class=\"a-spacing-top-small a-link-normal\" target=\"_self\" rel=\"noopener\" href=\"/gp/help/seller/at-a-glance.html/ref=psdc_15710001_s0_7138258852?ie=UTF8&amp;seller=A2ZGU2VR30U3XJ\">Elite Mailers</a>\\n                        \\n                     \\n                </td>\\n\\n\\n                \\n                    <td class=\"comparison_sim_items_column comparable_item0\">\\n                         \\n                            \\n                         \\n                             <a class=\"a-spacing-top-small a-link-normal\" target=\"_self\" rel=\"noopener\" href=\"/gp/help/seller/at-a-glance.html/ref=psdc_15710001_s1_7138258852?ie=UTF8&amp;seller=AM15I3Z1GLFW8\">Cloudworks</a>\\n                         \\n                         \\n                     </td>\\n                \\n                    <td class=\"comparison_sim_items_column comparable_item1\">\\n                         \\n                            \\n                         \\n                             <a class=\"a-spacing-top-small a-link-normal\" target=\"_self\" rel=\"noopener\" href=\"/gp/help/seller/at-a-glance.html/ref=psdc_15710001_s2_7138258852?ie=UTF8&amp;seller=AM15I3Z1GLFW8\">Cloudworks</a>\\n                         \\n                         \\n                     </td>\\n                \\n                    <td class=\"comparison_sim_items_column comparable_item2\">\\n                         \\n                            \\n                         \\n                             <a class=\"a-spacing-top-small a-link-normal\" target=\"_self\" rel=\"noopener\" href=\"/gp/help/seller/at-a-glance.html/ref=psdc_15710001_s3_7138258852?ie=UTF8&amp;seller=A129E7Q2A41KPO&amp;isAmazonFulfilled=1\">Demupai</a>\\n                         \\n                         \\n                     </td>\\n                \\n                    <td class=\"comparison_sim_items_column comparable_item3\">\\n                         \\n                            \\n                         \\n                             <a class=\"a-spacing-top-small a-link-normal\" target=\"_self\" rel=\"noopener\" href=\"/gp/help/seller/at-a-glance.html/ref=psdc_15710001_s4_7138258852?ie=UTF8&amp;seller=A2ZGU2VR30U3XJ\">Elite Mailers</a>\\n                         \\n                         \\n                     </td>\\n                \\n                    <td class=\"comparison_sim_items_column comparable_item4\">\\n                         \\n                            \\n                         \\n                             <a class=\"a-spacing-top-small a-link-normal\" target=\"_self\" rel=\"noopener\" href=\"/gp/help/seller/at-a-glance.html/ref=psdc_15710001_s5_7138258852?ie=UTF8&amp;seller=A2YHIV6XP6F0TJ\">UNDERGROUND DESIGNS</a>\\n                         \\n                         \\n                     </td>\\n                \\n             </tr>\\n\\n\\n            \\n                <tr>\\n                    <th class=\"a-span3 comparison_attribute_name_column comparison_table_first_col\" role=\"rowheader\">\\n                        <span class=\"a-size-base a-color-base\">Color</span>\\n                    </th>\\n                    \\n\\n                    <td class=\"comparison_baseitem_column\">\\n                     \\n                        \\n                            \\n                            \\n                                 <span class=\"a-size-base a-color-base\">Black</span>\\n                            \\n                        \\n                    </td>\\n\\n\\n                    \\n                        <td class=\"comparison_sim_items_column comparable_item0\">\\n                            \\n                            \\n                            \\n                               \\n                                  \\n                                  \\n                                      <span class=\"a-size-base a-color-base\">Black</span>\\n                                  \\n                               \\n                        </td>\\n                    \\n                        <td class=\"comparison_sim_items_column comparable_item1\">\\n                            \\n                            \\n                            \\n                               \\n                                  \\n                                  \\n                                      <span class=\"a-size-base a-color-base\">White</span>\\n                                  \\n                               \\n                        </td>\\n                    \\n                        <td class=\"comparison_sim_items_column comparable_item2\">\\n                            \\n                            \\n                            \\n                               \\n                                  \\n                                  \\n                                      <span class=\"a-size-base a-color-base\">Black</span>\\n                                  \\n                               \\n                        </td>\\n                    \\n                        <td class=\"comparison_sim_items_column comparable_item3\">\\n                            \\n                            \\n                            \\n                               \\n                                  \\n                                  \\n                                      <span class=\"a-size-base a-color-base\">White</span>\\n                                  \\n                               \\n                        </td>\\n                    \\n                        <td class=\"comparison_sim_items_column comparable_item4\">\\n                            \\n                            \\n                            \\n                               \\n                                  \\n                                  \\n                                      <span class=\"a-size-base a-color-base\">Red</span>\\n                                  \\n                               \\n                        </td>\\n                    \\n                </tr>\\n            \\n                <tr>\\n                    <th class=\"a-span3 comparison_attribute_name_column comparison_table_first_col\" role=\"rowheader\">\\n                        <span class=\"a-size-base a-color-base\">Size</span>\\n                    </th>\\n                    \\n\\n                    <td class=\"comparison_baseitem_column\">\\n                     \\n                        \\n                            \\n                                 <span class=\"a-color-secondary\"></span>\\n                            \\n                            \\n                        \\n                    </td>\\n\\n\\n                    \\n                        <td class=\"comparison_sim_items_column comparable_item0\">\\n                            \\n                            \\n                            \\n                               \\n                                  \\n                                      <span class=\"a-color-secondary\"></span>\\n                                  \\n                                  \\n                               \\n                        </td>\\n                    \\n                        <td class=\"comparison_sim_items_column comparable_item1\">\\n                            \\n                            \\n                            \\n                               \\n                                  \\n                                      <span class=\"a-color-secondary\"></span>\\n                                  \\n                                  \\n                               \\n                        </td>\\n                    \\n                        <td class=\"comparison_sim_items_column comparable_item2\">\\n                            \\n                            \\n                            \\n                               \\n                                  \\n                                  \\n                                      <span class=\"a-size-base a-color-base\">30cm*6.5cm</span>\\n                                  \\n                               \\n                        </td>\\n                    \\n                        <td class=\"comparison_sim_items_column comparable_item3\">\\n                            \\n                            \\n                            \\n                               \\n                                  \\n                                      <span class=\"a-color-secondary\"></span>\\n                                  \\n                                  \\n                               \\n                        </td>\\n                    \\n                        <td class=\"comparison_sim_items_column comparable_item4\">\\n                            \\n                            \\n                            \\n                               \\n                                  \\n                                      <span class=\"a-color-secondary\"></span>\\n                                  \\n                                  \\n                               \\n                        </td>\\n                    \\n                </tr>\\n            \\n       ', 'date': 'April 24, 2013', 'price': '$2.99', 'asin': '7138258852'}\n"
          ],
          "name": "stdout"
        }
      ]
    },
    {
      "cell_type": "markdown",
      "metadata": {
        "id": "RNHy3KT-2wp5",
        "colab_type": "text"
      },
      "source": [
        "#### 3.2. Creating a dataframe and get additional information about the data"
      ]
    },
    {
      "cell_type": "code",
      "metadata": {
        "id": "7DqkGr-Ba5_T",
        "colab_type": "code",
        "colab": {
          "base_uri": "https://localhost:8080/",
          "height": 532
        },
        "outputId": "142ab44e-282d-425b-ce3a-39fa9125646e"
      },
      "source": [
        "start_time = timer()\n",
        "df, asinsDict = createDataFrame(rootdir)\n",
        "timer(start_time)"
      ],
      "execution_count": null,
      "outputs": [
        {
          "output_type": "stream",
          "text": [
            "Processing file: QA_Automotive.json.gz\n",
            "Time taken: 0 hours 0 minutes and 5.85 seconds.\n",
            "Processing file: QA_Cell_Phones_and_Accessories.json.gz\n",
            "Time taken: 0 hours 0 minutes and 5.96 seconds.\n",
            "Processing file: QA_Clothing_Shoes_and_Jewelry.json.gz\n",
            "Time taken: 0 hours 0 minutes and 1.62 seconds.\n",
            "Processing file: QA_Electronics.json.gz\n",
            "Time taken: 0 hours 0 minutes and 23.18 seconds.\n",
            "Processing file: QA_Grocery_and_Gourmet_Food.json.gz\n",
            "Time taken: 0 hours 0 minutes and 1.56 seconds.\n",
            "Processing file: QA_Home_and_Kitchen.json.gz\n",
            "Time taken: 0 hours 0 minutes and 15.02 seconds.\n",
            "Processing file: QA_Musical_Instruments.json.gz\n",
            "Time taken: 0 hours 0 minutes and 1.74 seconds.\n",
            "Processing file: QA_Office_Products.json.gz\n",
            "Time taken: 0 hours 0 minutes and 3.32 seconds.\n",
            "Processing file: QA_Patio_Lawn_and_Garden.json.gz\n",
            "Time taken: 0 hours 0 minutes and 4.92 seconds.\n",
            "Processing file: QA_Pet_Supplies.json.gz\n",
            "Time taken: 0 hours 0 minutes and 3.49 seconds.\n",
            "Processing file: QA_Sports_and_Outdoors.json.gz\n",
            "Time taken: 0 hours 0 minutes and 11.14 seconds.\n",
            "Processing file: QA_Tools_and_Home_Improvement.json.gz\n",
            "Time taken: 0 hours 0 minutes and 8.32 seconds.\n",
            "Processing file: QA_Toys_and_Games.json.gz\n",
            "Time taken: 0 hours 0 minutes and 3.71 seconds.\n",
            "Processing file: QA_Video_Games.json.gz\n",
            "Time taken: 0 hours 0 minutes and 0.74 seconds.\n",
            "Time taken: 0 hours 1 minutes and 34.27 seconds.\n"
          ],
          "name": "stdout"
        }
      ]
    },
    {
      "cell_type": "code",
      "metadata": {
        "id": "r9fT81Yl3uls",
        "colab_type": "code",
        "colab": {
          "base_uri": "https://localhost:8080/",
          "height": 532
        },
        "outputId": "034fa5ff-8fa9-48c4-e1bb-febf16050fdc"
      },
      "source": [
        "start_time = timer()\n",
        "df_meta, asinsMetaDict = createMetaDataFrame(rootdir, asinsDict)\n",
        "timer(start_time)"
      ],
      "execution_count": null,
      "outputs": [
        {
          "output_type": "stream",
          "text": [
            "Processing file: meta_Automotive.json.gz\n",
            "Time taken: 0 hours 6 minutes and 57.16 seconds.\n",
            "Processing file: meta_Cell_Phones_and_Accessories.json.gz\n",
            "Time taken: 0 hours 1 minutes and 30.2 seconds.\n",
            "Processing file: meta_Clothing_Shoes_and_Jewelry.json.gz\n",
            "Time taken: 0 hours 10 minutes and 31.07 seconds.\n",
            "Processing file: meta_Electronics.json.gz\n",
            "Time taken: 0 hours 4 minutes and 35.13 seconds.\n",
            "Processing file: meta_Grocery_and_Gourmet_Food.json.gz\n",
            "Time taken: 0 hours 0 minutes and 34.96 seconds.\n",
            "Processing file: meta_Home_and_Kitchen.json.gz\n",
            "Time taken: 0 hours 7 minutes and 4.91 seconds.\n",
            "Processing file: meta_Musical_Instruments.json.gz\n",
            "Time taken: 0 hours 0 minutes and 41.96 seconds.\n",
            "Processing file: meta_Office_Products.json.gz\n",
            "Time taken: 0 hours 2 minutes and 8.68 seconds.\n",
            "Processing file: meta_Patio_Lawn_and_Garden.json.gz\n",
            "Time taken: 0 hours 1 minutes and 44.81 seconds.\n",
            "Processing file: meta_Pet_Supplies.json.gz\n",
            "Time taken: 0 hours 1 minutes and 10.78 seconds.\n",
            "Processing file: meta_Sports_and_Outdoors.json.gz\n",
            "Time taken: 0 hours 2 minutes and 33.45 seconds.\n",
            "Processing file: meta_Tools_and_Home_Improvement.json.gz\n",
            "Time taken: 0 hours 4 minutes and 20.03 seconds.\n",
            "Processing file: meta_Toys_and_Games.json.gz\n",
            "Time taken: 0 hours 3 minutes and 20.83 seconds.\n",
            "Processing file: meta_Video_Games.json.gz\n",
            "Time taken: 0 hours 0 minutes and 13.12 seconds.\n",
            "Time taken: 0 hours 47 minutes and 27.29 seconds.\n"
          ],
          "name": "stdout"
        }
      ]
    },
    {
      "cell_type": "markdown",
      "metadata": {
        "id": "n8DAolKtohVN",
        "colab_type": "text"
      },
      "source": [
        "#### 3.3. Viewing the dataframe information"
      ]
    },
    {
      "cell_type": "code",
      "metadata": {
        "id": "KklW4mOlexet",
        "colab_type": "code",
        "colab": {
          "base_uri": "https://localhost:8080/",
          "height": 212
        },
        "outputId": "d87f604e-5d70-4dc5-b397-ee6243ddb033"
      },
      "source": [
        "df.info()"
      ],
      "execution_count": null,
      "outputs": [
        {
          "output_type": "stream",
          "text": [
            "<class 'pandas.core.frame.DataFrame'>\n",
            "RangeIndex: 3556849 entries, 0 to 3556848\n",
            "Data columns (total 4 columns):\n",
            " #   Column          Dtype \n",
            "---  ------          ----- \n",
            " 0   ASIN            object\n",
            " 1   Questions       object\n",
            " 2   Questions Type  object\n",
            " 3   Answers         object\n",
            "dtypes: object(4)\n",
            "memory usage: 108.5+ MB\n"
          ],
          "name": "stdout"
        }
      ]
    },
    {
      "cell_type": "code",
      "metadata": {
        "id": "bpleuB-exADO",
        "colab_type": "code",
        "colab": {
          "base_uri": "https://localhost:8080/",
          "height": 212
        },
        "outputId": "8696eba4-c9b3-4496-9c7f-2ddaa5459b32"
      },
      "source": [
        "df_meta.info()"
      ],
      "execution_count": null,
      "outputs": [
        {
          "output_type": "stream",
          "text": [
            "<class 'pandas.core.frame.DataFrame'>\n",
            "RangeIndex: 36969 entries, 0 to 36968\n",
            "Data columns (total 4 columns):\n",
            " #   Column  Non-Null Count  Dtype  \n",
            "---  ------  --------------  -----  \n",
            " 0   ASIN    36969 non-null  object \n",
            " 1   Title   36969 non-null  object \n",
            " 2   Price   36969 non-null  float64\n",
            " 3   Image   36969 non-null  object \n",
            "dtypes: float64(1), object(3)\n",
            "memory usage: 1.1+ MB\n"
          ],
          "name": "stdout"
        }
      ]
    },
    {
      "cell_type": "markdown",
      "metadata": {
        "id": "h_P-Z7tbonWF",
        "colab_type": "text"
      },
      "source": [
        "#### 3.4. Displaying the contents of a dataframe"
      ]
    },
    {
      "cell_type": "code",
      "metadata": {
        "id": "bbE05h0Mljsf",
        "colab_type": "code",
        "colab": {
          "base_uri": "https://localhost:8080/",
          "height": 1000
        },
        "outputId": "35bfdf2e-cc89-4b8b-9f23-530ce0de3981"
      },
      "source": [
        "df.head(60)"
      ],
      "execution_count": null,
      "outputs": [
        {
          "output_type": "execute_result",
          "data": {
            "text/html": [
              "<div>\n",
              "<style scoped>\n",
              "    .dataframe tbody tr th:only-of-type {\n",
              "        vertical-align: middle;\n",
              "    }\n",
              "\n",
              "    .dataframe tbody tr th {\n",
              "        vertical-align: top;\n",
              "    }\n",
              "\n",
              "    .dataframe thead th {\n",
              "        text-align: right;\n",
              "    }\n",
              "</style>\n",
              "<table border=\"1\" class=\"dataframe\">\n",
              "  <thead>\n",
              "    <tr style=\"text-align: right;\">\n",
              "      <th></th>\n",
              "      <th>ASIN</th>\n",
              "      <th>Questions</th>\n",
              "      <th>Questions Type</th>\n",
              "      <th>Answers</th>\n",
              "    </tr>\n",
              "  </thead>\n",
              "  <tbody>\n",
              "    <tr>\n",
              "      <th>0</th>\n",
              "      <td>B000182CPM</td>\n",
              "      <td>Will these fit my 2002 Ford F150 XLT?</td>\n",
              "      <td>open-ended</td>\n",
              "      <td>It's all custom mounting, where there's a will...</td>\n",
              "    </tr>\n",
              "    <tr>\n",
              "      <th>1</th>\n",
              "      <td>B000182CPM</td>\n",
              "      <td>Will these fit my 2002 Ford F150 XLT?</td>\n",
              "      <td>open-ended</td>\n",
              "      <td>You will need to drill another hole in Mud fla...</td>\n",
              "    </tr>\n",
              "    <tr>\n",
              "      <th>2</th>\n",
              "      <td>B000182CPM</td>\n",
              "      <td>is the hardware for installation included</td>\n",
              "      <td>yes/no</td>\n",
              "      <td>It's been a while since I installed them, but ...</td>\n",
              "    </tr>\n",
              "    <tr>\n",
              "      <th>3</th>\n",
              "      <td>B000182CPM</td>\n",
              "      <td>is the hardware for installation included</td>\n",
              "      <td>yes/no</td>\n",
              "      <td>1 pair rear flaps and mounting hardware.</td>\n",
              "    </tr>\n",
              "    <tr>\n",
              "      <th>4</th>\n",
              "      <td>B000182CPM</td>\n",
              "      <td>is the hardware for installation included</td>\n",
              "      <td>yes/no</td>\n",
              "      <td>I didn't buy these for myself I bought them fo...</td>\n",
              "    </tr>\n",
              "    <tr>\n",
              "      <th>5</th>\n",
              "      <td>B000182CPM</td>\n",
              "      <td>is the hardware for installation included</td>\n",
              "      <td>yes/no</td>\n",
              "      <td>no</td>\n",
              "    </tr>\n",
              "    <tr>\n",
              "      <th>6</th>\n",
              "      <td>B000182CPM</td>\n",
              "      <td>will they fit 2013 f350 dually</td>\n",
              "      <td>yes/no</td>\n",
              "      <td>Not sure, maybe measuring width of wheels and ...</td>\n",
              "    </tr>\n",
              "    <tr>\n",
              "      <th>7</th>\n",
              "      <td>B000182CPM</td>\n",
              "      <td>will they fit 2013 f350 dually</td>\n",
              "      <td>yes/no</td>\n",
              "      <td>They will fit the front, but will be to skinny...</td>\n",
              "    </tr>\n",
              "    <tr>\n",
              "      <th>8</th>\n",
              "      <td>B000182F0Y</td>\n",
              "      <td>I had AVS shades on my 1st Magnum and they mad...</td>\n",
              "      <td>open-ended</td>\n",
              "      <td>Unfortunately, they kept sending the wrong siz...</td>\n",
              "    </tr>\n",
              "    <tr>\n",
              "      <th>9</th>\n",
              "      <td>B000182F0Y</td>\n",
              "      <td>I had AVS shades on my 1st Magnum and they mad...</td>\n",
              "      <td>open-ended</td>\n",
              "      <td>At highway speed yes but around town it is not...</td>\n",
              "    </tr>\n",
              "    <tr>\n",
              "      <th>10</th>\n",
              "      <td>B000182F0Y</td>\n",
              "      <td>I had AVS shades on my 1st Magnum and they mad...</td>\n",
              "      <td>open-ended</td>\n",
              "      <td>You have to be sure the tape on the visor seal...</td>\n",
              "    </tr>\n",
              "    <tr>\n",
              "      <th>11</th>\n",
              "      <td>B000182F0Y</td>\n",
              "      <td>what color are they?  Want dark gray</td>\n",
              "      <td>open-ended</td>\n",
              "      <td>VERY dark gray...almost black.</td>\n",
              "    </tr>\n",
              "    <tr>\n",
              "      <th>12</th>\n",
              "      <td>B000182F0Y</td>\n",
              "      <td>what color are they?  Want dark gray</td>\n",
              "      <td>open-ended</td>\n",
              "      <td>They sure appear to be dark grey to me...fit n...</td>\n",
              "    </tr>\n",
              "    <tr>\n",
              "      <th>13</th>\n",
              "      <td>B000182F0Y</td>\n",
              "      <td>what color are they?  Want dark gray</td>\n",
              "      <td>open-ended</td>\n",
              "      <td>More towards black than grey</td>\n",
              "    </tr>\n",
              "    <tr>\n",
              "      <th>14</th>\n",
              "      <td>B000182F0Y</td>\n",
              "      <td>Will this fit a 2011 Buick Regal?</td>\n",
              "      <td>open-ended</td>\n",
              "      <td>No these are for a truck</td>\n",
              "    </tr>\n",
              "    <tr>\n",
              "      <th>15</th>\n",
              "      <td>B000182F0Y</td>\n",
              "      <td>Will this fit a 2011 Buick Regal?</td>\n",
              "      <td>open-ended</td>\n",
              "      <td>I don't know the one's that you sent me where ...</td>\n",
              "    </tr>\n",
              "    <tr>\n",
              "      <th>16</th>\n",
              "      <td>B000182F0Y</td>\n",
              "      <td>Will this fit a 2011 Buick Regal?</td>\n",
              "      <td>open-ended</td>\n",
              "      <td>No this was for a hyundai</td>\n",
              "    </tr>\n",
              "    <tr>\n",
              "      <th>17</th>\n",
              "      <td>B000182F0Y</td>\n",
              "      <td>Will this fit a 2011 Buick Regal?</td>\n",
              "      <td>open-ended</td>\n",
              "      <td>No, this was for a truck. Good advice is to ma...</td>\n",
              "    </tr>\n",
              "    <tr>\n",
              "      <th>18</th>\n",
              "      <td>B000182F0Y</td>\n",
              "      <td>yes it was for the ventshades for the 2000 dod...</td>\n",
              "      <td>open-ended</td>\n",
              "      <td>Not sure, but I think no because these are for...</td>\n",
              "    </tr>\n",
              "    <tr>\n",
              "      <th>19</th>\n",
              "      <td>B000182F0Y</td>\n",
              "      <td>yes it was for the ventshades for the 2000 dod...</td>\n",
              "      <td>open-ended</td>\n",
              "      <td>I have a ram 2007 2500 quad, they fit it fine ...</td>\n",
              "    </tr>\n",
              "    <tr>\n",
              "      <th>20</th>\n",
              "      <td>B000182F0Y</td>\n",
              "      <td>yes it was for the ventshades for the 2000 dod...</td>\n",
              "      <td>open-ended</td>\n",
              "      <td>no they will not fit refund my money please</td>\n",
              "    </tr>\n",
              "    <tr>\n",
              "      <th>21</th>\n",
              "      <td>B000182F0Y</td>\n",
              "      <td>will they fit 2014 mazda 3 sport?</td>\n",
              "      <td>yes/no</td>\n",
              "      <td>Search function for the Ventshade indicates th...</td>\n",
              "    </tr>\n",
              "    <tr>\n",
              "      <th>22</th>\n",
              "      <td>B000182F0Y</td>\n",
              "      <td>will they fit 2014 mazda 3 sport?</td>\n",
              "      <td>yes/no</td>\n",
              "      <td>sorry I do not know</td>\n",
              "    </tr>\n",
              "    <tr>\n",
              "      <th>23</th>\n",
              "      <td>B000182F0Y</td>\n",
              "      <td>will they fit 2014 mazda 3 sport?</td>\n",
              "      <td>yes/no</td>\n",
              "      <td>No</td>\n",
              "    </tr>\n",
              "    <tr>\n",
              "      <th>24</th>\n",
              "      <td>B000182F0Y</td>\n",
              "      <td>will they fit 2014 mazda 3 sport?</td>\n",
              "      <td>yes/no</td>\n",
              "      <td>Nope</td>\n",
              "    </tr>\n",
              "    <tr>\n",
              "      <th>25</th>\n",
              "      <td>B0001EW044</td>\n",
              "      <td>I have a 1995 Chevrolet k-1500 extended cab 2 ...</td>\n",
              "      <td>open-ended</td>\n",
              "      <td>I have the same configuration vehicle. The ven...</td>\n",
              "    </tr>\n",
              "    <tr>\n",
              "      <th>26</th>\n",
              "      <td>B0001EW044</td>\n",
              "      <td>I have a 1995 Chevrolet k-1500 extended cab 2 ...</td>\n",
              "      <td>open-ended</td>\n",
              "      <td>I have a 1998 Cheyenne Ext Cab. The Ventshades...</td>\n",
              "    </tr>\n",
              "    <tr>\n",
              "      <th>27</th>\n",
              "      <td>B0001EW044</td>\n",
              "      <td>I have a 1995 Chevrolet k-1500 extended cab 2 ...</td>\n",
              "      <td>open-ended</td>\n",
              "      <td>If you order the one for your model truck they...</td>\n",
              "    </tr>\n",
              "    <tr>\n",
              "      <th>28</th>\n",
              "      <td>B0001EW044</td>\n",
              "      <td>I have a 1995 Chevrolet k-1500 extended cab 2 ...</td>\n",
              "      <td>open-ended</td>\n",
              "      <td>No idea of length,But mine fit right out the b...</td>\n",
              "    </tr>\n",
              "    <tr>\n",
              "      <th>29</th>\n",
              "      <td>B0001EW044</td>\n",
              "      <td>I have a 1995 Chevrolet k-1500 extended cab 2 ...</td>\n",
              "      <td>open-ended</td>\n",
              "      <td>I have a 94 extended cab and the back two fit ...</td>\n",
              "    </tr>\n",
              "    <tr>\n",
              "      <th>30</th>\n",
              "      <td>B0001EW044</td>\n",
              "      <td>I have a 1995 Chevrolet k-1500 extended cab 2 ...</td>\n",
              "      <td>open-ended</td>\n",
              "      <td>yes they will fit these went on a 94 extended cab</td>\n",
              "    </tr>\n",
              "    <tr>\n",
              "      <th>31</th>\n",
              "      <td>B0001EW044</td>\n",
              "      <td>I have a 1995 Chevrolet k-1500 extended cab 2 ...</td>\n",
              "      <td>open-ended</td>\n",
              "      <td>I used them on my 1994 and fit perfectly also ...</td>\n",
              "    </tr>\n",
              "    <tr>\n",
              "      <th>32</th>\n",
              "      <td>B0001EW044</td>\n",
              "      <td>I have a 1995 Chevrolet k-1500 extended cab 2 ...</td>\n",
              "      <td>open-ended</td>\n",
              "      <td>Yes they will if you u e the pop-out windows. ...</td>\n",
              "    </tr>\n",
              "    <tr>\n",
              "      <th>33</th>\n",
              "      <td>B0001EW044</td>\n",
              "      <td>Do they fit a 1998 GMC Sierra 3 door?</td>\n",
              "      <td>open-ended</td>\n",
              "      <td>Yes</td>\n",
              "    </tr>\n",
              "    <tr>\n",
              "      <th>34</th>\n",
              "      <td>B0001EW044</td>\n",
              "      <td>Do they fit a 1998 GMC Sierra 3 door?</td>\n",
              "      <td>open-ended</td>\n",
              "      <td>Yup I have the 1998 Chevy Silverado 3 door z71...</td>\n",
              "    </tr>\n",
              "    <tr>\n",
              "      <th>35</th>\n",
              "      <td>B0001EW044</td>\n",
              "      <td>Do they fit a 1998 GMC Sierra 3 door?</td>\n",
              "      <td>open-ended</td>\n",
              "      <td>Yes</td>\n",
              "    </tr>\n",
              "    <tr>\n",
              "      <th>36</th>\n",
              "      <td>B00020BM32</td>\n",
              "      <td>Will this product work on a1988 camaro iroc z</td>\n",
              "      <td>open-ended</td>\n",
              "      <td>It will work on obd 1 pre 95 and obd2 after 95</td>\n",
              "    </tr>\n",
              "    <tr>\n",
              "      <th>37</th>\n",
              "      <td>B00020BM32</td>\n",
              "      <td>Will this product work on a1988 camaro iroc z</td>\n",
              "      <td>open-ended</td>\n",
              "      <td>Hi Dave:Sorry, but it won't; it claims to be a...</td>\n",
              "    </tr>\n",
              "    <tr>\n",
              "      <th>38</th>\n",
              "      <td>B00020BM32</td>\n",
              "      <td>Will this product work on a1988 camaro iroc z</td>\n",
              "      <td>open-ended</td>\n",
              "      <td>this unit comes with a variety of connectors. ...</td>\n",
              "    </tr>\n",
              "    <tr>\n",
              "      <th>39</th>\n",
              "      <td>B00020BM32</td>\n",
              "      <td>will this product work with a 1995 buick rivera ?</td>\n",
              "      <td>yes/no</td>\n",
              "      <td>it is obd 1 and obd 2 compatable the kit has a...</td>\n",
              "    </tr>\n",
              "    <tr>\n",
              "      <th>40</th>\n",
              "      <td>B00020BM32</td>\n",
              "      <td>will this product work with a 1995 buick rivera ?</td>\n",
              "      <td>yes/no</td>\n",
              "      <td>Yes it will.</td>\n",
              "    </tr>\n",
              "    <tr>\n",
              "      <th>41</th>\n",
              "      <td>B00020BM32</td>\n",
              "      <td>will this product work with a 1995 buick rivera ?</td>\n",
              "      <td>yes/no</td>\n",
              "      <td>It should    I don't have mine right now to ch...</td>\n",
              "    </tr>\n",
              "    <tr>\n",
              "      <th>42</th>\n",
              "      <td>B00020BM32</td>\n",
              "      <td>will this product work with a 1995 buick rivera ?</td>\n",
              "      <td>yes/no</td>\n",
              "      <td>OBD2 started in 1996 but I read some 1994 and ...</td>\n",
              "    </tr>\n",
              "    <tr>\n",
              "      <th>43</th>\n",
              "      <td>B00020BM32</td>\n",
              "      <td>will this product work with a 1995 buick rivera ?</td>\n",
              "      <td>yes/no</td>\n",
              "      <td>yes it will work its OBD-I and OBD-II</td>\n",
              "    </tr>\n",
              "    <tr>\n",
              "      <th>44</th>\n",
              "      <td>B00020BM32</td>\n",
              "      <td>will this product work with a 1995 buick rivera ?</td>\n",
              "      <td>yes/no</td>\n",
              "      <td>Hi Tom:this product will only work cars with O...</td>\n",
              "    </tr>\n",
              "    <tr>\n",
              "      <th>45</th>\n",
              "      <td>B00020BM32</td>\n",
              "      <td>will this product work with a 1995 buick rivera ?</td>\n",
              "      <td>yes/no</td>\n",
              "      <td>I bought this as a gift for my brother. He LOV...</td>\n",
              "    </tr>\n",
              "    <tr>\n",
              "      <th>46</th>\n",
              "      <td>B00020BM32</td>\n",
              "      <td>will this work on 95 bonneville and 94 camaro</td>\n",
              "      <td>yes/no</td>\n",
              "      <td>That unit will do OBD I and II, pre-96 vehicle...</td>\n",
              "    </tr>\n",
              "    <tr>\n",
              "      <th>47</th>\n",
              "      <td>B00020BM32</td>\n",
              "      <td>will this work on 95 bonneville and 94 camaro</td>\n",
              "      <td>yes/no</td>\n",
              "      <td>It works for my 95 S10 Chevy fine and comes wi...</td>\n",
              "    </tr>\n",
              "    <tr>\n",
              "      <th>48</th>\n",
              "      <td>B00020BM32</td>\n",
              "      <td>will this work on 95 bonneville and 94 camaro</td>\n",
              "      <td>yes/no</td>\n",
              "      <td>The scanner has a connection for OBD I compute...</td>\n",
              "    </tr>\n",
              "    <tr>\n",
              "      <th>49</th>\n",
              "      <td>B00020BM32</td>\n",
              "      <td>will this work on 95 bonneville and 94 camaro</td>\n",
              "      <td>yes/no</td>\n",
              "      <td>Hi Kris;the change over point was 1995!! it de...</td>\n",
              "    </tr>\n",
              "    <tr>\n",
              "      <th>50</th>\n",
              "      <td>B00020BM32</td>\n",
              "      <td>will this work on 95 bonneville and 94 camaro</td>\n",
              "      <td>yes/no</td>\n",
              "      <td>When I bought my CP9150 kit in 2008, I used it...</td>\n",
              "    </tr>\n",
              "    <tr>\n",
              "      <th>51</th>\n",
              "      <td>B00027GTYC</td>\n",
              "      <td>Will this work on the generation 1 alpha?</td>\n",
              "      <td>open-ended</td>\n",
              "      <td>Yes it will</td>\n",
              "    </tr>\n",
              "    <tr>\n",
              "      <th>52</th>\n",
              "      <td>B00027GTYC</td>\n",
              "      <td>Will this work on the generation 1 alpha?</td>\n",
              "      <td>open-ended</td>\n",
              "      <td>Yes it will. I have installed 2 on gen 1 alphas</td>\n",
              "    </tr>\n",
              "    <tr>\n",
              "      <th>53</th>\n",
              "      <td>B00027GTYC</td>\n",
              "      <td>Will this work on the generation 1 alpha?</td>\n",
              "      <td>open-ended</td>\n",
              "      <td>I purchased this for my Gen 1 and it worked pe...</td>\n",
              "    </tr>\n",
              "    <tr>\n",
              "      <th>54</th>\n",
              "      <td>B00027GTYC</td>\n",
              "      <td>will this fit a 1996 4 winns 238 vista 5.0 w/v...</td>\n",
              "      <td>yes/no</td>\n",
              "      <td>This will only fit a mercruiser alpha one ster...</td>\n",
              "    </tr>\n",
              "    <tr>\n",
              "      <th>55</th>\n",
              "      <td>B00027GTYC</td>\n",
              "      <td>will this fit a 1996 4 winns 238 vista 5.0 w/v...</td>\n",
              "      <td>yes/no</td>\n",
              "      <td>This was for my 1988 Mercruiser Alpha one</td>\n",
              "    </tr>\n",
              "    <tr>\n",
              "      <th>56</th>\n",
              "      <td>B00027GTYC</td>\n",
              "      <td>will this fit a 1996 4 winns 238 vista 5.0 w/v...</td>\n",
              "      <td>yes/no</td>\n",
              "      <td>I don't know, but google this and someone will...</td>\n",
              "    </tr>\n",
              "    <tr>\n",
              "      <th>57</th>\n",
              "      <td>B00029J2HG</td>\n",
              "      <td>I have 31/10/15 tire do I want X-large cover</td>\n",
              "      <td>open-ended</td>\n",
              "      <td>Hi Charlie, Please use this chart provided by ...</td>\n",
              "    </tr>\n",
              "    <tr>\n",
              "      <th>58</th>\n",
              "      <td>B00029J2HG</td>\n",
              "      <td>I have 31/10/15 tire do I want X-large cover</td>\n",
              "      <td>open-ended</td>\n",
              "      <td>You will need a 61031-15</td>\n",
              "    </tr>\n",
              "    <tr>\n",
              "      <th>59</th>\n",
              "      <td>B00029J2HG</td>\n",
              "      <td>I have 31/10/15 tire do I want X-large cover</td>\n",
              "      <td>open-ended</td>\n",
              "      <td>The part number you wabt to order is 61031-15....</td>\n",
              "    </tr>\n",
              "  </tbody>\n",
              "</table>\n",
              "</div>"
            ],
            "text/plain": [
              "          ASIN  ...                                            Answers\n",
              "0   B000182CPM  ...  It's all custom mounting, where there's a will...\n",
              "1   B000182CPM  ...  You will need to drill another hole in Mud fla...\n",
              "2   B000182CPM  ...  It's been a while since I installed them, but ...\n",
              "3   B000182CPM  ...           1 pair rear flaps and mounting hardware.\n",
              "4   B000182CPM  ...  I didn't buy these for myself I bought them fo...\n",
              "5   B000182CPM  ...                                                 no\n",
              "6   B000182CPM  ...  Not sure, maybe measuring width of wheels and ...\n",
              "7   B000182CPM  ...  They will fit the front, but will be to skinny...\n",
              "8   B000182F0Y  ...  Unfortunately, they kept sending the wrong siz...\n",
              "9   B000182F0Y  ...  At highway speed yes but around town it is not...\n",
              "10  B000182F0Y  ...  You have to be sure the tape on the visor seal...\n",
              "11  B000182F0Y  ...                     VERY dark gray...almost black.\n",
              "12  B000182F0Y  ...  They sure appear to be dark grey to me...fit n...\n",
              "13  B000182F0Y  ...                       More towards black than grey\n",
              "14  B000182F0Y  ...                           No these are for a truck\n",
              "15  B000182F0Y  ...  I don't know the one's that you sent me where ...\n",
              "16  B000182F0Y  ...                          No this was for a hyundai\n",
              "17  B000182F0Y  ...  No, this was for a truck. Good advice is to ma...\n",
              "18  B000182F0Y  ...  Not sure, but I think no because these are for...\n",
              "19  B000182F0Y  ...  I have a ram 2007 2500 quad, they fit it fine ...\n",
              "20  B000182F0Y  ...        no they will not fit refund my money please\n",
              "21  B000182F0Y  ...  Search function for the Ventshade indicates th...\n",
              "22  B000182F0Y  ...                                sorry I do not know\n",
              "23  B000182F0Y  ...                                                 No\n",
              "24  B000182F0Y  ...                                               Nope\n",
              "25  B0001EW044  ...  I have the same configuration vehicle. The ven...\n",
              "26  B0001EW044  ...  I have a 1998 Cheyenne Ext Cab. The Ventshades...\n",
              "27  B0001EW044  ...  If you order the one for your model truck they...\n",
              "28  B0001EW044  ...  No idea of length,But mine fit right out the b...\n",
              "29  B0001EW044  ...  I have a 94 extended cab and the back two fit ...\n",
              "30  B0001EW044  ...  yes they will fit these went on a 94 extended cab\n",
              "31  B0001EW044  ...  I used them on my 1994 and fit perfectly also ...\n",
              "32  B0001EW044  ...  Yes they will if you u e the pop-out windows. ...\n",
              "33  B0001EW044  ...                                                Yes\n",
              "34  B0001EW044  ...  Yup I have the 1998 Chevy Silverado 3 door z71...\n",
              "35  B0001EW044  ...                                                Yes\n",
              "36  B00020BM32  ...     It will work on obd 1 pre 95 and obd2 after 95\n",
              "37  B00020BM32  ...  Hi Dave:Sorry, but it won't; it claims to be a...\n",
              "38  B00020BM32  ...  this unit comes with a variety of connectors. ...\n",
              "39  B00020BM32  ...  it is obd 1 and obd 2 compatable the kit has a...\n",
              "40  B00020BM32  ...                                       Yes it will.\n",
              "41  B00020BM32  ...  It should    I don't have mine right now to ch...\n",
              "42  B00020BM32  ...  OBD2 started in 1996 but I read some 1994 and ...\n",
              "43  B00020BM32  ...              yes it will work its OBD-I and OBD-II\n",
              "44  B00020BM32  ...  Hi Tom:this product will only work cars with O...\n",
              "45  B00020BM32  ...  I bought this as a gift for my brother. He LOV...\n",
              "46  B00020BM32  ...  That unit will do OBD I and II, pre-96 vehicle...\n",
              "47  B00020BM32  ...  It works for my 95 S10 Chevy fine and comes wi...\n",
              "48  B00020BM32  ...  The scanner has a connection for OBD I compute...\n",
              "49  B00020BM32  ...  Hi Kris;the change over point was 1995!! it de...\n",
              "50  B00020BM32  ...  When I bought my CP9150 kit in 2008, I used it...\n",
              "51  B00027GTYC  ...                                        Yes it will\n",
              "52  B00027GTYC  ...    Yes it will. I have installed 2 on gen 1 alphas\n",
              "53  B00027GTYC  ...  I purchased this for my Gen 1 and it worked pe...\n",
              "54  B00027GTYC  ...  This will only fit a mercruiser alpha one ster...\n",
              "55  B00027GTYC  ...          This was for my 1988 Mercruiser Alpha one\n",
              "56  B00027GTYC  ...  I don't know, but google this and someone will...\n",
              "57  B00029J2HG  ...  Hi Charlie, Please use this chart provided by ...\n",
              "58  B00029J2HG  ...                           You will need a 61031-15\n",
              "59  B00029J2HG  ...  The part number you wabt to order is 61031-15....\n",
              "\n",
              "[60 rows x 4 columns]"
            ]
          },
          "metadata": {
            "tags": []
          },
          "execution_count": 136
        }
      ]
    },
    {
      "cell_type": "code",
      "metadata": {
        "id": "r5DpNNCOxGas",
        "colab_type": "code",
        "colab": {
          "base_uri": "https://localhost:8080/",
          "height": 1000
        },
        "outputId": "ee378899-a6c0-4a83-f49d-f6cfe4ac827c"
      },
      "source": [
        "df_meta.head(60)"
      ],
      "execution_count": null,
      "outputs": [
        {
          "output_type": "execute_result",
          "data": {
            "text/html": [
              "<div>\n",
              "<style scoped>\n",
              "    .dataframe tbody tr th:only-of-type {\n",
              "        vertical-align: middle;\n",
              "    }\n",
              "\n",
              "    .dataframe tbody tr th {\n",
              "        vertical-align: top;\n",
              "    }\n",
              "\n",
              "    .dataframe thead th {\n",
              "        text-align: right;\n",
              "    }\n",
              "</style>\n",
              "<table border=\"1\" class=\"dataframe\">\n",
              "  <thead>\n",
              "    <tr style=\"text-align: right;\">\n",
              "      <th></th>\n",
              "      <th>ASIN</th>\n",
              "      <th>Title</th>\n",
              "      <th>Price</th>\n",
              "      <th>Image</th>\n",
              "    </tr>\n",
              "  </thead>\n",
              "  <tbody>\n",
              "    <tr>\n",
              "      <th>0</th>\n",
              "      <td>B00000J421</td>\n",
              "      <td>Power Wheels 6-Volt Rechargeable Replacement B...</td>\n",
              "      <td>33.78</td>\n",
              "      <td>https://images-na.ssl-images-amazon.com/images...</td>\n",
              "    </tr>\n",
              "    <tr>\n",
              "      <th>1</th>\n",
              "      <td>B0000223J0</td>\n",
              "      <td>Makita MAK192629-7 7-Inch Hook and Loop Pad fo...</td>\n",
              "      <td>12.99</td>\n",
              "      <td>https://images-na.ssl-images-amazon.com/images...</td>\n",
              "    </tr>\n",
              "    <tr>\n",
              "      <th>2</th>\n",
              "      <td>B00002243Z</td>\n",
              "      <td>Coleman Cable 08666 16-Feet Heavy-Duty Truck a...</td>\n",
              "      <td>37.41</td>\n",
              "      <td>https://images-na.ssl-images-amazon.com/images...</td>\n",
              "    </tr>\n",
              "    <tr>\n",
              "      <th>3</th>\n",
              "      <td>B00004Z78V</td>\n",
              "      <td>APC UPS Battery Replacement for APC Back-UPS m...</td>\n",
              "      <td>38.61</td>\n",
              "      <td>https://images-na.ssl-images-amazon.com/images...</td>\n",
              "    </tr>\n",
              "    <tr>\n",
              "      <th>4</th>\n",
              "      <td>B00005RHQQ</td>\n",
              "      <td>Xantrex 802-1500 XPower 1,500 Watt Portable Po...</td>\n",
              "      <td>516.95</td>\n",
              "      <td>https://images-na.ssl-images-amazon.com/images...</td>\n",
              "    </tr>\n",
              "    <tr>\n",
              "      <th>5</th>\n",
              "      <td>B00008RW9V</td>\n",
              "      <td>California Car Duster 62447-8B Mini Duster</td>\n",
              "      <td>6.00</td>\n",
              "      <td>https://images-na.ssl-images-amazon.com/images...</td>\n",
              "    </tr>\n",
              "    <tr>\n",
              "      <th>6</th>\n",
              "      <td>B00008RW9U</td>\n",
              "      <td>California Car Duster 62442 Standard Car Duste...</td>\n",
              "      <td>19.99</td>\n",
              "      <td>https://images-na.ssl-images-amazon.com/images...</td>\n",
              "    </tr>\n",
              "    <tr>\n",
              "      <th>7</th>\n",
              "      <td>B00009PGNS</td>\n",
              "      <td>Koolatron 18 qt. Compact Cooler</td>\n",
              "      <td>6.13</td>\n",
              "      <td>https://images-na.ssl-images-amazon.com/images...</td>\n",
              "    </tr>\n",
              "    <tr>\n",
              "      <th>8</th>\n",
              "      <td>B00009YUK5</td>\n",
              "      <td>Swagman Original 4 Towing Bike Rack</td>\n",
              "      <td>6.36</td>\n",
              "      <td>https://images-na.ssl-images-amazon.com/images...</td>\n",
              "    </tr>\n",
              "    <tr>\n",
              "      <th>9</th>\n",
              "      <td>B0000AVZMU</td>\n",
              "      <td>Keeper 05654 Bull Ring Anchor Point, Universal...</td>\n",
              "      <td>25.99</td>\n",
              "      <td>https://images-na.ssl-images-amazon.com/images...</td>\n",
              "    </tr>\n",
              "    <tr>\n",
              "      <th>10</th>\n",
              "      <td>B0000AWYM3</td>\n",
              "      <td>Buyers Products ATVS15A ATV All Purpose Broadc...</td>\n",
              "      <td>204.11</td>\n",
              "      <td>https://images-na.ssl-images-amazon.com/images...</td>\n",
              "    </tr>\n",
              "    <tr>\n",
              "      <th>11</th>\n",
              "      <td>B0000AXC24</td>\n",
              "      <td>Milton (S-516) Straight Foot Chuck Tire Inflat...</td>\n",
              "      <td>40.05</td>\n",
              "      <td>https://images-na.ssl-images-amazon.com/images...</td>\n",
              "    </tr>\n",
              "    <tr>\n",
              "      <th>12</th>\n",
              "      <td>B0000AX9XA</td>\n",
              "      <td>Stromberg Carlson VGM-99-100 1500 Series Vente...</td>\n",
              "      <td>194.82</td>\n",
              "      <td>https://images-na.ssl-images-amazon.com/images...</td>\n",
              "    </tr>\n",
              "    <tr>\n",
              "      <th>13</th>\n",
              "      <td>B0000AXNLT</td>\n",
              "      <td>Meguiars Marine/RV Pure Wax Carnauba Blend  Ma...</td>\n",
              "      <td>8.15</td>\n",
              "      <td>https://images-na.ssl-images-amazon.com/images...</td>\n",
              "    </tr>\n",
              "    <tr>\n",
              "      <th>14</th>\n",
              "      <td>B0000AXNMO</td>\n",
              "      <td>Rain-X 800002243 Yellow Windshield Treatment, ...</td>\n",
              "      <td>7.10</td>\n",
              "      <td>https://images-na.ssl-images-amazon.com/images...</td>\n",
              "    </tr>\n",
              "    <tr>\n",
              "      <th>15</th>\n",
              "      <td>B0000AXTUY</td>\n",
              "      <td>SE-1-12S 1.5A 6V/12V Fully Automatic Battery M...</td>\n",
              "      <td>53.16</td>\n",
              "      <td>https://images-na.ssl-images-amazon.com/images...</td>\n",
              "    </tr>\n",
              "    <tr>\n",
              "      <th>16</th>\n",
              "      <td>B0000AY1P9</td>\n",
              "      <td>FIBRE GLASS-EVERCOAT CO Polyester Gel Paste Pint</td>\n",
              "      <td>26.75</td>\n",
              "      <td>https://images-na.ssl-images-amazon.com/images...</td>\n",
              "    </tr>\n",
              "    <tr>\n",
              "      <th>17</th>\n",
              "      <td>B0000AY2Z6</td>\n",
              "      <td>Fan-Tastic Vent 01100WH Endless Breeze - 12 Vo...</td>\n",
              "      <td>80.45</td>\n",
              "      <td>https://images-na.ssl-images-amazon.com/images...</td>\n",
              "    </tr>\n",
              "    <tr>\n",
              "      <th>18</th>\n",
              "      <td>B0000AY3SR</td>\n",
              "      <td>Meguiar's PlastX Clear Plastic Cleaner &amp;amp; P...</td>\n",
              "      <td>5.17</td>\n",
              "      <td>https://images-na.ssl-images-amazon.com/images...</td>\n",
              "    </tr>\n",
              "    <tr>\n",
              "      <th>19</th>\n",
              "      <td>B0000AY4MK</td>\n",
              "      <td>Bully CR-600 Chrome Series Heavy-Duty Truck SU...</td>\n",
              "      <td>45.35</td>\n",
              "      <td>https://images-na.ssl-images-amazon.com/images...</td>\n",
              "    </tr>\n",
              "    <tr>\n",
              "      <th>20</th>\n",
              "      <td>B0000AY1OJ</td>\n",
              "      <td>WEST SYSTEM Mini Pump Kit for 301 and 305 in Q...</td>\n",
              "      <td>15.69</td>\n",
              "      <td>https://images-na.ssl-images-amazon.com/images...</td>\n",
              "    </tr>\n",
              "    <tr>\n",
              "      <th>21</th>\n",
              "      <td>B0000AY4YT</td>\n",
              "      <td>Meguiar's M4965 Marine/RV Fiberglass Restorati...</td>\n",
              "      <td>34.92</td>\n",
              "      <td>https://images-na.ssl-images-amazon.com/images...</td>\n",
              "    </tr>\n",
              "    <tr>\n",
              "      <th>22</th>\n",
              "      <td>B0000AYFTV</td>\n",
              "      <td>Wesbar 707261 Wishbone Style Trailer Wiring Ha...</td>\n",
              "      <td>13.02</td>\n",
              "      <td>https://images-na.ssl-images-amazon.com/images...</td>\n",
              "    </tr>\n",
              "    <tr>\n",
              "      <th>23</th>\n",
              "      <td>B0000AYYU1</td>\n",
              "      <td>Sierra 18-3214 Impeller Repair Kit for Chrysle...</td>\n",
              "      <td>30.42</td>\n",
              "      <td>https://images-na.ssl-images-amazon.com/images...</td>\n",
              "    </tr>\n",
              "    <tr>\n",
              "      <th>24</th>\n",
              "      <td>B0000AZ6CT</td>\n",
              "      <td>Faria 32810 Euro 55 MPH Speedometer</td>\n",
              "      <td>41.38</td>\n",
              "      <td>https://images-na.ssl-images-amazon.com/images...</td>\n",
              "    </tr>\n",
              "    <tr>\n",
              "      <th>25</th>\n",
              "      <td>B0000AZ85J</td>\n",
              "      <td>Faria 12801 Euro Fuel Level Gauge (3003.3421)</td>\n",
              "      <td>22.07</td>\n",
              "      <td>https://images-na.ssl-images-amazon.com/images...</td>\n",
              "    </tr>\n",
              "    <tr>\n",
              "      <th>26</th>\n",
              "      <td>B0000AZ8JB</td>\n",
              "      <td>CIPA 11050 Suction Cup Marine Mirror</td>\n",
              "      <td>19.33</td>\n",
              "      <td>https://images-na.ssl-images-amazon.com/images...</td>\n",
              "    </tr>\n",
              "    <tr>\n",
              "      <th>27</th>\n",
              "      <td>B0000BYEXO</td>\n",
              "      <td>Odyssey PC625 Powersports Battery</td>\n",
              "      <td>17.76</td>\n",
              "      <td>https://images-na.ssl-images-amazon.com/images...</td>\n",
              "    </tr>\n",
              "    <tr>\n",
              "      <th>28</th>\n",
              "      <td>B0000BYMWX</td>\n",
              "      <td>ActiveTool  Airman Cordless Multi-Purpose Air ...</td>\n",
              "      <td>65.99</td>\n",
              "      <td>https://images-na.ssl-images-amazon.com/images...</td>\n",
              "    </tr>\n",
              "    <tr>\n",
              "      <th>29</th>\n",
              "      <td>B0000CBJ6S</td>\n",
              "      <td>General Purpose Paint Sprayer Gun - Pattern an...</td>\n",
              "      <td>1.41</td>\n",
              "      <td>https://images-na.ssl-images-amazon.com/images...</td>\n",
              "    </tr>\n",
              "    <tr>\n",
              "      <th>30</th>\n",
              "      <td>B0000DYV3N</td>\n",
              "      <td>Hopkins 27512VA nVISION Trailblazer Electronic...</td>\n",
              "      <td>10.93</td>\n",
              "      <td>https://images-na.ssl-images-amazon.com/images...</td>\n",
              "    </tr>\n",
              "    <tr>\n",
              "      <th>31</th>\n",
              "      <td>B0000TMLWQ</td>\n",
              "      <td>Powerbuilt 648796 Honda Cranks Pulley Removal ...</td>\n",
              "      <td>26.95</td>\n",
              "      <td>https://images-na.ssl-images-amazon.com/images...</td>\n",
              "    </tr>\n",
              "    <tr>\n",
              "      <th>32</th>\n",
              "      <td>B0000UUX34</td>\n",
              "      <td>K&amp;amp;N 33-2129 High Performance Replacement A...</td>\n",
              "      <td>44.18</td>\n",
              "      <td>https://images-na.ssl-images-amazon.com/images...</td>\n",
              "    </tr>\n",
              "    <tr>\n",
              "      <th>33</th>\n",
              "      <td>B0000UUU50</td>\n",
              "      <td>Westin 27-0010 Molded Step Board without Light</td>\n",
              "      <td>205.70</td>\n",
              "      <td>https://images-na.ssl-images-amazon.com/images...</td>\n",
              "    </tr>\n",
              "    <tr>\n",
              "      <th>34</th>\n",
              "      <td>B0000UUU5U</td>\n",
              "      <td>Westin 27-0015 Molded Step Board with Light</td>\n",
              "      <td>238.90</td>\n",
              "      <td>https://images-na.ssl-images-amazon.com/images...</td>\n",
              "    </tr>\n",
              "    <tr>\n",
              "      <th>35</th>\n",
              "      <td>B0000WZZTO</td>\n",
              "      <td>PIAA 2190 2100X Xtreme White Lamp Kit</td>\n",
              "      <td>188.21</td>\n",
              "      <td>https://images-na.ssl-images-amazon.com/images...</td>\n",
              "    </tr>\n",
              "    <tr>\n",
              "      <th>36</th>\n",
              "      <td>B00017YYI6</td>\n",
              "      <td>AIR LIFT 25592 Load Controller II On Board Air...</td>\n",
              "      <td>35.32</td>\n",
              "      <td>https://images-na.ssl-images-amazon.com/images...</td>\n",
              "    </tr>\n",
              "    <tr>\n",
              "      <th>37</th>\n",
              "      <td>B00017YYIG</td>\n",
              "      <td>AIR LIFT 57215 LoadLifter 5000 Series Rear Air...</td>\n",
              "      <td>42.97</td>\n",
              "      <td>https://images-na.ssl-images-amazon.com/images...</td>\n",
              "    </tr>\n",
              "    <tr>\n",
              "      <th>38</th>\n",
              "      <td>B000182DJ2</td>\n",
              "      <td>Edelbrock 1407 Performer 750 CFM Square Bore 4...</td>\n",
              "      <td>63.71</td>\n",
              "      <td>https://images-na.ssl-images-amazon.com/images...</td>\n",
              "    </tr>\n",
              "    <tr>\n",
              "      <th>39</th>\n",
              "      <td>B000182DPG</td>\n",
              "      <td>K&amp;amp;N 33-2031-2 High Performance Replacement...</td>\n",
              "      <td>44.46</td>\n",
              "      <td>https://images-na.ssl-images-amazon.com/images...</td>\n",
              "    </tr>\n",
              "    <tr>\n",
              "      <th>40</th>\n",
              "      <td>B000182DME</td>\n",
              "      <td>Flowmaster 42443 40 Series Muffler - 2.25 Offs...</td>\n",
              "      <td>79.95</td>\n",
              "      <td>https://images-na.ssl-images-amazon.com/images...</td>\n",
              "    </tr>\n",
              "    <tr>\n",
              "      <th>41</th>\n",
              "      <td>B000182BDK</td>\n",
              "      <td>MSD 8202 Blaster 2 Hi-Performance Coil</td>\n",
              "      <td>8.18</td>\n",
              "      <td>https://images-na.ssl-images-amazon.com/images...</td>\n",
              "    </tr>\n",
              "    <tr>\n",
              "      <th>42</th>\n",
              "      <td>B000182CPM</td>\n",
              "      <td>Dee Zee DZ1800 Full Size Brite-Tread Mud Flaps</td>\n",
              "      <td>30.91</td>\n",
              "      <td>https://images-na.ssl-images-amazon.com/images...</td>\n",
              "    </tr>\n",
              "    <tr>\n",
              "      <th>43</th>\n",
              "      <td>B000182DSS</td>\n",
              "      <td>Auto Ventshade 80002 Medium Hood Scoop with Sm...</td>\n",
              "      <td>70.99</td>\n",
              "      <td>https://images-na.ssl-images-amazon.com/images...</td>\n",
              "    </tr>\n",
              "    <tr>\n",
              "      <th>44</th>\n",
              "      <td>B000182BBM</td>\n",
              "      <td>K&amp;amp;N 57-3010-1 FIPK Performance Air Intake ...</td>\n",
              "      <td>228.21</td>\n",
              "      <td>https://images-na.ssl-images-amazon.com/images...</td>\n",
              "    </tr>\n",
              "    <tr>\n",
              "      <th>45</th>\n",
              "      <td>B000182DYC</td>\n",
              "      <td>WARN 20990 Premium Manual Hubs</td>\n",
              "      <td>122.58</td>\n",
              "      <td>https://images-na.ssl-images-amazon.com/images...</td>\n",
              "    </tr>\n",
              "    <tr>\n",
              "      <th>46</th>\n",
              "      <td>B000182EZU</td>\n",
              "      <td>Auto Ventshade 94355 Original Ventvisor Side W...</td>\n",
              "      <td>38.62</td>\n",
              "      <td>https://images-na.ssl-images-amazon.com/images...</td>\n",
              "    </tr>\n",
              "    <tr>\n",
              "      <th>47</th>\n",
              "      <td>B000182EX2</td>\n",
              "      <td>Auto Ventshade 94044 Original Ventvisor Side W...</td>\n",
              "      <td>49.03</td>\n",
              "      <td>https://images-na.ssl-images-amazon.com/images...</td>\n",
              "    </tr>\n",
              "    <tr>\n",
              "      <th>48</th>\n",
              "      <td>B000182F0Y</td>\n",
              "      <td>Auto Ventshade 94623 Original Ventvisor Side W...</td>\n",
              "      <td>49.23</td>\n",
              "      <td>https://images-na.ssl-images-amazon.com/images...</td>\n",
              "    </tr>\n",
              "    <tr>\n",
              "      <th>49</th>\n",
              "      <td>B000182EWS</td>\n",
              "      <td>Auto Ventshade 92956 Original Ventvisor Side W...</td>\n",
              "      <td>37.27</td>\n",
              "      <td>https://images-na.ssl-images-amazon.com/images...</td>\n",
              "    </tr>\n",
              "    <tr>\n",
              "      <th>50</th>\n",
              "      <td>B0001CMUV4</td>\n",
              "      <td>StowAway Hitch Tightener, Anti-Rattle Stabiliz...</td>\n",
              "      <td>17.50</td>\n",
              "      <td>https://images-na.ssl-images-amazon.com/images...</td>\n",
              "    </tr>\n",
              "    <tr>\n",
              "      <th>51</th>\n",
              "      <td>B0001EW044</td>\n",
              "      <td>Auto Ventshade 94231 Original Ventvisor Side W...</td>\n",
              "      <td>53.02</td>\n",
              "      <td>https://images-na.ssl-images-amazon.com/images...</td>\n",
              "    </tr>\n",
              "    <tr>\n",
              "      <th>52</th>\n",
              "      <td>B0001EW4EK</td>\n",
              "      <td>Auto Ventshade 94423 Original Ventvisor Side W...</td>\n",
              "      <td>49.03</td>\n",
              "      <td>https://images-na.ssl-images-amazon.com/images...</td>\n",
              "    </tr>\n",
              "    <tr>\n",
              "      <th>53</th>\n",
              "      <td>B0001FUAXQ</td>\n",
              "      <td>THULE 830 The Stacker Kayak Rack</td>\n",
              "      <td>12.90</td>\n",
              "      <td>https://images-na.ssl-images-amazon.com/images...</td>\n",
              "    </tr>\n",
              "    <tr>\n",
              "      <th>54</th>\n",
              "      <td>B0001WTY0E</td>\n",
              "      <td>Explorer 2 SUV and Minivan Tent</td>\n",
              "      <td>129.99</td>\n",
              "      <td>https://images-na.ssl-images-amazon.com/images...</td>\n",
              "    </tr>\n",
              "    <tr>\n",
              "      <th>55</th>\n",
              "      <td>B00020CAUG</td>\n",
              "      <td>Dynamat 10435 12&amp;quot; x 36&amp;quot; x 0.067&amp;quot...</td>\n",
              "      <td>62.88</td>\n",
              "      <td>https://images-na.ssl-images-amazon.com/images...</td>\n",
              "    </tr>\n",
              "    <tr>\n",
              "      <th>56</th>\n",
              "      <td>B000221M94</td>\n",
              "      <td>Highland 9242300 Black Vehicle Door Protector</td>\n",
              "      <td>11.54</td>\n",
              "      <td>https://images-na.ssl-images-amazon.com/images...</td>\n",
              "    </tr>\n",
              "    <tr>\n",
              "      <th>57</th>\n",
              "      <td>B00026Z3E0</td>\n",
              "      <td>Torin Big Red Steel Jack Stands: Double Lockin...</td>\n",
              "      <td>35.69</td>\n",
              "      <td>https://images-na.ssl-images-amazon.com/images...</td>\n",
              "    </tr>\n",
              "    <tr>\n",
              "      <th>58</th>\n",
              "      <td>B000276B18</td>\n",
              "      <td>FRAM PH6607 Extra Guard Passenger Car Spin-On ...</td>\n",
              "      <td>4.64</td>\n",
              "      <td>https://images-na.ssl-images-amazon.com/images...</td>\n",
              "    </tr>\n",
              "    <tr>\n",
              "      <th>59</th>\n",
              "      <td>B00029CYRG</td>\n",
              "      <td>Meguiar's M6732 Marine/RV One Step Compound, 3...</td>\n",
              "      <td>19.26</td>\n",
              "      <td>https://images-na.ssl-images-amazon.com/images...</td>\n",
              "    </tr>\n",
              "  </tbody>\n",
              "</table>\n",
              "</div>"
            ],
            "text/plain": [
              "          ASIN  ...                                              Image\n",
              "0   B00000J421  ...  https://images-na.ssl-images-amazon.com/images...\n",
              "1   B0000223J0  ...  https://images-na.ssl-images-amazon.com/images...\n",
              "2   B00002243Z  ...  https://images-na.ssl-images-amazon.com/images...\n",
              "3   B00004Z78V  ...  https://images-na.ssl-images-amazon.com/images...\n",
              "4   B00005RHQQ  ...  https://images-na.ssl-images-amazon.com/images...\n",
              "5   B00008RW9V  ...  https://images-na.ssl-images-amazon.com/images...\n",
              "6   B00008RW9U  ...  https://images-na.ssl-images-amazon.com/images...\n",
              "7   B00009PGNS  ...  https://images-na.ssl-images-amazon.com/images...\n",
              "8   B00009YUK5  ...  https://images-na.ssl-images-amazon.com/images...\n",
              "9   B0000AVZMU  ...  https://images-na.ssl-images-amazon.com/images...\n",
              "10  B0000AWYM3  ...  https://images-na.ssl-images-amazon.com/images...\n",
              "11  B0000AXC24  ...  https://images-na.ssl-images-amazon.com/images...\n",
              "12  B0000AX9XA  ...  https://images-na.ssl-images-amazon.com/images...\n",
              "13  B0000AXNLT  ...  https://images-na.ssl-images-amazon.com/images...\n",
              "14  B0000AXNMO  ...  https://images-na.ssl-images-amazon.com/images...\n",
              "15  B0000AXTUY  ...  https://images-na.ssl-images-amazon.com/images...\n",
              "16  B0000AY1P9  ...  https://images-na.ssl-images-amazon.com/images...\n",
              "17  B0000AY2Z6  ...  https://images-na.ssl-images-amazon.com/images...\n",
              "18  B0000AY3SR  ...  https://images-na.ssl-images-amazon.com/images...\n",
              "19  B0000AY4MK  ...  https://images-na.ssl-images-amazon.com/images...\n",
              "20  B0000AY1OJ  ...  https://images-na.ssl-images-amazon.com/images...\n",
              "21  B0000AY4YT  ...  https://images-na.ssl-images-amazon.com/images...\n",
              "22  B0000AYFTV  ...  https://images-na.ssl-images-amazon.com/images...\n",
              "23  B0000AYYU1  ...  https://images-na.ssl-images-amazon.com/images...\n",
              "24  B0000AZ6CT  ...  https://images-na.ssl-images-amazon.com/images...\n",
              "25  B0000AZ85J  ...  https://images-na.ssl-images-amazon.com/images...\n",
              "26  B0000AZ8JB  ...  https://images-na.ssl-images-amazon.com/images...\n",
              "27  B0000BYEXO  ...  https://images-na.ssl-images-amazon.com/images...\n",
              "28  B0000BYMWX  ...  https://images-na.ssl-images-amazon.com/images...\n",
              "29  B0000CBJ6S  ...  https://images-na.ssl-images-amazon.com/images...\n",
              "30  B0000DYV3N  ...  https://images-na.ssl-images-amazon.com/images...\n",
              "31  B0000TMLWQ  ...  https://images-na.ssl-images-amazon.com/images...\n",
              "32  B0000UUX34  ...  https://images-na.ssl-images-amazon.com/images...\n",
              "33  B0000UUU50  ...  https://images-na.ssl-images-amazon.com/images...\n",
              "34  B0000UUU5U  ...  https://images-na.ssl-images-amazon.com/images...\n",
              "35  B0000WZZTO  ...  https://images-na.ssl-images-amazon.com/images...\n",
              "36  B00017YYI6  ...  https://images-na.ssl-images-amazon.com/images...\n",
              "37  B00017YYIG  ...  https://images-na.ssl-images-amazon.com/images...\n",
              "38  B000182DJ2  ...  https://images-na.ssl-images-amazon.com/images...\n",
              "39  B000182DPG  ...  https://images-na.ssl-images-amazon.com/images...\n",
              "40  B000182DME  ...  https://images-na.ssl-images-amazon.com/images...\n",
              "41  B000182BDK  ...  https://images-na.ssl-images-amazon.com/images...\n",
              "42  B000182CPM  ...  https://images-na.ssl-images-amazon.com/images...\n",
              "43  B000182DSS  ...  https://images-na.ssl-images-amazon.com/images...\n",
              "44  B000182BBM  ...  https://images-na.ssl-images-amazon.com/images...\n",
              "45  B000182DYC  ...  https://images-na.ssl-images-amazon.com/images...\n",
              "46  B000182EZU  ...  https://images-na.ssl-images-amazon.com/images...\n",
              "47  B000182EX2  ...  https://images-na.ssl-images-amazon.com/images...\n",
              "48  B000182F0Y  ...  https://images-na.ssl-images-amazon.com/images...\n",
              "49  B000182EWS  ...  https://images-na.ssl-images-amazon.com/images...\n",
              "50  B0001CMUV4  ...  https://images-na.ssl-images-amazon.com/images...\n",
              "51  B0001EW044  ...  https://images-na.ssl-images-amazon.com/images...\n",
              "52  B0001EW4EK  ...  https://images-na.ssl-images-amazon.com/images...\n",
              "53  B0001FUAXQ  ...  https://images-na.ssl-images-amazon.com/images...\n",
              "54  B0001WTY0E  ...  https://images-na.ssl-images-amazon.com/images...\n",
              "55  B00020CAUG  ...  https://images-na.ssl-images-amazon.com/images...\n",
              "56  B000221M94  ...  https://images-na.ssl-images-amazon.com/images...\n",
              "57  B00026Z3E0  ...  https://images-na.ssl-images-amazon.com/images...\n",
              "58  B000276B18  ...  https://images-na.ssl-images-amazon.com/images...\n",
              "59  B00029CYRG  ...  https://images-na.ssl-images-amazon.com/images...\n",
              "\n",
              "[60 rows x 4 columns]"
            ]
          },
          "metadata": {
            "tags": []
          },
          "execution_count": 137
        }
      ]
    },
    {
      "cell_type": "code",
      "metadata": {
        "id": "FTO_uSHCyjxP",
        "colab_type": "code",
        "colab": {}
      },
      "source": [
        "df_meta.to_csv('df_meta.csv', index=False)"
      ],
      "execution_count": null,
      "outputs": []
    },
    {
      "cell_type": "code",
      "metadata": {
        "id": "59yJkK7ZfwFL",
        "colab_type": "code",
        "colab": {}
      },
      "source": [
        "df_meta = pd.read_csv('df_meta.csv')"
      ],
      "execution_count": null,
      "outputs": []
    },
    {
      "cell_type": "markdown",
      "metadata": {
        "id": "F6L7i1S9rS9L",
        "colab_type": "text"
      },
      "source": [
        "#### 3.5. Preprocessing the dataset"
      ]
    },
    {
      "cell_type": "code",
      "metadata": {
        "id": "-Gv8UwoqjilY",
        "colab_type": "code",
        "colab": {}
      },
      "source": [
        "def decontracted(phrase):\n",
        "    \"\"\" \n",
        "    Performs decontraction on the phrase.\n",
        "    \"\"\"\n",
        "    phrase = re.sub(r\"won't\", \"will not\", phrase)\n",
        "    phrase = re.sub(r\"can\\'t\", \"can not\", phrase)\n",
        "\n",
        "    phrase = re.sub(r\"n\\'t\", \" not\", phrase)\n",
        "    phrase = re.sub(r\"\\'re\", \" are\", phrase)\n",
        "    phrase = re.sub(r\"\\'s\", \" is\", phrase)\n",
        "    phrase = re.sub(r\"\\'d\", \" would\", phrase)\n",
        "    phrase = re.sub(r\"\\'ll\", \" will\", phrase)\n",
        "    phrase = re.sub(r\"\\'t\", \" not\", phrase)\n",
        "    phrase = re.sub(r\"\\'ve\", \" have\", phrase)\n",
        "    phrase = re.sub(r\"\\'m\", \" am\", phrase)\n",
        "    return phrase"
      ],
      "execution_count": null,
      "outputs": []
    },
    {
      "cell_type": "code",
      "metadata": {
        "id": "V38_ZtZcjxU3",
        "colab_type": "code",
        "colab": {}
      },
      "source": [
        "def removeHTML(text):\n",
        "  \"\"\" \n",
        "  Removes HTML tags from the text.\n",
        "  \"\"\"\n",
        "  return re.sub(r'((www\\.[^\\s]+)|(https?://[^\\s]+))','', text)"
      ],
      "execution_count": null,
      "outputs": []
    },
    {
      "cell_type": "code",
      "metadata": {
        "id": "-KUdw-5ukIcy",
        "colab_type": "code",
        "colab": {}
      },
      "source": [
        "def preprocess(corpus, useBeautifulSoup=False):\n",
        "  \"\"\" \n",
        "  Cleans and removes unwanted characters from the corpus. \n",
        "  \"\"\"\n",
        "  preprocessed = list()\n",
        "  for sentence in corpus:\n",
        "    if useBeautifulSoup:\n",
        "      sent = BeautifulSoup(unescape(sentence), 'lxml') \n",
        "      sent = removeHTML(sent.text)\n",
        "    else:\n",
        "      sent = removeHTML(sentence)\n",
        "    sent = decontracted(sent)\n",
        "    sent = sent.replace('\\\\r', ' ')\n",
        "    sent = sent.replace('\\\\\"', ' ')\n",
        "    sent = sent.replace('\\\\n', ' ')\n",
        "    sent = re.sub('[^A-Za-z0-9]+', ' ', sent)\n",
        "    preprocessed.append(sent.lower().strip())\n",
        "  return preprocessed"
      ],
      "execution_count": null,
      "outputs": []
    },
    {
      "cell_type": "code",
      "metadata": {
        "id": "JZ9YESmfG8DQ",
        "colab_type": "code",
        "colab": {
          "base_uri": "https://localhost:8080/",
          "height": 52
        },
        "outputId": "4a179c58-c8d6-42d5-f0ae-70702781b957"
      },
      "source": [
        "start_time = timer()\n",
        "df['Questions'] = preprocess(df['Questions'])\n",
        "timer(start_time)\n",
        "start_time = timer()\n",
        "df['Answers'] = preprocess(df['Answers'])\n",
        "timer(start_time)"
      ],
      "execution_count": null,
      "outputs": [
        {
          "output_type": "stream",
          "text": [
            "Time taken: 0 hours 1 minutes and 3.83 seconds.\n",
            "Time taken: 0 hours 1 minutes and 41.81 seconds.\n"
          ],
          "name": "stdout"
        }
      ]
    },
    {
      "cell_type": "code",
      "metadata": {
        "id": "jnzRDewOLgLM",
        "colab_type": "code",
        "colab": {
          "base_uri": "https://localhost:8080/",
          "height": 34
        },
        "outputId": "8b5bca57-7f12-4525-ba86-156b17044a7d"
      },
      "source": [
        "start_time = timer()\n",
        "df_meta['Title'] = preprocess(df_meta['Title'], useBeautifulSoup=True) # Feature/Column Title contains values like &amp;\n",
        "timer(start_time)"
      ],
      "execution_count": null,
      "outputs": [
        {
          "output_type": "stream",
          "text": [
            "Time taken: 0 hours 0 minutes and 7.89 seconds.\n"
          ],
          "name": "stdout"
        }
      ]
    },
    {
      "cell_type": "code",
      "metadata": {
        "id": "KmcdcVkTVmOZ",
        "colab_type": "code",
        "colab": {
          "base_uri": "https://localhost:8080/",
          "height": 1000
        },
        "outputId": "308f7647-39aa-4c2e-c463-27db6556ae47"
      },
      "source": [
        "df.head(60)"
      ],
      "execution_count": null,
      "outputs": [
        {
          "output_type": "execute_result",
          "data": {
            "text/html": [
              "<div>\n",
              "<style scoped>\n",
              "    .dataframe tbody tr th:only-of-type {\n",
              "        vertical-align: middle;\n",
              "    }\n",
              "\n",
              "    .dataframe tbody tr th {\n",
              "        vertical-align: top;\n",
              "    }\n",
              "\n",
              "    .dataframe thead th {\n",
              "        text-align: right;\n",
              "    }\n",
              "</style>\n",
              "<table border=\"1\" class=\"dataframe\">\n",
              "  <thead>\n",
              "    <tr style=\"text-align: right;\">\n",
              "      <th></th>\n",
              "      <th>ASIN</th>\n",
              "      <th>Questions</th>\n",
              "      <th>Questions Type</th>\n",
              "      <th>Answers</th>\n",
              "    </tr>\n",
              "  </thead>\n",
              "  <tbody>\n",
              "    <tr>\n",
              "      <th>0</th>\n",
              "      <td>B000182CPM</td>\n",
              "      <td>will these fit my 2002 ford f150 xlt</td>\n",
              "      <td>open-ended</td>\n",
              "      <td>it is all custom mounting where there is a wil...</td>\n",
              "    </tr>\n",
              "    <tr>\n",
              "      <th>1</th>\n",
              "      <td>B000182CPM</td>\n",
              "      <td>will these fit my 2002 ford f150 xlt</td>\n",
              "      <td>open-ended</td>\n",
              "      <td>you will need to drill another hole in mud fla...</td>\n",
              "    </tr>\n",
              "    <tr>\n",
              "      <th>2</th>\n",
              "      <td>B000182CPM</td>\n",
              "      <td>is the hardware for installation included</td>\n",
              "      <td>yes/no</td>\n",
              "      <td>it is been a while since i installed them but ...</td>\n",
              "    </tr>\n",
              "    <tr>\n",
              "      <th>3</th>\n",
              "      <td>B000182CPM</td>\n",
              "      <td>is the hardware for installation included</td>\n",
              "      <td>yes/no</td>\n",
              "      <td>1 pair rear flaps and mounting hardware</td>\n",
              "    </tr>\n",
              "    <tr>\n",
              "      <th>4</th>\n",
              "      <td>B000182CPM</td>\n",
              "      <td>is the hardware for installation included</td>\n",
              "      <td>yes/no</td>\n",
              "      <td>i did not buy these for myself i bought them f...</td>\n",
              "    </tr>\n",
              "    <tr>\n",
              "      <th>5</th>\n",
              "      <td>B000182CPM</td>\n",
              "      <td>is the hardware for installation included</td>\n",
              "      <td>yes/no</td>\n",
              "      <td>no</td>\n",
              "    </tr>\n",
              "    <tr>\n",
              "      <th>6</th>\n",
              "      <td>B000182CPM</td>\n",
              "      <td>will they fit 2013 f350 dually</td>\n",
              "      <td>yes/no</td>\n",
              "      <td>not sure maybe measuring width of wheels and w...</td>\n",
              "    </tr>\n",
              "    <tr>\n",
              "      <th>7</th>\n",
              "      <td>B000182CPM</td>\n",
              "      <td>will they fit 2013 f350 dually</td>\n",
              "      <td>yes/no</td>\n",
              "      <td>they will fit the front but will be to skinny ...</td>\n",
              "    </tr>\n",
              "    <tr>\n",
              "      <th>8</th>\n",
              "      <td>B000182F0Y</td>\n",
              "      <td>i had avs shades on my 1st magnum and they mad...</td>\n",
              "      <td>open-ended</td>\n",
              "      <td>unfortunately they kept sending the wrong size...</td>\n",
              "    </tr>\n",
              "    <tr>\n",
              "      <th>9</th>\n",
              "      <td>B000182F0Y</td>\n",
              "      <td>i had avs shades on my 1st magnum and they mad...</td>\n",
              "      <td>open-ended</td>\n",
              "      <td>at highway speed yes but around town it is not...</td>\n",
              "    </tr>\n",
              "    <tr>\n",
              "      <th>10</th>\n",
              "      <td>B000182F0Y</td>\n",
              "      <td>i had avs shades on my 1st magnum and they mad...</td>\n",
              "      <td>open-ended</td>\n",
              "      <td>you have to be sure the tape on the visor seal...</td>\n",
              "    </tr>\n",
              "    <tr>\n",
              "      <th>11</th>\n",
              "      <td>B000182F0Y</td>\n",
              "      <td>what color are they want dark gray</td>\n",
              "      <td>open-ended</td>\n",
              "      <td>very dark gray almost black</td>\n",
              "    </tr>\n",
              "    <tr>\n",
              "      <th>12</th>\n",
              "      <td>B000182F0Y</td>\n",
              "      <td>what color are they want dark gray</td>\n",
              "      <td>open-ended</td>\n",
              "      <td>they sure appear to be dark grey to me fit nic...</td>\n",
              "    </tr>\n",
              "    <tr>\n",
              "      <th>13</th>\n",
              "      <td>B000182F0Y</td>\n",
              "      <td>what color are they want dark gray</td>\n",
              "      <td>open-ended</td>\n",
              "      <td>more towards black than grey</td>\n",
              "    </tr>\n",
              "    <tr>\n",
              "      <th>14</th>\n",
              "      <td>B000182F0Y</td>\n",
              "      <td>will this fit a 2011 buick regal</td>\n",
              "      <td>open-ended</td>\n",
              "      <td>no these are for a truck</td>\n",
              "    </tr>\n",
              "    <tr>\n",
              "      <th>15</th>\n",
              "      <td>B000182F0Y</td>\n",
              "      <td>will this fit a 2011 buick regal</td>\n",
              "      <td>open-ended</td>\n",
              "      <td>i do not know the one is that you sent me wher...</td>\n",
              "    </tr>\n",
              "    <tr>\n",
              "      <th>16</th>\n",
              "      <td>B000182F0Y</td>\n",
              "      <td>will this fit a 2011 buick regal</td>\n",
              "      <td>open-ended</td>\n",
              "      <td>no this was for a hyundai</td>\n",
              "    </tr>\n",
              "    <tr>\n",
              "      <th>17</th>\n",
              "      <td>B000182F0Y</td>\n",
              "      <td>will this fit a 2011 buick regal</td>\n",
              "      <td>open-ended</td>\n",
              "      <td>no this was for a truck good advice is to make...</td>\n",
              "    </tr>\n",
              "    <tr>\n",
              "      <th>18</th>\n",
              "      <td>B000182F0Y</td>\n",
              "      <td>yes it was for the ventshades for the 2000 dod...</td>\n",
              "      <td>open-ended</td>\n",
              "      <td>not sure but i think no because these are for ...</td>\n",
              "    </tr>\n",
              "    <tr>\n",
              "      <th>19</th>\n",
              "      <td>B000182F0Y</td>\n",
              "      <td>yes it was for the ventshades for the 2000 dod...</td>\n",
              "      <td>open-ended</td>\n",
              "      <td>i have a ram 2007 2500 quad they fit it fine i...</td>\n",
              "    </tr>\n",
              "    <tr>\n",
              "      <th>20</th>\n",
              "      <td>B000182F0Y</td>\n",
              "      <td>yes it was for the ventshades for the 2000 dod...</td>\n",
              "      <td>open-ended</td>\n",
              "      <td>no they will not fit refund my money please</td>\n",
              "    </tr>\n",
              "    <tr>\n",
              "      <th>21</th>\n",
              "      <td>B000182F0Y</td>\n",
              "      <td>will they fit 2014 mazda 3 sport</td>\n",
              "      <td>yes/no</td>\n",
              "      <td>search function for the ventshade indicates th...</td>\n",
              "    </tr>\n",
              "    <tr>\n",
              "      <th>22</th>\n",
              "      <td>B000182F0Y</td>\n",
              "      <td>will they fit 2014 mazda 3 sport</td>\n",
              "      <td>yes/no</td>\n",
              "      <td>sorry i do not know</td>\n",
              "    </tr>\n",
              "    <tr>\n",
              "      <th>23</th>\n",
              "      <td>B000182F0Y</td>\n",
              "      <td>will they fit 2014 mazda 3 sport</td>\n",
              "      <td>yes/no</td>\n",
              "      <td>no</td>\n",
              "    </tr>\n",
              "    <tr>\n",
              "      <th>24</th>\n",
              "      <td>B000182F0Y</td>\n",
              "      <td>will they fit 2014 mazda 3 sport</td>\n",
              "      <td>yes/no</td>\n",
              "      <td>nope</td>\n",
              "    </tr>\n",
              "    <tr>\n",
              "      <th>25</th>\n",
              "      <td>B0001EW044</td>\n",
              "      <td>i have a 1995 chevrolet k 1500 extended cab 2 ...</td>\n",
              "      <td>open-ended</td>\n",
              "      <td>i have the same configuration vehicle the vent...</td>\n",
              "    </tr>\n",
              "    <tr>\n",
              "      <th>26</th>\n",
              "      <td>B0001EW044</td>\n",
              "      <td>i have a 1995 chevrolet k 1500 extended cab 2 ...</td>\n",
              "      <td>open-ended</td>\n",
              "      <td>i have a 1998 cheyenne ext cab the ventshades ...</td>\n",
              "    </tr>\n",
              "    <tr>\n",
              "      <th>27</th>\n",
              "      <td>B0001EW044</td>\n",
              "      <td>i have a 1995 chevrolet k 1500 extended cab 2 ...</td>\n",
              "      <td>open-ended</td>\n",
              "      <td>if you order the one for your model truck they...</td>\n",
              "    </tr>\n",
              "    <tr>\n",
              "      <th>28</th>\n",
              "      <td>B0001EW044</td>\n",
              "      <td>i have a 1995 chevrolet k 1500 extended cab 2 ...</td>\n",
              "      <td>open-ended</td>\n",
              "      <td>no idea of length but mine fit right out the b...</td>\n",
              "    </tr>\n",
              "    <tr>\n",
              "      <th>29</th>\n",
              "      <td>B0001EW044</td>\n",
              "      <td>i have a 1995 chevrolet k 1500 extended cab 2 ...</td>\n",
              "      <td>open-ended</td>\n",
              "      <td>i have a 94 extended cab and the back two fit ...</td>\n",
              "    </tr>\n",
              "    <tr>\n",
              "      <th>30</th>\n",
              "      <td>B0001EW044</td>\n",
              "      <td>i have a 1995 chevrolet k 1500 extended cab 2 ...</td>\n",
              "      <td>open-ended</td>\n",
              "      <td>yes they will fit these went on a 94 extended cab</td>\n",
              "    </tr>\n",
              "    <tr>\n",
              "      <th>31</th>\n",
              "      <td>B0001EW044</td>\n",
              "      <td>i have a 1995 chevrolet k 1500 extended cab 2 ...</td>\n",
              "      <td>open-ended</td>\n",
              "      <td>i used them on my 1994 and fit perfectly also ...</td>\n",
              "    </tr>\n",
              "    <tr>\n",
              "      <th>32</th>\n",
              "      <td>B0001EW044</td>\n",
              "      <td>i have a 1995 chevrolet k 1500 extended cab 2 ...</td>\n",
              "      <td>open-ended</td>\n",
              "      <td>yes they will if you u e the pop out windows i...</td>\n",
              "    </tr>\n",
              "    <tr>\n",
              "      <th>33</th>\n",
              "      <td>B0001EW044</td>\n",
              "      <td>do they fit a 1998 gmc sierra 3 door</td>\n",
              "      <td>open-ended</td>\n",
              "      <td>yes</td>\n",
              "    </tr>\n",
              "    <tr>\n",
              "      <th>34</th>\n",
              "      <td>B0001EW044</td>\n",
              "      <td>do they fit a 1998 gmc sierra 3 door</td>\n",
              "      <td>open-ended</td>\n",
              "      <td>yup i have the 1998 chevy silverado 3 door z71...</td>\n",
              "    </tr>\n",
              "    <tr>\n",
              "      <th>35</th>\n",
              "      <td>B0001EW044</td>\n",
              "      <td>do they fit a 1998 gmc sierra 3 door</td>\n",
              "      <td>open-ended</td>\n",
              "      <td>yes</td>\n",
              "    </tr>\n",
              "    <tr>\n",
              "      <th>36</th>\n",
              "      <td>B00020BM32</td>\n",
              "      <td>will this product work on a1988 camaro iroc z</td>\n",
              "      <td>open-ended</td>\n",
              "      <td>it will work on obd 1 pre 95 and obd2 after 95</td>\n",
              "    </tr>\n",
              "    <tr>\n",
              "      <th>37</th>\n",
              "      <td>B00020BM32</td>\n",
              "      <td>will this product work on a1988 camaro iroc z</td>\n",
              "      <td>open-ended</td>\n",
              "      <td>hi dave sorry but it will not it claims to be ...</td>\n",
              "    </tr>\n",
              "    <tr>\n",
              "      <th>38</th>\n",
              "      <td>B00020BM32</td>\n",
              "      <td>will this product work on a1988 camaro iroc z</td>\n",
              "      <td>open-ended</td>\n",
              "      <td>this unit comes with a variety of connectors y...</td>\n",
              "    </tr>\n",
              "    <tr>\n",
              "      <th>39</th>\n",
              "      <td>B00020BM32</td>\n",
              "      <td>will this product work with a 1995 buick rivera</td>\n",
              "      <td>yes/no</td>\n",
              "      <td>it is obd 1 and obd 2 compatable the kit has a...</td>\n",
              "    </tr>\n",
              "    <tr>\n",
              "      <th>40</th>\n",
              "      <td>B00020BM32</td>\n",
              "      <td>will this product work with a 1995 buick rivera</td>\n",
              "      <td>yes/no</td>\n",
              "      <td>yes it will</td>\n",
              "    </tr>\n",
              "    <tr>\n",
              "      <th>41</th>\n",
              "      <td>B00020BM32</td>\n",
              "      <td>will this product work with a 1995 buick rivera</td>\n",
              "      <td>yes/no</td>\n",
              "      <td>it should i do not have mine right now to chec...</td>\n",
              "    </tr>\n",
              "    <tr>\n",
              "      <th>42</th>\n",
              "      <td>B00020BM32</td>\n",
              "      <td>will this product work with a 1995 buick rivera</td>\n",
              "      <td>yes/no</td>\n",
              "      <td>obd2 started in 1996 but i read some 1994 and ...</td>\n",
              "    </tr>\n",
              "    <tr>\n",
              "      <th>43</th>\n",
              "      <td>B00020BM32</td>\n",
              "      <td>will this product work with a 1995 buick rivera</td>\n",
              "      <td>yes/no</td>\n",
              "      <td>yes it will work its obd i and obd ii</td>\n",
              "    </tr>\n",
              "    <tr>\n",
              "      <th>44</th>\n",
              "      <td>B00020BM32</td>\n",
              "      <td>will this product work with a 1995 buick rivera</td>\n",
              "      <td>yes/no</td>\n",
              "      <td>hi tom this product will only work cars with o...</td>\n",
              "    </tr>\n",
              "    <tr>\n",
              "      <th>45</th>\n",
              "      <td>B00020BM32</td>\n",
              "      <td>will this product work with a 1995 buick rivera</td>\n",
              "      <td>yes/no</td>\n",
              "      <td>i bought this as a gift for my brother he love...</td>\n",
              "    </tr>\n",
              "    <tr>\n",
              "      <th>46</th>\n",
              "      <td>B00020BM32</td>\n",
              "      <td>will this work on 95 bonneville and 94 camaro</td>\n",
              "      <td>yes/no</td>\n",
              "      <td>that unit will do obd i and ii pre 96 vehicles...</td>\n",
              "    </tr>\n",
              "    <tr>\n",
              "      <th>47</th>\n",
              "      <td>B00020BM32</td>\n",
              "      <td>will this work on 95 bonneville and 94 camaro</td>\n",
              "      <td>yes/no</td>\n",
              "      <td>it works for my 95 s10 chevy fine and comes wi...</td>\n",
              "    </tr>\n",
              "    <tr>\n",
              "      <th>48</th>\n",
              "      <td>B00020BM32</td>\n",
              "      <td>will this work on 95 bonneville and 94 camaro</td>\n",
              "      <td>yes/no</td>\n",
              "      <td>the scanner has a connection for obd i compute...</td>\n",
              "    </tr>\n",
              "    <tr>\n",
              "      <th>49</th>\n",
              "      <td>B00020BM32</td>\n",
              "      <td>will this work on 95 bonneville and 94 camaro</td>\n",
              "      <td>yes/no</td>\n",
              "      <td>hi kris the change over point was 1995 it depe...</td>\n",
              "    </tr>\n",
              "    <tr>\n",
              "      <th>50</th>\n",
              "      <td>B00020BM32</td>\n",
              "      <td>will this work on 95 bonneville and 94 camaro</td>\n",
              "      <td>yes/no</td>\n",
              "      <td>when i bought my cp9150 kit in 2008 i used it ...</td>\n",
              "    </tr>\n",
              "    <tr>\n",
              "      <th>51</th>\n",
              "      <td>B00027GTYC</td>\n",
              "      <td>will this work on the generation 1 alpha</td>\n",
              "      <td>open-ended</td>\n",
              "      <td>yes it will</td>\n",
              "    </tr>\n",
              "    <tr>\n",
              "      <th>52</th>\n",
              "      <td>B00027GTYC</td>\n",
              "      <td>will this work on the generation 1 alpha</td>\n",
              "      <td>open-ended</td>\n",
              "      <td>yes it will i have installed 2 on gen 1 alphas</td>\n",
              "    </tr>\n",
              "    <tr>\n",
              "      <th>53</th>\n",
              "      <td>B00027GTYC</td>\n",
              "      <td>will this work on the generation 1 alpha</td>\n",
              "      <td>open-ended</td>\n",
              "      <td>i purchased this for my gen 1 and it worked pe...</td>\n",
              "    </tr>\n",
              "    <tr>\n",
              "      <th>54</th>\n",
              "      <td>B00027GTYC</td>\n",
              "      <td>will this fit a 1996 4 winns 238 vista 5 0 w v...</td>\n",
              "      <td>yes/no</td>\n",
              "      <td>this will only fit a mercruiser alpha one ster...</td>\n",
              "    </tr>\n",
              "    <tr>\n",
              "      <th>55</th>\n",
              "      <td>B00027GTYC</td>\n",
              "      <td>will this fit a 1996 4 winns 238 vista 5 0 w v...</td>\n",
              "      <td>yes/no</td>\n",
              "      <td>this was for my 1988 mercruiser alpha one</td>\n",
              "    </tr>\n",
              "    <tr>\n",
              "      <th>56</th>\n",
              "      <td>B00027GTYC</td>\n",
              "      <td>will this fit a 1996 4 winns 238 vista 5 0 w v...</td>\n",
              "      <td>yes/no</td>\n",
              "      <td>i do not know but google this and someone will...</td>\n",
              "    </tr>\n",
              "    <tr>\n",
              "      <th>57</th>\n",
              "      <td>B00029J2HG</td>\n",
              "      <td>i have 31 10 15 tire do i want x large cover</td>\n",
              "      <td>open-ended</td>\n",
              "      <td>hi charlie please use this chart provided by t...</td>\n",
              "    </tr>\n",
              "    <tr>\n",
              "      <th>58</th>\n",
              "      <td>B00029J2HG</td>\n",
              "      <td>i have 31 10 15 tire do i want x large cover</td>\n",
              "      <td>open-ended</td>\n",
              "      <td>you will need a 61031 15</td>\n",
              "    </tr>\n",
              "    <tr>\n",
              "      <th>59</th>\n",
              "      <td>B00029J2HG</td>\n",
              "      <td>i have 31 10 15 tire do i want x large cover</td>\n",
              "      <td>open-ended</td>\n",
              "      <td>the part number you wabt to order is 61031 15 ...</td>\n",
              "    </tr>\n",
              "  </tbody>\n",
              "</table>\n",
              "</div>"
            ],
            "text/plain": [
              "          ASIN  ...                                            Answers\n",
              "0   B000182CPM  ...  it is all custom mounting where there is a wil...\n",
              "1   B000182CPM  ...  you will need to drill another hole in mud fla...\n",
              "2   B000182CPM  ...  it is been a while since i installed them but ...\n",
              "3   B000182CPM  ...            1 pair rear flaps and mounting hardware\n",
              "4   B000182CPM  ...  i did not buy these for myself i bought them f...\n",
              "5   B000182CPM  ...                                                 no\n",
              "6   B000182CPM  ...  not sure maybe measuring width of wheels and w...\n",
              "7   B000182CPM  ...  they will fit the front but will be to skinny ...\n",
              "8   B000182F0Y  ...  unfortunately they kept sending the wrong size...\n",
              "9   B000182F0Y  ...  at highway speed yes but around town it is not...\n",
              "10  B000182F0Y  ...  you have to be sure the tape on the visor seal...\n",
              "11  B000182F0Y  ...                        very dark gray almost black\n",
              "12  B000182F0Y  ...  they sure appear to be dark grey to me fit nic...\n",
              "13  B000182F0Y  ...                       more towards black than grey\n",
              "14  B000182F0Y  ...                           no these are for a truck\n",
              "15  B000182F0Y  ...  i do not know the one is that you sent me wher...\n",
              "16  B000182F0Y  ...                          no this was for a hyundai\n",
              "17  B000182F0Y  ...  no this was for a truck good advice is to make...\n",
              "18  B000182F0Y  ...  not sure but i think no because these are for ...\n",
              "19  B000182F0Y  ...  i have a ram 2007 2500 quad they fit it fine i...\n",
              "20  B000182F0Y  ...        no they will not fit refund my money please\n",
              "21  B000182F0Y  ...  search function for the ventshade indicates th...\n",
              "22  B000182F0Y  ...                                sorry i do not know\n",
              "23  B000182F0Y  ...                                                 no\n",
              "24  B000182F0Y  ...                                               nope\n",
              "25  B0001EW044  ...  i have the same configuration vehicle the vent...\n",
              "26  B0001EW044  ...  i have a 1998 cheyenne ext cab the ventshades ...\n",
              "27  B0001EW044  ...  if you order the one for your model truck they...\n",
              "28  B0001EW044  ...  no idea of length but mine fit right out the b...\n",
              "29  B0001EW044  ...  i have a 94 extended cab and the back two fit ...\n",
              "30  B0001EW044  ...  yes they will fit these went on a 94 extended cab\n",
              "31  B0001EW044  ...  i used them on my 1994 and fit perfectly also ...\n",
              "32  B0001EW044  ...  yes they will if you u e the pop out windows i...\n",
              "33  B0001EW044  ...                                                yes\n",
              "34  B0001EW044  ...  yup i have the 1998 chevy silverado 3 door z71...\n",
              "35  B0001EW044  ...                                                yes\n",
              "36  B00020BM32  ...     it will work on obd 1 pre 95 and obd2 after 95\n",
              "37  B00020BM32  ...  hi dave sorry but it will not it claims to be ...\n",
              "38  B00020BM32  ...  this unit comes with a variety of connectors y...\n",
              "39  B00020BM32  ...  it is obd 1 and obd 2 compatable the kit has a...\n",
              "40  B00020BM32  ...                                        yes it will\n",
              "41  B00020BM32  ...  it should i do not have mine right now to chec...\n",
              "42  B00020BM32  ...  obd2 started in 1996 but i read some 1994 and ...\n",
              "43  B00020BM32  ...              yes it will work its obd i and obd ii\n",
              "44  B00020BM32  ...  hi tom this product will only work cars with o...\n",
              "45  B00020BM32  ...  i bought this as a gift for my brother he love...\n",
              "46  B00020BM32  ...  that unit will do obd i and ii pre 96 vehicles...\n",
              "47  B00020BM32  ...  it works for my 95 s10 chevy fine and comes wi...\n",
              "48  B00020BM32  ...  the scanner has a connection for obd i compute...\n",
              "49  B00020BM32  ...  hi kris the change over point was 1995 it depe...\n",
              "50  B00020BM32  ...  when i bought my cp9150 kit in 2008 i used it ...\n",
              "51  B00027GTYC  ...                                        yes it will\n",
              "52  B00027GTYC  ...     yes it will i have installed 2 on gen 1 alphas\n",
              "53  B00027GTYC  ...  i purchased this for my gen 1 and it worked pe...\n",
              "54  B00027GTYC  ...  this will only fit a mercruiser alpha one ster...\n",
              "55  B00027GTYC  ...          this was for my 1988 mercruiser alpha one\n",
              "56  B00027GTYC  ...  i do not know but google this and someone will...\n",
              "57  B00029J2HG  ...  hi charlie please use this chart provided by t...\n",
              "58  B00029J2HG  ...                           you will need a 61031 15\n",
              "59  B00029J2HG  ...  the part number you wabt to order is 61031 15 ...\n",
              "\n",
              "[60 rows x 4 columns]"
            ]
          },
          "metadata": {
            "tags": []
          },
          "execution_count": 14
        }
      ]
    },
    {
      "cell_type": "code",
      "metadata": {
        "id": "OILtf2SxVqLS",
        "colab_type": "code",
        "colab": {
          "base_uri": "https://localhost:8080/",
          "height": 1000
        },
        "outputId": "ac41407c-e5e6-4365-eafb-8bb946c7254c"
      },
      "source": [
        "df_meta.head(60)"
      ],
      "execution_count": null,
      "outputs": [
        {
          "output_type": "execute_result",
          "data": {
            "text/html": [
              "<div>\n",
              "<style scoped>\n",
              "    .dataframe tbody tr th:only-of-type {\n",
              "        vertical-align: middle;\n",
              "    }\n",
              "\n",
              "    .dataframe tbody tr th {\n",
              "        vertical-align: top;\n",
              "    }\n",
              "\n",
              "    .dataframe thead th {\n",
              "        text-align: right;\n",
              "    }\n",
              "</style>\n",
              "<table border=\"1\" class=\"dataframe\">\n",
              "  <thead>\n",
              "    <tr style=\"text-align: right;\">\n",
              "      <th></th>\n",
              "      <th>ASIN</th>\n",
              "      <th>Title</th>\n",
              "      <th>Price</th>\n",
              "      <th>Image</th>\n",
              "    </tr>\n",
              "  </thead>\n",
              "  <tbody>\n",
              "    <tr>\n",
              "      <th>0</th>\n",
              "      <td>B00000J421</td>\n",
              "      <td>power wheels 6 volt rechargeable replacement b...</td>\n",
              "      <td>33.78</td>\n",
              "      <td>https://images-na.ssl-images-amazon.com/images...</td>\n",
              "    </tr>\n",
              "    <tr>\n",
              "      <th>1</th>\n",
              "      <td>B0000223J0</td>\n",
              "      <td>makita mak192629 7 7 inch hook and loop pad fo...</td>\n",
              "      <td>12.99</td>\n",
              "      <td>https://images-na.ssl-images-amazon.com/images...</td>\n",
              "    </tr>\n",
              "    <tr>\n",
              "      <th>2</th>\n",
              "      <td>B00002243Z</td>\n",
              "      <td>coleman cable 08666 16 feet heavy duty truck a...</td>\n",
              "      <td>37.41</td>\n",
              "      <td>https://images-na.ssl-images-amazon.com/images...</td>\n",
              "    </tr>\n",
              "    <tr>\n",
              "      <th>3</th>\n",
              "      <td>B00004Z78V</td>\n",
              "      <td>apc ups battery replacement for apc back ups m...</td>\n",
              "      <td>38.61</td>\n",
              "      <td>https://images-na.ssl-images-amazon.com/images...</td>\n",
              "    </tr>\n",
              "    <tr>\n",
              "      <th>4</th>\n",
              "      <td>B00005RHQQ</td>\n",
              "      <td>xantrex 802 1500 xpower 1 500 watt portable po...</td>\n",
              "      <td>516.95</td>\n",
              "      <td>https://images-na.ssl-images-amazon.com/images...</td>\n",
              "    </tr>\n",
              "    <tr>\n",
              "      <th>5</th>\n",
              "      <td>B00008RW9V</td>\n",
              "      <td>california car duster 62447 8b mini duster</td>\n",
              "      <td>6.00</td>\n",
              "      <td>https://images-na.ssl-images-amazon.com/images...</td>\n",
              "    </tr>\n",
              "    <tr>\n",
              "      <th>6</th>\n",
              "      <td>B00008RW9U</td>\n",
              "      <td>california car duster 62442 standard car duste...</td>\n",
              "      <td>19.99</td>\n",
              "      <td>https://images-na.ssl-images-amazon.com/images...</td>\n",
              "    </tr>\n",
              "    <tr>\n",
              "      <th>7</th>\n",
              "      <td>B00009PGNS</td>\n",
              "      <td>koolatron 18 qt compact cooler</td>\n",
              "      <td>6.13</td>\n",
              "      <td>https://images-na.ssl-images-amazon.com/images...</td>\n",
              "    </tr>\n",
              "    <tr>\n",
              "      <th>8</th>\n",
              "      <td>B00009YUK5</td>\n",
              "      <td>swagman original 4 towing bike rack</td>\n",
              "      <td>6.36</td>\n",
              "      <td>https://images-na.ssl-images-amazon.com/images...</td>\n",
              "    </tr>\n",
              "    <tr>\n",
              "      <th>9</th>\n",
              "      <td>B0000AVZMU</td>\n",
              "      <td>keeper 05654 bull ring anchor point universal ...</td>\n",
              "      <td>25.99</td>\n",
              "      <td>https://images-na.ssl-images-amazon.com/images...</td>\n",
              "    </tr>\n",
              "    <tr>\n",
              "      <th>10</th>\n",
              "      <td>B0000AWYM3</td>\n",
              "      <td>buyers products atvs15a atv all purpose broadc...</td>\n",
              "      <td>204.11</td>\n",
              "      <td>https://images-na.ssl-images-amazon.com/images...</td>\n",
              "    </tr>\n",
              "    <tr>\n",
              "      <th>11</th>\n",
              "      <td>B0000AXC24</td>\n",
              "      <td>milton s 516 straight foot chuck tire inflator...</td>\n",
              "      <td>40.05</td>\n",
              "      <td>https://images-na.ssl-images-amazon.com/images...</td>\n",
              "    </tr>\n",
              "    <tr>\n",
              "      <th>12</th>\n",
              "      <td>B0000AX9XA</td>\n",
              "      <td>stromberg carlson vgm 99 100 1500 series vente...</td>\n",
              "      <td>194.82</td>\n",
              "      <td>https://images-na.ssl-images-amazon.com/images...</td>\n",
              "    </tr>\n",
              "    <tr>\n",
              "      <th>13</th>\n",
              "      <td>B0000AXNLT</td>\n",
              "      <td>meguiars marine rv pure wax carnauba blend mar...</td>\n",
              "      <td>8.15</td>\n",
              "      <td>https://images-na.ssl-images-amazon.com/images...</td>\n",
              "    </tr>\n",
              "    <tr>\n",
              "      <th>14</th>\n",
              "      <td>B0000AXNMO</td>\n",
              "      <td>rain x 800002243 yellow windshield treatment 7...</td>\n",
              "      <td>7.10</td>\n",
              "      <td>https://images-na.ssl-images-amazon.com/images...</td>\n",
              "    </tr>\n",
              "    <tr>\n",
              "      <th>15</th>\n",
              "      <td>B0000AXTUY</td>\n",
              "      <td>se 1 12s 1 5a 6v 12v fully automatic battery m...</td>\n",
              "      <td>53.16</td>\n",
              "      <td>https://images-na.ssl-images-amazon.com/images...</td>\n",
              "    </tr>\n",
              "    <tr>\n",
              "      <th>16</th>\n",
              "      <td>B0000AY1P9</td>\n",
              "      <td>fibre glass evercoat co polyester gel paste pint</td>\n",
              "      <td>26.75</td>\n",
              "      <td>https://images-na.ssl-images-amazon.com/images...</td>\n",
              "    </tr>\n",
              "    <tr>\n",
              "      <th>17</th>\n",
              "      <td>B0000AY2Z6</td>\n",
              "      <td>fan tastic vent 01100wh endless breeze 12 volt...</td>\n",
              "      <td>80.45</td>\n",
              "      <td>https://images-na.ssl-images-amazon.com/images...</td>\n",
              "    </tr>\n",
              "    <tr>\n",
              "      <th>18</th>\n",
              "      <td>B0000AY3SR</td>\n",
              "      <td>meguiar is plastx clear plastic cleaner polish...</td>\n",
              "      <td>5.17</td>\n",
              "      <td>https://images-na.ssl-images-amazon.com/images...</td>\n",
              "    </tr>\n",
              "    <tr>\n",
              "      <th>19</th>\n",
              "      <td>B0000AY4MK</td>\n",
              "      <td>bully cr 600 chrome series heavy duty truck su...</td>\n",
              "      <td>45.35</td>\n",
              "      <td>https://images-na.ssl-images-amazon.com/images...</td>\n",
              "    </tr>\n",
              "    <tr>\n",
              "      <th>20</th>\n",
              "      <td>B0000AY1OJ</td>\n",
              "      <td>west system mini pump kit for 301 and 305 in q...</td>\n",
              "      <td>15.69</td>\n",
              "      <td>https://images-na.ssl-images-amazon.com/images...</td>\n",
              "    </tr>\n",
              "    <tr>\n",
              "      <th>21</th>\n",
              "      <td>B0000AY4YT</td>\n",
              "      <td>meguiar is m4965 marine rv fiberglass restorat...</td>\n",
              "      <td>34.92</td>\n",
              "      <td>https://images-na.ssl-images-amazon.com/images...</td>\n",
              "    </tr>\n",
              "    <tr>\n",
              "      <th>22</th>\n",
              "      <td>B0000AYFTV</td>\n",
              "      <td>wesbar 707261 wishbone style trailer wiring ha...</td>\n",
              "      <td>13.02</td>\n",
              "      <td>https://images-na.ssl-images-amazon.com/images...</td>\n",
              "    </tr>\n",
              "    <tr>\n",
              "      <th>23</th>\n",
              "      <td>B0000AYYU1</td>\n",
              "      <td>sierra 18 3214 impeller repair kit for chrysle...</td>\n",
              "      <td>30.42</td>\n",
              "      <td>https://images-na.ssl-images-amazon.com/images...</td>\n",
              "    </tr>\n",
              "    <tr>\n",
              "      <th>24</th>\n",
              "      <td>B0000AZ6CT</td>\n",
              "      <td>faria 32810 euro 55 mph speedometer</td>\n",
              "      <td>41.38</td>\n",
              "      <td>https://images-na.ssl-images-amazon.com/images...</td>\n",
              "    </tr>\n",
              "    <tr>\n",
              "      <th>25</th>\n",
              "      <td>B0000AZ85J</td>\n",
              "      <td>faria 12801 euro fuel level gauge 3003 3421</td>\n",
              "      <td>22.07</td>\n",
              "      <td>https://images-na.ssl-images-amazon.com/images...</td>\n",
              "    </tr>\n",
              "    <tr>\n",
              "      <th>26</th>\n",
              "      <td>B0000AZ8JB</td>\n",
              "      <td>cipa 11050 suction cup marine mirror</td>\n",
              "      <td>19.33</td>\n",
              "      <td>https://images-na.ssl-images-amazon.com/images...</td>\n",
              "    </tr>\n",
              "    <tr>\n",
              "      <th>27</th>\n",
              "      <td>B0000BYEXO</td>\n",
              "      <td>odyssey pc625 powersports battery</td>\n",
              "      <td>17.76</td>\n",
              "      <td>https://images-na.ssl-images-amazon.com/images...</td>\n",
              "    </tr>\n",
              "    <tr>\n",
              "      <th>28</th>\n",
              "      <td>B0000BYMWX</td>\n",
              "      <td>activetool airman cordless multi purpose air pump</td>\n",
              "      <td>65.99</td>\n",
              "      <td>https://images-na.ssl-images-amazon.com/images...</td>\n",
              "    </tr>\n",
              "    <tr>\n",
              "      <th>29</th>\n",
              "      <td>B0000CBJ6S</td>\n",
              "      <td>general purpose paint sprayer gun pattern and ...</td>\n",
              "      <td>1.41</td>\n",
              "      <td>https://images-na.ssl-images-amazon.com/images...</td>\n",
              "    </tr>\n",
              "    <tr>\n",
              "      <th>30</th>\n",
              "      <td>B0000DYV3N</td>\n",
              "      <td>hopkins 27512va nvision trailblazer electronic...</td>\n",
              "      <td>10.93</td>\n",
              "      <td>https://images-na.ssl-images-amazon.com/images...</td>\n",
              "    </tr>\n",
              "    <tr>\n",
              "      <th>31</th>\n",
              "      <td>B0000TMLWQ</td>\n",
              "      <td>powerbuilt 648796 honda cranks pulley removal ...</td>\n",
              "      <td>26.95</td>\n",
              "      <td>https://images-na.ssl-images-amazon.com/images...</td>\n",
              "    </tr>\n",
              "    <tr>\n",
              "      <th>32</th>\n",
              "      <td>B0000UUX34</td>\n",
              "      <td>k n 33 2129 high performance replacement air f...</td>\n",
              "      <td>44.18</td>\n",
              "      <td>https://images-na.ssl-images-amazon.com/images...</td>\n",
              "    </tr>\n",
              "    <tr>\n",
              "      <th>33</th>\n",
              "      <td>B0000UUU50</td>\n",
              "      <td>westin 27 0010 molded step board without light</td>\n",
              "      <td>205.70</td>\n",
              "      <td>https://images-na.ssl-images-amazon.com/images...</td>\n",
              "    </tr>\n",
              "    <tr>\n",
              "      <th>34</th>\n",
              "      <td>B0000UUU5U</td>\n",
              "      <td>westin 27 0015 molded step board with light</td>\n",
              "      <td>238.90</td>\n",
              "      <td>https://images-na.ssl-images-amazon.com/images...</td>\n",
              "    </tr>\n",
              "    <tr>\n",
              "      <th>35</th>\n",
              "      <td>B0000WZZTO</td>\n",
              "      <td>piaa 2190 2100x xtreme white lamp kit</td>\n",
              "      <td>188.21</td>\n",
              "      <td>https://images-na.ssl-images-amazon.com/images...</td>\n",
              "    </tr>\n",
              "    <tr>\n",
              "      <th>36</th>\n",
              "      <td>B00017YYI6</td>\n",
              "      <td>air lift 25592 load controller ii on board air...</td>\n",
              "      <td>35.32</td>\n",
              "      <td>https://images-na.ssl-images-amazon.com/images...</td>\n",
              "    </tr>\n",
              "    <tr>\n",
              "      <th>37</th>\n",
              "      <td>B00017YYIG</td>\n",
              "      <td>air lift 57215 loadlifter 5000 series rear air...</td>\n",
              "      <td>42.97</td>\n",
              "      <td>https://images-na.ssl-images-amazon.com/images...</td>\n",
              "    </tr>\n",
              "    <tr>\n",
              "      <th>38</th>\n",
              "      <td>B000182DJ2</td>\n",
              "      <td>edelbrock 1407 performer 750 cfm square bore 4...</td>\n",
              "      <td>63.71</td>\n",
              "      <td>https://images-na.ssl-images-amazon.com/images...</td>\n",
              "    </tr>\n",
              "    <tr>\n",
              "      <th>39</th>\n",
              "      <td>B000182DPG</td>\n",
              "      <td>k n 33 2031 2 high performance replacement air...</td>\n",
              "      <td>44.46</td>\n",
              "      <td>https://images-na.ssl-images-amazon.com/images...</td>\n",
              "    </tr>\n",
              "    <tr>\n",
              "      <th>40</th>\n",
              "      <td>B000182DME</td>\n",
              "      <td>flowmaster 42443 40 series muffler 2 25 offset...</td>\n",
              "      <td>79.95</td>\n",
              "      <td>https://images-na.ssl-images-amazon.com/images...</td>\n",
              "    </tr>\n",
              "    <tr>\n",
              "      <th>41</th>\n",
              "      <td>B000182BDK</td>\n",
              "      <td>msd 8202 blaster 2 hi performance coil</td>\n",
              "      <td>8.18</td>\n",
              "      <td>https://images-na.ssl-images-amazon.com/images...</td>\n",
              "    </tr>\n",
              "    <tr>\n",
              "      <th>42</th>\n",
              "      <td>B000182CPM</td>\n",
              "      <td>dee zee dz1800 full size brite tread mud flaps</td>\n",
              "      <td>30.91</td>\n",
              "      <td>https://images-na.ssl-images-amazon.com/images...</td>\n",
              "    </tr>\n",
              "    <tr>\n",
              "      <th>43</th>\n",
              "      <td>B000182DSS</td>\n",
              "      <td>auto ventshade 80002 medium hood scoop with sm...</td>\n",
              "      <td>70.99</td>\n",
              "      <td>https://images-na.ssl-images-amazon.com/images...</td>\n",
              "    </tr>\n",
              "    <tr>\n",
              "      <th>44</th>\n",
              "      <td>B000182BBM</td>\n",
              "      <td>k n 57 3010 1 fipk performance air intake system</td>\n",
              "      <td>228.21</td>\n",
              "      <td>https://images-na.ssl-images-amazon.com/images...</td>\n",
              "    </tr>\n",
              "    <tr>\n",
              "      <th>45</th>\n",
              "      <td>B000182DYC</td>\n",
              "      <td>warn 20990 premium manual hubs</td>\n",
              "      <td>122.58</td>\n",
              "      <td>https://images-na.ssl-images-amazon.com/images...</td>\n",
              "    </tr>\n",
              "    <tr>\n",
              "      <th>46</th>\n",
              "      <td>B000182EZU</td>\n",
              "      <td>auto ventshade 94355 original ventvisor side w...</td>\n",
              "      <td>38.62</td>\n",
              "      <td>https://images-na.ssl-images-amazon.com/images...</td>\n",
              "    </tr>\n",
              "    <tr>\n",
              "      <th>47</th>\n",
              "      <td>B000182EX2</td>\n",
              "      <td>auto ventshade 94044 original ventvisor side w...</td>\n",
              "      <td>49.03</td>\n",
              "      <td>https://images-na.ssl-images-amazon.com/images...</td>\n",
              "    </tr>\n",
              "    <tr>\n",
              "      <th>48</th>\n",
              "      <td>B000182F0Y</td>\n",
              "      <td>auto ventshade 94623 original ventvisor side w...</td>\n",
              "      <td>49.23</td>\n",
              "      <td>https://images-na.ssl-images-amazon.com/images...</td>\n",
              "    </tr>\n",
              "    <tr>\n",
              "      <th>49</th>\n",
              "      <td>B000182EWS</td>\n",
              "      <td>auto ventshade 92956 original ventvisor side w...</td>\n",
              "      <td>37.27</td>\n",
              "      <td>https://images-na.ssl-images-amazon.com/images...</td>\n",
              "    </tr>\n",
              "    <tr>\n",
              "      <th>50</th>\n",
              "      <td>B0001CMUV4</td>\n",
              "      <td>stowaway hitch tightener anti rattle stabilize...</td>\n",
              "      <td>17.50</td>\n",
              "      <td>https://images-na.ssl-images-amazon.com/images...</td>\n",
              "    </tr>\n",
              "    <tr>\n",
              "      <th>51</th>\n",
              "      <td>B0001EW044</td>\n",
              "      <td>auto ventshade 94231 original ventvisor side w...</td>\n",
              "      <td>53.02</td>\n",
              "      <td>https://images-na.ssl-images-amazon.com/images...</td>\n",
              "    </tr>\n",
              "    <tr>\n",
              "      <th>52</th>\n",
              "      <td>B0001EW4EK</td>\n",
              "      <td>auto ventshade 94423 original ventvisor side w...</td>\n",
              "      <td>49.03</td>\n",
              "      <td>https://images-na.ssl-images-amazon.com/images...</td>\n",
              "    </tr>\n",
              "    <tr>\n",
              "      <th>53</th>\n",
              "      <td>B0001FUAXQ</td>\n",
              "      <td>thule 830 the stacker kayak rack</td>\n",
              "      <td>12.90</td>\n",
              "      <td>https://images-na.ssl-images-amazon.com/images...</td>\n",
              "    </tr>\n",
              "    <tr>\n",
              "      <th>54</th>\n",
              "      <td>B0001WTY0E</td>\n",
              "      <td>explorer 2 suv and minivan tent</td>\n",
              "      <td>129.99</td>\n",
              "      <td>https://images-na.ssl-images-amazon.com/images...</td>\n",
              "    </tr>\n",
              "    <tr>\n",
              "      <th>55</th>\n",
              "      <td>B00020CAUG</td>\n",
              "      <td>dynamat 10435 12 x 36 x 0 067 thick self adhes...</td>\n",
              "      <td>62.88</td>\n",
              "      <td>https://images-na.ssl-images-amazon.com/images...</td>\n",
              "    </tr>\n",
              "    <tr>\n",
              "      <th>56</th>\n",
              "      <td>B000221M94</td>\n",
              "      <td>highland 9242300 black vehicle door protector</td>\n",
              "      <td>11.54</td>\n",
              "      <td>https://images-na.ssl-images-amazon.com/images...</td>\n",
              "    </tr>\n",
              "    <tr>\n",
              "      <th>57</th>\n",
              "      <td>B00026Z3E0</td>\n",
              "      <td>torin big red steel jack stands double locking...</td>\n",
              "      <td>35.69</td>\n",
              "      <td>https://images-na.ssl-images-amazon.com/images...</td>\n",
              "    </tr>\n",
              "    <tr>\n",
              "      <th>58</th>\n",
              "      <td>B000276B18</td>\n",
              "      <td>fram ph6607 extra guard passenger car spin on ...</td>\n",
              "      <td>4.64</td>\n",
              "      <td>https://images-na.ssl-images-amazon.com/images...</td>\n",
              "    </tr>\n",
              "    <tr>\n",
              "      <th>59</th>\n",
              "      <td>B00029CYRG</td>\n",
              "      <td>meguiar is m6732 marine rv one step compound 3...</td>\n",
              "      <td>19.26</td>\n",
              "      <td>https://images-na.ssl-images-amazon.com/images...</td>\n",
              "    </tr>\n",
              "  </tbody>\n",
              "</table>\n",
              "</div>"
            ],
            "text/plain": [
              "          ASIN  ...                                              Image\n",
              "0   B00000J421  ...  https://images-na.ssl-images-amazon.com/images...\n",
              "1   B0000223J0  ...  https://images-na.ssl-images-amazon.com/images...\n",
              "2   B00002243Z  ...  https://images-na.ssl-images-amazon.com/images...\n",
              "3   B00004Z78V  ...  https://images-na.ssl-images-amazon.com/images...\n",
              "4   B00005RHQQ  ...  https://images-na.ssl-images-amazon.com/images...\n",
              "5   B00008RW9V  ...  https://images-na.ssl-images-amazon.com/images...\n",
              "6   B00008RW9U  ...  https://images-na.ssl-images-amazon.com/images...\n",
              "7   B00009PGNS  ...  https://images-na.ssl-images-amazon.com/images...\n",
              "8   B00009YUK5  ...  https://images-na.ssl-images-amazon.com/images...\n",
              "9   B0000AVZMU  ...  https://images-na.ssl-images-amazon.com/images...\n",
              "10  B0000AWYM3  ...  https://images-na.ssl-images-amazon.com/images...\n",
              "11  B0000AXC24  ...  https://images-na.ssl-images-amazon.com/images...\n",
              "12  B0000AX9XA  ...  https://images-na.ssl-images-amazon.com/images...\n",
              "13  B0000AXNLT  ...  https://images-na.ssl-images-amazon.com/images...\n",
              "14  B0000AXNMO  ...  https://images-na.ssl-images-amazon.com/images...\n",
              "15  B0000AXTUY  ...  https://images-na.ssl-images-amazon.com/images...\n",
              "16  B0000AY1P9  ...  https://images-na.ssl-images-amazon.com/images...\n",
              "17  B0000AY2Z6  ...  https://images-na.ssl-images-amazon.com/images...\n",
              "18  B0000AY3SR  ...  https://images-na.ssl-images-amazon.com/images...\n",
              "19  B0000AY4MK  ...  https://images-na.ssl-images-amazon.com/images...\n",
              "20  B0000AY1OJ  ...  https://images-na.ssl-images-amazon.com/images...\n",
              "21  B0000AY4YT  ...  https://images-na.ssl-images-amazon.com/images...\n",
              "22  B0000AYFTV  ...  https://images-na.ssl-images-amazon.com/images...\n",
              "23  B0000AYYU1  ...  https://images-na.ssl-images-amazon.com/images...\n",
              "24  B0000AZ6CT  ...  https://images-na.ssl-images-amazon.com/images...\n",
              "25  B0000AZ85J  ...  https://images-na.ssl-images-amazon.com/images...\n",
              "26  B0000AZ8JB  ...  https://images-na.ssl-images-amazon.com/images...\n",
              "27  B0000BYEXO  ...  https://images-na.ssl-images-amazon.com/images...\n",
              "28  B0000BYMWX  ...  https://images-na.ssl-images-amazon.com/images...\n",
              "29  B0000CBJ6S  ...  https://images-na.ssl-images-amazon.com/images...\n",
              "30  B0000DYV3N  ...  https://images-na.ssl-images-amazon.com/images...\n",
              "31  B0000TMLWQ  ...  https://images-na.ssl-images-amazon.com/images...\n",
              "32  B0000UUX34  ...  https://images-na.ssl-images-amazon.com/images...\n",
              "33  B0000UUU50  ...  https://images-na.ssl-images-amazon.com/images...\n",
              "34  B0000UUU5U  ...  https://images-na.ssl-images-amazon.com/images...\n",
              "35  B0000WZZTO  ...  https://images-na.ssl-images-amazon.com/images...\n",
              "36  B00017YYI6  ...  https://images-na.ssl-images-amazon.com/images...\n",
              "37  B00017YYIG  ...  https://images-na.ssl-images-amazon.com/images...\n",
              "38  B000182DJ2  ...  https://images-na.ssl-images-amazon.com/images...\n",
              "39  B000182DPG  ...  https://images-na.ssl-images-amazon.com/images...\n",
              "40  B000182DME  ...  https://images-na.ssl-images-amazon.com/images...\n",
              "41  B000182BDK  ...  https://images-na.ssl-images-amazon.com/images...\n",
              "42  B000182CPM  ...  https://images-na.ssl-images-amazon.com/images...\n",
              "43  B000182DSS  ...  https://images-na.ssl-images-amazon.com/images...\n",
              "44  B000182BBM  ...  https://images-na.ssl-images-amazon.com/images...\n",
              "45  B000182DYC  ...  https://images-na.ssl-images-amazon.com/images...\n",
              "46  B000182EZU  ...  https://images-na.ssl-images-amazon.com/images...\n",
              "47  B000182EX2  ...  https://images-na.ssl-images-amazon.com/images...\n",
              "48  B000182F0Y  ...  https://images-na.ssl-images-amazon.com/images...\n",
              "49  B000182EWS  ...  https://images-na.ssl-images-amazon.com/images...\n",
              "50  B0001CMUV4  ...  https://images-na.ssl-images-amazon.com/images...\n",
              "51  B0001EW044  ...  https://images-na.ssl-images-amazon.com/images...\n",
              "52  B0001EW4EK  ...  https://images-na.ssl-images-amazon.com/images...\n",
              "53  B0001FUAXQ  ...  https://images-na.ssl-images-amazon.com/images...\n",
              "54  B0001WTY0E  ...  https://images-na.ssl-images-amazon.com/images...\n",
              "55  B00020CAUG  ...  https://images-na.ssl-images-amazon.com/images...\n",
              "56  B000221M94  ...  https://images-na.ssl-images-amazon.com/images...\n",
              "57  B00026Z3E0  ...  https://images-na.ssl-images-amazon.com/images...\n",
              "58  B000276B18  ...  https://images-na.ssl-images-amazon.com/images...\n",
              "59  B00029CYRG  ...  https://images-na.ssl-images-amazon.com/images...\n",
              "\n",
              "[60 rows x 4 columns]"
            ]
          },
          "metadata": {
            "tags": []
          },
          "execution_count": 22
        }
      ]
    },
    {
      "cell_type": "code",
      "metadata": {
        "id": "ooXoPebD3c6P",
        "colab_type": "code",
        "colab": {}
      },
      "source": [
        "df_meta.to_csv('df_meta_cleaned.csv', index=False)"
      ],
      "execution_count": null,
      "outputs": []
    },
    {
      "cell_type": "code",
      "metadata": {
        "id": "L5W_ltyi3nhD",
        "colab_type": "code",
        "colab": {}
      },
      "source": [
        "df.to_csv('df_cleaned.csv', index=False)"
      ],
      "execution_count": null,
      "outputs": []
    },
    {
      "cell_type": "code",
      "metadata": {
        "id": "uEz3VyaF45J2",
        "colab_type": "code",
        "colab": {}
      },
      "source": [
        "df_meta = pd.read_csv('df_meta_cleaned.csv')"
      ],
      "execution_count": null,
      "outputs": []
    },
    {
      "cell_type": "code",
      "metadata": {
        "id": "-MWdbR3p4z79",
        "colab_type": "code",
        "colab": {}
      },
      "source": [
        "df = pd.read_csv('df_cleaned.csv')"
      ],
      "execution_count": null,
      "outputs": []
    },
    {
      "cell_type": "markdown",
      "metadata": {
        "id": "dIK2UGyFra25",
        "colab_type": "text"
      },
      "source": [
        "#### 3.6. Processing the duplicates"
      ]
    },
    {
      "cell_type": "code",
      "metadata": {
        "id": "izzaV7LC5JU8",
        "colab_type": "code",
        "colab": {
          "base_uri": "https://localhost:8080/",
          "height": 34
        },
        "outputId": "1a4d74bf-5ec0-4081-aba0-a92c2a91b401"
      },
      "source": [
        "print(\"Number of duplicates:\", df.duplicated().sum())"
      ],
      "execution_count": null,
      "outputs": [
        {
          "output_type": "stream",
          "text": [
            "Number of duplicates: 131809\n"
          ],
          "name": "stdout"
        }
      ]
    },
    {
      "cell_type": "code",
      "metadata": {
        "id": "YgyxAMlk3-PR",
        "colab_type": "code",
        "colab": {
          "base_uri": "https://localhost:8080/",
          "height": 34
        },
        "outputId": "e2020596-2375-4d21-f35e-e09ae48be6b0"
      },
      "source": [
        "print(\"Shape of data before removing the duplicates:\", df.shape)"
      ],
      "execution_count": null,
      "outputs": [
        {
          "output_type": "stream",
          "text": [
            "Shape of data before removing the duplicates: (3556849, 4)\n"
          ],
          "name": "stdout"
        }
      ]
    },
    {
      "cell_type": "code",
      "metadata": {
        "id": "1Qf3pTTp6r6J",
        "colab_type": "code",
        "colab": {}
      },
      "source": [
        "df.drop_duplicates(inplace=True)\n",
        "df.reset_index(drop=True, inplace=True)"
      ],
      "execution_count": null,
      "outputs": []
    },
    {
      "cell_type": "code",
      "metadata": {
        "id": "HG29raKDNz3e",
        "colab_type": "code",
        "colab": {
          "base_uri": "https://localhost:8080/",
          "height": 34
        },
        "outputId": "d80ac584-c77b-4c2f-c00e-1ebe07639b0e"
      },
      "source": [
        "print(\"Shape of data after removing the duplicates:\", df.shape)"
      ],
      "execution_count": null,
      "outputs": [
        {
          "output_type": "stream",
          "text": [
            "Shape of data after removing the duplicates: (3425040, 4)\n"
          ],
          "name": "stdout"
        }
      ]
    },
    {
      "cell_type": "markdown",
      "metadata": {
        "id": "xWeHfEs_rgk5",
        "colab_type": "text"
      },
      "source": [
        "#### 3.7. Finding length of questions, answers and title after preprocessing"
      ]
    },
    {
      "cell_type": "code",
      "metadata": {
        "id": "luwWfwIXriKI",
        "colab_type": "code",
        "colab": {}
      },
      "source": [
        "df['Question Length'] = df['Questions'].str.split().apply(len)"
      ],
      "execution_count": null,
      "outputs": []
    },
    {
      "cell_type": "code",
      "metadata": {
        "id": "UCgIp-z9sXlu",
        "colab_type": "code",
        "colab": {}
      },
      "source": [
        "df['Answer Length'] = df['Answers'].str.split().apply(len)"
      ],
      "execution_count": null,
      "outputs": []
    },
    {
      "cell_type": "code",
      "metadata": {
        "id": "2qXuQbOisAui",
        "colab_type": "code",
        "colab": {
          "base_uri": "https://localhost:8080/",
          "height": 1000
        },
        "outputId": "3daae69a-f450-4946-cdeb-5c69ffeb937f"
      },
      "source": [
        "df.head(60)"
      ],
      "execution_count": null,
      "outputs": [
        {
          "output_type": "execute_result",
          "data": {
            "text/html": [
              "<div>\n",
              "<style scoped>\n",
              "    .dataframe tbody tr th:only-of-type {\n",
              "        vertical-align: middle;\n",
              "    }\n",
              "\n",
              "    .dataframe tbody tr th {\n",
              "        vertical-align: top;\n",
              "    }\n",
              "\n",
              "    .dataframe thead th {\n",
              "        text-align: right;\n",
              "    }\n",
              "</style>\n",
              "<table border=\"1\" class=\"dataframe\">\n",
              "  <thead>\n",
              "    <tr style=\"text-align: right;\">\n",
              "      <th></th>\n",
              "      <th>ASIN</th>\n",
              "      <th>Questions</th>\n",
              "      <th>Questions Type</th>\n",
              "      <th>Answers</th>\n",
              "      <th>Question Length</th>\n",
              "      <th>Answer Length</th>\n",
              "    </tr>\n",
              "  </thead>\n",
              "  <tbody>\n",
              "    <tr>\n",
              "      <th>0</th>\n",
              "      <td>B000182CPM</td>\n",
              "      <td>will these fit my 2002 ford f150 xlt</td>\n",
              "      <td>open-ended</td>\n",
              "      <td>it is all custom mounting where there is a wil...</td>\n",
              "      <td>8</td>\n",
              "      <td>36</td>\n",
              "    </tr>\n",
              "    <tr>\n",
              "      <th>1</th>\n",
              "      <td>B000182CPM</td>\n",
              "      <td>will these fit my 2002 ford f150 xlt</td>\n",
              "      <td>open-ended</td>\n",
              "      <td>you will need to drill another hole in mud fla...</td>\n",
              "      <td>8</td>\n",
              "      <td>59</td>\n",
              "    </tr>\n",
              "    <tr>\n",
              "      <th>2</th>\n",
              "      <td>B000182CPM</td>\n",
              "      <td>is the hardware for installation included</td>\n",
              "      <td>yes/no</td>\n",
              "      <td>it is been a while since i installed them but ...</td>\n",
              "      <td>6</td>\n",
              "      <td>19</td>\n",
              "    </tr>\n",
              "    <tr>\n",
              "      <th>3</th>\n",
              "      <td>B000182CPM</td>\n",
              "      <td>is the hardware for installation included</td>\n",
              "      <td>yes/no</td>\n",
              "      <td>1 pair rear flaps and mounting hardware</td>\n",
              "      <td>6</td>\n",
              "      <td>7</td>\n",
              "    </tr>\n",
              "    <tr>\n",
              "      <th>4</th>\n",
              "      <td>B000182CPM</td>\n",
              "      <td>is the hardware for installation included</td>\n",
              "      <td>yes/no</td>\n",
              "      <td>i did not buy these for myself i bought them f...</td>\n",
              "      <td>6</td>\n",
              "      <td>27</td>\n",
              "    </tr>\n",
              "    <tr>\n",
              "      <th>5</th>\n",
              "      <td>B000182CPM</td>\n",
              "      <td>is the hardware for installation included</td>\n",
              "      <td>yes/no</td>\n",
              "      <td>no</td>\n",
              "      <td>6</td>\n",
              "      <td>1</td>\n",
              "    </tr>\n",
              "    <tr>\n",
              "      <th>6</th>\n",
              "      <td>B000182CPM</td>\n",
              "      <td>will they fit 2013 f350 dually</td>\n",
              "      <td>yes/no</td>\n",
              "      <td>not sure maybe measuring width of wheels and w...</td>\n",
              "      <td>6</td>\n",
              "      <td>18</td>\n",
              "    </tr>\n",
              "    <tr>\n",
              "      <th>7</th>\n",
              "      <td>B000182CPM</td>\n",
              "      <td>will they fit 2013 f350 dually</td>\n",
              "      <td>yes/no</td>\n",
              "      <td>they will fit the front but will be to skinny ...</td>\n",
              "      <td>6</td>\n",
              "      <td>15</td>\n",
              "    </tr>\n",
              "    <tr>\n",
              "      <th>8</th>\n",
              "      <td>B000182F0Y</td>\n",
              "      <td>i had avs shades on my 1st magnum and they mad...</td>\n",
              "      <td>open-ended</td>\n",
              "      <td>unfortunately they kept sending the wrong size...</td>\n",
              "      <td>26</td>\n",
              "      <td>23</td>\n",
              "    </tr>\n",
              "    <tr>\n",
              "      <th>9</th>\n",
              "      <td>B000182F0Y</td>\n",
              "      <td>i had avs shades on my 1st magnum and they mad...</td>\n",
              "      <td>open-ended</td>\n",
              "      <td>at highway speed yes but around town it is not...</td>\n",
              "      <td>26</td>\n",
              "      <td>11</td>\n",
              "    </tr>\n",
              "    <tr>\n",
              "      <th>10</th>\n",
              "      <td>B000182F0Y</td>\n",
              "      <td>i had avs shades on my 1st magnum and they mad...</td>\n",
              "      <td>open-ended</td>\n",
              "      <td>you have to be sure the tape on the visor seal...</td>\n",
              "      <td>26</td>\n",
              "      <td>44</td>\n",
              "    </tr>\n",
              "    <tr>\n",
              "      <th>11</th>\n",
              "      <td>B000182F0Y</td>\n",
              "      <td>what color are they want dark gray</td>\n",
              "      <td>open-ended</td>\n",
              "      <td>very dark gray almost black</td>\n",
              "      <td>7</td>\n",
              "      <td>5</td>\n",
              "    </tr>\n",
              "    <tr>\n",
              "      <th>12</th>\n",
              "      <td>B000182F0Y</td>\n",
              "      <td>what color are they want dark gray</td>\n",
              "      <td>open-ended</td>\n",
              "      <td>they sure appear to be dark grey to me fit nic...</td>\n",
              "      <td>7</td>\n",
              "      <td>12</td>\n",
              "    </tr>\n",
              "    <tr>\n",
              "      <th>13</th>\n",
              "      <td>B000182F0Y</td>\n",
              "      <td>what color are they want dark gray</td>\n",
              "      <td>open-ended</td>\n",
              "      <td>more towards black than grey</td>\n",
              "      <td>7</td>\n",
              "      <td>5</td>\n",
              "    </tr>\n",
              "    <tr>\n",
              "      <th>14</th>\n",
              "      <td>B000182F0Y</td>\n",
              "      <td>will this fit a 2011 buick regal</td>\n",
              "      <td>open-ended</td>\n",
              "      <td>no these are for a truck</td>\n",
              "      <td>7</td>\n",
              "      <td>6</td>\n",
              "    </tr>\n",
              "    <tr>\n",
              "      <th>15</th>\n",
              "      <td>B000182F0Y</td>\n",
              "      <td>will this fit a 2011 buick regal</td>\n",
              "      <td>open-ended</td>\n",
              "      <td>i do not know the one is that you sent me wher...</td>\n",
              "      <td>7</td>\n",
              "      <td>24</td>\n",
              "    </tr>\n",
              "    <tr>\n",
              "      <th>16</th>\n",
              "      <td>B000182F0Y</td>\n",
              "      <td>will this fit a 2011 buick regal</td>\n",
              "      <td>open-ended</td>\n",
              "      <td>no this was for a hyundai</td>\n",
              "      <td>7</td>\n",
              "      <td>6</td>\n",
              "    </tr>\n",
              "    <tr>\n",
              "      <th>17</th>\n",
              "      <td>B000182F0Y</td>\n",
              "      <td>will this fit a 2011 buick regal</td>\n",
              "      <td>open-ended</td>\n",
              "      <td>no this was for a truck good advice is to make...</td>\n",
              "      <td>7</td>\n",
              "      <td>29</td>\n",
              "    </tr>\n",
              "    <tr>\n",
              "      <th>18</th>\n",
              "      <td>B000182F0Y</td>\n",
              "      <td>yes it was for the ventshades for the 2000 dod...</td>\n",
              "      <td>open-ended</td>\n",
              "      <td>not sure but i think no because these are for ...</td>\n",
              "      <td>25</td>\n",
              "      <td>18</td>\n",
              "    </tr>\n",
              "    <tr>\n",
              "      <th>19</th>\n",
              "      <td>B000182F0Y</td>\n",
              "      <td>yes it was for the ventshades for the 2000 dod...</td>\n",
              "      <td>open-ended</td>\n",
              "      <td>i have a ram 2007 2500 quad they fit it fine i...</td>\n",
              "      <td>25</td>\n",
              "      <td>17</td>\n",
              "    </tr>\n",
              "    <tr>\n",
              "      <th>20</th>\n",
              "      <td>B000182F0Y</td>\n",
              "      <td>yes it was for the ventshades for the 2000 dod...</td>\n",
              "      <td>open-ended</td>\n",
              "      <td>no they will not fit refund my money please</td>\n",
              "      <td>25</td>\n",
              "      <td>9</td>\n",
              "    </tr>\n",
              "    <tr>\n",
              "      <th>21</th>\n",
              "      <td>B000182F0Y</td>\n",
              "      <td>will they fit 2014 mazda 3 sport</td>\n",
              "      <td>yes/no</td>\n",
              "      <td>search function for the ventshade indicates th...</td>\n",
              "      <td>7</td>\n",
              "      <td>15</td>\n",
              "    </tr>\n",
              "    <tr>\n",
              "      <th>22</th>\n",
              "      <td>B000182F0Y</td>\n",
              "      <td>will they fit 2014 mazda 3 sport</td>\n",
              "      <td>yes/no</td>\n",
              "      <td>sorry i do not know</td>\n",
              "      <td>7</td>\n",
              "      <td>5</td>\n",
              "    </tr>\n",
              "    <tr>\n",
              "      <th>23</th>\n",
              "      <td>B000182F0Y</td>\n",
              "      <td>will they fit 2014 mazda 3 sport</td>\n",
              "      <td>yes/no</td>\n",
              "      <td>no</td>\n",
              "      <td>7</td>\n",
              "      <td>1</td>\n",
              "    </tr>\n",
              "    <tr>\n",
              "      <th>24</th>\n",
              "      <td>B000182F0Y</td>\n",
              "      <td>will they fit 2014 mazda 3 sport</td>\n",
              "      <td>yes/no</td>\n",
              "      <td>nope</td>\n",
              "      <td>7</td>\n",
              "      <td>1</td>\n",
              "    </tr>\n",
              "    <tr>\n",
              "      <th>25</th>\n",
              "      <td>B0001EW044</td>\n",
              "      <td>i have a 1995 chevrolet k 1500 extended cab 2 ...</td>\n",
              "      <td>open-ended</td>\n",
              "      <td>i have the same configuration vehicle the vent...</td>\n",
              "      <td>28</td>\n",
              "      <td>22</td>\n",
              "    </tr>\n",
              "    <tr>\n",
              "      <th>26</th>\n",
              "      <td>B0001EW044</td>\n",
              "      <td>i have a 1995 chevrolet k 1500 extended cab 2 ...</td>\n",
              "      <td>open-ended</td>\n",
              "      <td>i have a 1998 cheyenne ext cab the ventshades ...</td>\n",
              "      <td>28</td>\n",
              "      <td>67</td>\n",
              "    </tr>\n",
              "    <tr>\n",
              "      <th>27</th>\n",
              "      <td>B0001EW044</td>\n",
              "      <td>i have a 1995 chevrolet k 1500 extended cab 2 ...</td>\n",
              "      <td>open-ended</td>\n",
              "      <td>if you order the one for your model truck they...</td>\n",
              "      <td>28</td>\n",
              "      <td>23</td>\n",
              "    </tr>\n",
              "    <tr>\n",
              "      <th>28</th>\n",
              "      <td>B0001EW044</td>\n",
              "      <td>i have a 1995 chevrolet k 1500 extended cab 2 ...</td>\n",
              "      <td>open-ended</td>\n",
              "      <td>no idea of length but mine fit right out the b...</td>\n",
              "      <td>28</td>\n",
              "      <td>15</td>\n",
              "    </tr>\n",
              "    <tr>\n",
              "      <th>29</th>\n",
              "      <td>B0001EW044</td>\n",
              "      <td>i have a 1995 chevrolet k 1500 extended cab 2 ...</td>\n",
              "      <td>open-ended</td>\n",
              "      <td>i have a 94 extended cab and the back two fit ...</td>\n",
              "      <td>28</td>\n",
              "      <td>12</td>\n",
              "    </tr>\n",
              "    <tr>\n",
              "      <th>30</th>\n",
              "      <td>B0001EW044</td>\n",
              "      <td>i have a 1995 chevrolet k 1500 extended cab 2 ...</td>\n",
              "      <td>open-ended</td>\n",
              "      <td>yes they will fit these went on a 94 extended cab</td>\n",
              "      <td>28</td>\n",
              "      <td>11</td>\n",
              "    </tr>\n",
              "    <tr>\n",
              "      <th>31</th>\n",
              "      <td>B0001EW044</td>\n",
              "      <td>i have a 1995 chevrolet k 1500 extended cab 2 ...</td>\n",
              "      <td>open-ended</td>\n",
              "      <td>i used them on my 1994 and fit perfectly also ...</td>\n",
              "      <td>28</td>\n",
              "      <td>22</td>\n",
              "    </tr>\n",
              "    <tr>\n",
              "      <th>32</th>\n",
              "      <td>B0001EW044</td>\n",
              "      <td>i have a 1995 chevrolet k 1500 extended cab 2 ...</td>\n",
              "      <td>open-ended</td>\n",
              "      <td>yes they will if you u e the pop out windows i...</td>\n",
              "      <td>28</td>\n",
              "      <td>28</td>\n",
              "    </tr>\n",
              "    <tr>\n",
              "      <th>33</th>\n",
              "      <td>B0001EW044</td>\n",
              "      <td>do they fit a 1998 gmc sierra 3 door</td>\n",
              "      <td>open-ended</td>\n",
              "      <td>yes</td>\n",
              "      <td>9</td>\n",
              "      <td>1</td>\n",
              "    </tr>\n",
              "    <tr>\n",
              "      <th>34</th>\n",
              "      <td>B0001EW044</td>\n",
              "      <td>do they fit a 1998 gmc sierra 3 door</td>\n",
              "      <td>open-ended</td>\n",
              "      <td>yup i have the 1998 chevy silverado 3 door z71...</td>\n",
              "      <td>9</td>\n",
              "      <td>28</td>\n",
              "    </tr>\n",
              "    <tr>\n",
              "      <th>35</th>\n",
              "      <td>B00020BM32</td>\n",
              "      <td>will this product work on a1988 camaro iroc z</td>\n",
              "      <td>open-ended</td>\n",
              "      <td>it will work on obd 1 pre 95 and obd2 after 95</td>\n",
              "      <td>9</td>\n",
              "      <td>12</td>\n",
              "    </tr>\n",
              "    <tr>\n",
              "      <th>36</th>\n",
              "      <td>B00020BM32</td>\n",
              "      <td>will this product work on a1988 camaro iroc z</td>\n",
              "      <td>open-ended</td>\n",
              "      <td>hi dave sorry but it will not it claims to be ...</td>\n",
              "      <td>9</td>\n",
              "      <td>57</td>\n",
              "    </tr>\n",
              "    <tr>\n",
              "      <th>37</th>\n",
              "      <td>B00020BM32</td>\n",
              "      <td>will this product work on a1988 camaro iroc z</td>\n",
              "      <td>open-ended</td>\n",
              "      <td>this unit comes with a variety of connectors y...</td>\n",
              "      <td>9</td>\n",
              "      <td>110</td>\n",
              "    </tr>\n",
              "    <tr>\n",
              "      <th>38</th>\n",
              "      <td>B00020BM32</td>\n",
              "      <td>will this product work with a 1995 buick rivera</td>\n",
              "      <td>yes/no</td>\n",
              "      <td>it is obd 1 and obd 2 compatable the kit has a...</td>\n",
              "      <td>9</td>\n",
              "      <td>23</td>\n",
              "    </tr>\n",
              "    <tr>\n",
              "      <th>39</th>\n",
              "      <td>B00020BM32</td>\n",
              "      <td>will this product work with a 1995 buick rivera</td>\n",
              "      <td>yes/no</td>\n",
              "      <td>yes it will</td>\n",
              "      <td>9</td>\n",
              "      <td>3</td>\n",
              "    </tr>\n",
              "    <tr>\n",
              "      <th>40</th>\n",
              "      <td>B00020BM32</td>\n",
              "      <td>will this product work with a 1995 buick rivera</td>\n",
              "      <td>yes/no</td>\n",
              "      <td>it should i do not have mine right now to chec...</td>\n",
              "      <td>9</td>\n",
              "      <td>19</td>\n",
              "    </tr>\n",
              "    <tr>\n",
              "      <th>41</th>\n",
              "      <td>B00020BM32</td>\n",
              "      <td>will this product work with a 1995 buick rivera</td>\n",
              "      <td>yes/no</td>\n",
              "      <td>obd2 started in 1996 but i read some 1994 and ...</td>\n",
              "      <td>9</td>\n",
              "      <td>27</td>\n",
              "    </tr>\n",
              "    <tr>\n",
              "      <th>42</th>\n",
              "      <td>B00020BM32</td>\n",
              "      <td>will this product work with a 1995 buick rivera</td>\n",
              "      <td>yes/no</td>\n",
              "      <td>yes it will work its obd i and obd ii</td>\n",
              "      <td>9</td>\n",
              "      <td>10</td>\n",
              "    </tr>\n",
              "    <tr>\n",
              "      <th>43</th>\n",
              "      <td>B00020BM32</td>\n",
              "      <td>will this product work with a 1995 buick rivera</td>\n",
              "      <td>yes/no</td>\n",
              "      <td>hi tom this product will only work cars with o...</td>\n",
              "      <td>9</td>\n",
              "      <td>42</td>\n",
              "    </tr>\n",
              "    <tr>\n",
              "      <th>44</th>\n",
              "      <td>B00020BM32</td>\n",
              "      <td>will this product work with a 1995 buick rivera</td>\n",
              "      <td>yes/no</td>\n",
              "      <td>i bought this as a gift for my brother he love...</td>\n",
              "      <td>9</td>\n",
              "      <td>68</td>\n",
              "    </tr>\n",
              "    <tr>\n",
              "      <th>45</th>\n",
              "      <td>B00020BM32</td>\n",
              "      <td>will this work on 95 bonneville and 94 camaro</td>\n",
              "      <td>yes/no</td>\n",
              "      <td>that unit will do obd i and ii pre 96 vehicles...</td>\n",
              "      <td>9</td>\n",
              "      <td>399</td>\n",
              "    </tr>\n",
              "    <tr>\n",
              "      <th>46</th>\n",
              "      <td>B00020BM32</td>\n",
              "      <td>will this work on 95 bonneville and 94 camaro</td>\n",
              "      <td>yes/no</td>\n",
              "      <td>it works for my 95 s10 chevy fine and comes wi...</td>\n",
              "      <td>9</td>\n",
              "      <td>21</td>\n",
              "    </tr>\n",
              "    <tr>\n",
              "      <th>47</th>\n",
              "      <td>B00020BM32</td>\n",
              "      <td>will this work on 95 bonneville and 94 camaro</td>\n",
              "      <td>yes/no</td>\n",
              "      <td>the scanner has a connection for obd i compute...</td>\n",
              "      <td>9</td>\n",
              "      <td>18</td>\n",
              "    </tr>\n",
              "    <tr>\n",
              "      <th>48</th>\n",
              "      <td>B00020BM32</td>\n",
              "      <td>will this work on 95 bonneville and 94 camaro</td>\n",
              "      <td>yes/no</td>\n",
              "      <td>hi kris the change over point was 1995 it depe...</td>\n",
              "      <td>9</td>\n",
              "      <td>86</td>\n",
              "    </tr>\n",
              "    <tr>\n",
              "      <th>49</th>\n",
              "      <td>B00020BM32</td>\n",
              "      <td>will this work on 95 bonneville and 94 camaro</td>\n",
              "      <td>yes/no</td>\n",
              "      <td>when i bought my cp9150 kit in 2008 i used it ...</td>\n",
              "      <td>9</td>\n",
              "      <td>104</td>\n",
              "    </tr>\n",
              "    <tr>\n",
              "      <th>50</th>\n",
              "      <td>B00027GTYC</td>\n",
              "      <td>will this work on the generation 1 alpha</td>\n",
              "      <td>open-ended</td>\n",
              "      <td>yes it will</td>\n",
              "      <td>8</td>\n",
              "      <td>3</td>\n",
              "    </tr>\n",
              "    <tr>\n",
              "      <th>51</th>\n",
              "      <td>B00027GTYC</td>\n",
              "      <td>will this work on the generation 1 alpha</td>\n",
              "      <td>open-ended</td>\n",
              "      <td>yes it will i have installed 2 on gen 1 alphas</td>\n",
              "      <td>8</td>\n",
              "      <td>11</td>\n",
              "    </tr>\n",
              "    <tr>\n",
              "      <th>52</th>\n",
              "      <td>B00027GTYC</td>\n",
              "      <td>will this work on the generation 1 alpha</td>\n",
              "      <td>open-ended</td>\n",
              "      <td>i purchased this for my gen 1 and it worked pe...</td>\n",
              "      <td>8</td>\n",
              "      <td>11</td>\n",
              "    </tr>\n",
              "    <tr>\n",
              "      <th>53</th>\n",
              "      <td>B00027GTYC</td>\n",
              "      <td>will this fit a 1996 4 winns 238 vista 5 0 w v...</td>\n",
              "      <td>yes/no</td>\n",
              "      <td>this will only fit a mercruiser alpha one ster...</td>\n",
              "      <td>15</td>\n",
              "      <td>10</td>\n",
              "    </tr>\n",
              "    <tr>\n",
              "      <th>54</th>\n",
              "      <td>B00027GTYC</td>\n",
              "      <td>will this fit a 1996 4 winns 238 vista 5 0 w v...</td>\n",
              "      <td>yes/no</td>\n",
              "      <td>this was for my 1988 mercruiser alpha one</td>\n",
              "      <td>15</td>\n",
              "      <td>8</td>\n",
              "    </tr>\n",
              "    <tr>\n",
              "      <th>55</th>\n",
              "      <td>B00027GTYC</td>\n",
              "      <td>will this fit a 1996 4 winns 238 vista 5 0 w v...</td>\n",
              "      <td>yes/no</td>\n",
              "      <td>i do not know but google this and someone will...</td>\n",
              "      <td>15</td>\n",
              "      <td>13</td>\n",
              "    </tr>\n",
              "    <tr>\n",
              "      <th>56</th>\n",
              "      <td>B00029J2HG</td>\n",
              "      <td>i have 31 10 15 tire do i want x large cover</td>\n",
              "      <td>open-ended</td>\n",
              "      <td>hi charlie please use this chart provided by t...</td>\n",
              "      <td>12</td>\n",
              "      <td>21</td>\n",
              "    </tr>\n",
              "    <tr>\n",
              "      <th>57</th>\n",
              "      <td>B00029J2HG</td>\n",
              "      <td>i have 31 10 15 tire do i want x large cover</td>\n",
              "      <td>open-ended</td>\n",
              "      <td>you will need a 61031 15</td>\n",
              "      <td>12</td>\n",
              "      <td>6</td>\n",
              "    </tr>\n",
              "    <tr>\n",
              "      <th>58</th>\n",
              "      <td>B00029J2HG</td>\n",
              "      <td>i have 31 10 15 tire do i want x large cover</td>\n",
              "      <td>open-ended</td>\n",
              "      <td>the part number you wabt to order is 61031 15 ...</td>\n",
              "      <td>12</td>\n",
              "      <td>12</td>\n",
              "    </tr>\n",
              "    <tr>\n",
              "      <th>59</th>\n",
              "      <td>B00029J2HG</td>\n",
              "      <td>i have 31 10 15 tire do i want x large cover</td>\n",
              "      <td>open-ended</td>\n",
              "      <td>yes that is the one you need</td>\n",
              "      <td>12</td>\n",
              "      <td>7</td>\n",
              "    </tr>\n",
              "  </tbody>\n",
              "</table>\n",
              "</div>"
            ],
            "text/plain": [
              "          ASIN  ... Answer Length\n",
              "0   B000182CPM  ...            36\n",
              "1   B000182CPM  ...            59\n",
              "2   B000182CPM  ...            19\n",
              "3   B000182CPM  ...             7\n",
              "4   B000182CPM  ...            27\n",
              "5   B000182CPM  ...             1\n",
              "6   B000182CPM  ...            18\n",
              "7   B000182CPM  ...            15\n",
              "8   B000182F0Y  ...            23\n",
              "9   B000182F0Y  ...            11\n",
              "10  B000182F0Y  ...            44\n",
              "11  B000182F0Y  ...             5\n",
              "12  B000182F0Y  ...            12\n",
              "13  B000182F0Y  ...             5\n",
              "14  B000182F0Y  ...             6\n",
              "15  B000182F0Y  ...            24\n",
              "16  B000182F0Y  ...             6\n",
              "17  B000182F0Y  ...            29\n",
              "18  B000182F0Y  ...            18\n",
              "19  B000182F0Y  ...            17\n",
              "20  B000182F0Y  ...             9\n",
              "21  B000182F0Y  ...            15\n",
              "22  B000182F0Y  ...             5\n",
              "23  B000182F0Y  ...             1\n",
              "24  B000182F0Y  ...             1\n",
              "25  B0001EW044  ...            22\n",
              "26  B0001EW044  ...            67\n",
              "27  B0001EW044  ...            23\n",
              "28  B0001EW044  ...            15\n",
              "29  B0001EW044  ...            12\n",
              "30  B0001EW044  ...            11\n",
              "31  B0001EW044  ...            22\n",
              "32  B0001EW044  ...            28\n",
              "33  B0001EW044  ...             1\n",
              "34  B0001EW044  ...            28\n",
              "35  B00020BM32  ...            12\n",
              "36  B00020BM32  ...            57\n",
              "37  B00020BM32  ...           110\n",
              "38  B00020BM32  ...            23\n",
              "39  B00020BM32  ...             3\n",
              "40  B00020BM32  ...            19\n",
              "41  B00020BM32  ...            27\n",
              "42  B00020BM32  ...            10\n",
              "43  B00020BM32  ...            42\n",
              "44  B00020BM32  ...            68\n",
              "45  B00020BM32  ...           399\n",
              "46  B00020BM32  ...            21\n",
              "47  B00020BM32  ...            18\n",
              "48  B00020BM32  ...            86\n",
              "49  B00020BM32  ...           104\n",
              "50  B00027GTYC  ...             3\n",
              "51  B00027GTYC  ...            11\n",
              "52  B00027GTYC  ...            11\n",
              "53  B00027GTYC  ...            10\n",
              "54  B00027GTYC  ...             8\n",
              "55  B00027GTYC  ...            13\n",
              "56  B00029J2HG  ...            21\n",
              "57  B00029J2HG  ...             6\n",
              "58  B00029J2HG  ...            12\n",
              "59  B00029J2HG  ...             7\n",
              "\n",
              "[60 rows x 6 columns]"
            ]
          },
          "metadata": {
            "tags": []
          },
          "execution_count": 27
        }
      ]
    },
    {
      "cell_type": "code",
      "metadata": {
        "id": "p0Qih97kuXAh",
        "colab_type": "code",
        "colab": {
          "base_uri": "https://localhost:8080/",
          "height": 293
        },
        "outputId": "0ba8fc50-0463-4846-a113-8a1c32d53786"
      },
      "source": [
        "df['Question Length'].hist(bins=100)"
      ],
      "execution_count": null,
      "outputs": [
        {
          "output_type": "execute_result",
          "data": {
            "text/plain": [
              "<matplotlib.axes._subplots.AxesSubplot at 0x7f5e841a7be0>"
            ]
          },
          "metadata": {
            "tags": []
          },
          "execution_count": 35
        },
        {
          "output_type": "display_data",
          "data": {
            "image/png": "[encoded data removed]",
            "text/plain": [
              "<Figure size 432x288 with 1 Axes>"
            ]
          },
          "metadata": {
            "tags": [],
            "needs_background": "light"
          }
        }
      ]
    },
    {
      "cell_type": "code",
      "metadata": {
        "id": "HuZAt0NlujiS",
        "colab_type": "code",
        "colab": {
          "base_uri": "https://localhost:8080/",
          "height": 293
        },
        "outputId": "d1b583fa-ce70-409a-a9bc-847e236bd083"
      },
      "source": [
        "df['Answer Length'].hist(bins=100)"
      ],
      "execution_count": null,
      "outputs": [
        {
          "output_type": "execute_result",
          "data": {
            "text/plain": [
              "<matplotlib.axes._subplots.AxesSubplot at 0x7f5e836c16d8>"
            ]
          },
          "metadata": {
            "tags": []
          },
          "execution_count": 36
        },
        {
          "output_type": "display_data",
          "data": {
            "image/png": "[encoded data removed]",
            "text/plain": [
              "<Figure size 432x288 with 1 Axes>"
            ]
          },
          "metadata": {
            "tags": [],
            "needs_background": "light"
          }
        }
      ]
    },
    {
      "cell_type": "code",
      "metadata": {
        "id": "7ArdmTeFM48x",
        "colab_type": "code",
        "colab": {}
      },
      "source": [
        "df_meta['Title Length'] = df_meta['Title'].str.split().apply(len)"
      ],
      "execution_count": null,
      "outputs": []
    },
    {
      "cell_type": "code",
      "metadata": {
        "id": "31_zgadiNDMq",
        "colab_type": "code",
        "colab": {
          "base_uri": "https://localhost:8080/",
          "height": 1000
        },
        "outputId": "5c1f939d-e6e7-4baa-f89b-e28ecdd9c929"
      },
      "source": [
        "df_meta.head(60)"
      ],
      "execution_count": null,
      "outputs": [
        {
          "output_type": "execute_result",
          "data": {
            "text/html": [
              "<div>\n",
              "<style scoped>\n",
              "    .dataframe tbody tr th:only-of-type {\n",
              "        vertical-align: middle;\n",
              "    }\n",
              "\n",
              "    .dataframe tbody tr th {\n",
              "        vertical-align: top;\n",
              "    }\n",
              "\n",
              "    .dataframe thead th {\n",
              "        text-align: right;\n",
              "    }\n",
              "</style>\n",
              "<table border=\"1\" class=\"dataframe\">\n",
              "  <thead>\n",
              "    <tr style=\"text-align: right;\">\n",
              "      <th></th>\n",
              "      <th>ASIN</th>\n",
              "      <th>Title</th>\n",
              "      <th>Price</th>\n",
              "      <th>Image</th>\n",
              "      <th>Title Length</th>\n",
              "    </tr>\n",
              "  </thead>\n",
              "  <tbody>\n",
              "    <tr>\n",
              "      <th>0</th>\n",
              "      <td>B00000J421</td>\n",
              "      <td>power wheels 6 volt rechargeable replacement b...</td>\n",
              "      <td>33.78</td>\n",
              "      <td>https://images-na.ssl-images-amazon.com/images...</td>\n",
              "      <td>7</td>\n",
              "    </tr>\n",
              "    <tr>\n",
              "      <th>1</th>\n",
              "      <td>B0000223J0</td>\n",
              "      <td>makita mak192629 7 7 inch hook and loop pad fo...</td>\n",
              "      <td>12.99</td>\n",
              "      <td>https://images-na.ssl-images-amazon.com/images...</td>\n",
              "      <td>13</td>\n",
              "    </tr>\n",
              "    <tr>\n",
              "      <th>2</th>\n",
              "      <td>B00002243Z</td>\n",
              "      <td>coleman cable 08666 16 feet heavy duty truck a...</td>\n",
              "      <td>37.41</td>\n",
              "      <td>https://images-na.ssl-images-amazon.com/images...</td>\n",
              "      <td>19</td>\n",
              "    </tr>\n",
              "    <tr>\n",
              "      <th>3</th>\n",
              "      <td>B00004Z78V</td>\n",
              "      <td>apc ups battery replacement for apc back ups m...</td>\n",
              "      <td>38.61</td>\n",
              "      <td>https://images-na.ssl-images-amazon.com/images...</td>\n",
              "      <td>12</td>\n",
              "    </tr>\n",
              "    <tr>\n",
              "      <th>4</th>\n",
              "      <td>B00005RHQQ</td>\n",
              "      <td>xantrex 802 1500 xpower 1 500 watt portable po...</td>\n",
              "      <td>516.95</td>\n",
              "      <td>https://images-na.ssl-images-amazon.com/images...</td>\n",
              "      <td>9</td>\n",
              "    </tr>\n",
              "    <tr>\n",
              "      <th>5</th>\n",
              "      <td>B00008RW9V</td>\n",
              "      <td>california car duster 62447 8b mini duster</td>\n",
              "      <td>6.00</td>\n",
              "      <td>https://images-na.ssl-images-amazon.com/images...</td>\n",
              "      <td>7</td>\n",
              "    </tr>\n",
              "    <tr>\n",
              "      <th>6</th>\n",
              "      <td>B00008RW9U</td>\n",
              "      <td>california car duster 62442 standard car duste...</td>\n",
              "      <td>19.99</td>\n",
              "      <td>https://images-na.ssl-images-amazon.com/images...</td>\n",
              "      <td>10</td>\n",
              "    </tr>\n",
              "    <tr>\n",
              "      <th>7</th>\n",
              "      <td>B00009PGNS</td>\n",
              "      <td>koolatron 18 qt compact cooler</td>\n",
              "      <td>6.13</td>\n",
              "      <td>https://images-na.ssl-images-amazon.com/images...</td>\n",
              "      <td>5</td>\n",
              "    </tr>\n",
              "    <tr>\n",
              "      <th>8</th>\n",
              "      <td>B00009YUK5</td>\n",
              "      <td>swagman original 4 towing bike rack</td>\n",
              "      <td>6.36</td>\n",
              "      <td>https://images-na.ssl-images-amazon.com/images...</td>\n",
              "      <td>6</td>\n",
              "    </tr>\n",
              "    <tr>\n",
              "      <th>9</th>\n",
              "      <td>B0000AVZMU</td>\n",
              "      <td>keeper 05654 bull ring anchor point universal ...</td>\n",
              "      <td>25.99</td>\n",
              "      <td>https://images-na.ssl-images-amazon.com/images...</td>\n",
              "      <td>15</td>\n",
              "    </tr>\n",
              "    <tr>\n",
              "      <th>10</th>\n",
              "      <td>B0000AWYM3</td>\n",
              "      <td>buyers products atvs15a atv all purpose broadc...</td>\n",
              "      <td>204.11</td>\n",
              "      <td>https://images-na.ssl-images-amazon.com/images...</td>\n",
              "      <td>12</td>\n",
              "    </tr>\n",
              "    <tr>\n",
              "      <th>11</th>\n",
              "      <td>B0000AXC24</td>\n",
              "      <td>milton s 516 straight foot chuck tire inflator...</td>\n",
              "      <td>40.05</td>\n",
              "      <td>https://images-na.ssl-images-amazon.com/images...</td>\n",
              "      <td>14</td>\n",
              "    </tr>\n",
              "    <tr>\n",
              "      <th>12</th>\n",
              "      <td>B0000AX9XA</td>\n",
              "      <td>stromberg carlson vgm 99 100 1500 series vente...</td>\n",
              "      <td>194.82</td>\n",
              "      <td>https://images-na.ssl-images-amazon.com/images...</td>\n",
              "      <td>9</td>\n",
              "    </tr>\n",
              "    <tr>\n",
              "      <th>13</th>\n",
              "      <td>B0000AXNLT</td>\n",
              "      <td>meguiars marine rv pure wax carnauba blend mar...</td>\n",
              "      <td>8.15</td>\n",
              "      <td>https://images-na.ssl-images-amazon.com/images...</td>\n",
              "      <td>16</td>\n",
              "    </tr>\n",
              "    <tr>\n",
              "      <th>14</th>\n",
              "      <td>B0000AXNMO</td>\n",
              "      <td>rain x 800002243 yellow windshield treatment 7...</td>\n",
              "      <td>7.10</td>\n",
              "      <td>https://images-na.ssl-images-amazon.com/images...</td>\n",
              "      <td>9</td>\n",
              "    </tr>\n",
              "    <tr>\n",
              "      <th>15</th>\n",
              "      <td>B0000AXTUY</td>\n",
              "      <td>se 1 12s 1 5a 6v 12v fully automatic battery m...</td>\n",
              "      <td>53.16</td>\n",
              "      <td>https://images-na.ssl-images-amazon.com/images...</td>\n",
              "      <td>11</td>\n",
              "    </tr>\n",
              "    <tr>\n",
              "      <th>16</th>\n",
              "      <td>B0000AY1P9</td>\n",
              "      <td>fibre glass evercoat co polyester gel paste pint</td>\n",
              "      <td>26.75</td>\n",
              "      <td>https://images-na.ssl-images-amazon.com/images...</td>\n",
              "      <td>8</td>\n",
              "    </tr>\n",
              "    <tr>\n",
              "      <th>17</th>\n",
              "      <td>B0000AY2Z6</td>\n",
              "      <td>fan tastic vent 01100wh endless breeze 12 volt...</td>\n",
              "      <td>80.45</td>\n",
              "      <td>https://images-na.ssl-images-amazon.com/images...</td>\n",
              "      <td>9</td>\n",
              "    </tr>\n",
              "    <tr>\n",
              "      <th>18</th>\n",
              "      <td>B0000AY3SR</td>\n",
              "      <td>meguiar is plastx clear plastic cleaner polish...</td>\n",
              "      <td>5.17</td>\n",
              "      <td>https://images-na.ssl-images-amazon.com/images...</td>\n",
              "      <td>14</td>\n",
              "    </tr>\n",
              "    <tr>\n",
              "      <th>19</th>\n",
              "      <td>B0000AY4MK</td>\n",
              "      <td>bully cr 600 chrome series heavy duty truck su...</td>\n",
              "      <td>45.35</td>\n",
              "      <td>https://images-na.ssl-images-amazon.com/images...</td>\n",
              "      <td>11</td>\n",
              "    </tr>\n",
              "    <tr>\n",
              "      <th>20</th>\n",
              "      <td>B0000AY1OJ</td>\n",
              "      <td>west system mini pump kit for 301 and 305 in q...</td>\n",
              "      <td>15.69</td>\n",
              "      <td>https://images-na.ssl-images-amazon.com/images...</td>\n",
              "      <td>15</td>\n",
              "    </tr>\n",
              "    <tr>\n",
              "      <th>21</th>\n",
              "      <td>B0000AY4YT</td>\n",
              "      <td>meguiar is m4965 marine rv fiberglass restorat...</td>\n",
              "      <td>34.92</td>\n",
              "      <td>https://images-na.ssl-images-amazon.com/images...</td>\n",
              "      <td>8</td>\n",
              "    </tr>\n",
              "    <tr>\n",
              "      <th>22</th>\n",
              "      <td>B0000AYFTV</td>\n",
              "      <td>wesbar 707261 wishbone style trailer wiring ha...</td>\n",
              "      <td>13.02</td>\n",
              "      <td>https://images-na.ssl-images-amazon.com/images...</td>\n",
              "      <td>11</td>\n",
              "    </tr>\n",
              "    <tr>\n",
              "      <th>23</th>\n",
              "      <td>B0000AYYU1</td>\n",
              "      <td>sierra 18 3214 impeller repair kit for chrysle...</td>\n",
              "      <td>30.42</td>\n",
              "      <td>https://images-na.ssl-images-amazon.com/images...</td>\n",
              "      <td>18</td>\n",
              "    </tr>\n",
              "    <tr>\n",
              "      <th>24</th>\n",
              "      <td>B0000AZ6CT</td>\n",
              "      <td>faria 32810 euro 55 mph speedometer</td>\n",
              "      <td>41.38</td>\n",
              "      <td>https://images-na.ssl-images-amazon.com/images...</td>\n",
              "      <td>6</td>\n",
              "    </tr>\n",
              "    <tr>\n",
              "      <th>25</th>\n",
              "      <td>B0000AZ85J</td>\n",
              "      <td>faria 12801 euro fuel level gauge 3003 3421</td>\n",
              "      <td>22.07</td>\n",
              "      <td>https://images-na.ssl-images-amazon.com/images...</td>\n",
              "      <td>8</td>\n",
              "    </tr>\n",
              "    <tr>\n",
              "      <th>26</th>\n",
              "      <td>B0000AZ8JB</td>\n",
              "      <td>cipa 11050 suction cup marine mirror</td>\n",
              "      <td>19.33</td>\n",
              "      <td>https://images-na.ssl-images-amazon.com/images...</td>\n",
              "      <td>6</td>\n",
              "    </tr>\n",
              "    <tr>\n",
              "      <th>27</th>\n",
              "      <td>B0000BYEXO</td>\n",
              "      <td>odyssey pc625 powersports battery</td>\n",
              "      <td>17.76</td>\n",
              "      <td>https://images-na.ssl-images-amazon.com/images...</td>\n",
              "      <td>4</td>\n",
              "    </tr>\n",
              "    <tr>\n",
              "      <th>28</th>\n",
              "      <td>B0000BYMWX</td>\n",
              "      <td>activetool airman cordless multi purpose air pump</td>\n",
              "      <td>65.99</td>\n",
              "      <td>https://images-na.ssl-images-amazon.com/images...</td>\n",
              "      <td>7</td>\n",
              "    </tr>\n",
              "    <tr>\n",
              "      <th>29</th>\n",
              "      <td>B0000CBJ6S</td>\n",
              "      <td>general purpose paint sprayer gun pattern and ...</td>\n",
              "      <td>1.41</td>\n",
              "      <td>https://images-na.ssl-images-amazon.com/images...</td>\n",
              "      <td>20</td>\n",
              "    </tr>\n",
              "    <tr>\n",
              "      <th>30</th>\n",
              "      <td>B0000DYV3N</td>\n",
              "      <td>hopkins 27512va nvision trailblazer electronic...</td>\n",
              "      <td>10.93</td>\n",
              "      <td>https://images-na.ssl-images-amazon.com/images...</td>\n",
              "      <td>7</td>\n",
              "    </tr>\n",
              "    <tr>\n",
              "      <th>31</th>\n",
              "      <td>B0000TMLWQ</td>\n",
              "      <td>powerbuilt 648796 honda cranks pulley removal ...</td>\n",
              "      <td>26.95</td>\n",
              "      <td>https://images-na.ssl-images-amazon.com/images...</td>\n",
              "      <td>7</td>\n",
              "    </tr>\n",
              "    <tr>\n",
              "      <th>32</th>\n",
              "      <td>B0000UUX34</td>\n",
              "      <td>k n 33 2129 high performance replacement air f...</td>\n",
              "      <td>44.18</td>\n",
              "      <td>https://images-na.ssl-images-amazon.com/images...</td>\n",
              "      <td>17</td>\n",
              "    </tr>\n",
              "    <tr>\n",
              "      <th>33</th>\n",
              "      <td>B0000UUU50</td>\n",
              "      <td>westin 27 0010 molded step board without light</td>\n",
              "      <td>205.70</td>\n",
              "      <td>https://images-na.ssl-images-amazon.com/images...</td>\n",
              "      <td>8</td>\n",
              "    </tr>\n",
              "    <tr>\n",
              "      <th>34</th>\n",
              "      <td>B0000UUU5U</td>\n",
              "      <td>westin 27 0015 molded step board with light</td>\n",
              "      <td>238.90</td>\n",
              "      <td>https://images-na.ssl-images-amazon.com/images...</td>\n",
              "      <td>8</td>\n",
              "    </tr>\n",
              "    <tr>\n",
              "      <th>35</th>\n",
              "      <td>B0000WZZTO</td>\n",
              "      <td>piaa 2190 2100x xtreme white lamp kit</td>\n",
              "      <td>188.21</td>\n",
              "      <td>https://images-na.ssl-images-amazon.com/images...</td>\n",
              "      <td>7</td>\n",
              "    </tr>\n",
              "    <tr>\n",
              "      <th>36</th>\n",
              "      <td>B00017YYI6</td>\n",
              "      <td>air lift 25592 load controller ii on board air...</td>\n",
              "      <td>35.32</td>\n",
              "      <td>https://images-na.ssl-images-amazon.com/images...</td>\n",
              "      <td>11</td>\n",
              "    </tr>\n",
              "    <tr>\n",
              "      <th>37</th>\n",
              "      <td>B00017YYIG</td>\n",
              "      <td>air lift 57215 loadlifter 5000 series rear air...</td>\n",
              "      <td>42.97</td>\n",
              "      <td>https://images-na.ssl-images-amazon.com/images...</td>\n",
              "      <td>10</td>\n",
              "    </tr>\n",
              "    <tr>\n",
              "      <th>38</th>\n",
              "      <td>B000182DJ2</td>\n",
              "      <td>edelbrock 1407 performer 750 cfm square bore 4...</td>\n",
              "      <td>63.71</td>\n",
              "      <td>https://images-na.ssl-images-amazon.com/images...</td>\n",
              "      <td>16</td>\n",
              "    </tr>\n",
              "    <tr>\n",
              "      <th>39</th>\n",
              "      <td>B000182DPG</td>\n",
              "      <td>k n 33 2031 2 high performance replacement air...</td>\n",
              "      <td>44.46</td>\n",
              "      <td>https://images-na.ssl-images-amazon.com/images...</td>\n",
              "      <td>10</td>\n",
              "    </tr>\n",
              "    <tr>\n",
              "      <th>40</th>\n",
              "      <td>B000182DME</td>\n",
              "      <td>flowmaster 42443 40 series muffler 2 25 offset...</td>\n",
              "      <td>79.95</td>\n",
              "      <td>https://images-na.ssl-images-amazon.com/images...</td>\n",
              "      <td>15</td>\n",
              "    </tr>\n",
              "    <tr>\n",
              "      <th>41</th>\n",
              "      <td>B000182BDK</td>\n",
              "      <td>msd 8202 blaster 2 hi performance coil</td>\n",
              "      <td>8.18</td>\n",
              "      <td>https://images-na.ssl-images-amazon.com/images...</td>\n",
              "      <td>7</td>\n",
              "    </tr>\n",
              "    <tr>\n",
              "      <th>42</th>\n",
              "      <td>B000182CPM</td>\n",
              "      <td>dee zee dz1800 full size brite tread mud flaps</td>\n",
              "      <td>30.91</td>\n",
              "      <td>https://images-na.ssl-images-amazon.com/images...</td>\n",
              "      <td>9</td>\n",
              "    </tr>\n",
              "    <tr>\n",
              "      <th>43</th>\n",
              "      <td>B000182DSS</td>\n",
              "      <td>auto ventshade 80002 medium hood scoop with sm...</td>\n",
              "      <td>70.99</td>\n",
              "      <td>https://images-na.ssl-images-amazon.com/images...</td>\n",
              "      <td>10</td>\n",
              "    </tr>\n",
              "    <tr>\n",
              "      <th>44</th>\n",
              "      <td>B000182BBM</td>\n",
              "      <td>k n 57 3010 1 fipk performance air intake system</td>\n",
              "      <td>228.21</td>\n",
              "      <td>https://images-na.ssl-images-amazon.com/images...</td>\n",
              "      <td>10</td>\n",
              "    </tr>\n",
              "    <tr>\n",
              "      <th>45</th>\n",
              "      <td>B000182DYC</td>\n",
              "      <td>warn 20990 premium manual hubs</td>\n",
              "      <td>122.58</td>\n",
              "      <td>https://images-na.ssl-images-amazon.com/images...</td>\n",
              "      <td>5</td>\n",
              "    </tr>\n",
              "    <tr>\n",
              "      <th>46</th>\n",
              "      <td>B000182EZU</td>\n",
              "      <td>auto ventshade 94355 original ventvisor side w...</td>\n",
              "      <td>38.62</td>\n",
              "      <td>https://images-na.ssl-images-amazon.com/images...</td>\n",
              "      <td>40</td>\n",
              "    </tr>\n",
              "    <tr>\n",
              "      <th>47</th>\n",
              "      <td>B000182EX2</td>\n",
              "      <td>auto ventshade 94044 original ventvisor side w...</td>\n",
              "      <td>49.03</td>\n",
              "      <td>https://images-na.ssl-images-amazon.com/images...</td>\n",
              "      <td>41</td>\n",
              "    </tr>\n",
              "    <tr>\n",
              "      <th>48</th>\n",
              "      <td>B000182F0Y</td>\n",
              "      <td>auto ventshade 94623 original ventvisor side w...</td>\n",
              "      <td>49.23</td>\n",
              "      <td>https://images-na.ssl-images-amazon.com/images...</td>\n",
              "      <td>27</td>\n",
              "    </tr>\n",
              "    <tr>\n",
              "      <th>49</th>\n",
              "      <td>B000182EWS</td>\n",
              "      <td>auto ventshade 92956 original ventvisor side w...</td>\n",
              "      <td>37.27</td>\n",
              "      <td>https://images-na.ssl-images-amazon.com/images...</td>\n",
              "      <td>50</td>\n",
              "    </tr>\n",
              "    <tr>\n",
              "      <th>50</th>\n",
              "      <td>B0001CMUV4</td>\n",
              "      <td>stowaway hitch tightener anti rattle stabilize...</td>\n",
              "      <td>17.50</td>\n",
              "      <td>https://images-na.ssl-images-amazon.com/images...</td>\n",
              "      <td>14</td>\n",
              "    </tr>\n",
              "    <tr>\n",
              "      <th>51</th>\n",
              "      <td>B0001EW044</td>\n",
              "      <td>auto ventshade 94231 original ventvisor side w...</td>\n",
              "      <td>53.02</td>\n",
              "      <td>https://images-na.ssl-images-amazon.com/images...</td>\n",
              "      <td>24</td>\n",
              "    </tr>\n",
              "    <tr>\n",
              "      <th>52</th>\n",
              "      <td>B0001EW4EK</td>\n",
              "      <td>auto ventshade 94423 original ventvisor side w...</td>\n",
              "      <td>49.03</td>\n",
              "      <td>https://images-na.ssl-images-amazon.com/images...</td>\n",
              "      <td>30</td>\n",
              "    </tr>\n",
              "    <tr>\n",
              "      <th>53</th>\n",
              "      <td>B0001FUAXQ</td>\n",
              "      <td>thule 830 the stacker kayak rack</td>\n",
              "      <td>12.90</td>\n",
              "      <td>https://images-na.ssl-images-amazon.com/images...</td>\n",
              "      <td>6</td>\n",
              "    </tr>\n",
              "    <tr>\n",
              "      <th>54</th>\n",
              "      <td>B0001WTY0E</td>\n",
              "      <td>explorer 2 suv and minivan tent</td>\n",
              "      <td>129.99</td>\n",
              "      <td>https://images-na.ssl-images-amazon.com/images...</td>\n",
              "      <td>6</td>\n",
              "    </tr>\n",
              "    <tr>\n",
              "      <th>55</th>\n",
              "      <td>B00020CAUG</td>\n",
              "      <td>dynamat 10435 12 x 36 x 0 067 thick self adhes...</td>\n",
              "      <td>62.88</td>\n",
              "      <td>https://images-na.ssl-images-amazon.com/images...</td>\n",
              "      <td>17</td>\n",
              "    </tr>\n",
              "    <tr>\n",
              "      <th>56</th>\n",
              "      <td>B000221M94</td>\n",
              "      <td>highland 9242300 black vehicle door protector</td>\n",
              "      <td>11.54</td>\n",
              "      <td>https://images-na.ssl-images-amazon.com/images...</td>\n",
              "      <td>6</td>\n",
              "    </tr>\n",
              "    <tr>\n",
              "      <th>57</th>\n",
              "      <td>B00026Z3E0</td>\n",
              "      <td>torin big red steel jack stands double locking...</td>\n",
              "      <td>35.69</td>\n",
              "      <td>https://images-na.ssl-images-amazon.com/images...</td>\n",
              "      <td>13</td>\n",
              "    </tr>\n",
              "    <tr>\n",
              "      <th>58</th>\n",
              "      <td>B000276B18</td>\n",
              "      <td>fram ph6607 extra guard passenger car spin on ...</td>\n",
              "      <td>4.64</td>\n",
              "      <td>https://images-na.ssl-images-amazon.com/images...</td>\n",
              "      <td>10</td>\n",
              "    </tr>\n",
              "    <tr>\n",
              "      <th>59</th>\n",
              "      <td>B00029CYRG</td>\n",
              "      <td>meguiar is m6732 marine rv one step compound 3...</td>\n",
              "      <td>19.26</td>\n",
              "      <td>https://images-na.ssl-images-amazon.com/images...</td>\n",
              "      <td>10</td>\n",
              "    </tr>\n",
              "  </tbody>\n",
              "</table>\n",
              "</div>"
            ],
            "text/plain": [
              "          ASIN  ... Title Length\n",
              "0   B00000J421  ...            7\n",
              "1   B0000223J0  ...           13\n",
              "2   B00002243Z  ...           19\n",
              "3   B00004Z78V  ...           12\n",
              "4   B00005RHQQ  ...            9\n",
              "5   B00008RW9V  ...            7\n",
              "6   B00008RW9U  ...           10\n",
              "7   B00009PGNS  ...            5\n",
              "8   B00009YUK5  ...            6\n",
              "9   B0000AVZMU  ...           15\n",
              "10  B0000AWYM3  ...           12\n",
              "11  B0000AXC24  ...           14\n",
              "12  B0000AX9XA  ...            9\n",
              "13  B0000AXNLT  ...           16\n",
              "14  B0000AXNMO  ...            9\n",
              "15  B0000AXTUY  ...           11\n",
              "16  B0000AY1P9  ...            8\n",
              "17  B0000AY2Z6  ...            9\n",
              "18  B0000AY3SR  ...           14\n",
              "19  B0000AY4MK  ...           11\n",
              "20  B0000AY1OJ  ...           15\n",
              "21  B0000AY4YT  ...            8\n",
              "22  B0000AYFTV  ...           11\n",
              "23  B0000AYYU1  ...           18\n",
              "24  B0000AZ6CT  ...            6\n",
              "25  B0000AZ85J  ...            8\n",
              "26  B0000AZ8JB  ...            6\n",
              "27  B0000BYEXO  ...            4\n",
              "28  B0000BYMWX  ...            7\n",
              "29  B0000CBJ6S  ...           20\n",
              "30  B0000DYV3N  ...            7\n",
              "31  B0000TMLWQ  ...            7\n",
              "32  B0000UUX34  ...           17\n",
              "33  B0000UUU50  ...            8\n",
              "34  B0000UUU5U  ...            8\n",
              "35  B0000WZZTO  ...            7\n",
              "36  B00017YYI6  ...           11\n",
              "37  B00017YYIG  ...           10\n",
              "38  B000182DJ2  ...           16\n",
              "39  B000182DPG  ...           10\n",
              "40  B000182DME  ...           15\n",
              "41  B000182BDK  ...            7\n",
              "42  B000182CPM  ...            9\n",
              "43  B000182DSS  ...           10\n",
              "44  B000182BBM  ...           10\n",
              "45  B000182DYC  ...            5\n",
              "46  B000182EZU  ...           40\n",
              "47  B000182EX2  ...           41\n",
              "48  B000182F0Y  ...           27\n",
              "49  B000182EWS  ...           50\n",
              "50  B0001CMUV4  ...           14\n",
              "51  B0001EW044  ...           24\n",
              "52  B0001EW4EK  ...           30\n",
              "53  B0001FUAXQ  ...            6\n",
              "54  B0001WTY0E  ...            6\n",
              "55  B00020CAUG  ...           17\n",
              "56  B000221M94  ...            6\n",
              "57  B00026Z3E0  ...           13\n",
              "58  B000276B18  ...           10\n",
              "59  B00029CYRG  ...           10\n",
              "\n",
              "[60 rows x 5 columns]"
            ]
          },
          "metadata": {
            "tags": []
          },
          "execution_count": 52
        }
      ]
    },
    {
      "cell_type": "code",
      "metadata": {
        "id": "QDYVHnKVNPmK",
        "colab_type": "code",
        "colab": {
          "base_uri": "https://localhost:8080/",
          "height": 282
        },
        "outputId": "21c396ee-1f55-4e03-b29f-740c7c17c39e"
      },
      "source": [
        "df_meta['Title Length'].hist(bins=100)"
      ],
      "execution_count": null,
      "outputs": [
        {
          "output_type": "execute_result",
          "data": {
            "text/plain": [
              "<matplotlib.axes._subplots.AxesSubplot at 0x7f5e96bc4be0>"
            ]
          },
          "metadata": {
            "tags": []
          },
          "execution_count": 53
        },
        {
          "output_type": "display_data",
          "data": {
            "image/png": "[encoded data removed]",
            "text/plain": [
              "<Figure size 432x288 with 1 Axes>"
            ]
          },
          "metadata": {
            "tags": [],
            "needs_background": "light"
          }
        }
      ]
    },
    {
      "cell_type": "markdown",
      "metadata": {
        "id": "e5NRZEJcrxGt",
        "colab_type": "text"
      },
      "source": [
        "#### 3.8. Removing some entries"
      ]
    },
    {
      "cell_type": "code",
      "metadata": {
        "id": "GL2a4Ai8MJ_1",
        "colab_type": "code",
        "colab": {
          "base_uri": "https://localhost:8080/",
          "height": 105
        },
        "outputId": "deecb856-6a40-4b11-ca49-1b7440eb00fd"
      },
      "source": [
        "print('Total number of entries:', df.shape[0])\n",
        "print('Maximum question length:', df['Question Length'].max())\n",
        "print('Maximum answer length:', df['Answer Length'].max())\n",
        "print('Number of questions with no answers after preprocessing:', df[df['Answer Length'] < 1].shape[0])\n",
        "print('Number of answers with no questions after preprocessing:', df[df['Question Length'] < 1].shape[0])"
      ],
      "execution_count": null,
      "outputs": [
        {
          "output_type": "stream",
          "text": [
            "Total number of entries: 3425040\n",
            "Maximum question length: 3547\n",
            "Maximum answer length: 5666\n",
            "Number of questions with no answers after preprocessing: 2163\n",
            "Number of answers with no questions after preprocessing: 203\n"
          ],
          "name": "stdout"
        }
      ]
    },
    {
      "cell_type": "code",
      "metadata": {
        "id": "FGAyeG5VNV99",
        "colab_type": "code",
        "colab": {
          "base_uri": "https://localhost:8080/",
          "height": 105
        },
        "outputId": "2e166bc3-2d8f-4a82-be93-d2929257edb3"
      },
      "source": [
        "print('Total number of meta-entries:', df_meta.shape[0])\n",
        "print('Maximum title length:', df_meta['Title Length'].max())\n",
        "print('Lowest item price in $:', df_meta['Price'].min())\n",
        "print('Highest item price in $:', df_meta['Price'].max())\n",
        "print('Number of tiles with zero length after preprocessing:', df_meta[df_meta['Title Length'] < 1].shape[0])"
      ],
      "execution_count": null,
      "outputs": [
        {
          "output_type": "stream",
          "text": [
            "Total number of meta-entries: 36969\n",
            "Maximum title length: 145\n",
            "Lowest item price in $: 0.01\n",
            "Highest item price in $: 999.99\n",
            "Number of tiles with zero length after preprocessing: 0\n"
          ],
          "name": "stdout"
        }
      ]
    },
    {
      "cell_type": "markdown",
      "metadata": {
        "id": "lImDuHhQLGer",
        "colab_type": "text"
      },
      "source": [
        "##### 3.8.1. Removing empty answers"
      ]
    },
    {
      "cell_type": "code",
      "metadata": {
        "id": "0umBTJxK20y9",
        "colab_type": "code",
        "colab": {
          "base_uri": "https://localhost:8080/",
          "height": 34
        },
        "outputId": "5b2947ef-f86c-4039-85f0-e0e17cb2efff"
      },
      "source": [
        "df = df[df['Answer Length'] > 0]\n",
        "df.shape"
      ],
      "execution_count": null,
      "outputs": [
        {
          "output_type": "execute_result",
          "data": {
            "text/plain": [
              "(3422877, 6)"
            ]
          },
          "metadata": {
            "tags": []
          },
          "execution_count": 38
        }
      ]
    },
    {
      "cell_type": "markdown",
      "metadata": {
        "id": "K6GlE0gcLOOn",
        "colab_type": "text"
      },
      "source": [
        "##### 3.8.2. Removing empty questions"
      ]
    },
    {
      "cell_type": "code",
      "metadata": {
        "id": "jcNkRu28XR_-",
        "colab_type": "code",
        "colab": {
          "base_uri": "https://localhost:8080/",
          "height": 34
        },
        "outputId": "3119ecb7-17a3-40a6-8bd3-342d64ab312e"
      },
      "source": [
        "df = df[df['Question Length'] > 0]\n",
        "df.shape"
      ],
      "execution_count": null,
      "outputs": [
        {
          "output_type": "execute_result",
          "data": {
            "text/plain": [
              "(3422674, 6)"
            ]
          },
          "metadata": {
            "tags": []
          },
          "execution_count": 39
        }
      ]
    },
    {
      "cell_type": "markdown",
      "metadata": {
        "id": "fR-iY9BkLQ_5",
        "colab_type": "text"
      },
      "source": [
        "##### 3.8.3. Removing answers of length more than three"
      ]
    },
    {
      "cell_type": "code",
      "metadata": {
        "id": "Zpu0J04pXMVE",
        "colab_type": "code",
        "colab": {
          "base_uri": "https://localhost:8080/",
          "height": 34
        },
        "outputId": "5d890ce6-6656-43e3-bbad-143cba65b8d8"
      },
      "source": [
        "df = df[df['Answer Length'] < 4]\n",
        "df.shape"
      ],
      "execution_count": null,
      "outputs": [
        {
          "output_type": "execute_result",
          "data": {
            "text/plain": [
              "(316389, 6)"
            ]
          },
          "metadata": {
            "tags": []
          },
          "execution_count": 40
        }
      ]
    },
    {
      "cell_type": "code",
      "metadata": {
        "id": "YM2xNg-oXVXy",
        "colab_type": "code",
        "colab": {}
      },
      "source": [
        "df.reset_index(drop=True, inplace=True)"
      ],
      "execution_count": null,
      "outputs": []
    },
    {
      "cell_type": "code",
      "metadata": {
        "id": "UT5LXueGskXw",
        "colab_type": "code",
        "colab": {
          "base_uri": "https://localhost:8080/",
          "height": 70
        },
        "outputId": "6e7382ba-82b2-427d-f63b-299fdaccf9de"
      },
      "source": [
        "print('Total number of entries:', df.shape[0])\n",
        "print('Maximum question length:', df['Question Length'].max())\n",
        "print('Maximum answer length:', df['Answer Length'].max())"
      ],
      "execution_count": null,
      "outputs": [
        {
          "output_type": "stream",
          "text": [
            "Total number of entries: 316389\n",
            "Maximum question length: 1546\n",
            "Maximum answer length: 3\n"
          ],
          "name": "stdout"
        }
      ]
    },
    {
      "cell_type": "code",
      "metadata": {
        "id": "IVEqFFktsmde",
        "colab_type": "code",
        "colab": {
          "base_uri": "https://localhost:8080/",
          "height": 70
        },
        "outputId": "cadc6edb-4b7e-4dcf-86c1-f8e021efa1b1"
      },
      "source": [
        "df['Questions Type'].value_counts()"
      ],
      "execution_count": null,
      "outputs": [
        {
          "output_type": "execute_result",
          "data": {
            "text/plain": [
              "open-ended    256648\n",
              "yes/no         59741\n",
              "Name: Questions Type, dtype: int64"
            ]
          },
          "metadata": {
            "tags": []
          },
          "execution_count": 43
        }
      ]
    },
    {
      "cell_type": "markdown",
      "metadata": {
        "id": "idgzovIKLk7D",
        "colab_type": "text"
      },
      "source": [
        "##### 3.8.4. Removing questions of length more than eleven"
      ]
    },
    {
      "cell_type": "code",
      "metadata": {
        "id": "4MoCNRl-z5-4",
        "colab_type": "code",
        "colab": {
          "base_uri": "https://localhost:8080/",
          "height": 34
        },
        "outputId": "e933cc40-10cf-42dc-ad69-0f48d9ba31ab"
      },
      "source": [
        "print(\"Average question length:\", df['Question Length'].mean())"
      ],
      "execution_count": null,
      "outputs": [
        {
          "output_type": "stream",
          "text": [
            "Average question length: 11.331607609619804\n"
          ],
          "name": "stdout"
        }
      ]
    },
    {
      "cell_type": "code",
      "metadata": {
        "colab_type": "code",
        "id": "PapEJFYNbrm_",
        "colab": {}
      },
      "source": [
        "df = df[df[\"Question Length\"] < 12]\n",
        "df.reset_index(drop=True, inplace=True)"
      ],
      "execution_count": null,
      "outputs": []
    },
    {
      "cell_type": "code",
      "metadata": {
        "colab_type": "code",
        "id": "CEa1PykYbrnL",
        "colab": {
          "base_uri": "https://localhost:8080/",
          "height": 34
        },
        "outputId": "8f56985c-91a1-45e4-c35b-baf12f523364"
      },
      "source": [
        "print(\"Shape of dataset:\", df.shape)"
      ],
      "execution_count": null,
      "outputs": [
        {
          "output_type": "stream",
          "text": [
            "Shape of dataset: (212155, 6)\n"
          ],
          "name": "stdout"
        }
      ]
    },
    {
      "cell_type": "code",
      "metadata": {
        "id": "ggZtCQ6TnMg0",
        "colab_type": "code",
        "colab": {
          "base_uri": "https://localhost:8080/",
          "height": 141
        },
        "outputId": "2a12ab7f-94e0-4ee1-8768-06e0b998bb6c"
      },
      "source": [
        "# Viewing an entry whose question length is eleven\n",
        "print(df.iloc[7])\n",
        "# Output \n",
        "# is this a set or do i have to order 2"
      ],
      "execution_count": null,
      "outputs": [
        {
          "output_type": "stream",
          "text": [
            "ASIN                                          B00029WRJQ\n",
            "Questions          is this a set or do i have to order 2\n",
            "Questions Type                                open-ended\n",
            "Answers                                          order 2\n",
            "Question Length                                       11\n",
            "Answer Length                                          2\n",
            "Name: 7, dtype: object\n"
          ],
          "name": "stdout"
        }
      ]
    },
    {
      "cell_type": "code",
      "metadata": {
        "id": "gnesy7fTzy_f",
        "colab_type": "code",
        "colab": {
          "base_uri": "https://localhost:8080/",
          "height": 1000
        },
        "outputId": "d00b6b67-e574-4387-a68d-e65e840c1a26"
      },
      "source": [
        "df.head(60)"
      ],
      "execution_count": null,
      "outputs": [
        {
          "output_type": "execute_result",
          "data": {
            "text/html": [
              "<div>\n",
              "<style scoped>\n",
              "    .dataframe tbody tr th:only-of-type {\n",
              "        vertical-align: middle;\n",
              "    }\n",
              "\n",
              "    .dataframe tbody tr th {\n",
              "        vertical-align: top;\n",
              "    }\n",
              "\n",
              "    .dataframe thead th {\n",
              "        text-align: right;\n",
              "    }\n",
              "</style>\n",
              "<table border=\"1\" class=\"dataframe\">\n",
              "  <thead>\n",
              "    <tr style=\"text-align: right;\">\n",
              "      <th></th>\n",
              "      <th>ASIN</th>\n",
              "      <th>Questions</th>\n",
              "      <th>Questions Type</th>\n",
              "      <th>Answers</th>\n",
              "      <th>Question Length</th>\n",
              "      <th>Answer Length</th>\n",
              "    </tr>\n",
              "  </thead>\n",
              "  <tbody>\n",
              "    <tr>\n",
              "      <th>0</th>\n",
              "      <td>B000182CPM</td>\n",
              "      <td>is the hardware for installation included</td>\n",
              "      <td>yes/no</td>\n",
              "      <td>no</td>\n",
              "      <td>6</td>\n",
              "      <td>1</td>\n",
              "    </tr>\n",
              "    <tr>\n",
              "      <th>1</th>\n",
              "      <td>B000182F0Y</td>\n",
              "      <td>will they fit 2014 mazda 3 sport</td>\n",
              "      <td>yes/no</td>\n",
              "      <td>no</td>\n",
              "      <td>7</td>\n",
              "      <td>1</td>\n",
              "    </tr>\n",
              "    <tr>\n",
              "      <th>2</th>\n",
              "      <td>B000182F0Y</td>\n",
              "      <td>will they fit 2014 mazda 3 sport</td>\n",
              "      <td>yes/no</td>\n",
              "      <td>nope</td>\n",
              "      <td>7</td>\n",
              "      <td>1</td>\n",
              "    </tr>\n",
              "    <tr>\n",
              "      <th>3</th>\n",
              "      <td>B0001EW044</td>\n",
              "      <td>do they fit a 1998 gmc sierra 3 door</td>\n",
              "      <td>open-ended</td>\n",
              "      <td>yes</td>\n",
              "      <td>9</td>\n",
              "      <td>1</td>\n",
              "    </tr>\n",
              "    <tr>\n",
              "      <th>4</th>\n",
              "      <td>B00020BM32</td>\n",
              "      <td>will this product work with a 1995 buick rivera</td>\n",
              "      <td>yes/no</td>\n",
              "      <td>yes it will</td>\n",
              "      <td>9</td>\n",
              "      <td>3</td>\n",
              "    </tr>\n",
              "    <tr>\n",
              "      <th>5</th>\n",
              "      <td>B00027GTYC</td>\n",
              "      <td>will this work on the generation 1 alpha</td>\n",
              "      <td>open-ended</td>\n",
              "      <td>yes it will</td>\n",
              "      <td>8</td>\n",
              "      <td>3</td>\n",
              "    </tr>\n",
              "    <tr>\n",
              "      <th>6</th>\n",
              "      <td>B00029K1XK</td>\n",
              "      <td>is it easy to install</td>\n",
              "      <td>yes/no</td>\n",
              "      <td>very easy</td>\n",
              "      <td>5</td>\n",
              "      <td>2</td>\n",
              "    </tr>\n",
              "    <tr>\n",
              "      <th>7</th>\n",
              "      <td>B00029WRJQ</td>\n",
              "      <td>is this a set or do i have to order 2</td>\n",
              "      <td>open-ended</td>\n",
              "      <td>order 2</td>\n",
              "      <td>11</td>\n",
              "      <td>2</td>\n",
              "    </tr>\n",
              "    <tr>\n",
              "      <th>8</th>\n",
              "      <td>B0002F67ZK</td>\n",
              "      <td>it comes with door assembly</td>\n",
              "      <td>open-ended</td>\n",
              "      <td>yesterday</td>\n",
              "      <td>5</td>\n",
              "      <td>1</td>\n",
              "    </tr>\n",
              "    <tr>\n",
              "      <th>9</th>\n",
              "      <td>B0002F67ZK</td>\n",
              "      <td>is this a 12 volt igitor or 110</td>\n",
              "      <td>open-ended</td>\n",
              "      <td>yes 12 volt</td>\n",
              "      <td>8</td>\n",
              "      <td>3</td>\n",
              "    </tr>\n",
              "    <tr>\n",
              "      <th>10</th>\n",
              "      <td>B0002F67ZK</td>\n",
              "      <td>is this a 12 volt igitor or 110</td>\n",
              "      <td>open-ended</td>\n",
              "      <td>12 volt</td>\n",
              "      <td>8</td>\n",
              "      <td>2</td>\n",
              "    </tr>\n",
              "    <tr>\n",
              "      <th>11</th>\n",
              "      <td>B0002JJU1Y</td>\n",
              "      <td>are these compatible with any multimeter</td>\n",
              "      <td>open-ended</td>\n",
              "      <td>yes</td>\n",
              "      <td>6</td>\n",
              "      <td>1</td>\n",
              "    </tr>\n",
              "    <tr>\n",
              "      <th>12</th>\n",
              "      <td>B0002JJU1Y</td>\n",
              "      <td>what size is the wire</td>\n",
              "      <td>open-ended</td>\n",
              "      <td>36</td>\n",
              "      <td>5</td>\n",
              "      <td>1</td>\n",
              "    </tr>\n",
              "    <tr>\n",
              "      <th>13</th>\n",
              "      <td>B0002JMFMA</td>\n",
              "      <td>will this fit a 2001 chevy malibu</td>\n",
              "      <td>open-ended</td>\n",
              "      <td>yes</td>\n",
              "      <td>7</td>\n",
              "      <td>1</td>\n",
              "    </tr>\n",
              "    <tr>\n",
              "      <th>14</th>\n",
              "      <td>B0002JMFMA</td>\n",
              "      <td>will this fit a 2001 chevy malibu</td>\n",
              "      <td>open-ended</td>\n",
              "      <td>yes it will</td>\n",
              "      <td>7</td>\n",
              "      <td>3</td>\n",
              "    </tr>\n",
              "    <tr>\n",
              "      <th>15</th>\n",
              "      <td>B0002MA03S</td>\n",
              "      <td>does this package include the wires needed for...</td>\n",
              "      <td>open-ended</td>\n",
              "      <td>no</td>\n",
              "      <td>9</td>\n",
              "      <td>1</td>\n",
              "    </tr>\n",
              "    <tr>\n",
              "      <th>16</th>\n",
              "      <td>B0002OGJTA</td>\n",
              "      <td>will it have mirror pockets</td>\n",
              "      <td>open-ended</td>\n",
              "      <td>no mirror pockets</td>\n",
              "      <td>5</td>\n",
              "      <td>3</td>\n",
              "    </tr>\n",
              "    <tr>\n",
              "      <th>17</th>\n",
              "      <td>B0002RNSG4</td>\n",
              "      <td>does this fit jeep liberty</td>\n",
              "      <td>open-ended</td>\n",
              "      <td>yes it does</td>\n",
              "      <td>5</td>\n",
              "      <td>3</td>\n",
              "    </tr>\n",
              "    <tr>\n",
              "      <th>18</th>\n",
              "      <td>B0002SRF4O</td>\n",
              "      <td>do all three coils come with the kit</td>\n",
              "      <td>yes/no</td>\n",
              "      <td>yes</td>\n",
              "      <td>8</td>\n",
              "      <td>1</td>\n",
              "    </tr>\n",
              "    <tr>\n",
              "      <th>19</th>\n",
              "      <td>B0002T5G2Q</td>\n",
              "      <td>where does the small jack oplug into the es2500</td>\n",
              "      <td>open-ended</td>\n",
              "      <td>at the back</td>\n",
              "      <td>9</td>\n",
              "      <td>3</td>\n",
              "    </tr>\n",
              "    <tr>\n",
              "      <th>20</th>\n",
              "      <td>B0002T5G2Q</td>\n",
              "      <td>will this work with the battery pack es5000</td>\n",
              "      <td>open-ended</td>\n",
              "      <td>yes</td>\n",
              "      <td>8</td>\n",
              "      <td>1</td>\n",
              "    </tr>\n",
              "    <tr>\n",
              "      <th>21</th>\n",
              "      <td>B0002T5G2Q</td>\n",
              "      <td>will this work with the battery pack es5000</td>\n",
              "      <td>open-ended</td>\n",
              "      <td>yes it will</td>\n",
              "      <td>8</td>\n",
              "      <td>3</td>\n",
              "    </tr>\n",
              "    <tr>\n",
              "      <th>22</th>\n",
              "      <td>B0002T5G2Q</td>\n",
              "      <td>hi did that charger works for es 5000 charger pac</td>\n",
              "      <td>open-ended</td>\n",
              "      <td>yes it did</td>\n",
              "      <td>10</td>\n",
              "      <td>3</td>\n",
              "    </tr>\n",
              "    <tr>\n",
              "      <th>23</th>\n",
              "      <td>B0002T5G2Q</td>\n",
              "      <td>hi did that charger works for es 5000 charger pac</td>\n",
              "      <td>open-ended</td>\n",
              "      <td>yes</td>\n",
              "      <td>10</td>\n",
              "      <td>1</td>\n",
              "    </tr>\n",
              "    <tr>\n",
              "      <th>24</th>\n",
              "      <td>B0002T5G2Q</td>\n",
              "      <td>what are the dimensions</td>\n",
              "      <td>open-ended</td>\n",
              "      <td>dimensions of what</td>\n",
              "      <td>4</td>\n",
              "      <td>3</td>\n",
              "    </tr>\n",
              "    <tr>\n",
              "      <th>25</th>\n",
              "      <td>B0002YFD1K</td>\n",
              "      <td>does it test capacitors accurately</td>\n",
              "      <td>yes/no</td>\n",
              "      <td>yes and perfect</td>\n",
              "      <td>5</td>\n",
              "      <td>3</td>\n",
              "    </tr>\n",
              "    <tr>\n",
              "      <th>26</th>\n",
              "      <td>B0002YFD1K</td>\n",
              "      <td>does it test capacitors accurately</td>\n",
              "      <td>yes/no</td>\n",
              "      <td>yes</td>\n",
              "      <td>5</td>\n",
              "      <td>1</td>\n",
              "    </tr>\n",
              "    <tr>\n",
              "      <th>27</th>\n",
              "      <td>B0002YQSQO</td>\n",
              "      <td>can you get replacement filters from your loca...</td>\n",
              "      <td>yes/no</td>\n",
              "      <td>yes</td>\n",
              "      <td>10</td>\n",
              "      <td>1</td>\n",
              "    </tr>\n",
              "    <tr>\n",
              "      <th>28</th>\n",
              "      <td>B0002Z9QO4</td>\n",
              "      <td>will this fit a small suv</td>\n",
              "      <td>yes/no</td>\n",
              "      <td>yes</td>\n",
              "      <td>6</td>\n",
              "      <td>1</td>\n",
              "    </tr>\n",
              "    <tr>\n",
              "      <th>29</th>\n",
              "      <td>B0002Z9QO4</td>\n",
              "      <td>do it require roof mat</td>\n",
              "      <td>open-ended</td>\n",
              "      <td>yes</td>\n",
              "      <td>5</td>\n",
              "      <td>1</td>\n",
              "    </tr>\n",
              "    <tr>\n",
              "      <th>30</th>\n",
              "      <td>B0002Z9QO4</td>\n",
              "      <td>do it require roof mat</td>\n",
              "      <td>open-ended</td>\n",
              "      <td>no</td>\n",
              "      <td>5</td>\n",
              "      <td>1</td>\n",
              "    </tr>\n",
              "    <tr>\n",
              "      <th>31</th>\n",
              "      <td>B00061SH6W</td>\n",
              "      <td>will this work on a 1996 buick lesabre</td>\n",
              "      <td>open-ended</td>\n",
              "      <td>yes</td>\n",
              "      <td>8</td>\n",
              "      <td>1</td>\n",
              "    </tr>\n",
              "    <tr>\n",
              "      <th>32</th>\n",
              "      <td>B00061SH6W</td>\n",
              "      <td>will it work on a 04 silverado 5 3l</td>\n",
              "      <td>yes/no</td>\n",
              "      <td>yes</td>\n",
              "      <td>9</td>\n",
              "      <td>1</td>\n",
              "    </tr>\n",
              "    <tr>\n",
              "      <th>33</th>\n",
              "      <td>B00061SH6W</td>\n",
              "      <td>will it work on 99 silverado v8</td>\n",
              "      <td>yes/no</td>\n",
              "      <td>yes it will</td>\n",
              "      <td>7</td>\n",
              "      <td>3</td>\n",
              "    </tr>\n",
              "    <tr>\n",
              "      <th>34</th>\n",
              "      <td>B00061SH6W</td>\n",
              "      <td>will this work for 2004 dodge dakota</td>\n",
              "      <td>open-ended</td>\n",
              "      <td>no</td>\n",
              "      <td>7</td>\n",
              "      <td>1</td>\n",
              "    </tr>\n",
              "    <tr>\n",
              "      <th>35</th>\n",
              "      <td>B00062YW06</td>\n",
              "      <td>can the individual gauges be removed from the ...</td>\n",
              "      <td>open-ended</td>\n",
              "      <td>yes</td>\n",
              "      <td>9</td>\n",
              "      <td>1</td>\n",
              "    </tr>\n",
              "    <tr>\n",
              "      <th>36</th>\n",
              "      <td>B00062YW06</td>\n",
              "      <td>can the individual gauges be removed from the ...</td>\n",
              "      <td>open-ended</td>\n",
              "      <td>no</td>\n",
              "      <td>9</td>\n",
              "      <td>1</td>\n",
              "    </tr>\n",
              "    <tr>\n",
              "      <th>37</th>\n",
              "      <td>B00062YW06</td>\n",
              "      <td>is each guage 2 1 16 dia</td>\n",
              "      <td>yes/no</td>\n",
              "      <td>yes</td>\n",
              "      <td>7</td>\n",
              "      <td>1</td>\n",
              "    </tr>\n",
              "    <tr>\n",
              "      <th>38</th>\n",
              "      <td>B00062YW06</td>\n",
              "      <td>these are eletric and not mechanacal right</td>\n",
              "      <td>open-ended</td>\n",
              "      <td>correct</td>\n",
              "      <td>7</td>\n",
              "      <td>1</td>\n",
              "    </tr>\n",
              "    <tr>\n",
              "      <th>39</th>\n",
              "      <td>B0006FKFMC</td>\n",
              "      <td>can i use this product on my ge clean steel fr...</td>\n",
              "      <td>yes/no</td>\n",
              "      <td>yes you can</td>\n",
              "      <td>11</td>\n",
              "      <td>3</td>\n",
              "    </tr>\n",
              "    <tr>\n",
              "      <th>40</th>\n",
              "      <td>B0006MRSMK</td>\n",
              "      <td>are the last two numbers the gal</td>\n",
              "      <td>yes/no</td>\n",
              "      <td>no</td>\n",
              "      <td>7</td>\n",
              "      <td>1</td>\n",
              "    </tr>\n",
              "    <tr>\n",
              "      <th>41</th>\n",
              "      <td>B000760FWU</td>\n",
              "      <td>is that 7 7 lbs for all 4 or each</td>\n",
              "      <td>open-ended</td>\n",
              "      <td>all 4</td>\n",
              "      <td>10</td>\n",
              "      <td>2</td>\n",
              "    </tr>\n",
              "    <tr>\n",
              "      <th>42</th>\n",
              "      <td>B000760FWU</td>\n",
              "      <td>is that 7 7 lbs for all 4 or each</td>\n",
              "      <td>open-ended</td>\n",
              "      <td>for all four</td>\n",
              "      <td>10</td>\n",
              "      <td>3</td>\n",
              "    </tr>\n",
              "    <tr>\n",
              "      <th>43</th>\n",
              "      <td>B00076QA4C</td>\n",
              "      <td>will it fit a toyota prius</td>\n",
              "      <td>yes/no</td>\n",
              "      <td>yes</td>\n",
              "      <td>6</td>\n",
              "      <td>1</td>\n",
              "    </tr>\n",
              "    <tr>\n",
              "      <th>44</th>\n",
              "      <td>B0007M30AI</td>\n",
              "      <td>can this mount be used upside down to raise th...</td>\n",
              "      <td>open-ended</td>\n",
              "      <td>yes</td>\n",
              "      <td>11</td>\n",
              "      <td>1</td>\n",
              "    </tr>\n",
              "    <tr>\n",
              "      <th>45</th>\n",
              "      <td>B0007M30AI</td>\n",
              "      <td>how big is the pin hole</td>\n",
              "      <td>open-ended</td>\n",
              "      <td>one inch</td>\n",
              "      <td>6</td>\n",
              "      <td>2</td>\n",
              "    </tr>\n",
              "    <tr>\n",
              "      <th>46</th>\n",
              "      <td>B0007Z1A0M</td>\n",
              "      <td>what are the dimensions of this item</td>\n",
              "      <td>open-ended</td>\n",
              "      <td>19 3 4</td>\n",
              "      <td>7</td>\n",
              "      <td>3</td>\n",
              "    </tr>\n",
              "    <tr>\n",
              "      <th>47</th>\n",
              "      <td>B0007Z1A0M</td>\n",
              "      <td>how many pads are in the box</td>\n",
              "      <td>open-ended</td>\n",
              "      <td>one</td>\n",
              "      <td>7</td>\n",
              "      <td>1</td>\n",
              "    </tr>\n",
              "    <tr>\n",
              "      <th>48</th>\n",
              "      <td>B0008F671S</td>\n",
              "      <td>does this come with nuts and bolts</td>\n",
              "      <td>open-ended</td>\n",
              "      <td>yes it does</td>\n",
              "      <td>7</td>\n",
              "      <td>3</td>\n",
              "    </tr>\n",
              "    <tr>\n",
              "      <th>49</th>\n",
              "      <td>B00099YOV8</td>\n",
              "      <td>disconnect what terminal</td>\n",
              "      <td>open-ended</td>\n",
              "      <td>black</td>\n",
              "      <td>3</td>\n",
              "      <td>1</td>\n",
              "    </tr>\n",
              "    <tr>\n",
              "      <th>50</th>\n",
              "      <td>B00099YOV8</td>\n",
              "      <td>disconnect what terminal</td>\n",
              "      <td>open-ended</td>\n",
              "      <td>negative terminal</td>\n",
              "      <td>3</td>\n",
              "      <td>2</td>\n",
              "    </tr>\n",
              "    <tr>\n",
              "      <th>51</th>\n",
              "      <td>B00099YOV8</td>\n",
              "      <td>which rwrrminanwhich terminal disconnect pos o...</td>\n",
              "      <td>open-ended</td>\n",
              "      <td>neg</td>\n",
              "      <td>7</td>\n",
              "      <td>1</td>\n",
              "    </tr>\n",
              "    <tr>\n",
              "      <th>52</th>\n",
              "      <td>B0009SXOVA</td>\n",
              "      <td>your add shows five is it priced for five or one</td>\n",
              "      <td>open-ended</td>\n",
              "      <td>mine included five</td>\n",
              "      <td>11</td>\n",
              "      <td>3</td>\n",
              "    </tr>\n",
              "    <tr>\n",
              "      <th>53</th>\n",
              "      <td>B0009SXOVA</td>\n",
              "      <td>how long are the pin switches in total</td>\n",
              "      <td>open-ended</td>\n",
              "      <td>about three inches</td>\n",
              "      <td>8</td>\n",
              "      <td>3</td>\n",
              "    </tr>\n",
              "    <tr>\n",
              "      <th>54</th>\n",
              "      <td>B0009SXOVA</td>\n",
              "      <td>how long are the pin switches in total</td>\n",
              "      <td>open-ended</td>\n",
              "      <td>about 3 inches</td>\n",
              "      <td>8</td>\n",
              "      <td>3</td>\n",
              "    </tr>\n",
              "    <tr>\n",
              "      <th>55</th>\n",
              "      <td>B000A8MYY2</td>\n",
              "      <td>do they need to be gapped</td>\n",
              "      <td>open-ended</td>\n",
              "      <td>nope</td>\n",
              "      <td>6</td>\n",
              "      <td>1</td>\n",
              "    </tr>\n",
              "    <tr>\n",
              "      <th>56</th>\n",
              "      <td>B000ALG8LO</td>\n",
              "      <td>what color does the epoxy dry as</td>\n",
              "      <td>open-ended</td>\n",
              "      <td>metallic grey</td>\n",
              "      <td>7</td>\n",
              "      <td>2</td>\n",
              "    </tr>\n",
              "    <tr>\n",
              "      <th>57</th>\n",
              "      <td>B000ALG8LO</td>\n",
              "      <td>what color does the epoxy dry as</td>\n",
              "      <td>open-ended</td>\n",
              "      <td>medium grey</td>\n",
              "      <td>7</td>\n",
              "      <td>2</td>\n",
              "    </tr>\n",
              "    <tr>\n",
              "      <th>58</th>\n",
              "      <td>B000ALG8LO</td>\n",
              "      <td>what color does the epoxy dry as</td>\n",
              "      <td>open-ended</td>\n",
              "      <td>light grey</td>\n",
              "      <td>7</td>\n",
              "      <td>2</td>\n",
              "    </tr>\n",
              "    <tr>\n",
              "      <th>59</th>\n",
              "      <td>B000ALG8LO</td>\n",
              "      <td>what color does the epoxy dry as</td>\n",
              "      <td>open-ended</td>\n",
              "      <td>dark gray</td>\n",
              "      <td>7</td>\n",
              "      <td>2</td>\n",
              "    </tr>\n",
              "  </tbody>\n",
              "</table>\n",
              "</div>"
            ],
            "text/plain": [
              "          ASIN  ... Answer Length\n",
              "0   B000182CPM  ...             1\n",
              "1   B000182F0Y  ...             1\n",
              "2   B000182F0Y  ...             1\n",
              "3   B0001EW044  ...             1\n",
              "4   B00020BM32  ...             3\n",
              "5   B00027GTYC  ...             3\n",
              "6   B00029K1XK  ...             2\n",
              "7   B00029WRJQ  ...             2\n",
              "8   B0002F67ZK  ...             1\n",
              "9   B0002F67ZK  ...             3\n",
              "10  B0002F67ZK  ...             2\n",
              "11  B0002JJU1Y  ...             1\n",
              "12  B0002JJU1Y  ...             1\n",
              "13  B0002JMFMA  ...             1\n",
              "14  B0002JMFMA  ...             3\n",
              "15  B0002MA03S  ...             1\n",
              "16  B0002OGJTA  ...             3\n",
              "17  B0002RNSG4  ...             3\n",
              "18  B0002SRF4O  ...             1\n",
              "19  B0002T5G2Q  ...             3\n",
              "20  B0002T5G2Q  ...             1\n",
              "21  B0002T5G2Q  ...             3\n",
              "22  B0002T5G2Q  ...             3\n",
              "23  B0002T5G2Q  ...             1\n",
              "24  B0002T5G2Q  ...             3\n",
              "25  B0002YFD1K  ...             3\n",
              "26  B0002YFD1K  ...             1\n",
              "27  B0002YQSQO  ...             1\n",
              "28  B0002Z9QO4  ...             1\n",
              "29  B0002Z9QO4  ...             1\n",
              "30  B0002Z9QO4  ...             1\n",
              "31  B00061SH6W  ...             1\n",
              "32  B00061SH6W  ...             1\n",
              "33  B00061SH6W  ...             3\n",
              "34  B00061SH6W  ...             1\n",
              "35  B00062YW06  ...             1\n",
              "36  B00062YW06  ...             1\n",
              "37  B00062YW06  ...             1\n",
              "38  B00062YW06  ...             1\n",
              "39  B0006FKFMC  ...             3\n",
              "40  B0006MRSMK  ...             1\n",
              "41  B000760FWU  ...             2\n",
              "42  B000760FWU  ...             3\n",
              "43  B00076QA4C  ...             1\n",
              "44  B0007M30AI  ...             1\n",
              "45  B0007M30AI  ...             2\n",
              "46  B0007Z1A0M  ...             3\n",
              "47  B0007Z1A0M  ...             1\n",
              "48  B0008F671S  ...             3\n",
              "49  B00099YOV8  ...             1\n",
              "50  B00099YOV8  ...             2\n",
              "51  B00099YOV8  ...             1\n",
              "52  B0009SXOVA  ...             3\n",
              "53  B0009SXOVA  ...             3\n",
              "54  B0009SXOVA  ...             3\n",
              "55  B000A8MYY2  ...             1\n",
              "56  B000ALG8LO  ...             2\n",
              "57  B000ALG8LO  ...             2\n",
              "58  B000ALG8LO  ...             2\n",
              "59  B000ALG8LO  ...             2\n",
              "\n",
              "[60 rows x 6 columns]"
            ]
          },
          "metadata": {
            "tags": []
          },
          "execution_count": 49
        }
      ]
    },
    {
      "cell_type": "markdown",
      "metadata": {
        "id": "13PdqtirYGvH",
        "colab_type": "text"
      },
      "source": [
        "##### 3.8.7. Removing title of length more than thirteen"
      ]
    },
    {
      "cell_type": "code",
      "metadata": {
        "id": "IDbmytXsQMMH",
        "colab_type": "code",
        "colab": {
          "base_uri": "https://localhost:8080/",
          "height": 34
        },
        "outputId": "c2947b13-e793-4ad3-b1a7-98d807a457e3"
      },
      "source": [
        "print(\"Shape of dataset:\", df_meta.shape)"
      ],
      "execution_count": null,
      "outputs": [
        {
          "output_type": "stream",
          "text": [
            "Shape of dataset: (36969, 5)\n"
          ],
          "name": "stdout"
        }
      ]
    },
    {
      "cell_type": "code",
      "metadata": {
        "id": "ymtxdhV0OAkA",
        "colab_type": "code",
        "colab": {
          "base_uri": "https://localhost:8080/",
          "height": 34
        },
        "outputId": "d7a2c9ab-d6f6-4dbe-8635-a8cbe0e11b3a"
      },
      "source": [
        "print(\"Average title length:\", df_meta['Title Length'].mean())"
      ],
      "execution_count": null,
      "outputs": [
        {
          "output_type": "stream",
          "text": [
            "Average title length: 12.845870864778599\n"
          ],
          "name": "stdout"
        }
      ]
    },
    {
      "cell_type": "code",
      "metadata": {
        "id": "FSPSiHqOQISW",
        "colab_type": "code",
        "colab": {}
      },
      "source": [
        "df_meta = df_meta[df_meta['Title Length'] < 14]\n",
        "df_meta.reset_index(drop=True, inplace=True)"
      ],
      "execution_count": null,
      "outputs": []
    },
    {
      "cell_type": "code",
      "metadata": {
        "id": "XtRnBPqDQfbk",
        "colab_type": "code",
        "colab": {
          "base_uri": "https://localhost:8080/",
          "height": 34
        },
        "outputId": "82539989-358a-47fc-bafa-7079f1f514b2"
      },
      "source": [
        "print(\"Shape of dataset:\", df_meta.shape)"
      ],
      "execution_count": null,
      "outputs": [
        {
          "output_type": "stream",
          "text": [
            "Shape of dataset: (23916, 5)\n"
          ],
          "name": "stdout"
        }
      ]
    },
    {
      "cell_type": "code",
      "metadata": {
        "id": "d3JzUAR2WXL-",
        "colab_type": "code",
        "colab": {}
      },
      "source": [
        "df.to_csv('df_before_merge.csv', index=False)\n",
        "df_meta.to_csv('df_meta_before_merge.csv', index=False)"
      ],
      "execution_count": null,
      "outputs": []
    },
    {
      "cell_type": "code",
      "metadata": {
        "id": "SubNfL_dnWRg",
        "colab_type": "code",
        "colab": {
          "base_uri": "https://localhost:8080/",
          "height": 52
        },
        "outputId": "0f593664-ba21-4652-e6e7-d10113335d6b"
      },
      "source": [
        "df = pd.read_csv('df_before_merge.csv')\n",
        "print(df.shape)\n",
        "df_meta = pd.read_csv('df_meta_before_merge.csv')\n",
        "print(df_meta.shape)"
      ],
      "execution_count": null,
      "outputs": [
        {
          "output_type": "stream",
          "text": [
            "(212155, 6)\n",
            "(23916, 5)\n"
          ],
          "name": "stdout"
        }
      ]
    },
    {
      "cell_type": "markdown",
      "metadata": {
        "id": "g5P4rWSIeZka",
        "colab_type": "text"
      },
      "source": [
        "##### 3.8.8. Removing duplicates from meta table"
      ]
    },
    {
      "cell_type": "code",
      "metadata": {
        "id": "xKzmO2H5Pi16",
        "colab_type": "code",
        "colab": {
          "base_uri": "https://localhost:8080/",
          "height": 34
        },
        "outputId": "74840526-43c6-4921-932e-97f6f2a870b5"
      },
      "source": [
        "print(\"Number of duplicates:\", df_meta.duplicated().sum())"
      ],
      "execution_count": null,
      "outputs": [
        {
          "output_type": "stream",
          "text": [
            "Number of duplicates: 1711\n"
          ],
          "name": "stdout"
        }
      ]
    },
    {
      "cell_type": "code",
      "metadata": {
        "colab_type": "code",
        "id": "12fbIGidQAZ0",
        "colab": {
          "base_uri": "https://localhost:8080/",
          "height": 34
        },
        "outputId": "29a682d9-d574-4cde-9b02-02f4cd5465f2"
      },
      "source": [
        "print(\"Shape of data before removing the duplicates:\", df_meta.shape)"
      ],
      "execution_count": null,
      "outputs": [
        {
          "output_type": "stream",
          "text": [
            "Shape of data before removing the duplicates: (23916, 5)\n"
          ],
          "name": "stdout"
        }
      ]
    },
    {
      "cell_type": "code",
      "metadata": {
        "colab_type": "code",
        "id": "rSK7Jpi0QAZ3",
        "colab": {}
      },
      "source": [
        "df_meta.drop_duplicates(inplace=True)\n",
        "df_meta.reset_index(drop=True, inplace=True)"
      ],
      "execution_count": null,
      "outputs": []
    },
    {
      "cell_type": "code",
      "metadata": {
        "colab_type": "code",
        "id": "lwU-rRriQAZ4",
        "colab": {
          "base_uri": "https://localhost:8080/",
          "height": 34
        },
        "outputId": "38e95c2b-9290-4222-dbb0-f1a93e879899"
      },
      "source": [
        "print(\"Shape of data after removing the duplicates:\", df_meta.shape)"
      ],
      "execution_count": null,
      "outputs": [
        {
          "output_type": "stream",
          "text": [
            "Shape of data after removing the duplicates: (22205, 5)\n"
          ],
          "name": "stdout"
        }
      ]
    },
    {
      "cell_type": "markdown",
      "metadata": {
        "id": "Pm1gs0h9YiRm",
        "colab_type": "text"
      },
      "source": [
        "#### 3.9. Merging the tables"
      ]
    },
    {
      "cell_type": "code",
      "metadata": {
        "id": "2LSXM8Zx7kGl",
        "colab_type": "code",
        "colab": {}
      },
      "source": [
        "df_merged = pd.merge(df, df_meta, how='inner', on=['ASIN'])"
      ],
      "execution_count": null,
      "outputs": []
    },
    {
      "cell_type": "code",
      "metadata": {
        "id": "ML2NgklnX3vh",
        "colab_type": "code",
        "colab": {
          "base_uri": "https://localhost:8080/",
          "height": 318
        },
        "outputId": "e93778d7-e8b3-4cf5-bc28-760f00dcb422"
      },
      "source": [
        "df_merged.info()"
      ],
      "execution_count": null,
      "outputs": [
        {
          "output_type": "stream",
          "text": [
            "<class 'pandas.core.frame.DataFrame'>\n",
            "Int64Index: 32366 entries, 0 to 32365\n",
            "Data columns (total 10 columns):\n",
            " #   Column           Non-Null Count  Dtype  \n",
            "---  ------           --------------  -----  \n",
            " 0   ASIN             32366 non-null  object \n",
            " 1   Questions        32366 non-null  object \n",
            " 2   Questions Type   32366 non-null  object \n",
            " 3   Answers          32366 non-null  object \n",
            " 4   Question Length  32366 non-null  int64  \n",
            " 5   Answer Length    32366 non-null  int64  \n",
            " 6   Title            32366 non-null  object \n",
            " 7   Price            32366 non-null  float64\n",
            " 8   Image            32366 non-null  object \n",
            " 9   Title Length     32366 non-null  int64  \n",
            "dtypes: float64(1), int64(3), object(6)\n",
            "memory usage: 2.7+ MB\n"
          ],
          "name": "stdout"
        }
      ]
    },
    {
      "cell_type": "code",
      "metadata": {
        "id": "DVSuQPwI7odV",
        "colab_type": "code",
        "colab": {
          "base_uri": "https://localhost:8080/",
          "height": 1000
        },
        "outputId": "b7ef3c4f-4c2c-4e37-d629-b027233e7418"
      },
      "source": [
        "df_merged.head(60)"
      ],
      "execution_count": null,
      "outputs": [
        {
          "output_type": "execute_result",
          "data": {
            "text/html": [
              "<div>\n",
              "<style scoped>\n",
              "    .dataframe tbody tr th:only-of-type {\n",
              "        vertical-align: middle;\n",
              "    }\n",
              "\n",
              "    .dataframe tbody tr th {\n",
              "        vertical-align: top;\n",
              "    }\n",
              "\n",
              "    .dataframe thead th {\n",
              "        text-align: right;\n",
              "    }\n",
              "</style>\n",
              "<table border=\"1\" class=\"dataframe\">\n",
              "  <thead>\n",
              "    <tr style=\"text-align: right;\">\n",
              "      <th></th>\n",
              "      <th>ASIN</th>\n",
              "      <th>Questions</th>\n",
              "      <th>Questions Type</th>\n",
              "      <th>Answers</th>\n",
              "      <th>Question Length</th>\n",
              "      <th>Answer Length</th>\n",
              "      <th>Title</th>\n",
              "      <th>Price</th>\n",
              "      <th>Image</th>\n",
              "      <th>Title Length</th>\n",
              "    </tr>\n",
              "  </thead>\n",
              "  <tbody>\n",
              "    <tr>\n",
              "      <th>0</th>\n",
              "      <td>B000182CPM</td>\n",
              "      <td>is the hardware for installation included</td>\n",
              "      <td>yes/no</td>\n",
              "      <td>no</td>\n",
              "      <td>6</td>\n",
              "      <td>1</td>\n",
              "      <td>dee zee dz1800 full size brite tread mud flaps</td>\n",
              "      <td>30.91</td>\n",
              "      <td>https://images-na.ssl-images-amazon.com/images...</td>\n",
              "      <td>9</td>\n",
              "    </tr>\n",
              "    <tr>\n",
              "      <th>1</th>\n",
              "      <td>B00027GTYC</td>\n",
              "      <td>will this work on the generation 1 alpha</td>\n",
              "      <td>open-ended</td>\n",
              "      <td>yes it will</td>\n",
              "      <td>8</td>\n",
              "      <td>3</td>\n",
              "      <td>sierra 18 2603 lower shift cable kit</td>\n",
              "      <td>63.86</td>\n",
              "      <td>https://images-na.ssl-images-amazon.com/images...</td>\n",
              "      <td>7</td>\n",
              "    </tr>\n",
              "    <tr>\n",
              "      <th>2</th>\n",
              "      <td>B00029WRJQ</td>\n",
              "      <td>is this a set or do i have to order 2</td>\n",
              "      <td>open-ended</td>\n",
              "      <td>order 2</td>\n",
              "      <td>11</td>\n",
              "      <td>2</td>\n",
              "      <td>cipa 11650 deluxe door mount towing mirror</td>\n",
              "      <td>58.98</td>\n",
              "      <td>https://images-na.ssl-images-amazon.com/images...</td>\n",
              "      <td>7</td>\n",
              "    </tr>\n",
              "    <tr>\n",
              "      <th>3</th>\n",
              "      <td>B0002JMFMA</td>\n",
              "      <td>will this fit a 2001 chevy malibu</td>\n",
              "      <td>open-ended</td>\n",
              "      <td>yes</td>\n",
              "      <td>7</td>\n",
              "      <td>1</td>\n",
              "      <td>gates 27041 windshield washer vacuum hose non ...</td>\n",
              "      <td>21.68</td>\n",
              "      <td>https://images-na.ssl-images-amazon.com/images...</td>\n",
              "      <td>8</td>\n",
              "    </tr>\n",
              "    <tr>\n",
              "      <th>4</th>\n",
              "      <td>B0002JMFMA</td>\n",
              "      <td>will this fit a 2001 chevy malibu</td>\n",
              "      <td>open-ended</td>\n",
              "      <td>yes it will</td>\n",
              "      <td>7</td>\n",
              "      <td>3</td>\n",
              "      <td>gates 27041 windshield washer vacuum hose non ...</td>\n",
              "      <td>21.68</td>\n",
              "      <td>https://images-na.ssl-images-amazon.com/images...</td>\n",
              "      <td>8</td>\n",
              "    </tr>\n",
              "    <tr>\n",
              "      <th>5</th>\n",
              "      <td>B0002OGJTA</td>\n",
              "      <td>will it have mirror pockets</td>\n",
              "      <td>open-ended</td>\n",
              "      <td>no mirror pockets</td>\n",
              "      <td>5</td>\n",
              "      <td>3</td>\n",
              "      <td>covercraft c40006 ready fit multibond car cover</td>\n",
              "      <td>100.60</td>\n",
              "      <td>https://images-na.ssl-images-amazon.com/images...</td>\n",
              "      <td>7</td>\n",
              "    </tr>\n",
              "    <tr>\n",
              "      <th>6</th>\n",
              "      <td>B0002RNSG4</td>\n",
              "      <td>does this fit jeep liberty</td>\n",
              "      <td>open-ended</td>\n",
              "      <td>yes it does</td>\n",
              "      <td>5</td>\n",
              "      <td>3</td>\n",
              "      <td>hopkins 42475 plug in simple vehicle wiring kit</td>\n",
              "      <td>28.13</td>\n",
              "      <td>https://images-na.ssl-images-amazon.com/images...</td>\n",
              "      <td>8</td>\n",
              "    </tr>\n",
              "    <tr>\n",
              "      <th>7</th>\n",
              "      <td>B0002YFD1K</td>\n",
              "      <td>does it test capacitors accurately</td>\n",
              "      <td>yes/no</td>\n",
              "      <td>yes and perfect</td>\n",
              "      <td>5</td>\n",
              "      <td>3</td>\n",
              "      <td>fluke 87 v digital multimeter</td>\n",
              "      <td>10.36</td>\n",
              "      <td>https://images-na.ssl-images-amazon.com/images...</td>\n",
              "      <td>5</td>\n",
              "    </tr>\n",
              "    <tr>\n",
              "      <th>8</th>\n",
              "      <td>B0002YFD1K</td>\n",
              "      <td>does it test capacitors accurately</td>\n",
              "      <td>yes/no</td>\n",
              "      <td>yes</td>\n",
              "      <td>5</td>\n",
              "      <td>1</td>\n",
              "      <td>fluke 87 v digital multimeter</td>\n",
              "      <td>10.36</td>\n",
              "      <td>https://images-na.ssl-images-amazon.com/images...</td>\n",
              "      <td>5</td>\n",
              "    </tr>\n",
              "    <tr>\n",
              "      <th>9</th>\n",
              "      <td>B0002YQSQO</td>\n",
              "      <td>can you get replacement filters from your loca...</td>\n",
              "      <td>yes/no</td>\n",
              "      <td>yes</td>\n",
              "      <td>10</td>\n",
              "      <td>1</td>\n",
              "      <td>goldenrod 495 bowl fuel tank filter with 1 npt...</td>\n",
              "      <td>34.99</td>\n",
              "      <td>https://images-na.ssl-images-amazon.com/images...</td>\n",
              "      <td>11</td>\n",
              "    </tr>\n",
              "    <tr>\n",
              "      <th>10</th>\n",
              "      <td>B0002Z9QO4</td>\n",
              "      <td>will this fit a small suv</td>\n",
              "      <td>yes/no</td>\n",
              "      <td>yes</td>\n",
              "      <td>6</td>\n",
              "      <td>1</td>\n",
              "      <td>lund 601016 soft pack roof bag</td>\n",
              "      <td>36.88</td>\n",
              "      <td>https://images-na.ssl-images-amazon.com/images...</td>\n",
              "      <td>6</td>\n",
              "    </tr>\n",
              "    <tr>\n",
              "      <th>11</th>\n",
              "      <td>B0002Z9QO4</td>\n",
              "      <td>do it require roof mat</td>\n",
              "      <td>open-ended</td>\n",
              "      <td>yes</td>\n",
              "      <td>5</td>\n",
              "      <td>1</td>\n",
              "      <td>lund 601016 soft pack roof bag</td>\n",
              "      <td>36.88</td>\n",
              "      <td>https://images-na.ssl-images-amazon.com/images...</td>\n",
              "      <td>6</td>\n",
              "    </tr>\n",
              "    <tr>\n",
              "      <th>12</th>\n",
              "      <td>B0002Z9QO4</td>\n",
              "      <td>do it require roof mat</td>\n",
              "      <td>open-ended</td>\n",
              "      <td>no</td>\n",
              "      <td>5</td>\n",
              "      <td>1</td>\n",
              "      <td>lund 601016 soft pack roof bag</td>\n",
              "      <td>36.88</td>\n",
              "      <td>https://images-na.ssl-images-amazon.com/images...</td>\n",
              "      <td>6</td>\n",
              "    </tr>\n",
              "    <tr>\n",
              "      <th>13</th>\n",
              "      <td>B00061SH6W</td>\n",
              "      <td>will this work on a 1996 buick lesabre</td>\n",
              "      <td>open-ended</td>\n",
              "      <td>yes</td>\n",
              "      <td>8</td>\n",
              "      <td>1</td>\n",
              "      <td>astro 7886 a c compressor clutch installer rem...</td>\n",
              "      <td>31.75</td>\n",
              "      <td>https://images-na.ssl-images-amazon.com/images...</td>\n",
              "      <td>9</td>\n",
              "    </tr>\n",
              "    <tr>\n",
              "      <th>14</th>\n",
              "      <td>B00061SH6W</td>\n",
              "      <td>will it work on a 04 silverado 5 3l</td>\n",
              "      <td>yes/no</td>\n",
              "      <td>yes</td>\n",
              "      <td>9</td>\n",
              "      <td>1</td>\n",
              "      <td>astro 7886 a c compressor clutch installer rem...</td>\n",
              "      <td>31.75</td>\n",
              "      <td>https://images-na.ssl-images-amazon.com/images...</td>\n",
              "      <td>9</td>\n",
              "    </tr>\n",
              "    <tr>\n",
              "      <th>15</th>\n",
              "      <td>B00061SH6W</td>\n",
              "      <td>will it work on 99 silverado v8</td>\n",
              "      <td>yes/no</td>\n",
              "      <td>yes it will</td>\n",
              "      <td>7</td>\n",
              "      <td>3</td>\n",
              "      <td>astro 7886 a c compressor clutch installer rem...</td>\n",
              "      <td>31.75</td>\n",
              "      <td>https://images-na.ssl-images-amazon.com/images...</td>\n",
              "      <td>9</td>\n",
              "    </tr>\n",
              "    <tr>\n",
              "      <th>16</th>\n",
              "      <td>B00061SH6W</td>\n",
              "      <td>will this work for 2004 dodge dakota</td>\n",
              "      <td>open-ended</td>\n",
              "      <td>no</td>\n",
              "      <td>7</td>\n",
              "      <td>1</td>\n",
              "      <td>astro 7886 a c compressor clutch installer rem...</td>\n",
              "      <td>31.75</td>\n",
              "      <td>https://images-na.ssl-images-amazon.com/images...</td>\n",
              "      <td>9</td>\n",
              "    </tr>\n",
              "    <tr>\n",
              "      <th>17</th>\n",
              "      <td>B0006FKFMC</td>\n",
              "      <td>can i use this product on my ge clean steel fr...</td>\n",
              "      <td>yes/no</td>\n",
              "      <td>yes you can</td>\n",
              "      <td>11</td>\n",
              "      <td>3</td>\n",
              "      <td>dent out cross bar ding repair kit</td>\n",
              "      <td>22.99</td>\n",
              "      <td>https://images-na.ssl-images-amazon.com/images...</td>\n",
              "      <td>7</td>\n",
              "    </tr>\n",
              "    <tr>\n",
              "      <th>18</th>\n",
              "      <td>B00076QA4C</td>\n",
              "      <td>will it fit a toyota prius</td>\n",
              "      <td>yes/no</td>\n",
              "      <td>yes</td>\n",
              "      <td>6</td>\n",
              "      <td>1</td>\n",
              "      <td>highland 9501300 black three pocket storage net</td>\n",
              "      <td>14.18</td>\n",
              "      <td>https://images-na.ssl-images-amazon.com/images...</td>\n",
              "      <td>7</td>\n",
              "    </tr>\n",
              "    <tr>\n",
              "      <th>19</th>\n",
              "      <td>B0008F671S</td>\n",
              "      <td>does this come with nuts and bolts</td>\n",
              "      <td>open-ended</td>\n",
              "      <td>yes it does</td>\n",
              "      <td>7</td>\n",
              "      <td>3</td>\n",
              "      <td>reese towpower 81378 class ii step bumper rece...</td>\n",
              "      <td>21.18</td>\n",
              "      <td>https://images-na.ssl-images-amazon.com/images...</td>\n",
              "      <td>9</td>\n",
              "    </tr>\n",
              "    <tr>\n",
              "      <th>20</th>\n",
              "      <td>B000ARPVNY</td>\n",
              "      <td>can i use it with royal purple synthetic motor...</td>\n",
              "      <td>yes/no</td>\n",
              "      <td>yes you can</td>\n",
              "      <td>10</td>\n",
              "      <td>3</td>\n",
              "      <td>lucas luc10130 synthetic oil stabilizer quart</td>\n",
              "      <td>11.94</td>\n",
              "      <td>https://images-na.ssl-images-amazon.com/images...</td>\n",
              "      <td>6</td>\n",
              "    </tr>\n",
              "    <tr>\n",
              "      <th>21</th>\n",
              "      <td>B000B6JJUK</td>\n",
              "      <td>what is the country of origin for this guage</td>\n",
              "      <td>open-ended</td>\n",
              "      <td>china</td>\n",
              "      <td>9</td>\n",
              "      <td>1</td>\n",
              "      <td>accutire ms 4350b setpoint tire gauge</td>\n",
              "      <td>17.30</td>\n",
              "      <td>https://images-na.ssl-images-amazon.com/images...</td>\n",
              "      <td>6</td>\n",
              "    </tr>\n",
              "    <tr>\n",
              "      <th>22</th>\n",
              "      <td>B000B6JJUK</td>\n",
              "      <td>what is the country of origin for this guage</td>\n",
              "      <td>open-ended</td>\n",
              "      <td>usa</td>\n",
              "      <td>9</td>\n",
              "      <td>1</td>\n",
              "      <td>accutire ms 4350b setpoint tire gauge</td>\n",
              "      <td>17.30</td>\n",
              "      <td>https://images-na.ssl-images-amazon.com/images...</td>\n",
              "      <td>6</td>\n",
              "    </tr>\n",
              "    <tr>\n",
              "      <th>23</th>\n",
              "      <td>B000B6JJUK</td>\n",
              "      <td>does it come in a box</td>\n",
              "      <td>open-ended</td>\n",
              "      <td>no</td>\n",
              "      <td>6</td>\n",
              "      <td>1</td>\n",
              "      <td>accutire ms 4350b setpoint tire gauge</td>\n",
              "      <td>17.30</td>\n",
              "      <td>https://images-na.ssl-images-amazon.com/images...</td>\n",
              "      <td>6</td>\n",
              "    </tr>\n",
              "    <tr>\n",
              "      <th>24</th>\n",
              "      <td>B000B6JJUK</td>\n",
              "      <td>does it come in a box</td>\n",
              "      <td>open-ended</td>\n",
              "      <td>yes</td>\n",
              "      <td>6</td>\n",
              "      <td>1</td>\n",
              "      <td>accutire ms 4350b setpoint tire gauge</td>\n",
              "      <td>17.30</td>\n",
              "      <td>https://images-na.ssl-images-amazon.com/images...</td>\n",
              "      <td>6</td>\n",
              "    </tr>\n",
              "    <tr>\n",
              "      <th>25</th>\n",
              "      <td>B000BNS7Y2</td>\n",
              "      <td>how accurate is this gauge</td>\n",
              "      <td>open-ended</td>\n",
              "      <td>very accurate</td>\n",
              "      <td>5</td>\n",
              "      <td>2</td>\n",
              "      <td>measurement limited accutire ms 5510b racing t...</td>\n",
              "      <td>34.71</td>\n",
              "      <td>https://images-na.ssl-images-amazon.com/images...</td>\n",
              "      <td>8</td>\n",
              "    </tr>\n",
              "    <tr>\n",
              "      <th>26</th>\n",
              "      <td>B000BNZ45M</td>\n",
              "      <td>does it come with an electronic solenoid valve</td>\n",
              "      <td>yes/no</td>\n",
              "      <td>no</td>\n",
              "      <td>8</td>\n",
              "      <td>1</td>\n",
              "      <td>wolo 840 turbo compressor and extended tank sy...</td>\n",
              "      <td>168.99</td>\n",
              "      <td>https://images-na.ssl-images-amazon.com/images...</td>\n",
              "      <td>8</td>\n",
              "    </tr>\n",
              "    <tr>\n",
              "      <th>27</th>\n",
              "      <td>B000BNZ45M</td>\n",
              "      <td>does it come with an electronic solenoid valve</td>\n",
              "      <td>yes/no</td>\n",
              "      <td>no buy seperately</td>\n",
              "      <td>8</td>\n",
              "      <td>3</td>\n",
              "      <td>wolo 840 turbo compressor and extended tank sy...</td>\n",
              "      <td>168.99</td>\n",
              "      <td>https://images-na.ssl-images-amazon.com/images...</td>\n",
              "      <td>8</td>\n",
              "    </tr>\n",
              "    <tr>\n",
              "      <th>28</th>\n",
              "      <td>B000BNZ45M</td>\n",
              "      <td>does this come with a solenoid valve</td>\n",
              "      <td>open-ended</td>\n",
              "      <td>nope</td>\n",
              "      <td>7</td>\n",
              "      <td>1</td>\n",
              "      <td>wolo 840 turbo compressor and extended tank sy...</td>\n",
              "      <td>168.99</td>\n",
              "      <td>https://images-na.ssl-images-amazon.com/images...</td>\n",
              "      <td>8</td>\n",
              "    </tr>\n",
              "    <tr>\n",
              "      <th>29</th>\n",
              "      <td>B000BNZ45M</td>\n",
              "      <td>does this come with a solenoid valve</td>\n",
              "      <td>open-ended</td>\n",
              "      <td>yes</td>\n",
              "      <td>7</td>\n",
              "      <td>1</td>\n",
              "      <td>wolo 840 turbo compressor and extended tank sy...</td>\n",
              "      <td>168.99</td>\n",
              "      <td>https://images-na.ssl-images-amazon.com/images...</td>\n",
              "      <td>8</td>\n",
              "    </tr>\n",
              "    <tr>\n",
              "      <th>30</th>\n",
              "      <td>B000BPSW7C</td>\n",
              "      <td>is it flammable</td>\n",
              "      <td>open-ended</td>\n",
              "      <td>no</td>\n",
              "      <td>3</td>\n",
              "      <td>1</td>\n",
              "      <td>nu finish liquid car polish</td>\n",
              "      <td>6.99</td>\n",
              "      <td>https://images-na.ssl-images-amazon.com/images...</td>\n",
              "      <td>5</td>\n",
              "    </tr>\n",
              "    <tr>\n",
              "      <th>31</th>\n",
              "      <td>B000BRCKAU</td>\n",
              "      <td>what colour is the caulking</td>\n",
              "      <td>open-ended</td>\n",
              "      <td>your welcome</td>\n",
              "      <td>5</td>\n",
              "      <td>2</td>\n",
              "      <td>dicor 401ck rv roof installation component kit</td>\n",
              "      <td>187.43</td>\n",
              "      <td>https://images-na.ssl-images-amazon.com/images...</td>\n",
              "      <td>7</td>\n",
              "    </tr>\n",
              "    <tr>\n",
              "      <th>32</th>\n",
              "      <td>B000BWDY32</td>\n",
              "      <td>will these fit a 1998lexus ls400</td>\n",
              "      <td>yes/no</td>\n",
              "      <td>yes</td>\n",
              "      <td>6</td>\n",
              "      <td>1</td>\n",
              "      <td>eibach 3852 120 pro kit performance spring kit...</td>\n",
              "      <td>29.99</td>\n",
              "      <td>https://images-na.ssl-images-amazon.com/images...</td>\n",
              "      <td>11</td>\n",
              "    </tr>\n",
              "    <tr>\n",
              "      <th>33</th>\n",
              "      <td>B000BZXQP0</td>\n",
              "      <td>does it come in pairs</td>\n",
              "      <td>open-ended</td>\n",
              "      <td>no</td>\n",
              "      <td>5</td>\n",
              "      <td>1</td>\n",
              "      <td>centric 120 40036 premium brake rotor</td>\n",
              "      <td>34.56</td>\n",
              "      <td>https://images-na.ssl-images-amazon.com/images...</td>\n",
              "      <td>6</td>\n",
              "    </tr>\n",
              "    <tr>\n",
              "      <th>34</th>\n",
              "      <td>B000BZXQP0</td>\n",
              "      <td>does it come in pairs</td>\n",
              "      <td>open-ended</td>\n",
              "      <td>no just one</td>\n",
              "      <td>5</td>\n",
              "      <td>3</td>\n",
              "      <td>centric 120 40036 premium brake rotor</td>\n",
              "      <td>34.56</td>\n",
              "      <td>https://images-na.ssl-images-amazon.com/images...</td>\n",
              "      <td>6</td>\n",
              "    </tr>\n",
              "    <tr>\n",
              "      <th>35</th>\n",
              "      <td>B000C45752</td>\n",
              "      <td>wil this work on the 2003 sequoia rear window</td>\n",
              "      <td>open-ended</td>\n",
              "      <td>yes</td>\n",
              "      <td>9</td>\n",
              "      <td>1</td>\n",
              "      <td>cardone 47 1104 remanufactured import window l...</td>\n",
              "      <td>34.98</td>\n",
              "      <td>https://images-na.ssl-images-amazon.com/images...</td>\n",
              "      <td>8</td>\n",
              "    </tr>\n",
              "    <tr>\n",
              "      <th>36</th>\n",
              "      <td>B000C45752</td>\n",
              "      <td>wil this work on the 2003 sequoia rear window</td>\n",
              "      <td>open-ended</td>\n",
              "      <td>it should</td>\n",
              "      <td>9</td>\n",
              "      <td>2</td>\n",
              "      <td>cardone 47 1104 remanufactured import window l...</td>\n",
              "      <td>34.98</td>\n",
              "      <td>https://images-na.ssl-images-amazon.com/images...</td>\n",
              "      <td>8</td>\n",
              "    </tr>\n",
              "    <tr>\n",
              "      <th>37</th>\n",
              "      <td>B000C54496</td>\n",
              "      <td>how many come in the package i assume there are 2</td>\n",
              "      <td>open-ended</td>\n",
              "      <td>one per package</td>\n",
              "      <td>11</td>\n",
              "      <td>3</td>\n",
              "      <td>moog k80026 ball joint</td>\n",
              "      <td>32.78</td>\n",
              "      <td>https://images-na.ssl-images-amazon.com/images...</td>\n",
              "      <td>4</td>\n",
              "    </tr>\n",
              "    <tr>\n",
              "      <th>38</th>\n",
              "      <td>B000C54496</td>\n",
              "      <td>how many come in the package i assume there are 2</td>\n",
              "      <td>open-ended</td>\n",
              "      <td>1</td>\n",
              "      <td>11</td>\n",
              "      <td>1</td>\n",
              "      <td>moog k80026 ball joint</td>\n",
              "      <td>32.78</td>\n",
              "      <td>https://images-na.ssl-images-amazon.com/images...</td>\n",
              "      <td>4</td>\n",
              "    </tr>\n",
              "    <tr>\n",
              "      <th>39</th>\n",
              "      <td>B000C54496</td>\n",
              "      <td>how many come in the package i assume there are 2</td>\n",
              "      <td>open-ended</td>\n",
              "      <td>one</td>\n",
              "      <td>11</td>\n",
              "      <td>1</td>\n",
              "      <td>moog k80026 ball joint</td>\n",
              "      <td>32.78</td>\n",
              "      <td>https://images-na.ssl-images-amazon.com/images...</td>\n",
              "      <td>4</td>\n",
              "    </tr>\n",
              "    <tr>\n",
              "      <th>40</th>\n",
              "      <td>B000C54496</td>\n",
              "      <td>is this for a f350 2001</td>\n",
              "      <td>yes/no</td>\n",
              "      <td>yes</td>\n",
              "      <td>6</td>\n",
              "      <td>1</td>\n",
              "      <td>moog k80026 ball joint</td>\n",
              "      <td>32.78</td>\n",
              "      <td>https://images-na.ssl-images-amazon.com/images...</td>\n",
              "      <td>4</td>\n",
              "    </tr>\n",
              "    <tr>\n",
              "      <th>41</th>\n",
              "      <td>B000C54496</td>\n",
              "      <td>these ball joints adjustable for front end ali...</td>\n",
              "      <td>open-ended</td>\n",
              "      <td>n a</td>\n",
              "      <td>8</td>\n",
              "      <td>2</td>\n",
              "      <td>moog k80026 ball joint</td>\n",
              "      <td>32.78</td>\n",
              "      <td>https://images-na.ssl-images-amazon.com/images...</td>\n",
              "      <td>4</td>\n",
              "    </tr>\n",
              "    <tr>\n",
              "      <th>42</th>\n",
              "      <td>B000C5C772</td>\n",
              "      <td>is this backing plate for a9inch or a 10inch</td>\n",
              "      <td>open-ended</td>\n",
              "      <td>9</td>\n",
              "      <td>9</td>\n",
              "      <td>1</td>\n",
              "      <td>dorman 13867 help brake backing plate</td>\n",
              "      <td>27.35</td>\n",
              "      <td>https://images-na.ssl-images-amazon.com/images...</td>\n",
              "      <td>6</td>\n",
              "    </tr>\n",
              "    <tr>\n",
              "      <th>43</th>\n",
              "      <td>B000CCFZJW</td>\n",
              "      <td>are these coated in ceramic</td>\n",
              "      <td>open-ended</td>\n",
              "      <td>yes they are</td>\n",
              "      <td>5</td>\n",
              "      <td>3</td>\n",
              "      <td>gibson gp129s c ceramic coated performance header</td>\n",
              "      <td>605.95</td>\n",
              "      <td>https://images-na.ssl-images-amazon.com/images...</td>\n",
              "      <td>7</td>\n",
              "    </tr>\n",
              "    <tr>\n",
              "      <th>44</th>\n",
              "      <td>B000CF3WFI</td>\n",
              "      <td>this product fits to a ford explorer 2002 xlt ...</td>\n",
              "      <td>open-ended</td>\n",
              "      <td>no</td>\n",
              "      <td>11</td>\n",
              "      <td>1</td>\n",
              "      <td>bosch 15664 oxygen sensor original equipment f...</td>\n",
              "      <td>34.78</td>\n",
              "      <td>https://images-na.ssl-images-amazon.com/images...</td>\n",
              "      <td>10</td>\n",
              "    </tr>\n",
              "    <tr>\n",
              "      <th>45</th>\n",
              "      <td>B000CF3WFI</td>\n",
              "      <td>are these sensors also for the downstream</td>\n",
              "      <td>open-ended</td>\n",
              "      <td>yes</td>\n",
              "      <td>7</td>\n",
              "      <td>1</td>\n",
              "      <td>bosch 15664 oxygen sensor original equipment f...</td>\n",
              "      <td>34.78</td>\n",
              "      <td>https://images-na.ssl-images-amazon.com/images...</td>\n",
              "      <td>10</td>\n",
              "    </tr>\n",
              "    <tr>\n",
              "      <th>46</th>\n",
              "      <td>B000CFUP9O</td>\n",
              "      <td>is all three u getting</td>\n",
              "      <td>yes/no</td>\n",
              "      <td>only one</td>\n",
              "      <td>5</td>\n",
              "      <td>2</td>\n",
              "      <td>aeromotive 15606 an 06 o ring boss an 06 male ...</td>\n",
              "      <td>13.24</td>\n",
              "      <td>https://images-na.ssl-images-amazon.com/images...</td>\n",
              "      <td>13</td>\n",
              "    </tr>\n",
              "    <tr>\n",
              "      <th>47</th>\n",
              "      <td>B000CFUP9O</td>\n",
              "      <td>is all three u getting</td>\n",
              "      <td>yes/no</td>\n",
              "      <td>just one</td>\n",
              "      <td>5</td>\n",
              "      <td>2</td>\n",
              "      <td>aeromotive 15606 an 06 o ring boss an 06 male ...</td>\n",
              "      <td>13.24</td>\n",
              "      <td>https://images-na.ssl-images-amazon.com/images...</td>\n",
              "      <td>13</td>\n",
              "    </tr>\n",
              "    <tr>\n",
              "      <th>48</th>\n",
              "      <td>B000CIM99A</td>\n",
              "      <td>does this intake come with instructions on how...</td>\n",
              "      <td>open-ended</td>\n",
              "      <td>yes</td>\n",
              "      <td>10</td>\n",
              "      <td>1</td>\n",
              "      <td>airaid 310 136 intake system</td>\n",
              "      <td>274.39</td>\n",
              "      <td>https://images-na.ssl-images-amazon.com/images...</td>\n",
              "      <td>5</td>\n",
              "    </tr>\n",
              "    <tr>\n",
              "      <th>49</th>\n",
              "      <td>B000CIXMKK</td>\n",
              "      <td>is this for front driver or front passenger side</td>\n",
              "      <td>open-ended</td>\n",
              "      <td>front driver</td>\n",
              "      <td>9</td>\n",
              "      <td>2</td>\n",
              "      <td>dorman 742 253 ford lincoln mercury window lif...</td>\n",
              "      <td>39.95</td>\n",
              "      <td>https://images-na.ssl-images-amazon.com/images...</td>\n",
              "      <td>9</td>\n",
              "    </tr>\n",
              "    <tr>\n",
              "      <th>50</th>\n",
              "      <td>B000CIXMKK</td>\n",
              "      <td>is this for front driver or front passenger side</td>\n",
              "      <td>open-ended</td>\n",
              "      <td>drivers side</td>\n",
              "      <td>9</td>\n",
              "      <td>2</td>\n",
              "      <td>dorman 742 253 ford lincoln mercury window lif...</td>\n",
              "      <td>39.95</td>\n",
              "      <td>https://images-na.ssl-images-amazon.com/images...</td>\n",
              "      <td>9</td>\n",
              "    </tr>\n",
              "    <tr>\n",
              "      <th>51</th>\n",
              "      <td>B000CIXMKK</td>\n",
              "      <td>is this for front driver or front passenger side</td>\n",
              "      <td>open-ended</td>\n",
              "      <td>yes</td>\n",
              "      <td>9</td>\n",
              "      <td>1</td>\n",
              "      <td>dorman 742 253 ford lincoln mercury window lif...</td>\n",
              "      <td>39.95</td>\n",
              "      <td>https://images-na.ssl-images-amazon.com/images...</td>\n",
              "      <td>9</td>\n",
              "    </tr>\n",
              "    <tr>\n",
              "      <th>52</th>\n",
              "      <td>B000CLOU1W</td>\n",
              "      <td>it is unclear if this is an upstream or downst...</td>\n",
              "      <td>open-ended</td>\n",
              "      <td>upstream</td>\n",
              "      <td>11</td>\n",
              "      <td>1</td>\n",
              "      <td>walker products 250 25005 5 wire wideband sensor</td>\n",
              "      <td>55.95</td>\n",
              "      <td>https://images-na.ssl-images-amazon.com/images...</td>\n",
              "      <td>8</td>\n",
              "    </tr>\n",
              "    <tr>\n",
              "      <th>53</th>\n",
              "      <td>B000CMDPLM</td>\n",
              "      <td>the price is for one tool</td>\n",
              "      <td>open-ended</td>\n",
              "      <td>you get both</td>\n",
              "      <td>6</td>\n",
              "      <td>3</td>\n",
              "      <td>oemtools 25550 macpherson strut spring compressor</td>\n",
              "      <td>30.76</td>\n",
              "      <td>https://images-na.ssl-images-amazon.com/images...</td>\n",
              "      <td>6</td>\n",
              "    </tr>\n",
              "    <tr>\n",
              "      <th>54</th>\n",
              "      <td>B000CMDPLM</td>\n",
              "      <td>what size metric bolt is used</td>\n",
              "      <td>open-ended</td>\n",
              "      <td>a size 19</td>\n",
              "      <td>6</td>\n",
              "      <td>3</td>\n",
              "      <td>oemtools 25550 macpherson strut spring compressor</td>\n",
              "      <td>30.76</td>\n",
              "      <td>https://images-na.ssl-images-amazon.com/images...</td>\n",
              "      <td>6</td>\n",
              "    </tr>\n",
              "    <tr>\n",
              "      <th>55</th>\n",
              "      <td>B000CN5QG8</td>\n",
              "      <td>how long is it</td>\n",
              "      <td>open-ended</td>\n",
              "      <td>about ten feet</td>\n",
              "      <td>4</td>\n",
              "      <td>3</td>\n",
              "      <td>extang 1140 maxseal</td>\n",
              "      <td>19.99</td>\n",
              "      <td>https://images-na.ssl-images-amazon.com/images...</td>\n",
              "      <td>3</td>\n",
              "    </tr>\n",
              "    <tr>\n",
              "      <th>56</th>\n",
              "      <td>B000CN5QG8</td>\n",
              "      <td>how long is it</td>\n",
              "      <td>open-ended</td>\n",
              "      <td>120 inches</td>\n",
              "      <td>4</td>\n",
              "      <td>2</td>\n",
              "      <td>extang 1140 maxseal</td>\n",
              "      <td>19.99</td>\n",
              "      <td>https://images-na.ssl-images-amazon.com/images...</td>\n",
              "      <td>3</td>\n",
              "    </tr>\n",
              "    <tr>\n",
              "      <th>57</th>\n",
              "      <td>B000CNB5OK</td>\n",
              "      <td>will these fit a 2003 tahoe</td>\n",
              "      <td>open-ended</td>\n",
              "      <td>yes</td>\n",
              "      <td>6</td>\n",
              "      <td>1</td>\n",
              "      <td>energy suspension 9 9101g all purpose bump sto...</td>\n",
              "      <td>13.51</td>\n",
              "      <td>https://images-na.ssl-images-amazon.com/images...</td>\n",
              "      <td>11</td>\n",
              "    </tr>\n",
              "    <tr>\n",
              "      <th>58</th>\n",
              "      <td>B000CNB5OK</td>\n",
              "      <td>will these fit a 2003 tahoe</td>\n",
              "      <td>open-ended</td>\n",
              "      <td>no</td>\n",
              "      <td>6</td>\n",
              "      <td>1</td>\n",
              "      <td>energy suspension 9 9101g all purpose bump sto...</td>\n",
              "      <td>13.51</td>\n",
              "      <td>https://images-na.ssl-images-amazon.com/images...</td>\n",
              "      <td>11</td>\n",
              "    </tr>\n",
              "    <tr>\n",
              "      <th>59</th>\n",
              "      <td>B000COBXBE</td>\n",
              "      <td>rubber or plastic</td>\n",
              "      <td>open-ended</td>\n",
              "      <td>plastic</td>\n",
              "      <td>3</td>\n",
              "      <td>1</td>\n",
              "      <td>kyb sb108 strut boot</td>\n",
              "      <td>9.66</td>\n",
              "      <td>https://images-na.ssl-images-amazon.com/images...</td>\n",
              "      <td>4</td>\n",
              "    </tr>\n",
              "  </tbody>\n",
              "</table>\n",
              "</div>"
            ],
            "text/plain": [
              "          ASIN  ... Title Length\n",
              "0   B000182CPM  ...            9\n",
              "1   B00027GTYC  ...            7\n",
              "2   B00029WRJQ  ...            7\n",
              "3   B0002JMFMA  ...            8\n",
              "4   B0002JMFMA  ...            8\n",
              "5   B0002OGJTA  ...            7\n",
              "6   B0002RNSG4  ...            8\n",
              "7   B0002YFD1K  ...            5\n",
              "8   B0002YFD1K  ...            5\n",
              "9   B0002YQSQO  ...           11\n",
              "10  B0002Z9QO4  ...            6\n",
              "11  B0002Z9QO4  ...            6\n",
              "12  B0002Z9QO4  ...            6\n",
              "13  B00061SH6W  ...            9\n",
              "14  B00061SH6W  ...            9\n",
              "15  B00061SH6W  ...            9\n",
              "16  B00061SH6W  ...            9\n",
              "17  B0006FKFMC  ...            7\n",
              "18  B00076QA4C  ...            7\n",
              "19  B0008F671S  ...            9\n",
              "20  B000ARPVNY  ...            6\n",
              "21  B000B6JJUK  ...            6\n",
              "22  B000B6JJUK  ...            6\n",
              "23  B000B6JJUK  ...            6\n",
              "24  B000B6JJUK  ...            6\n",
              "25  B000BNS7Y2  ...            8\n",
              "26  B000BNZ45M  ...            8\n",
              "27  B000BNZ45M  ...            8\n",
              "28  B000BNZ45M  ...            8\n",
              "29  B000BNZ45M  ...            8\n",
              "30  B000BPSW7C  ...            5\n",
              "31  B000BRCKAU  ...            7\n",
              "32  B000BWDY32  ...           11\n",
              "33  B000BZXQP0  ...            6\n",
              "34  B000BZXQP0  ...            6\n",
              "35  B000C45752  ...            8\n",
              "36  B000C45752  ...            8\n",
              "37  B000C54496  ...            4\n",
              "38  B000C54496  ...            4\n",
              "39  B000C54496  ...            4\n",
              "40  B000C54496  ...            4\n",
              "41  B000C54496  ...            4\n",
              "42  B000C5C772  ...            6\n",
              "43  B000CCFZJW  ...            7\n",
              "44  B000CF3WFI  ...           10\n",
              "45  B000CF3WFI  ...           10\n",
              "46  B000CFUP9O  ...           13\n",
              "47  B000CFUP9O  ...           13\n",
              "48  B000CIM99A  ...            5\n",
              "49  B000CIXMKK  ...            9\n",
              "50  B000CIXMKK  ...            9\n",
              "51  B000CIXMKK  ...            9\n",
              "52  B000CLOU1W  ...            8\n",
              "53  B000CMDPLM  ...            6\n",
              "54  B000CMDPLM  ...            6\n",
              "55  B000CN5QG8  ...            3\n",
              "56  B000CN5QG8  ...            3\n",
              "57  B000CNB5OK  ...           11\n",
              "58  B000CNB5OK  ...           11\n",
              "59  B000COBXBE  ...            4\n",
              "\n",
              "[60 rows x 10 columns]"
            ]
          },
          "metadata": {
            "tags": []
          },
          "execution_count": 129
        }
      ]
    },
    {
      "cell_type": "code",
      "metadata": {
        "id": "Q9na87GhWx0s",
        "colab_type": "code",
        "colab": {
          "base_uri": "https://localhost:8080/",
          "height": 34
        },
        "outputId": "3fd919cf-7e0a-41cb-8d66-29c4e0fd3695"
      },
      "source": [
        "print(\"Number of duplicates:\", df_merged.duplicated().sum())"
      ],
      "execution_count": null,
      "outputs": [
        {
          "output_type": "stream",
          "text": [
            "Number of duplicates: 0\n"
          ],
          "name": "stdout"
        }
      ]
    },
    {
      "cell_type": "markdown",
      "metadata": {
        "id": "1prT5yArejbz",
        "colab_type": "text"
      },
      "source": [
        "##### 3.9.1. Analyzing images on merged table"
      ]
    },
    {
      "cell_type": "code",
      "metadata": {
        "id": "diwmaunKMBiu",
        "colab_type": "code",
        "colab": {}
      },
      "source": [
        "def decode_image(url):\n",
        "  url_response = urllib.request.urlopen(url)\n",
        "  img_array = np.array(bytearray(url_response.read()), dtype=np.uint8)\n",
        "  img = cv2.imdecode(img_array, -1)\n",
        "  return img\n",
        "\n",
        "def load_images(image_paths):\n",
        "  all_images_shape = dict()\n",
        "  for url in image_paths:\n",
        "    img = decode_image(url)\n",
        "    all_images_shape[img.shape] = all_images_shape.get(img.shape, 0) + 1  \n",
        "  return all_images_shape"
      ],
      "execution_count": null,
      "outputs": []
    },
    {
      "cell_type": "code",
      "metadata": {
        "id": "FfdSl3ld3MMr",
        "colab_type": "code",
        "colab": {
          "base_uri": "https://localhost:8080/",
          "height": 34
        },
        "outputId": "e5e94582-de39-47d1-c0ca-570a68ab2b97"
      },
      "source": [
        "start_time = timer()\n",
        "chunk_size = int(df_merged.shape[0] / 4)\n",
        "df_subset = [df_merged.iloc[start:start + chunk_size, 8] for start in range(0, df_merged.shape[0], chunk_size)]\n",
        "with Pool(len(df_subset)) as p:\n",
        "  res_merged = p.map(load_images, df_subset)\n",
        "  p.close()\n",
        "  p.join()\n",
        "timer(start_time)"
      ],
      "execution_count": null,
      "outputs": [
        {
          "output_type": "stream",
          "text": [
            "Time taken: 0 hours 47 minutes and 34.57 seconds.\n"
          ],
          "name": "stdout"
        }
      ]
    },
    {
      "cell_type": "code",
      "metadata": {
        "id": "0WMJDPVZSIW7",
        "colab_type": "code",
        "colab": {
          "base_uri": "https://localhost:8080/",
          "height": 425
        },
        "outputId": "5d59ca13-1871-4625-cd87-d2fb52f3a2f4"
      },
      "source": [
        "image_shapes = dict()\n",
        "\n",
        "for i in range(len(res_merged)):\n",
        "  for (k,v) in res_merged[i].items():\n",
        "    image_shapes[k] = image_shapes.get(k, 0) + v\n",
        "    \n",
        "image_shapes"
      ],
      "execution_count": null,
      "outputs": [
        {
          "output_type": "execute_result",
          "data": {
            "text/plain": [
              "{(36, 36, 3): 898,\n",
              " (40, 40): 6,\n",
              " (40, 40, 3): 29098,\n",
              " (50, 38, 3): 2307,\n",
              " (75, 19, 3): 1,\n",
              " (75, 37, 3): 4,\n",
              " (75, 54, 3): 3,\n",
              " (75, 56, 3): 3,\n",
              " (75, 60, 3): 6,\n",
              " (75, 70, 3): 2,\n",
              " (75, 75, 3): 2,\n",
              " (75, 88, 3): 1,\n",
              " (75, 89, 3): 2,\n",
              " (75, 90, 3): 3,\n",
              " (75, 91, 3): 3,\n",
              " (75, 92, 3): 8,\n",
              " (75, 94, 3): 2,\n",
              " (75, 97, 3): 6,\n",
              " (75, 100, 3): 1,\n",
              " (75, 102, 3): 2,\n",
              " (75, 105, 3): 2,\n",
              " (75, 111, 3): 3,\n",
              " (75, 120, 3): 3}"
            ]
          },
          "metadata": {
            "tags": []
          },
          "execution_count": 144
        }
      ]
    },
    {
      "cell_type": "code",
      "metadata": {
        "id": "ew-awnOEYTQI",
        "colab_type": "code",
        "colab": {
          "base_uri": "https://localhost:8080/",
          "height": 344
        },
        "outputId": "6b0aab8f-8965-4f75-d976-33add7fa7745"
      },
      "source": [
        "plt.bar(range(len(image_shapes)), list(image_shapes.values()), align='center')\n",
        "plt.xticks(range(len(image_shapes)), list(image_shapes.keys()), ha='right')\n",
        "plt.xticks(rotation=70)\n",
        "plt.title('Count of images per image shape')\n",
        "plt.xlabel('Number of images')\n",
        "plt.ylabel('Image shapes')\n",
        "plt.show()"
      ],
      "execution_count": null,
      "outputs": [
        {
          "output_type": "display_data",
          "data": {
            "image/png": "[encoded data removed]",
            "text/plain": [
              "<Figure size 432x288 with 1 Axes>"
            ]
          },
          "metadata": {
            "tags": [],
            "needs_background": "light"
          }
        }
      ]
    },
    {
      "cell_type": "markdown",
      "metadata": {
        "id": "86u7O2icernu",
        "colab_type": "text"
      },
      "source": [
        "##### 3.9.2. Removing 2D images from merged table"
      ]
    },
    {
      "cell_type": "code",
      "metadata": {
        "id": "7Y6KvDv-aRjo",
        "colab_type": "code",
        "colab": {}
      },
      "source": [
        "def decode_image(url):\n",
        "  url_response = urllib.request.urlopen(url)\n",
        "  img_array = np.array(bytearray(url_response.read()), dtype=np.uint8)\n",
        "  img = cv2.imdecode(img_array, -1)\n",
        "  return img\n",
        "\n",
        "def load_images(image_paths):\n",
        "  all_images = list()\n",
        "  for url in image_paths:\n",
        "    img = decode_image(url)\n",
        "    if img.shape == (40, 40):\n",
        "      all_images.append(url)\n",
        "  return all_images"
      ],
      "execution_count": null,
      "outputs": []
    },
    {
      "cell_type": "code",
      "metadata": {
        "id": "MrQqvaG72o8x",
        "colab_type": "code",
        "colab": {
          "base_uri": "https://localhost:8080/",
          "height": 34
        },
        "outputId": "7e5aa420-1fbc-4baa-bcd3-939525e188ab"
      },
      "source": [
        "start_time = timer()\n",
        "chunk_size = int(df_merged.shape[0] / 10)\n",
        "df_subset = [df_merged.iloc[start:start + chunk_size, 8] for start in range(0, df_merged.shape[0], chunk_size)]\n",
        "with Pool(len(df_subset)) as p:\n",
        "  res_merged_remove = p.map(load_images, df_subset)\n",
        "  p.close()\n",
        "  p.join()\n",
        "timer(start_time)"
      ],
      "execution_count": null,
      "outputs": [
        {
          "output_type": "stream",
          "text": [
            "Time taken: 0 hours 19 minutes and 8.15 seconds.\n"
          ],
          "name": "stdout"
        }
      ]
    },
    {
      "cell_type": "code",
      "metadata": {
        "id": "2hEznJSEgLgw",
        "colab_type": "code",
        "colab": {
          "base_uri": "https://localhost:8080/",
          "height": 34
        },
        "outputId": "ec1907b5-897f-4aac-c4e7-9391bb42a7be"
      },
      "source": [
        "images_to_remove = list()\n",
        "for i in res_merged_remove:\n",
        "  images_to_remove.extend(i)\n",
        "len(images_to_remove)"
      ],
      "execution_count": null,
      "outputs": [
        {
          "output_type": "execute_result",
          "data": {
            "text/plain": [
              "6"
            ]
          },
          "metadata": {
            "tags": []
          },
          "execution_count": 155
        }
      ]
    },
    {
      "cell_type": "code",
      "metadata": {
        "id": "yCA1n_hfeMF0",
        "colab_type": "code",
        "colab": {
          "base_uri": "https://localhost:8080/",
          "height": 70
        },
        "outputId": "f6660dbd-8f43-4a8a-9906-e9b9ef2cdc27"
      },
      "source": [
        "print('Merged table shape before removal of 2D images', df_merged.shape)\n",
        "print()\n",
        "for i in images_to_remove:\n",
        "  df_merged.drop(df_merged.index[df_merged['Image'] == i], inplace = True)\n",
        "print('Merged table shape after removal of 2D images', df_merged.shape)"
      ],
      "execution_count": null,
      "outputs": [
        {
          "output_type": "stream",
          "text": [
            "Merged table shape before removal of 2D images (32366, 10)\n",
            "\n",
            "Merged table shape after removal of 2D images (32360, 10)\n"
          ],
          "name": "stdout"
        }
      ]
    },
    {
      "cell_type": "code",
      "metadata": {
        "id": "kWXYiA-euKcM",
        "colab_type": "code",
        "colab": {
          "base_uri": "https://localhost:8080/",
          "height": 247
        },
        "outputId": "ebe16167-e1b4-4fd1-a109-5adf1dd0858d"
      },
      "source": [
        "# Some sample image visualization\n",
        "for i in range(4):\n",
        "  # Read image from web image\n",
        "  image = io.imread(df_merged.iloc[i,8])\n",
        "\n",
        "  print(image.shape)\n",
        "  # Display image\n",
        "  cv2_imshow(image)"
      ],
      "execution_count": null,
      "outputs": [
        {
          "output_type": "stream",
          "text": [
            "(40, 40, 3)\n"
          ],
          "name": "stdout"
        },
        {
          "output_type": "display_data",
          "data": {
            "image/png": "[encoded data removed]",
            "text/plain": [
              "<PIL.Image.Image image mode=RGB size=40x40 at 0x7FC50FE05748>"
            ]
          },
          "metadata": {
            "tags": []
          }
        },
        {
          "output_type": "stream",
          "text": [
            "(40, 40, 3)\n"
          ],
          "name": "stdout"
        },
        {
          "output_type": "display_data",
          "data": {
            "image/png": "[encoded data removed]",
            "text/plain": [
              "<PIL.Image.Image image mode=RGB size=40x40 at 0x7FC50FE055F8>"
            ]
          },
          "metadata": {
            "tags": []
          }
        },
        {
          "output_type": "stream",
          "text": [
            "(40, 40, 3)\n"
          ],
          "name": "stdout"
        },
        {
          "output_type": "display_data",
          "data": {
            "image/png": "[encoded data removed]",
            "text/plain": [
              "<PIL.Image.Image image mode=RGB size=40x40 at 0x7FC50FE058D0>"
            ]
          },
          "metadata": {
            "tags": []
          }
        },
        {
          "output_type": "stream",
          "text": [
            "(40, 40, 3)\n"
          ],
          "name": "stdout"
        },
        {
          "output_type": "display_data",
          "data": {
            "image/png": "[encoded data removed]",
            "text/plain": [
              "<PIL.Image.Image image mode=RGB size=40x40 at 0x7FC50FE053C8>"
            ]
          },
          "metadata": {
            "tags": []
          }
        }
      ]
    },
    {
      "cell_type": "markdown",
      "metadata": {
        "id": "C1GoXgWMCclx",
        "colab_type": "text"
      },
      "source": [
        "##### 3.9.3. Viewing types of questions in merged table"
      ]
    },
    {
      "cell_type": "code",
      "metadata": {
        "id": "aQ4HQ8_MCL_D",
        "colab_type": "code",
        "colab": {
          "base_uri": "https://localhost:8080/",
          "height": 70
        },
        "outputId": "6f5149be-a119-4fc0-8584-7ee3716bf9ff"
      },
      "source": [
        "df_merged['Questions Type'].value_counts()"
      ],
      "execution_count": null,
      "outputs": [
        {
          "output_type": "execute_result",
          "data": {
            "text/plain": [
              "open-ended    25670\n",
              "yes/no         6690\n",
              "Name: Questions Type, dtype: int64"
            ]
          },
          "metadata": {
            "tags": []
          },
          "execution_count": 10
        }
      ]
    },
    {
      "cell_type": "markdown",
      "metadata": {
        "id": "vdddthXCsElF",
        "colab_type": "text"
      },
      "source": [
        "### 4. Saving the preprocessed dataset"
      ]
    },
    {
      "cell_type": "code",
      "metadata": {
        "id": "-zMQq9qhx9Cb",
        "colab_type": "code",
        "colab": {}
      },
      "source": [
        "df_merged.to_csv('amazonqa_preprocessed.csv', index=False)"
      ],
      "execution_count": null,
      "outputs": []
    },
    {
      "cell_type": "markdown",
      "metadata": {
        "id": "Niu8g5V85UTN",
        "colab_type": "text"
      },
      "source": [
        "### 5. Data preparation"
      ]
    },
    {
      "cell_type": "markdown",
      "metadata": {
        "id": "7vreNj605m3o",
        "colab_type": "text"
      },
      "source": [
        "#### 5.1. Read the preprocessed data"
      ]
    },
    {
      "cell_type": "code",
      "metadata": {
        "id": "F7tkpldvxC28",
        "colab_type": "code",
        "colab": {}
      },
      "source": [
        "df = pd.read_csv('amazonqa_preprocessed.csv')"
      ],
      "execution_count": null,
      "outputs": []
    },
    {
      "cell_type": "markdown",
      "metadata": {
        "colab_type": "text",
        "id": "qf2Xy8F1YZPO"
      },
      "source": [
        "#### 5.2. Modify the dataset"
      ]
    },
    {
      "cell_type": "code",
      "metadata": {
        "colab_type": "code",
        "id": "U1ftEmJ_YZPO",
        "colab": {
          "base_uri": "https://localhost:8080/",
          "height": 732
        },
        "outputId": "979611ea-96eb-49a2-8c6f-4206e5767cff"
      },
      "source": [
        "df['Answers'] = df['Answers'].apply(lambda x : '<start> '+ x + ' <end>')\n",
        "df['QTA'] = df['Questions'].astype(str) + ' ' + df['Title'].astype(str)  + ' ' + df['Answers'].astype(str)\n",
        "df"
      ],
      "execution_count": null,
      "outputs": [
        {
          "output_type": "execute_result",
          "data": {
            "text/html": [
              "<div>\n",
              "<style scoped>\n",
              "    .dataframe tbody tr th:only-of-type {\n",
              "        vertical-align: middle;\n",
              "    }\n",
              "\n",
              "    .dataframe tbody tr th {\n",
              "        vertical-align: top;\n",
              "    }\n",
              "\n",
              "    .dataframe thead th {\n",
              "        text-align: right;\n",
              "    }\n",
              "</style>\n",
              "<table border=\"1\" class=\"dataframe\">\n",
              "  <thead>\n",
              "    <tr style=\"text-align: right;\">\n",
              "      <th></th>\n",
              "      <th>ASIN</th>\n",
              "      <th>Questions</th>\n",
              "      <th>Questions Type</th>\n",
              "      <th>Answers</th>\n",
              "      <th>Question Length</th>\n",
              "      <th>Answer Length</th>\n",
              "      <th>Title</th>\n",
              "      <th>Price</th>\n",
              "      <th>Image</th>\n",
              "      <th>Title Length</th>\n",
              "      <th>QTA</th>\n",
              "    </tr>\n",
              "  </thead>\n",
              "  <tbody>\n",
              "    <tr>\n",
              "      <th>0</th>\n",
              "      <td>B000182CPM</td>\n",
              "      <td>is the hardware for installation included</td>\n",
              "      <td>yes/no</td>\n",
              "      <td>&lt;start&gt; no &lt;end&gt;</td>\n",
              "      <td>6</td>\n",
              "      <td>1</td>\n",
              "      <td>dee zee dz1800 full size brite tread mud flaps</td>\n",
              "      <td>30.91</td>\n",
              "      <td>https://images-na.ssl-images-amazon.com/images...</td>\n",
              "      <td>9</td>\n",
              "      <td>is the hardware for installation included dee ...</td>\n",
              "    </tr>\n",
              "    <tr>\n",
              "      <th>1</th>\n",
              "      <td>B00027GTYC</td>\n",
              "      <td>will this work on the generation 1 alpha</td>\n",
              "      <td>open-ended</td>\n",
              "      <td>&lt;start&gt; yes it will &lt;end&gt;</td>\n",
              "      <td>8</td>\n",
              "      <td>3</td>\n",
              "      <td>sierra 18 2603 lower shift cable kit</td>\n",
              "      <td>63.86</td>\n",
              "      <td>https://images-na.ssl-images-amazon.com/images...</td>\n",
              "      <td>7</td>\n",
              "      <td>will this work on the generation 1 alpha sierr...</td>\n",
              "    </tr>\n",
              "    <tr>\n",
              "      <th>2</th>\n",
              "      <td>B00029WRJQ</td>\n",
              "      <td>is this a set or do i have to order 2</td>\n",
              "      <td>open-ended</td>\n",
              "      <td>&lt;start&gt; order 2 &lt;end&gt;</td>\n",
              "      <td>11</td>\n",
              "      <td>2</td>\n",
              "      <td>cipa 11650 deluxe door mount towing mirror</td>\n",
              "      <td>58.98</td>\n",
              "      <td>https://images-na.ssl-images-amazon.com/images...</td>\n",
              "      <td>7</td>\n",
              "      <td>is this a set or do i have to order 2 cipa 116...</td>\n",
              "    </tr>\n",
              "    <tr>\n",
              "      <th>3</th>\n",
              "      <td>B0002JMFMA</td>\n",
              "      <td>will this fit a 2001 chevy malibu</td>\n",
              "      <td>open-ended</td>\n",
              "      <td>&lt;start&gt; yes &lt;end&gt;</td>\n",
              "      <td>7</td>\n",
              "      <td>1</td>\n",
              "      <td>gates 27041 windshield washer vacuum hose non ...</td>\n",
              "      <td>21.68</td>\n",
              "      <td>https://images-na.ssl-images-amazon.com/images...</td>\n",
              "      <td>8</td>\n",
              "      <td>will this fit a 2001 chevy malibu gates 27041 ...</td>\n",
              "    </tr>\n",
              "    <tr>\n",
              "      <th>4</th>\n",
              "      <td>B0002JMFMA</td>\n",
              "      <td>will this fit a 2001 chevy malibu</td>\n",
              "      <td>open-ended</td>\n",
              "      <td>&lt;start&gt; yes it will &lt;end&gt;</td>\n",
              "      <td>7</td>\n",
              "      <td>3</td>\n",
              "      <td>gates 27041 windshield washer vacuum hose non ...</td>\n",
              "      <td>21.68</td>\n",
              "      <td>https://images-na.ssl-images-amazon.com/images...</td>\n",
              "      <td>8</td>\n",
              "      <td>will this fit a 2001 chevy malibu gates 27041 ...</td>\n",
              "    </tr>\n",
              "    <tr>\n",
              "      <th>...</th>\n",
              "      <td>...</td>\n",
              "      <td>...</td>\n",
              "      <td>...</td>\n",
              "      <td>...</td>\n",
              "      <td>...</td>\n",
              "      <td>...</td>\n",
              "      <td>...</td>\n",
              "      <td>...</td>\n",
              "      <td>...</td>\n",
              "      <td>...</td>\n",
              "      <td>...</td>\n",
              "    </tr>\n",
              "    <tr>\n",
              "      <th>32355</th>\n",
              "      <td>B00DJYTGYU</td>\n",
              "      <td>how long is the wire</td>\n",
              "      <td>open-ended</td>\n",
              "      <td>&lt;start&gt; 9 10 ft &lt;end&gt;</td>\n",
              "      <td>5</td>\n",
              "      <td>3</td>\n",
              "      <td>pdp battlefield 4 wired controller xbox 360</td>\n",
              "      <td>6.04</td>\n",
              "      <td>https://images-na.ssl-images-amazon.com/images...</td>\n",
              "      <td>7</td>\n",
              "      <td>how long is the wire pdp battlefield 4 wired c...</td>\n",
              "    </tr>\n",
              "    <tr>\n",
              "      <th>32356</th>\n",
              "      <td>B00DJYTGYU</td>\n",
              "      <td>how long is the wire</td>\n",
              "      <td>open-ended</td>\n",
              "      <td>&lt;start&gt; around 10 feet &lt;end&gt;</td>\n",
              "      <td>5</td>\n",
              "      <td>3</td>\n",
              "      <td>pdp battlefield 4 wired controller xbox 360</td>\n",
              "      <td>6.04</td>\n",
              "      <td>https://images-na.ssl-images-amazon.com/images...</td>\n",
              "      <td>7</td>\n",
              "      <td>how long is the wire pdp battlefield 4 wired c...</td>\n",
              "    </tr>\n",
              "    <tr>\n",
              "      <th>32357</th>\n",
              "      <td>B00DJYTGYU</td>\n",
              "      <td>would this controller work on a ps4</td>\n",
              "      <td>open-ended</td>\n",
              "      <td>&lt;start&gt; nope &lt;end&gt;</td>\n",
              "      <td>7</td>\n",
              "      <td>1</td>\n",
              "      <td>pdp battlefield 4 wired controller xbox 360</td>\n",
              "      <td>6.04</td>\n",
              "      <td>https://images-na.ssl-images-amazon.com/images...</td>\n",
              "      <td>7</td>\n",
              "      <td>would this controller work on a ps4 pdp battle...</td>\n",
              "    </tr>\n",
              "    <tr>\n",
              "      <th>32358</th>\n",
              "      <td>B00DJYTGYU</td>\n",
              "      <td>does this controller have sixaxis support thanks</td>\n",
              "      <td>open-ended</td>\n",
              "      <td>&lt;start&gt; yes it does &lt;end&gt;</td>\n",
              "      <td>7</td>\n",
              "      <td>3</td>\n",
              "      <td>pdp battlefield 4 wired controller xbox 360</td>\n",
              "      <td>6.04</td>\n",
              "      <td>https://images-na.ssl-images-amazon.com/images...</td>\n",
              "      <td>7</td>\n",
              "      <td>does this controller have sixaxis support than...</td>\n",
              "    </tr>\n",
              "    <tr>\n",
              "      <th>32359</th>\n",
              "      <td>B00DJYTGYU</td>\n",
              "      <td>will this function as a windows pc gamepad</td>\n",
              "      <td>open-ended</td>\n",
              "      <td>&lt;start&gt; no &lt;end&gt;</td>\n",
              "      <td>8</td>\n",
              "      <td>1</td>\n",
              "      <td>pdp battlefield 4 wired controller xbox 360</td>\n",
              "      <td>6.04</td>\n",
              "      <td>https://images-na.ssl-images-amazon.com/images...</td>\n",
              "      <td>7</td>\n",
              "      <td>will this function as a windows pc gamepad pdp...</td>\n",
              "    </tr>\n",
              "  </tbody>\n",
              "</table>\n",
              "<p>32360 rows × 11 columns</p>\n",
              "</div>"
            ],
            "text/plain": [
              "             ASIN  ...                                                QTA\n",
              "0      B000182CPM  ...  is the hardware for installation included dee ...\n",
              "1      B00027GTYC  ...  will this work on the generation 1 alpha sierr...\n",
              "2      B00029WRJQ  ...  is this a set or do i have to order 2 cipa 116...\n",
              "3      B0002JMFMA  ...  will this fit a 2001 chevy malibu gates 27041 ...\n",
              "4      B0002JMFMA  ...  will this fit a 2001 chevy malibu gates 27041 ...\n",
              "...           ...  ...                                                ...\n",
              "32355  B00DJYTGYU  ...  how long is the wire pdp battlefield 4 wired c...\n",
              "32356  B00DJYTGYU  ...  how long is the wire pdp battlefield 4 wired c...\n",
              "32357  B00DJYTGYU  ...  would this controller work on a ps4 pdp battle...\n",
              "32358  B00DJYTGYU  ...  does this controller have sixaxis support than...\n",
              "32359  B00DJYTGYU  ...  will this function as a windows pc gamepad pdp...\n",
              "\n",
              "[32360 rows x 11 columns]"
            ]
          },
          "metadata": {
            "tags": []
          },
          "execution_count": 20
        }
      ]
    },
    {
      "cell_type": "code",
      "metadata": {
        "colab_type": "code",
        "id": "Mqwx71PaYZPQ",
        "colab": {}
      },
      "source": [
        "df.to_csv('amazonqa_preprocessed_modified.csv', index=False)"
      ],
      "execution_count": null,
      "outputs": []
    },
    {
      "cell_type": "code",
      "metadata": {
        "id": "zLnpIYSkaJQL",
        "colab_type": "code",
        "colab": {}
      },
      "source": [
        "df_train = df[['Questions', 'Title', 'Price', 'Image']]"
      ],
      "execution_count": null,
      "outputs": []
    },
    {
      "cell_type": "markdown",
      "metadata": {
        "colab_type": "text",
        "id": "B9z8hQ0TYZPQ"
      },
      "source": [
        "#### 5.3. Split the dataset"
      ]
    },
    {
      "cell_type": "code",
      "metadata": {
        "colab_type": "code",
        "id": "fotYUVb0YZPR",
        "colab": {}
      },
      "source": [
        "enc_in_train, enc_in_test, qa_train, qa_test, dec_in_train, dec_in_test = train_test_split(df_train, df['QTA'], df['Answers'], test_size=0.031, random_state=SEED)\n",
        "enc_in_train, enc_in_val, qa_train, qa_val, dec_in_train, dec_in_val = train_test_split( enc_in_train, qa_train, dec_in_train, test_size=0.2, random_state=SEED)"
      ],
      "execution_count": null,
      "outputs": []
    },
    {
      "cell_type": "markdown",
      "metadata": {
        "id": "CPf3OFjT55mY",
        "colab_type": "text"
      },
      "source": [
        "#### 5.4. Preparing text features - questions, answers, title"
      ]
    },
    {
      "cell_type": "markdown",
      "metadata": {
        "colab_type": "text",
        "id": "LiQATJKOYZPS"
      },
      "source": [
        "###### 5.4.1. Tokenize the text sequences"
      ]
    },
    {
      "cell_type": "code",
      "metadata": {
        "colab_type": "code",
        "id": "yVtkTBhnYZPS",
        "colab": {}
      },
      "source": [
        "def create_tokenizer(lines):\n",
        "  \"\"\"\n",
        "    Fit a tokenizer\n",
        "  \"\"\"\n",
        "  tokenizer = Tokenizer(filters='')\n",
        "  tokenizer.fit_on_texts(lines)\n",
        "  return tokenizer"
      ],
      "execution_count": null,
      "outputs": []
    },
    {
      "cell_type": "code",
      "metadata": {
        "colab_type": "code",
        "id": "Uu87iAMsYZPT",
        "colab": {
          "base_uri": "https://localhost:8080/",
          "height": 82
        },
        "outputId": "54c1d786-13d4-46a5-f9b3-21ebddc0c75e"
      },
      "source": [
        "qa_tokenizer = create_tokenizer(df['QTA'])\n",
        "qa_vocab_size = len(qa_tokenizer.word_index) + 1\n",
        "ques_length = df['Question Length'].max()\n",
        "title_length = df['Title Length'].max()\n",
        "ans_length = df['Answer Length'].max()\n",
        "print('Questions, Answers and Title Vocabulary Size: %d' % qa_vocab_size)\n",
        "print('Questions Max Length: %d' % (ques_length))\n",
        "print('Answers Max Length: %d' % (ans_length))\n",
        "print('Title Max Length: %d' % (title_length))"
      ],
      "execution_count": null,
      "outputs": [
        {
          "output_type": "stream",
          "text": [
            "Questions, Answers and Title Vocabulary Size: 29576\n",
            "Questions Max Length: 11\n",
            "Answers Max Length: 3\n",
            "Title Max Length: 13\n"
          ],
          "name": "stdout"
        }
      ]
    },
    {
      "cell_type": "code",
      "metadata": {
        "colab_type": "code",
        "id": "ozora_EYYZPU",
        "colab": {}
      },
      "source": [
        "# saving tokenizer\n",
        "with open('qa_tokenizer', 'wb') as handle:\n",
        "    pickle.dump(qa_tokenizer, handle)"
      ],
      "execution_count": null,
      "outputs": []
    },
    {
      "cell_type": "markdown",
      "metadata": {
        "colab_type": "text",
        "id": "r7Bhwcg2YZPV"
      },
      "source": [
        "###### 5.4.2. Encode and pad the text sequences"
      ]
    },
    {
      "cell_type": "code",
      "metadata": {
        "colab_type": "code",
        "id": "6-QvuEUXYZPV",
        "colab": {}
      },
      "source": [
        "def encode_sequences(tokenizer, length, lines):\n",
        "  \"\"\"\n",
        "    Encode and pad sequences\n",
        "  \"\"\"\n",
        "  # Integer encode sequences\n",
        "  X = tokenizer.texts_to_sequences(lines)\n",
        "  # Pad sequences with 0 values\n",
        "  X = pad_sequences(X, maxlen=length, padding='post')\n",
        "  return X"
      ],
      "execution_count": null,
      "outputs": []
    },
    {
      "cell_type": "code",
      "metadata": {
        "colab_type": "code",
        "id": "MmhHXWLFYZPW",
        "colab": {
          "base_uri": "https://localhost:8080/",
          "height": 390
        },
        "outputId": "2301bbf5-ca4c-4af9-b8ac-ff36e3fa170f"
      },
      "source": [
        "print('>> Before')\n",
        "print('> Shape')\n",
        "print('enc_in_train:', enc_in_train.shape)\n",
        "print('enc_in_val:', enc_in_val.shape)\n",
        "print('enc_in_test:', enc_in_test.shape)\n",
        "print('dec_in_train:', dec_in_train.shape)\n",
        "print('dec_in_val:', dec_in_val.shape)\n",
        "print('dec_in_test:', dec_in_test.shape)\n",
        "\n",
        "enc_in_ques_train = encode_sequences(qa_tokenizer, ques_length, enc_in_train['Questions'])\n",
        "enc_in_ques_val = encode_sequences(qa_tokenizer, ques_length, enc_in_val['Questions'])\n",
        "enc_in_ques_test = encode_sequences(qa_tokenizer, ques_length, enc_in_test['Questions'])\n",
        "\n",
        "enc_in_title_train = encode_sequences(qa_tokenizer, title_length, enc_in_train['Title'])\n",
        "enc_in_title_val = encode_sequences(qa_tokenizer, title_length, enc_in_val['Title'])\n",
        "enc_in_title_test = encode_sequences(qa_tokenizer, title_length, enc_in_test['Title'])\n",
        "\n",
        "dec_in_train = encode_sequences(qa_tokenizer, ans_length+2, dec_in_train)\n",
        "dec_in_val = encode_sequences(qa_tokenizer, ans_length+2, dec_in_val)\n",
        "dec_in_test = encode_sequences(qa_tokenizer, ans_length+2, dec_in_test)\n",
        "\n",
        "print('\\n\\n>> After')\n",
        "print('> Shape')\n",
        "print('enc_in_ques_train:', enc_in_ques_train.shape)\n",
        "print('enc_in_ques_val:', enc_in_ques_val.shape)\n",
        "print('enc_in_ques_test:', enc_in_ques_test.shape)\n",
        "print('enc_in_title_train:', enc_in_title_train.shape)\n",
        "print('enc_in_title_val:', enc_in_title_val.shape)\n",
        "print('enc_in_title_test:', enc_in_title_test.shape)\n",
        "print('dec_in_train:', dec_in_train.shape)\n",
        "print('dec_in_val:', dec_in_val.shape)\n",
        "print('dec_in_test:', dec_in_test.shape)"
      ],
      "execution_count": null,
      "outputs": [
        {
          "output_type": "stream",
          "text": [
            ">> Before\n",
            "> Shape\n",
            "enc_in_train: (25084, 4)\n",
            "enc_in_val: (6272, 4)\n",
            "enc_in_test: (1004, 4)\n",
            "dec_in_train: (25084,)\n",
            "dec_in_val: (6272,)\n",
            "dec_in_test: (1004,)\n",
            "\n",
            "\n",
            ">> After\n",
            "> Shape\n",
            "enc_in_ques_train: (25084, 11)\n",
            "enc_in_ques_val: (6272, 11)\n",
            "enc_in_ques_test: (1004, 11)\n",
            "enc_in_title_train: (25084, 13)\n",
            "enc_in_title_val: (6272, 13)\n",
            "enc_in_title_test: (1004, 13)\n",
            "dec_in_train: (25084, 5)\n",
            "dec_in_val: (6272, 5)\n",
            "dec_in_test: (1004, 5)\n"
          ],
          "name": "stdout"
        }
      ]
    },
    {
      "cell_type": "markdown",
      "metadata": {
        "colab_type": "text",
        "id": "wIQ9i5cAYZPX"
      },
      "source": [
        "###### 5.4.3. Create lookup maps"
      ]
    },
    {
      "cell_type": "code",
      "metadata": {
        "colab_type": "code",
        "id": "HoomBGAuYZPX",
        "colab": {
          "base_uri": "https://localhost:8080/"
        },
        "outputId": "e85b155a-63ff-4f12-b423-efc42571aff0"
      },
      "source": [
        "qa_vocab = qa_tokenizer.word_index\n",
        "word2id = dict()\n",
        "id2word = dict()\n",
        "for k, v in qa_vocab.items():\n",
        "    word2id[k] = v\n",
        "    id2word[v] = k\n",
        "print('Size of word2id:', len(word2id))\n",
        "print('Size of id2word:', len(id2word))"
      ],
      "execution_count": null,
      "outputs": [
        {
          "output_type": "stream",
          "text": [
            "Size of word2id: 29575\n",
            "Size of id2word: 29575\n"
          ],
          "name": "stdout"
        }
      ]
    },
    {
      "cell_type": "markdown",
      "metadata": {
        "colab_type": "text",
        "id": "_bV0UCnZYZPY"
      },
      "source": [
        "###### 5.4.4. Load pretrained word embeddings"
      ]
    },
    {
      "cell_type": "code",
      "metadata": {
        "colab_type": "code",
        "id": "UkNOaXq2YZPY",
        "colab": {}
      },
      "source": [
        "!wget -qq https://dl.fbaipublicfiles.com/fasttext/vectors-english/wiki-news-300d-1M.vec.zip"
      ],
      "execution_count": null,
      "outputs": []
    },
    {
      "cell_type": "code",
      "metadata": {
        "colab_type": "code",
        "id": "IFpFF6AvYZPZ",
        "colab": {}
      },
      "source": [
        "!unzip -qq wiki-news-300d-1M.vec.zip"
      ],
      "execution_count": null,
      "outputs": []
    },
    {
      "cell_type": "code",
      "metadata": {
        "colab_type": "code",
        "id": "fbPc65dwYZPa",
        "colab": {
          "base_uri": "https://localhost:8080/",
          "height": 34
        },
        "outputId": "4e72fee6-22bf-4fa0-fb8b-6b669dc10dc6"
      },
      "source": [
        "# load the pre-trained word-embedding vectors \n",
        "embeddings_index = dict()\n",
        "for i, line in enumerate(open('wiki-news-300d-1M.vec')):\n",
        "    values = line.split()\n",
        "    embeddings_index[values[0]] = asarray(values[1:], dtype='float32')\n",
        "    \n",
        "print('Found %s word vectors' % len(embeddings_index))"
      ],
      "execution_count": null,
      "outputs": [
        {
          "output_type": "stream",
          "text": [
            "Found 999995 word vectors\n"
          ],
          "name": "stdout"
        }
      ]
    },
    {
      "cell_type": "markdown",
      "metadata": {
        "colab_type": "text",
        "id": "GmxywXbxYZPb"
      },
      "source": [
        "###### 5.4.5. Generate word embeddings"
      ]
    },
    {
      "cell_type": "code",
      "metadata": {
        "colab_type": "code",
        "id": "0rVyVDiwYZPb",
        "colab": {
          "base_uri": "https://localhost:8080/",
          "height": 34
        },
        "outputId": "f78e49ed-086b-42d4-b3e4-b446162f79ab"
      },
      "source": [
        "# create token-embedding mapping\n",
        "embedding_matrix = zeros((qa_vocab_size, 300))\n",
        "for word, i in qa_vocab.items():\n",
        "    embedding_vector = embeddings_index.get(word)\n",
        "    if embedding_vector is not None:\n",
        "        embedding_matrix[i] = embedding_vector\n",
        "        \n",
        "print(embedding_matrix.shape)"
      ],
      "execution_count": null,
      "outputs": [
        {
          "output_type": "stream",
          "text": [
            "(29576, 300)\n"
          ],
          "name": "stdout"
        }
      ]
    },
    {
      "cell_type": "code",
      "metadata": {
        "colab_type": "code",
        "id": "Hu_3YpJBYZPc",
        "colab": {}
      },
      "source": [
        "save('embedding_matrix', embedding_matrix)"
      ],
      "execution_count": null,
      "outputs": []
    },
    {
      "cell_type": "code",
      "metadata": {
        "id": "2oC86qocjMZw",
        "colab_type": "code",
        "colab": {}
      },
      "source": [
        "embedding_matrix = load('embedding_matrix.npy')"
      ],
      "execution_count": null,
      "outputs": []
    },
    {
      "cell_type": "markdown",
      "metadata": {
        "id": "u5hPIGQ27_SH",
        "colab_type": "text"
      },
      "source": [
        "##### 5.5. Preparing numerical features - price"
      ]
    },
    {
      "cell_type": "code",
      "metadata": {
        "id": "AX4XtTrozjIY",
        "colab_type": "code",
        "colab": {
          "base_uri": "https://localhost:8080/",
          "height": 82
        },
        "outputId": "80b9c242-1cfe-44dd-b205-55326f3d81c3"
      },
      "source": [
        "from sklearn.preprocessing import StandardScaler\n",
        "sc = StandardScaler()\n",
        "enc_in_price_train = sc.fit_transform(enc_in_train['Price'].values.reshape(-1, 1))\n",
        "enc_in_price_val = sc.transform (enc_in_val['Price'].values.reshape(-1, 1))\n",
        "enc_in_price_test = sc.transform (enc_in_test['Price'].values.reshape(-1, 1))\n",
        "\n",
        "print('> Shape')\n",
        "print('enc_in_price_train:', enc_in_price_train.shape)\n",
        "print('enc_in_price_val:', enc_in_price_val.shape)\n",
        "print('enc_in_price_test:', enc_in_price_test.shape)"
      ],
      "execution_count": null,
      "outputs": [
        {
          "output_type": "stream",
          "text": [
            "> Shape\n",
            "enc_in_price_train: (25084, 1)\n",
            "enc_in_price_val: (6272, 1)\n",
            "enc_in_price_test: (1004, 1)\n"
          ],
          "name": "stdout"
        }
      ]
    },
    {
      "cell_type": "code",
      "metadata": {
        "id": "oEwf42QL--se",
        "colab_type": "code",
        "colab": {}
      },
      "source": [
        "with open('sc', 'wb') as handle:\n",
        "    pickle.dump(sc, handle)"
      ],
      "execution_count": null,
      "outputs": []
    },
    {
      "cell_type": "markdown",
      "metadata": {
        "id": "WWJNCqdk8F06",
        "colab_type": "text"
      },
      "source": [
        "##### 5.6. Preparing image features - image"
      ]
    },
    {
      "cell_type": "code",
      "metadata": {
        "id": "OC_nDu8U5Itq",
        "colab_type": "code",
        "colab": {}
      },
      "source": [
        "def normalize(img):\n",
        "  # Normalize pixel values to be between 0 and 1\n",
        "  img = img / 255.0\n",
        "  return img\n",
        "\n",
        "def decode_image(url):\n",
        "  url_response = urllib.request.urlopen(url)\n",
        "  img_array = np.array(bytearray(url_response.read()), dtype=np.uint8)\n",
        "  img = cv2.imdecode(img_array, -1)\n",
        "  img = cv2.resize(img, (40, 40), interpolation=cv2.INTER_NEAREST)\n",
        "  return img\n",
        "\n",
        "def load_images(image_paths):\n",
        "  all_images = []\n",
        "  for url in image_paths:\n",
        "    img = decode_image(url)\n",
        "    img = normalize(img)\n",
        "    all_images.append(img)\n",
        "  return all_images"
      ],
      "execution_count": null,
      "outputs": []
    },
    {
      "cell_type": "code",
      "metadata": {
        "id": "qu4uDyjTrbp_",
        "colab_type": "code",
        "colab": {
          "base_uri": "https://localhost:8080/",
          "height": 34
        },
        "outputId": "e3abe2f4-b3f2-40ba-d2a5-30b5dd18b041"
      },
      "source": [
        "start_time = timer()\n",
        "chunk_size = int(enc_in_test.shape[0] / 10)\n",
        "df_subset = [enc_in_test.iloc[start:start + chunk_size, 3] for start in range(0, enc_in_test.shape[0], chunk_size)]\n",
        "with Pool(len(df_subset)) as p:\n",
        "  res_test = p.map(load_images, df_subset)\n",
        "  p.close()\n",
        "  p.join()\n",
        "timer(start_time)"
      ],
      "execution_count": null,
      "outputs": [
        {
          "output_type": "stream",
          "text": [
            "Time taken: 0 hours 2 minutes and 17.41 seconds.\n"
          ],
          "name": "stdout"
        }
      ]
    },
    {
      "cell_type": "code",
      "metadata": {
        "id": "hKsxGd0-0Tbm",
        "colab_type": "code",
        "colab": {
          "base_uri": "https://localhost:8080/",
          "height": 34
        },
        "outputId": "4d2d7143-eb9e-4f46-ee06-50e12d778e8e"
      },
      "source": [
        "start_time = timer()\n",
        "chunk_size = int(enc_in_val.shape[0] / 10)\n",
        "df_subset = [enc_in_val.iloc[start:start + chunk_size, 3] for start in range(0, enc_in_val.shape[0], chunk_size)]\n",
        "with Pool(len(df_subset)) as p:\n",
        "  res_val = p.map(load_images, df_subset)\n",
        "  p.close()\n",
        "  p.join()\n",
        "timer(start_time)"
      ],
      "execution_count": null,
      "outputs": [
        {
          "output_type": "stream",
          "text": [
            "Time taken: 0 hours 5 minutes and 23.99 seconds.\n"
          ],
          "name": "stdout"
        }
      ]
    },
    {
      "cell_type": "code",
      "metadata": {
        "id": "CPedKVhf6dwO",
        "colab_type": "code",
        "colab": {
          "base_uri": "https://localhost:8080/",
          "height": 34
        },
        "outputId": "6855acfb-435e-4722-8b99-f75db9658579"
      },
      "source": [
        "start_time = timer()\n",
        "chunk_size = int(enc_in_train.shape[0] / 10)\n",
        "df_subset = [enc_in_train.iloc[start:start + chunk_size, 3] for start in range(0, enc_in_train.shape[0], chunk_size)]\n",
        "with Pool(len(df_subset)) as p:\n",
        "  res_train = p.map(load_images, df_subset)\n",
        "  p.close()\n",
        "  p.join()\n",
        "timer(start_time)"
      ],
      "execution_count": null,
      "outputs": [
        {
          "output_type": "stream",
          "text": [
            "Time taken: 0 hours 18 minutes and 0.16 seconds.\n"
          ],
          "name": "stdout"
        }
      ]
    },
    {
      "cell_type": "code",
      "metadata": {
        "id": "Pix0TKg02gE0",
        "colab_type": "code",
        "colab": {
          "base_uri": "https://localhost:8080/",
          "height": 87
        },
        "outputId": "a2c0b19f-9432-4e68-de15-c594d628a2f6"
      },
      "source": [
        "def merge_list(mList):\n",
        "  temp = []\n",
        "  for i in mList:\n",
        "    temp.extend(i)\n",
        "  return np.stack( temp, axis=0 )\n",
        "  \n",
        "enc_in_image_train = merge_list(res_train)\n",
        "enc_in_image_val = merge_list(res_val)\n",
        "enc_in_image_test = merge_list(res_test)\n",
        "\n",
        "print('> Shape')\n",
        "print('enc_in_image_train:', enc_in_image_train.shape)\n",
        "print('enc_in_image_val:', enc_in_image_val.shape)\n",
        "print('enc_in_image_test:', enc_in_image_test.shape)"
      ],
      "execution_count": null,
      "outputs": [
        {
          "output_type": "stream",
          "text": [
            "> Shape\n",
            "enc_in_image_train: (25084, 40, 40, 3)\n",
            "enc_in_image_val: (6272, 40, 40, 3)\n",
            "enc_in_image_test: (1004, 40, 40, 3)\n"
          ],
          "name": "stdout"
        }
      ]
    },
    {
      "cell_type": "code",
      "metadata": {
        "id": "HGnLBE8UlRee",
        "colab_type": "code",
        "colab": {}
      },
      "source": [
        "save('enc_in_ques_train', enc_in_ques_train)\n",
        "save('enc_in_ques_val', enc_in_ques_val)\n",
        "save('enc_in_ques_test', enc_in_ques_test)\n",
        "save('enc_in_title_train', enc_in_title_train)\n",
        "save('enc_in_title_val', enc_in_title_val)\n",
        "save('enc_in_title_test', enc_in_title_test)\n",
        "save('enc_in_price_train', enc_in_price_train)\n",
        "save('enc_in_price_val', enc_in_price_val)\n",
        "save('enc_in_price_test', enc_in_price_test)\n",
        "save('enc_in_image_train', enc_in_image_train)\n",
        "save('enc_in_image_val', enc_in_image_val)\n",
        "save('enc_in_image_test', enc_in_image_test)\n",
        "save('dec_in_train', dec_in_train)\n",
        "save('dec_in_val', dec_in_val)\n",
        "save('dec_in_test', dec_in_test)"
      ],
      "execution_count": null,
      "outputs": []
    },
    {
      "cell_type": "code",
      "metadata": {
        "id": "-Q2qOXm4mg18",
        "colab_type": "code",
        "colab": {
          "base_uri": "https://localhost:8080/",
          "height": 283
        },
        "outputId": "5ea97bba-e194-4dda-9356-3e2d9753d9eb"
      },
      "source": [
        "!tar cvzf enc-dec.tar.gz ./enc_in_ques_train.npy ./enc_in_ques_val.npy ./enc_in_ques_test.npy ./enc_in_title_train.npy ./enc_in_title_val.npy ./enc_in_title_test.npy ./enc_in_price_train.npy ./enc_in_price_val.npy ./enc_in_price_test.npy ./enc_in_image_train.npy ./enc_in_image_val.npy ./enc_in_image_test.npy ./dec_in_train.npy ./dec_in_val.npy ./dec_in_test.npy "
      ],
      "execution_count": null,
      "outputs": [
        {
          "output_type": "stream",
          "text": [
            "./enc_in_ques_train.npy\n",
            "./enc_in_ques_val.npy\n",
            "./enc_in_ques_test.npy\n",
            "./enc_in_title_train.npy\n",
            "./enc_in_title_val.npy\n",
            "./enc_in_title_test.npy\n",
            "./enc_in_price_train.npy\n",
            "./enc_in_price_val.npy\n",
            "./enc_in_price_test.npy\n",
            "./enc_in_image_train.npy\n",
            "./enc_in_image_val.npy\n",
            "./enc_in_image_test.npy\n",
            "./dec_in_train.npy\n",
            "./dec_in_val.npy\n",
            "./dec_in_test.npy\n"
          ],
          "name": "stdout"
        }
      ]
    },
    {
      "cell_type": "code",
      "metadata": {
        "id": "-ZJjqgyoFkuR",
        "colab_type": "code",
        "colab": {
          "base_uri": "https://localhost:8080/",
          "height": 261
        },
        "outputId": "18effa45-e0a9-48ce-9258-bed6f3305343"
      },
      "source": [
        "!tar xvzf enc-dec.tar.gz ."
      ],
      "execution_count": null,
      "outputs": [
        {
          "output_type": "stream",
          "text": [
            "./enc_in_ques_train.npy\n",
            "./enc_in_ques_val.npy\n",
            "./enc_in_ques_test.npy\n",
            "./enc_in_title_train.npy\n",
            "./enc_in_title_val.npy\n",
            "./enc_in_title_test.npy\n",
            "./enc_in_price_train.npy\n",
            "./enc_in_price_val.npy\n",
            "./enc_in_price_test.npy\n",
            "./enc_in_image_train.npy\n",
            "./enc_in_image_val.npy\n",
            "./enc_in_image_test.npy\n",
            "./dec_in_train.npy\n",
            "./dec_in_val.npy\n",
            "./dec_in_test.npy\n"
          ],
          "name": "stdout"
        }
      ]
    },
    {
      "cell_type": "code",
      "metadata": {
        "id": "NOqlJTMcFhT-",
        "colab_type": "code",
        "colab": {}
      },
      "source": [
        "enc_in_ques_train = load('enc_in_ques_train.npy')\n",
        "enc_in_ques_val = load('enc_in_ques_val.npy')\n",
        "enc_in_ques_test = load('enc_in_ques_test.npy')\n",
        "enc_in_title_train = load('enc_in_title_train.npy')\n",
        "enc_in_title_val = load('enc_in_title_val.npy')\n",
        "enc_in_title_test = load('enc_in_title_test.npy')\n",
        "enc_in_price_train = load('enc_in_price_train.npy')\n",
        "enc_in_price_val = load('enc_in_price_val.npy')\n",
        "enc_in_price_test = load('enc_in_price_test.npy')\n",
        "enc_in_image_train = load('enc_in_image_train.npy')\n",
        "enc_in_image_val = load('enc_in_image_val.npy')\n",
        "enc_in_image_test = load('enc_in_image_test.npy')\n",
        "dec_in_train = load('dec_in_train.npy')\n",
        "dec_in_val = load('dec_in_val.npy')\n",
        "dec_in_test = load('dec_in_test.npy')"
      ],
      "execution_count": null,
      "outputs": []
    },
    {
      "cell_type": "markdown",
      "metadata": {
        "colab_type": "text",
        "id": "8Jgtiq8sNrwF"
      },
      "source": [
        "### 6. Modeling"
      ]
    },
    {
      "cell_type": "markdown",
      "metadata": {
        "colab_type": "text",
        "id": "BaAbzBjnNrwG"
      },
      "source": [
        "#### 6.1. Baseline Model"
      ]
    },
    {
      "cell_type": "markdown",
      "metadata": {
        "colab_type": "text",
        "id": "Q4tiFNt_NrwH"
      },
      "source": [
        "##### 6.1.1. Create a tf.data dataset"
      ]
    },
    {
      "cell_type": "code",
      "metadata": {
        "colab_type": "code",
        "id": "bBnb3IwMNrwH",
        "colab": {}
      },
      "source": [
        "BATCH_SIZE = 32\n",
        "embedding_dim = 300\n",
        "units = 1024\n",
        "max_ques_length = ques_length\n",
        "max_title_length = title_length\n",
        "max_ans_length = ans_length + 2 # +2 for start and end token"
      ],
      "execution_count": null,
      "outputs": []
    },
    {
      "cell_type": "code",
      "metadata": {
        "colab_type": "code",
        "id": "pvpbB7JONrwI",
        "colab": {}
      },
      "source": [
        "BUFFER_SIZE_TRAIN = len(enc_in_train)\n",
        "steps_per_epoch_train = BUFFER_SIZE_TRAIN//BATCH_SIZE\n",
        "\n",
        "dataset_train = tf.data.Dataset.from_tensor_slices((enc_in_ques_train, enc_in_title_train, enc_in_price_train, enc_in_image_train, dec_in_train)).shuffle(BUFFER_SIZE_TRAIN)\n",
        "dataset_train = dataset_train.batch(BATCH_SIZE, drop_remainder=True)"
      ],
      "execution_count": null,
      "outputs": []
    },
    {
      "cell_type": "code",
      "metadata": {
        "colab_type": "code",
        "id": "Z3VGF6olNrwK",
        "colab": {}
      },
      "source": [
        "BUFFER_SIZE_VAL = len(enc_in_val)\n",
        "steps_per_epoch_val = BUFFER_SIZE_VAL//BATCH_SIZE\n",
        "\n",
        "dataset_val = tf.data.Dataset.from_tensor_slices((enc_in_ques_val, enc_in_title_val, enc_in_price_val, enc_in_image_val, dec_in_val)).shuffle(BUFFER_SIZE_VAL)\n",
        "dataset_val = dataset_val.batch(BATCH_SIZE, drop_remainder=True)"
      ],
      "execution_count": null,
      "outputs": []
    },
    {
      "cell_type": "code",
      "metadata": {
        "colab_type": "code",
        "id": "6KLCwIErNrwL",
        "colab": {
          "base_uri": "https://localhost:8080/",
          "height": 98
        },
        "outputId": "13c139be-3acd-40a8-e2cf-c572572f4313"
      },
      "source": [
        "example_input_ques_batch, example_input_title_batch, example_input_price_batch, example_input_image_batch, example_target_batch = next(iter(dataset_train))\n",
        "example_input_ques_batch.shape, example_input_title_batch.shape, example_input_price_batch.shape, example_input_image_batch.shape, example_target_batch.shape"
      ],
      "execution_count": null,
      "outputs": [
        {
          "output_type": "execute_result",
          "data": {
            "text/plain": [
              "(TensorShape([32, 11]),\n",
              " TensorShape([32, 13]),\n",
              " TensorShape([32, 1]),\n",
              " TensorShape([32, 40, 40, 3]),\n",
              " TensorShape([32, 5]))"
            ]
          },
          "metadata": {
            "tags": []
          },
          "execution_count": 34
        }
      ]
    },
    {
      "cell_type": "markdown",
      "metadata": {
        "colab_type": "text",
        "id": "1lhX0sy_NrwP"
      },
      "source": [
        "##### 6.1.2. Write the encoder and decoder model"
      ]
    },
    {
      "cell_type": "code",
      "metadata": {
        "colab_type": "code",
        "id": "uLXDVWe-NrwP",
        "colab": {}
      },
      "source": [
        "class Encoder(tf.keras.Model):\n",
        "    def __init__(self, vocab_size, embedding_dim, enc_units, batch_sz):\n",
        "        super(Encoder, self).__init__()\n",
        "        self.batch_sz = batch_sz\n",
        "        self.enc_units = enc_units\n",
        "        self.embedding_ques = tf.keras.layers.Embedding(vocab_size, embedding_dim, input_length=max_ques_length, \n",
        "                                                   weights=[embedding_matrix], trainable=False)\n",
        "        self.embedding_title = tf.keras.layers.Embedding(vocab_size, embedding_dim, input_length=max_title_length, \n",
        "                                                   weights=[embedding_matrix], trainable=False)\n",
        "        \n",
        "        self.lstm_ques = tf.keras.layers.LSTM(self.enc_units,\n",
        "                                   return_sequences=True,\n",
        "                                   return_state=True)\n",
        "        self.lstm_title = tf.keras.layers.LSTM(self.enc_units,\n",
        "                                   return_sequences=True,\n",
        "                                   return_state=True)\n",
        "        \n",
        "        self.dense_state_h_ques = tf.keras.layers.Dense(int(self.enc_units/2))\n",
        "        self.dense_state_h_title = tf.keras.layers.Dense(int(self.enc_units/2))\n",
        "        self.dense_state_c_ques = tf.keras.layers.Dense(int(self.enc_units/2))\n",
        "        self.dense_state_c_title = tf.keras.layers.Dense(int(self.enc_units/2))\n",
        "\n",
        "        self.conv2d_image = tf.keras.layers.Conv2D(32, (3, 3), \n",
        "                                    activation = 'relu',\n",
        "                                    kernel_initializer = tf.keras.initializers.HeNormal(seed=SEED),\n",
        "                                    padding = 'same')\n",
        "        self.flatten_image = tf.keras.layers.Flatten()\n",
        "        self.dense_image = tf.keras.layers.Dense(self.enc_units)\n",
        "\n",
        "        self.dense_price = tf.keras.layers.Dense(self.enc_units)\n",
        "      \n",
        "    def call(self, x):   \n",
        "        question, title, price, image, hidden = x[0], x[1], x[2], x[3], x[4]\n",
        "        # question shape == (batch_size, max_ques_length)\n",
        "        # title shape == (batch_size, max_title_length)\n",
        "        # price shape == (batch_size, 1)\n",
        "        # image shape == (batch_size, img_width, img_height, channels)\n",
        "\n",
        "        question = self.embedding_ques(question)\n",
        "        # question shape == (batch_size, max_ques_length, embedding_dim)\n",
        "        output_ques, state_h_ques, state_c_ques = self.lstm_ques(question, initial_state = hidden)\n",
        "        # output_ques shape == (batch_size, max_ques_length, enc_units)\n",
        "        # state_h_ques shape == (batch_size, enc_units)\n",
        "        # state_c_ques shape == (batch_size, enc_units)\n",
        "\n",
        "        title = self.embedding_title(title)\n",
        "        # title shape == (batch_size, max_title_length, embedding_dim)\n",
        "        output_title, state_h_title, state_c_title = self.lstm_title(title, initial_state = hidden)\n",
        "        # output_title shape == (batch_size, max_title_length, enc_units)\n",
        "        # state_h_title shape == (batch_size, enc_units)\n",
        "        # state_c_title shape == (batch_size, enc_units)\n",
        "\n",
        "        price = self.dense_price(price)\n",
        "        # price shape == (batch_size, enc_units)\n",
        "\n",
        "        image = self.conv2d_image(image)\n",
        "        # image shape ==  (batch_size, img_width, img_height, filters=32)\n",
        "        image = self.flatten_image(image)\n",
        "        # image shape == (batch_size, 51200)\n",
        "        image = self.dense_image(image)\n",
        "        # image shape == (batch_size, enc_units)\n",
        "        \n",
        "        output = tf.concat([output_ques, output_title], axis=1)\n",
        "        # output shape == (batch_size, max_ques_length + max_title_length, enc_units)\n",
        "        output = tf.concat([tf.expand_dims(price, 1), output], axis=1)\n",
        "        # output shape == (batch_size, max_ques_length + max_title_length + 1, enc_units)\n",
        "        output = tf.concat([tf.expand_dims(image, 1), output], axis=1)\n",
        "        # output shape == (batch_size, max_ques_length + max_title_length + 1 + 1, enc_units)\n",
        "\n",
        "        state_h_ques = self.dense_state_h_ques(state_h_ques)\n",
        "        # state_h_ques shape == (batch_size, int(enc_units/2))\n",
        "        state_h_title = self.dense_state_h_title(state_h_title)\n",
        "        # state_h_title shape == (batch_size, int(enc_units/2))\n",
        "        state_h = tf.concat([state_h_ques, state_h_title], axis=-1)\n",
        "        # state_h shape == (batch_size, enc_units)\n",
        "\n",
        "        state_c_ques = self.dense_state_c_ques(state_c_ques)\n",
        "        # state_c_ques shape == (batch_size, int(enc_units/2))\n",
        "        state_c_title = self.dense_state_c_title(state_c_title)\n",
        "        # state_c_title shape == (batch_size, int(enc_units/2))\n",
        "        state_c = tf.concat([state_c_ques, state_c_title], axis=-1)\n",
        "        # state_c shape == (batch_size, enc_units + enc_units)\n",
        "\n",
        "        return output, state_h, state_c\n",
        "\n",
        "    def initialize_hidden_state(self):\n",
        "        return (tf.zeros((self.batch_sz, self.enc_units)),\n",
        "                tf.zeros((self.batch_sz, self.enc_units)))\n",
        "\n",
        "class Decoder(tf.keras.Model):\n",
        "    def __init__(self, vocab_size, embedding_dim, dec_units, batch_sz):\n",
        "        super(Decoder, self).__init__()\n",
        "        self.batch_sz = batch_sz\n",
        "        self.dec_units = dec_units\n",
        "        self.embedding = tf.keras.layers.Embedding(vocab_size, embedding_dim, input_length=max_ans_length, \n",
        "                                                   weights=[embedding_matrix], trainable=False)\n",
        "        self.lstm = tf.keras.layers.LSTM(self.dec_units,\n",
        "                                   return_sequences=True,\n",
        "                                   return_state=True)\n",
        "        self.fc = tf.keras.layers.Dense(vocab_size)\n",
        "\n",
        "    def call(self, y):   \n",
        "        x, hidden, enc_output = y[0], y[1], y[2]\n",
        "        # x shape == (batch_size, 1)\n",
        "        # hidden shape == tuple of two (batch_size, enc_units+enc_units)\n",
        "        # enc_output shape == (batch_size, max_ques_length, enc_units)\n",
        "\n",
        "        # x shape after passing through embedding == (batch_size, 1, embedding_dim)\n",
        "        x = self.embedding(x)\n",
        "\n",
        "        # passing the concatenated vector to the LSTM\n",
        "        output, state_h, state_c = self.lstm(x, initial_state=hidden)\n",
        "        # output shape == (batch_size, 1, dec_units)\n",
        "        # state_h shape == (batch_size, dec_units)\n",
        "        # state_c shape == (batch_size, dec_units)\n",
        " \n",
        "        output = tf.reshape(output, (-1, output.shape[2]))\n",
        "        # output shape == (batch_size * 1, dec_units)\n",
        "        \n",
        "        x = self.fc(output)\n",
        "        # output shape == (batch_size, vocab)\n",
        "        \n",
        "        return x, state_h, state_c\n",
        "\n",
        "        \n",
        "    def initialize_hidden_state(self):\n",
        "        return (tf.zeros((self.batch_sz, self.dec_units)),\n",
        "                tf.zeros((self.batch_sz, self.dec_units)))"
      ],
      "execution_count": null,
      "outputs": []
    },
    {
      "cell_type": "code",
      "metadata": {
        "colab_type": "code",
        "id": "4hldLQXBNrwQ",
        "colab": {
          "base_uri": "https://localhost:8080/",
          "height": 183
        },
        "outputId": "9129612e-c0c0-48af-d8c7-cdc03f85dfe6"
      },
      "source": [
        "encoder = Encoder(qa_vocab_size, embedding_dim, units, BATCH_SIZE)\n",
        "\n",
        "# sample input\n",
        "sample_hidden = encoder.initialize_hidden_state()\n",
        "sample_output, sample_state_hidden, sample_state_cell = encoder([example_input_ques_batch, example_input_title_batch, example_input_price_batch, example_input_image_batch, sample_hidden])\n",
        "print ('Encoder output shape: (batch size, sequence length, units) {}'.format(sample_output.shape))\n",
        "print ('Encoder hidden state shape: (batch size, units) {}'.format(sample_state_hidden.shape))\n",
        "print ('Encoder cell state shape: (batch size, units) {}'.format(sample_state_cell.shape))"
      ],
      "execution_count": null,
      "outputs": [
        {
          "output_type": "stream",
          "text": [
            "WARNING:tensorflow:Layer encoder_1 is casting an input tensor from dtype float64 to the layer's dtype of float32, which is new behavior in TensorFlow 2.  The layer has dtype float32 because its dtype defaults to floatx.\n",
            "\n",
            "If you intended to run this layer in float32, you can safely ignore this warning. If in doubt, this warning is likely only an issue if you are porting a TensorFlow 1.X model to TensorFlow 2.\n",
            "\n",
            "To change all layers to have dtype float64 by default, call `tf.keras.backend.set_floatx('float64')`. To change just this layer, pass dtype='float64' to the layer constructor. If you are the author of this layer, you can disable autocasting by passing autocast=False to the base Layer constructor.\n",
            "\n",
            "Encoder output shape: (batch size, sequence length, units) (32, 26, 1024)\n",
            "Encoder hidden state shape: (batch size, units) (32, 1024)\n",
            "Encoder cell state shape: (batch size, units) (32, 1024)\n"
          ],
          "name": "stdout"
        }
      ]
    },
    {
      "cell_type": "code",
      "metadata": {
        "colab_type": "code",
        "id": "VE4BJWaUNrwR",
        "colab": {
          "base_uri": "https://localhost:8080/",
          "height": 585
        },
        "outputId": "c9542f94-4ee7-45e5-f72a-507b96201ce4"
      },
      "source": [
        "encoder.summary()"
      ],
      "execution_count": null,
      "outputs": [
        {
          "output_type": "stream",
          "text": [
            "Model: \"encoder_4\"\n",
            "_________________________________________________________________\n",
            "Layer (type)                 Output Shape              Param #   \n",
            "=================================================================\n",
            "embedding_12 (Embedding)     multiple                  8872800   \n",
            "_________________________________________________________________\n",
            "embedding_13 (Embedding)     multiple                  8872800   \n",
            "_________________________________________________________________\n",
            "lstm_12 (LSTM)               multiple                  5427200   \n",
            "_________________________________________________________________\n",
            "lstm_13 (LSTM)               multiple                  5427200   \n",
            "_________________________________________________________________\n",
            "dense_28 (Dense)             multiple                  524800    \n",
            "_________________________________________________________________\n",
            "dense_29 (Dense)             multiple                  524800    \n",
            "_________________________________________________________________\n",
            "dense_30 (Dense)             multiple                  524800    \n",
            "_________________________________________________________________\n",
            "dense_31 (Dense)             multiple                  524800    \n",
            "_________________________________________________________________\n",
            "conv2d_4 (Conv2D)            multiple                  896       \n",
            "_________________________________________________________________\n",
            "flatten_4 (Flatten)          multiple                  0         \n",
            "_________________________________________________________________\n",
            "dense_32 (Dense)             multiple                  52429824  \n",
            "_________________________________________________________________\n",
            "dense_33 (Dense)             multiple                  2048      \n",
            "=================================================================\n",
            "Total params: 83,131,968\n",
            "Trainable params: 65,386,368\n",
            "Non-trainable params: 17,745,600\n",
            "_________________________________________________________________\n"
          ],
          "name": "stdout"
        }
      ]
    },
    {
      "cell_type": "code",
      "metadata": {
        "colab_type": "code",
        "id": "maOg3UJPNrwS",
        "colab": {
          "base_uri": "https://localhost:8080/",
          "height": 33
        },
        "outputId": "46ffecd0-fb87-4861-ef20-23805d7a4354"
      },
      "source": [
        "decoder = Decoder(qa_vocab_size, embedding_dim, units, BATCH_SIZE)\n",
        "\n",
        "sample_decoder_output, _, _ = decoder([tf.random.uniform((BATCH_SIZE, 1)),\n",
        "                                      sample_hidden, sample_output])\n",
        "\n",
        "print ('Decoder output shape: (batch_size, vocab size) {}'.format(sample_decoder_output.shape))"
      ],
      "execution_count": null,
      "outputs": [
        {
          "output_type": "stream",
          "text": [
            "Decoder output shape: (batch_size, vocab size) (32, 29576)\n"
          ],
          "name": "stdout"
        }
      ]
    },
    {
      "cell_type": "code",
      "metadata": {
        "colab_type": "code",
        "id": "YnlFqYWKNrwT",
        "colab": {
          "base_uri": "https://localhost:8080/",
          "height": 265
        },
        "outputId": "67274274-0589-4ba2-ae67-d6fb0373e329"
      },
      "source": [
        "decoder.summary()"
      ],
      "execution_count": null,
      "outputs": [
        {
          "output_type": "stream",
          "text": [
            "Model: \"decoder_4\"\n",
            "_________________________________________________________________\n",
            "Layer (type)                 Output Shape              Param #   \n",
            "=================================================================\n",
            "embedding_14 (Embedding)     multiple                  8872800   \n",
            "_________________________________________________________________\n",
            "lstm_14 (LSTM)               multiple                  5427200   \n",
            "_________________________________________________________________\n",
            "dense_34 (Dense)             multiple                  30315400  \n",
            "=================================================================\n",
            "Total params: 44,615,400\n",
            "Trainable params: 35,742,600\n",
            "Non-trainable params: 8,872,800\n",
            "_________________________________________________________________\n"
          ],
          "name": "stdout"
        }
      ]
    },
    {
      "cell_type": "markdown",
      "metadata": {
        "colab_type": "text",
        "id": "4AKfYCU0NrwV"
      },
      "source": [
        "##### 6.1.3. Define the optimizer and the loss function"
      ]
    },
    {
      "cell_type": "code",
      "metadata": {
        "colab_type": "code",
        "id": "ZruKy_ZQNrwX",
        "colab": {}
      },
      "source": [
        "optimizer = tf.keras.optimizers.Adam()\n",
        "loss_object = tf.keras.losses.SparseCategoricalCrossentropy(\n",
        "    from_logits=True, reduction='none')\n",
        "\n",
        "def loss_function(real, pred):\n",
        "  mask = tf.math.logical_not(tf.math.equal(real, 0))\n",
        "  loss_ = loss_object(real, pred)\n",
        "\n",
        "  mask = tf.cast(mask, dtype=loss_.dtype)\n",
        "  loss_ *= mask\n",
        "  return tf.reduce_sum(loss_)/tf.reduce_sum(mask)"
      ],
      "execution_count": null,
      "outputs": []
    },
    {
      "cell_type": "markdown",
      "metadata": {
        "colab_type": "text",
        "id": "oBlxubqcNrwY"
      },
      "source": [
        "##### 6.1.4. Checkpoints (Object-based saving)"
      ]
    },
    {
      "cell_type": "code",
      "metadata": {
        "colab_type": "code",
        "id": "j3sh94cYNrwY",
        "colab": {}
      },
      "source": [
        "checkpoint_dir = './baseline_checkpoints'\n",
        "checkpoint_prefix = os.path.join(checkpoint_dir, \"ckpt\")\n",
        "checkpoint = tf.train.Checkpoint(optimizer=optimizer,\n",
        "                                 encoder=encoder,\n",
        "                                 decoder=decoder)"
      ],
      "execution_count": null,
      "outputs": []
    },
    {
      "cell_type": "markdown",
      "metadata": {
        "colab_type": "text",
        "id": "fzqpta7TNrwZ"
      },
      "source": [
        "##### 6.1.5. Setup TensorBoard logging"
      ]
    },
    {
      "cell_type": "code",
      "metadata": {
        "id": "wiTJU6zauP71",
        "colab_type": "code",
        "colab": {}
      },
      "source": [
        "if not os.path.exists('logs'):\n",
        "  os.makedirs('logs')\n",
        "else:\n",
        "  shutil.rmtree('logs', ignore_errors=True)\n",
        "  os.makedirs('logs')"
      ],
      "execution_count": null,
      "outputs": []
    },
    {
      "cell_type": "code",
      "metadata": {
        "colab_type": "code",
        "id": "7cMITllFNrwa",
        "colab": {}
      },
      "source": [
        "current_time = datetime.now().strftime(\"%Y%m%d-%H%M%S\")\n",
        "log_dir = 'logs/gradient_tape/' + current_time + '/baseline'\n",
        "summary_writer = tf.summary.create_file_writer(log_dir)"
      ],
      "execution_count": null,
      "outputs": []
    },
    {
      "cell_type": "markdown",
      "metadata": {
        "colab_type": "text",
        "id": "4K45N0HENrwb"
      },
      "source": [
        "##### 6.1.6. Training\n",
        "1.   Pass the input through the encoder which return encoder output and the encoder hidden state.\n",
        "2.   The encoder output, encoder hidden state and the decoder input (which is the start token) is passed to the decoder.\n",
        "3.   The decoder returns the predictions and the decoder hidden state.\n",
        "4.   The decoder hidden state is then passed back into the model and the predictions are used to calculate the loss.\n",
        "5.   Use teacher forcing to decide the next input to the decoder.\n",
        "6.   Teacher forcing is the technique where the target word is passed as the next input to the decoder.\n",
        "7.   The final step is to calculate the gradients and apply it to the optimizer and backpropagate."
      ]
    },
    {
      "cell_type": "code",
      "metadata": {
        "colab_type": "code",
        "id": "MAtaWsarNrwb",
        "colab": {}
      },
      "source": [
        "@tf.function\n",
        "def train_step(inp_ques, inp_title, inp_price, inp_img, targ, enc_hidden):\n",
        "  loss = 0\n",
        "\n",
        "  with tf.GradientTape() as tape:\n",
        "    enc_outputs = encoder([inp_ques, inp_title, inp_price, inp_img, enc_hidden])\n",
        "\n",
        "    enc_output = enc_outputs[0]\n",
        "\n",
        "    enc_states = enc_outputs[1:]\n",
        "\n",
        "    dec_state_h, dec_state_c = enc_states\n",
        "\n",
        "    dec_input = tf.expand_dims([word2id['<start>']] * BATCH_SIZE, 1)\n",
        "\n",
        "    # Teacher forcing - feeding the target as the next input\n",
        "    for t in range(1, targ.shape[1]):\n",
        "      # passing enc_output to the decoder\n",
        "      predictions, dec_state_h, dec_state_c = \\\n",
        "                      decoder([dec_input, (dec_state_h, dec_state_c), enc_output])\n",
        "\n",
        "      loss += loss_function(targ[:, t], predictions)\n",
        "\n",
        "      # using teacher forcing\n",
        "      dec_input = tf.expand_dims(targ[:, t], 1)\n",
        "\n",
        "  batch_loss = (loss / int(targ.shape[1]))\n",
        "\n",
        "  variables = encoder.trainable_variables + decoder.trainable_variables\n",
        "\n",
        "  gradients = tape.gradient(loss, variables)\n",
        "\n",
        "  optimizer.apply_gradients(zip(gradients, variables))\n",
        "\n",
        "  return batch_loss"
      ],
      "execution_count": null,
      "outputs": []
    },
    {
      "cell_type": "code",
      "metadata": {
        "colab_type": "code",
        "id": "Hn6293oFNrwc",
        "colab": {}
      },
      "source": [
        "EPOCHS = 10"
      ],
      "execution_count": null,
      "outputs": []
    },
    {
      "cell_type": "code",
      "metadata": {
        "colab_type": "code",
        "id": "I59tQm09Nrwe",
        "colab": {}
      },
      "source": [
        "def train(EPOCHS):\n",
        "  loss_train = list()\n",
        "  loss_val = list()\n",
        "\n",
        "  for epoch in range(EPOCHS):\n",
        "      # Training\n",
        "      start_time = timer()\n",
        "      print(\"----- Training -----\")\n",
        "      enc_hidden_train = encoder.initialize_hidden_state()\n",
        "      total_loss_train = 0\n",
        "\n",
        "      for (batch, (inp_ques, inp_title, inp_price, inp_img, targ)) in enumerate(dataset_train.take(steps_per_epoch_train)):\n",
        "        batch_loss = train_step(inp_ques, inp_title, inp_price, inp_img, targ, enc_hidden_train)\n",
        "        total_loss_train += batch_loss\n",
        "\n",
        "        if batch % 100 == 0:\n",
        "          print('Epoch {} Batch {} Loss {:.4f}'.format(epoch + 1,\n",
        "                                                      batch,\n",
        "                                                      batch_loss.numpy()))\n",
        "      \n",
        "      print('Epoch {} Loss {:.4f}'.format(epoch + 1,\n",
        "                                          total_loss_train / steps_per_epoch_train))\n",
        "      \n",
        "      temp_loss_train = total_loss_train / steps_per_epoch_train\n",
        "      loss_train.append(temp_loss_train)\n",
        "      with summary_writer.as_default():\n",
        "          tf.summary.scalar('loss', temp_loss_train, step=epoch)\n",
        "\n",
        "      timer(start_time)\n",
        "      \n",
        "      # Validation\n",
        "      start_time = timer()\n",
        "      print(\"----- Validation -----\")\n",
        "      enc_hidden_val = encoder.initialize_hidden_state()\n",
        "      total_loss_val = 0\n",
        "\n",
        "      for (batch, (inp_ques, inp_title, inp_price, inp_img, targ)) in enumerate(dataset_val.take(steps_per_epoch_val)):\n",
        "        batch_loss = train_step(inp_ques, inp_title, inp_price, inp_img, targ, enc_hidden_val)\n",
        "        total_loss_val += batch_loss\n",
        "\n",
        "        if batch % 40 == 0:\n",
        "          print('Epoch {} Batch {} Val-Loss {:.4f}'.format(epoch + 1,\n",
        "                                                      batch,\n",
        "                                                      batch_loss.numpy()))\n",
        "      \n",
        "      print('Epoch {} Val-Loss {:.4f}'.format(epoch + 1,\n",
        "                                          total_loss_val / steps_per_epoch_val))\n",
        "      \n",
        "      # saving (checkpoint) the model every 10 epochs\n",
        "      if (epoch + 1) % 10 == 0:\n",
        "        checkpoint.save(file_prefix = checkpoint_prefix)\n",
        "\n",
        "      temp_loss_val = total_loss_val / steps_per_epoch_val\n",
        "      loss_val.append(temp_loss_val)\n",
        "      with summary_writer.as_default():\n",
        "          tf.summary.scalar('val-loss', temp_loss_val, step=epoch)\n",
        "\n",
        "      if epoch == EPOCHS-1:\n",
        "        for (batch, (inp_ques, inp_title, inp_price, inp_img, targ)) in enumerate(dataset_val.take(1)):\n",
        "          # Bracket the function call with\n",
        "          # tf.summary.trace_on() and tf.summary.trace_export().\n",
        "          tf.summary.trace_on(graph=True, profiler=True)\n",
        "          batch_loss = train_step(inp_ques, inp_title, inp_price, inp_img, targ, enc_hidden_val)\n",
        "          with summary_writer.as_default():\n",
        "              tf.summary.trace_export(\n",
        "                  name=\"step\",\n",
        "                  step=0,\n",
        "                  profiler_outdir=log_dir)\n",
        "\n",
        "      timer(start_time)\n",
        "  return loss_train, loss_val"
      ],
      "execution_count": null,
      "outputs": []
    },
    {
      "cell_type": "code",
      "metadata": {
        "colab_type": "code",
        "id": "mzYVWcQyNrwh",
        "colab": {
          "base_uri": "https://localhost:8080/",
          "height": 1000
        },
        "outputId": "f17daf0a-0001-4f42-d2e1-c4d9b7cffb87"
      },
      "source": [
        "start_time = timer()\n",
        "loss_train, loss_val = train(EPOCHS)\n",
        "timer(start_time)"
      ],
      "execution_count": null,
      "outputs": [
        {
          "output_type": "stream",
          "text": [
            "----- Training -----\n",
            "WARNING:tensorflow:Gradients do not exist for variables ['encoder_4/conv2d_4/kernel:0', 'encoder_4/conv2d_4/bias:0', 'encoder_4/dense_32/kernel:0', 'encoder_4/dense_32/bias:0', 'encoder_4/dense_33/kernel:0', 'encoder_4/dense_33/bias:0'] when minimizing the loss.\n",
            "WARNING:tensorflow:Gradients do not exist for variables ['encoder_4/conv2d_4/kernel:0', 'encoder_4/conv2d_4/bias:0', 'encoder_4/dense_32/kernel:0', 'encoder_4/dense_32/bias:0', 'encoder_4/dense_33/kernel:0', 'encoder_4/dense_33/bias:0'] when minimizing the loss.\n",
            "Epoch 1 Batch 0 Loss 8.2336\n",
            "Epoch 1 Batch 100 Loss 2.0272\n",
            "Epoch 1 Batch 200 Loss 2.7035\n",
            "Epoch 1 Batch 300 Loss 2.6317\n",
            "Epoch 1 Batch 400 Loss 2.6091\n",
            "Epoch 1 Batch 500 Loss 2.2373\n",
            "Epoch 1 Batch 600 Loss 2.0692\n",
            "Epoch 1 Batch 700 Loss 2.5774\n",
            "Epoch 1 Loss 2.3366\n",
            "Time taken: 0 hours 0 minutes and 37.84 seconds.\n",
            "----- Validation -----\n",
            "Epoch 1 Batch 0 Val-Loss 1.5437\n",
            "Epoch 1 Batch 40 Val-Loss 1.6149\n",
            "Epoch 1 Batch 80 Val-Loss 2.6273\n",
            "Epoch 1 Batch 120 Val-Loss 1.9034\n",
            "Epoch 1 Batch 160 Val-Loss 1.7842\n",
            "Epoch 1 Val-Loss 2.1083\n",
            "Time taken: 0 hours 0 minutes and 8.06 seconds.\n",
            "----- Training -----\n",
            "Epoch 2 Batch 0 Loss 1.9318\n",
            "Epoch 2 Batch 100 Loss 1.8110\n",
            "Epoch 2 Batch 200 Loss 2.4534\n",
            "Epoch 2 Batch 300 Loss 1.4970\n",
            "Epoch 2 Batch 400 Loss 1.6199\n",
            "Epoch 2 Batch 500 Loss 2.0904\n",
            "Epoch 2 Batch 600 Loss 2.0115\n",
            "Epoch 2 Batch 700 Loss 1.8290\n",
            "Epoch 2 Loss 1.9284\n",
            "Time taken: 0 hours 0 minutes and 31.78 seconds.\n",
            "----- Validation -----\n",
            "Epoch 2 Batch 0 Val-Loss 1.7464\n",
            "Epoch 2 Batch 40 Val-Loss 2.0037\n",
            "Epoch 2 Batch 80 Val-Loss 2.3715\n",
            "Epoch 2 Batch 120 Val-Loss 1.7504\n",
            "Epoch 2 Batch 160 Val-Loss 2.1272\n",
            "Epoch 2 Val-Loss 1.8853\n",
            "Time taken: 0 hours 0 minutes and 7.93 seconds.\n",
            "----- Training -----\n",
            "Epoch 3 Batch 0 Loss 1.9647\n",
            "Epoch 3 Batch 100 Loss 1.1622\n",
            "Epoch 3 Batch 200 Loss 1.4414\n",
            "Epoch 3 Batch 300 Loss 1.9031\n",
            "Epoch 3 Batch 400 Loss 1.7243\n",
            "Epoch 3 Batch 500 Loss 2.1415\n",
            "Epoch 3 Batch 600 Loss 1.5731\n",
            "Epoch 3 Batch 700 Loss 2.1332\n",
            "Epoch 3 Loss 1.8344\n",
            "Time taken: 0 hours 0 minutes and 31.7 seconds.\n",
            "----- Validation -----\n",
            "Epoch 3 Batch 0 Val-Loss 1.5423\n",
            "Epoch 3 Batch 40 Val-Loss 2.1882\n",
            "Epoch 3 Batch 80 Val-Loss 1.2649\n",
            "Epoch 3 Batch 120 Val-Loss 1.8213\n",
            "Epoch 3 Batch 160 Val-Loss 1.7719\n",
            "Epoch 3 Val-Loss 1.7879\n",
            "Time taken: 0 hours 0 minutes and 7.99 seconds.\n",
            "----- Training -----\n",
            "Epoch 4 Batch 0 Loss 1.6815\n",
            "Epoch 4 Batch 100 Loss 1.5814\n",
            "Epoch 4 Batch 200 Loss 1.7653\n",
            "Epoch 4 Batch 300 Loss 2.0104\n",
            "Epoch 4 Batch 400 Loss 1.5554\n",
            "Epoch 4 Batch 500 Loss 1.9865\n",
            "Epoch 4 Batch 600 Loss 1.4260\n",
            "Epoch 4 Batch 700 Loss 1.9518\n",
            "Epoch 4 Loss 1.7572\n",
            "Time taken: 0 hours 0 minutes and 31.78 seconds.\n",
            "----- Validation -----\n",
            "Epoch 4 Batch 0 Val-Loss 1.9731\n",
            "Epoch 4 Batch 40 Val-Loss 1.7667\n",
            "Epoch 4 Batch 80 Val-Loss 1.5809\n",
            "Epoch 4 Batch 120 Val-Loss 1.6523\n",
            "Epoch 4 Batch 160 Val-Loss 1.2840\n",
            "Epoch 4 Val-Loss 1.7176\n",
            "Time taken: 0 hours 0 minutes and 7.95 seconds.\n",
            "----- Training -----\n",
            "Epoch 5 Batch 0 Loss 1.7524\n",
            "Epoch 5 Batch 100 Loss 1.5423\n",
            "Epoch 5 Batch 200 Loss 1.6901\n",
            "Epoch 5 Batch 300 Loss 1.3672\n",
            "Epoch 5 Batch 400 Loss 1.9018\n",
            "Epoch 5 Batch 500 Loss 2.1405\n",
            "Epoch 5 Batch 600 Loss 1.7474\n",
            "Epoch 5 Batch 700 Loss 1.5295\n",
            "Epoch 5 Loss 1.7450\n",
            "Time taken: 0 hours 0 minutes and 31.74 seconds.\n",
            "----- Validation -----\n",
            "Epoch 5 Batch 0 Val-Loss 1.7582\n",
            "Epoch 5 Batch 40 Val-Loss 2.0171\n",
            "Epoch 5 Batch 80 Val-Loss 1.6743\n",
            "Epoch 5 Batch 120 Val-Loss 1.8739\n",
            "Epoch 5 Batch 160 Val-Loss 2.1213\n",
            "Epoch 5 Val-Loss 1.7010\n",
            "Time taken: 0 hours 0 minutes and 7.96 seconds.\n",
            "----- Training -----\n",
            "Epoch 6 Batch 0 Loss 1.7454\n",
            "Epoch 6 Batch 100 Loss 1.3684\n",
            "Epoch 6 Batch 200 Loss 1.7217\n",
            "Epoch 6 Batch 300 Loss 1.8315\n",
            "Epoch 6 Batch 400 Loss 2.0139\n",
            "Epoch 6 Batch 500 Loss 1.5687\n",
            "Epoch 6 Batch 600 Loss 1.1982\n",
            "Epoch 6 Batch 700 Loss 1.8036\n",
            "Epoch 6 Loss 1.6530\n",
            "Time taken: 0 hours 0 minutes and 31.76 seconds.\n",
            "----- Validation -----\n",
            "Epoch 6 Batch 0 Val-Loss 1.7088\n",
            "Epoch 6 Batch 40 Val-Loss 1.6160\n",
            "Epoch 6 Batch 80 Val-Loss 1.7842\n",
            "Epoch 6 Batch 120 Val-Loss 1.5301\n",
            "Epoch 6 Batch 160 Val-Loss 1.6520\n",
            "Epoch 6 Val-Loss 1.6122\n",
            "Time taken: 0 hours 0 minutes and 7.97 seconds.\n",
            "----- Training -----\n",
            "Epoch 7 Batch 0 Loss 1.7727\n",
            "Epoch 7 Batch 100 Loss 1.4857\n",
            "Epoch 7 Batch 200 Loss 1.8618\n",
            "Epoch 7 Batch 300 Loss 1.7747\n",
            "Epoch 7 Batch 400 Loss 1.5306\n",
            "Epoch 7 Batch 500 Loss 1.7280\n",
            "Epoch 7 Batch 600 Loss 1.6155\n",
            "Epoch 7 Batch 700 Loss 1.5774\n",
            "Epoch 7 Loss 1.6035\n",
            "Time taken: 0 hours 0 minutes and 31.82 seconds.\n",
            "----- Validation -----\n",
            "Epoch 7 Batch 0 Val-Loss 1.7811\n",
            "Epoch 7 Batch 40 Val-Loss 1.6491\n",
            "Epoch 7 Batch 80 Val-Loss 1.5052\n",
            "Epoch 7 Batch 120 Val-Loss 1.6120\n",
            "Epoch 7 Batch 160 Val-Loss 1.4958\n",
            "Epoch 7 Val-Loss 1.5572\n",
            "Time taken: 0 hours 0 minutes and 7.96 seconds.\n",
            "----- Training -----\n",
            "Epoch 8 Batch 0 Loss 1.6784\n",
            "Epoch 8 Batch 100 Loss 1.4070\n",
            "Epoch 8 Batch 200 Loss 1.5591\n",
            "Epoch 8 Batch 300 Loss 1.4889\n",
            "Epoch 8 Batch 400 Loss 1.1339\n",
            "Epoch 8 Batch 500 Loss 1.2869\n",
            "Epoch 8 Batch 600 Loss 1.3116\n",
            "Epoch 8 Batch 700 Loss 1.7287\n",
            "Epoch 8 Loss 1.5668\n",
            "Time taken: 0 hours 0 minutes and 31.73 seconds.\n",
            "----- Validation -----\n",
            "Epoch 8 Batch 0 Val-Loss 1.2672\n",
            "Epoch 8 Batch 40 Val-Loss 1.4958\n",
            "Epoch 8 Batch 80 Val-Loss 1.7907\n",
            "Epoch 8 Batch 120 Val-Loss 1.4889\n",
            "Epoch 8 Batch 160 Val-Loss 1.6021\n",
            "Epoch 8 Val-Loss 1.5209\n",
            "Time taken: 0 hours 0 minutes and 7.95 seconds.\n",
            "----- Training -----\n",
            "Epoch 9 Batch 0 Loss 1.2837\n",
            "Epoch 9 Batch 100 Loss 1.2400\n",
            "Epoch 9 Batch 200 Loss 1.4353\n",
            "Epoch 9 Batch 300 Loss 1.3879\n",
            "Epoch 9 Batch 400 Loss 1.6429\n",
            "Epoch 9 Batch 500 Loss 1.6903\n",
            "Epoch 9 Batch 600 Loss 1.6004\n",
            "Epoch 9 Batch 700 Loss 1.5107\n",
            "Epoch 9 Loss 1.5161\n",
            "Time taken: 0 hours 0 minutes and 31.72 seconds.\n",
            "----- Validation -----\n",
            "Epoch 9 Batch 0 Val-Loss 1.8488\n",
            "Epoch 9 Batch 40 Val-Loss 1.2953\n",
            "Epoch 9 Batch 80 Val-Loss 1.5128\n",
            "Epoch 9 Batch 120 Val-Loss 1.4170\n",
            "Epoch 9 Batch 160 Val-Loss 1.4004\n",
            "Epoch 9 Val-Loss 1.4651\n",
            "Time taken: 0 hours 0 minutes and 7.96 seconds.\n",
            "----- Training -----\n",
            "Epoch 10 Batch 0 Loss 0.8706\n",
            "Epoch 10 Batch 100 Loss 1.7678\n",
            "Epoch 10 Batch 200 Loss 1.3468\n",
            "Epoch 10 Batch 300 Loss 1.8178\n",
            "Epoch 10 Batch 400 Loss 1.6621\n",
            "Epoch 10 Batch 500 Loss 1.3384\n",
            "Epoch 10 Batch 600 Loss 1.2655\n",
            "Epoch 10 Batch 700 Loss 1.5000\n",
            "Epoch 10 Loss 1.4932\n",
            "Time taken: 0 hours 0 minutes and 31.75 seconds.\n",
            "----- Validation -----\n",
            "Epoch 10 Batch 0 Val-Loss 1.4850\n",
            "Epoch 10 Batch 40 Val-Loss 1.4789\n",
            "Epoch 10 Batch 80 Val-Loss 1.3494\n",
            "Epoch 10 Batch 120 Val-Loss 1.5380\n",
            "Epoch 10 Batch 160 Val-Loss 1.2938\n",
            "Epoch 10 Val-Loss 1.4320\n",
            "Time taken: 0 hours 0 minutes and 11.79 seconds.\n",
            "Time taken: 0 hours 6 minutes and 47.15 seconds.\n"
          ],
          "name": "stdout"
        }
      ]
    },
    {
      "cell_type": "markdown",
      "metadata": {
        "colab_type": "text",
        "id": "ppmvXK5UNrwi"
      },
      "source": [
        "##### 6.1.7. Save the model"
      ]
    },
    {
      "cell_type": "code",
      "metadata": {
        "colab_type": "code",
        "id": "-AK6T8XQNrwi",
        "colab": {}
      },
      "source": [
        "encoder.save_weights('baseline_encoder_weights.h5')\n",
        "decoder.save_weights('baseline_decoder_weights.h5')"
      ],
      "execution_count": null,
      "outputs": []
    },
    {
      "cell_type": "code",
      "metadata": {
        "colab_type": "code",
        "id": "CaQnfQJzNrwj",
        "colab": {
          "base_uri": "https://localhost:8080/",
          "height": 98
        },
        "outputId": "e21096e8-e0c1-4ba6-db10-9e78ce6e5619"
      },
      "source": [
        "!tar cvzf baseline_checkpoints.tar.gz ./baseline_checkpoints/checkpoint ./baseline_checkpoints/ckpt-1.data-00000-of-00001 ./baseline_checkpoints/ckpt-1.index ./baseline_encoder_weights.h5 ./baseline_decoder_weights.h5"
      ],
      "execution_count": null,
      "outputs": [
        {
          "output_type": "stream",
          "text": [
            "./baseline_checkpoints/checkpoint\n",
            "./baseline_checkpoints/ckpt-1.data-00000-of-00001\n",
            "./baseline_checkpoints/ckpt-1.index\n",
            "./baseline_encoder_weights.h5\n",
            "./baseline_decoder_weights.h5\n"
          ],
          "name": "stdout"
        }
      ]
    },
    {
      "cell_type": "code",
      "metadata": {
        "id": "2GiENJWH4cAZ",
        "colab_type": "code",
        "colab": {}
      },
      "source": [
        "ENC_SAVED_MODEL_DIR = 'baseline_encoder'\n",
        "DEC_SAVED_MODEL_DIR = 'baseline_decoder'\n",
        "TFLITE_MODELS_DIR = 'baseline_tflite_models'\n",
        "ENC_TFLITE_MODEL_NAME = 'baseline_encoder'\n",
        "DEC_TFLITE_MODEL_NAME = 'baseline_decoder'\n",
        "ENC_TFLITE_QUANTIZED_MODEL_NAME = 'baseline_encoder_f16'\n",
        "DEC_TFLITE_QUANTIZED_MODEL_NAME = 'baseline_decoder_f16'"
      ],
      "execution_count": null,
      "outputs": []
    },
    {
      "cell_type": "code",
      "metadata": {
        "id": "CnlrvuThjEIn",
        "colab_type": "code",
        "colab": {
          "base_uri": "https://localhost:8080/",
          "height": 167
        },
        "outputId": "1264af22-a87f-4e78-bdbe-79c8bb0c7427"
      },
      "source": [
        "encoder.save(ENC_SAVED_MODEL_DIR)\n",
        "decoder.save(DEC_SAVED_MODEL_DIR)"
      ],
      "execution_count": null,
      "outputs": [
        {
          "output_type": "stream",
          "text": [
            "WARNING:tensorflow:From /usr/local/lib/python3.6/dist-packages/tensorflow/python/training/tracking/tracking.py:111: Model.state_updates (from tensorflow.python.keras.engine.training) is deprecated and will be removed in a future version.\n",
            "Instructions for updating:\n",
            "This property should not be used in TensorFlow 2.0, as updates are applied automatically.\n",
            "WARNING:tensorflow:From /usr/local/lib/python3.6/dist-packages/tensorflow/python/training/tracking/tracking.py:111: Layer.updates (from tensorflow.python.keras.engine.base_layer) is deprecated and will be removed in a future version.\n",
            "Instructions for updating:\n",
            "This property should not be used in TensorFlow 2.0, as updates are applied automatically.\n",
            "INFO:tensorflow:Assets written to: baseline_encoder/assets\n",
            "INFO:tensorflow:Assets written to: baseline_decoder/assets\n"
          ],
          "name": "stdout"
        }
      ]
    },
    {
      "cell_type": "code",
      "metadata": {
        "id": "_6PlrkRyGmNV",
        "colab_type": "code",
        "colab": {}
      },
      "source": [
        "import pathlib\n",
        "def prepare_tflite_models_dir(dir_name):\n",
        "  tflite_models_dir = pathlib.Path(os.path.join(os.getcwd(), dir_name))\n",
        "  tflite_models_dir.mkdir(exist_ok=True, parents=True)\n",
        "  return tflite_models_dir\n",
        "\n",
        "def convert_saved_model_to_tflite(saved_models_dir, tflite_models_dir, tflite_model_name, quantize=False):\n",
        "  # convert the SavedModel into a TensorFlow Lite model\n",
        "  converter = tf.lite.TFLiteConverter.from_saved_model(saved_models_dir)\n",
        "  if quantize:\n",
        "    converter.optimizations = [tf.lite.Optimize.DEFAULT]\n",
        "    converter.target_spec.supported_types = [tf.float16]\n",
        "  tflite_model = converter.convert()\n",
        "  \n",
        "  tflite_model_file = tflite_models_dir/\"{}\".format(tflite_model_name)\n",
        "  tflite_model_file.write_bytes(tflite_model)\n",
        "  return tflite_model_file"
      ],
      "execution_count": null,
      "outputs": []
    },
    {
      "cell_type": "code",
      "metadata": {
        "id": "2qfnfE2oZrpG",
        "colab_type": "code",
        "colab": {}
      },
      "source": [
        "tflite_models_dir = prepare_tflite_models_dir(TFLITE_MODELS_DIR)\n",
        "tflite_encoder_model_file = convert_saved_model_to_tflite(ENC_SAVED_MODEL_DIR, tflite_models_dir, ENC_TFLITE_MODEL_NAME)\n",
        "tflite_decoder_model_file = convert_saved_model_to_tflite(DEC_SAVED_MODEL_DIR, tflite_models_dir, DEC_TFLITE_MODEL_NAME)\n",
        "tflite_encoder_model_fp16_file = convert_saved_model_to_tflite(ENC_SAVED_MODEL_DIR, tflite_models_dir, ENC_TFLITE_QUANTIZED_MODEL_NAME, quantize=True)\n",
        "tflite_decoder_model_fp16_file = convert_saved_model_to_tflite(DEC_SAVED_MODEL_DIR, tflite_models_dir, DEC_TFLITE_QUANTIZED_MODEL_NAME, quantize=True)"
      ],
      "execution_count": null,
      "outputs": []
    },
    {
      "cell_type": "code",
      "metadata": {
        "id": "eL_Sg-d6JJy0",
        "colab_type": "code",
        "colab": {
          "base_uri": "https://localhost:8080/",
          "height": 98
        },
        "outputId": "04c40d46-1f83-4920-a79b-eddc76259363"
      },
      "source": [
        "# Print tf-lite model sizes\n",
        "!ls -lh {tflite_models_dir}"
      ],
      "execution_count": null,
      "outputs": [
        {
          "output_type": "stream",
          "text": [
            "total 681M\n",
            "-rw-r--r-- 1 root root 171M Aug 15 11:45 baseline_decoder\n",
            "-rw-r--r-- 1 root root  86M Aug 15 11:46 baseline_decoder_f16\n",
            "-rw-r--r-- 1 root root 284M Aug 15 11:45 baseline_encoder\n",
            "-rw-r--r-- 1 root root 142M Aug 15 11:46 baseline_encoder_f16\n"
          ],
          "name": "stdout"
        }
      ]
    },
    {
      "cell_type": "markdown",
      "metadata": {
        "colab_type": "text",
        "id": "dViETafDNrwl"
      },
      "source": [
        "##### 6.1.8. Plot the model's loss"
      ]
    },
    {
      "cell_type": "code",
      "metadata": {
        "colab_type": "code",
        "id": "q2J9nuGaNrwl",
        "colab": {}
      },
      "source": [
        "def plot_loss(EPOCHS, loss_train, loss_val):\n",
        "  epochs = range(EPOCHS)\n",
        "  plt.plot(epochs, loss_train, 'b', label='Training loss')\n",
        "  plt.plot(epochs, loss_val, 'r', label='Validation loss')\n",
        "  plt.title('Training and Validation loss')\n",
        "  plt.xlabel('Epochs')\n",
        "  plt.ylabel('Sparse categorical crossentropy loss')\n",
        "  plt.legend()\n",
        "  plt.show()"
      ],
      "execution_count": null,
      "outputs": []
    },
    {
      "cell_type": "code",
      "metadata": {
        "colab_type": "code",
        "id": "N_CpQJ9mNrwm",
        "colab": {
          "base_uri": "https://localhost:8080/",
          "height": 294
        },
        "outputId": "7f4aca61-9679-424d-eb9f-fd5c27e045e6"
      },
      "source": [
        "plot_loss(EPOCHS, loss_train, loss_val)"
      ],
      "execution_count": null,
      "outputs": [
        {
          "output_type": "display_data",
          "data": {
            "image/png": "[encoded data removed]",
            "text/plain": [
              "<Figure size 432x288 with 1 Axes>"
            ]
          },
          "metadata": {
            "tags": [],
            "needs_background": "light"
          }
        }
      ]
    },
    {
      "cell_type": "markdown",
      "metadata": {
        "colab_type": "text",
        "id": "z28PZQHNNrwo"
      },
      "source": [
        "##### 6.1.9. Inference\n",
        "1.   The evaluate function is similar to the training loop, except we don't use teacher forcing here. The input to the decoder at each time step is its previous predictions along with the hidden state and the encoder output.\n",
        "2.   Stop predicting when the model predicts the end token."
      ]
    },
    {
      "cell_type": "markdown",
      "metadata": {
        "id": "rCzljz-z1Z4F",
        "colab_type": "text"
      },
      "source": [
        "###### 6.1.9.1. Without TF-Lite"
      ]
    },
    {
      "cell_type": "code",
      "metadata": {
        "colab_type": "code",
        "id": "weLsOuD9Nrwo",
        "colab": {}
      },
      "source": [
        "## Beam search\n",
        "def evaluate_beam(inputs_ques, inputs_title, inputs_price, inputs_image, \n",
        "                  encoder, decoder, max_length_inp_ques, max_length_inp_title, \n",
        "                  max_length_targ, special_input=False, beam_index=3):\n",
        "    \"\"\"\n",
        "      inputs_ques type = numpy.ndarray \n",
        "      inputs_ques shape = (1, max_length_inp_ques)\n",
        "      inputs_title type = numpy.ndarray \n",
        "      inputs_title shape = (1, max_length_inp_title)\n",
        "      inputs_price type = numpy.ndarray \n",
        "      inputs_price shape = (1, 1)\n",
        "      inputs_image type = numpy.ndarray \n",
        "      inputs_image shape = (1, image_width, image_height, channels)\n",
        "    \"\"\"\n",
        "    if special_input:\n",
        "      inputs_ques = tf.zeros((1, max_length_inp_ques), dtype=tf.dtypes.int32)\n",
        "      inputs_title = tf.zeros((1, max_length_inp_title), dtype=tf.dtypes.int32)\n",
        "      inputs_price = tf.zeros((1, 1), dtype=tf.dtypes.int32)\n",
        "      inputs_image = tf.zeros((1, 40, 40, 3), dtype=tf.dtypes.float32)\n",
        "      sentence = 'All zeros'\n",
        "    else:\n",
        "      sentence = ''\n",
        "      for i in inputs_ques[0]:\n",
        "          if i == 0: # break if post padding detected\n",
        "              break\n",
        "          sentence = sentence + id2word[i] + ' '\n",
        "      inputs_ques = tf.convert_to_tensor(inputs_ques)\n",
        "      inputs_title = tf.convert_to_tensor(inputs_title)\n",
        "      inputs_price = tf.convert_to_tensor(inputs_price)\n",
        "      inputs_image = tf.convert_to_tensor(inputs_image)\n",
        "\n",
        "    start = [word2id['<start>']]\n",
        "    \n",
        "    # result[0][0] = index of the starting word\n",
        "    # result[0][1] = probability of the word predicted\n",
        "    result = [[start, 0.0]]\n",
        "\n",
        "    enc_hidden = (tf.zeros((1, units)), tf.zeros((1, units)))\n",
        "    enc_outputs = encoder([inputs_ques, inputs_title, inputs_price, inputs_image, enc_hidden])\n",
        "    enc_output = enc_outputs[0]\n",
        "    enc_states = enc_outputs[1:]\n",
        "    dec_state_h, dec_state_c = enc_states\n",
        "    dec_input = tf.expand_dims([word2id['<start>']], 0)\n",
        "\n",
        "    # (max_length_targ-1) because start token is already added in the result\n",
        "    while len(result[0][0]) < (max_length_targ-1):\n",
        "        temp = []\n",
        "        for s in result:\n",
        "\n",
        "          predictions, dec_state_h, dec_state_c = \\\n",
        "                      decoder([dec_input, (dec_state_h, dec_state_c), enc_output])\n",
        "\n",
        "         \n",
        "          \n",
        "          # Getting the top <beam_index>(n) predictions\n",
        "          word_preds = np.argsort(predictions[0])[-beam_index:]\n",
        "          \n",
        "          # creating a new list so as to put them via the model again\n",
        "          for w in word_preds:       \n",
        "            next_cap, prob = s[0][:], s[1]\n",
        "            next_cap.append(w)\n",
        "            prob += predictions[0][w]\n",
        "            temp.append([next_cap, prob])\n",
        "        result = temp\n",
        "        # Sorting according to the probabilities\n",
        "        result = sorted(result, reverse=False, key=lambda l: l[1])\n",
        "        # Getting the top words\n",
        "        result = result[-beam_index:]\n",
        "        \n",
        "        predicted_id = result[-1] # with Max Probability\n",
        "        pred_list = predicted_id[0]\n",
        "        \n",
        "        prd_id = pred_list[-1] \n",
        "\n",
        "        if(prd_id!=word2id['<end>']):\n",
        "          dec_input = tf.expand_dims([prd_id], 0)  # Decoder input is the word predicted with highest probability among the top_k words predicted\n",
        "        else:\n",
        "          break\n",
        "\n",
        "    result = result[-1][0]\n",
        "    \n",
        "    intermediate_result = [id2word[i] for i in result]\n",
        "    \n",
        "    final_result = []\n",
        "    for i in intermediate_result:\n",
        "        if i != '<end>':\n",
        "            final_result.append(i)\n",
        "        else:\n",
        "            break\n",
        "\n",
        "    \n",
        "    final_result = ' '.join(final_result[1:])\n",
        "    return final_result, sentence"
      ],
      "execution_count": null,
      "outputs": []
    },
    {
      "cell_type": "code",
      "metadata": {
        "colab_type": "code",
        "id": "YHrdfEf_Nrwp",
        "colab": {}
      },
      "source": [
        "## Greedy search\n",
        "def evaluate(inputs_ques, inputs_title, inputs_price, inputs_image, encoder, \n",
        "             decoder, max_length_inp_ques, max_length_inp_title,\n",
        "             max_length_targ, special_input=False):\n",
        "    \"\"\"\n",
        "      inputs_ques type = numpy.ndarray \n",
        "      inputs_ques shape = (1, max_length_inp_ques)\n",
        "      inputs_title type = numpy.ndarray \n",
        "      inputs_title shape = (1, max_length_inp_title)\n",
        "      inputs_price type = numpy.ndarray \n",
        "      inputs_price shape = (1, 1)\n",
        "      inputs_image type = numpy.ndarray \n",
        "      inputs_image shape = (1, image_width, image_height, channels)\n",
        "    \"\"\"\n",
        "    if special_input:\n",
        "      inputs_ques = tf.zeros((1, max_length_inp_ques), dtype=tf.dtypes.int32)\n",
        "      inputs_title = tf.zeros((1, max_length_inp_title), dtype=tf.dtypes.int32)\n",
        "      inputs_price = tf.zeros((1, 1), dtype=tf.dtypes.int32)\n",
        "      inputs_image = tf.zeros((1, 40, 40, 3), dtype=tf.dtypes.float32)\n",
        "      sentence = 'All zeros'\n",
        "    else:\n",
        "      sentence = ''\n",
        "      for i in inputs_ques[0]:\n",
        "          if i == 0: # break if post padding detected\n",
        "              break\n",
        "          sentence = sentence + id2word[i] + ' '\n",
        "      inputs_ques = tf.convert_to_tensor(inputs_ques)\n",
        "      inputs_title = tf.convert_to_tensor(inputs_title)\n",
        "      inputs_price = tf.convert_to_tensor(inputs_price)\n",
        "      inputs_image = tf.convert_to_tensor(inputs_image)\n",
        "    \n",
        "    result = ''\n",
        "    enc_hidden = (tf.zeros((1, units)), tf.zeros((1, units)))\n",
        "    enc_outputs = encoder([inputs_ques, inputs_title, inputs_price, inputs_image, enc_hidden])\n",
        "    enc_output = enc_outputs[0]\n",
        "    enc_states = enc_outputs[1:]\n",
        "    dec_state_h, dec_state_c = enc_states\n",
        "\n",
        "    dec_input = tf.expand_dims([word2id['<start>']], 0)\n",
        "    for t in range(max_length_targ): # limit the length of the decoded sequence\n",
        "        predictions, dec_state_h, dec_state_c = \\\n",
        "                      decoder([dec_input, (dec_state_h, dec_state_c), enc_output])\n",
        "        predicted_id = tf.argmax(predictions[0]).numpy()\n",
        "        result += id2word[predicted_id] + ' '\n",
        "        if id2word[predicted_id] == '<end>':\n",
        "            return result, sentence\n",
        "        dec_input = tf.expand_dims([predicted_id], 0)\n",
        "    return result, sentence"
      ],
      "execution_count": null,
      "outputs": []
    },
    {
      "cell_type": "code",
      "metadata": {
        "colab_type": "code",
        "id": "GMLUlGNCNrwq",
        "colab": {}
      },
      "source": [
        "def get_interpreter(tflite_model_file):\n",
        "  interpreter = tf.lite.Interpreter(model_path=str(tflite_model_file))\n",
        "  interpreter.allocate_tensors()\n",
        "  return interpreter\n",
        "\n",
        "def process(str):\n",
        "  str = str.replace('<start>','')\n",
        "  str = str.replace('<end>','')\n",
        "  return str.strip()\n",
        "\n",
        "def predict(encoder, decoder, dataset_input_ques, dataset_input_title, \n",
        "            dataset_input_price, dataset_input_image, dataset_output, mode, \n",
        "            count=10, first_half=True, special_input=False, beam_search=False, \n",
        "            tflite=False, quantize=False, use_quantize_decoder_inputs_order=False):\n",
        "  start = 0\n",
        "\n",
        "  if mode == 'random':\n",
        "    end = count\n",
        "  elif mode == 'corpus':\n",
        "    end = len(dataset_input_ques)\n",
        "    predicted_answer_list = list()\n",
        "    actual_answer_list = list()\n",
        "  elif mode == 'debug':\n",
        "    question_list = list()\n",
        "    predicted_answer_list = list()\n",
        "    actual_answer_list = list()\n",
        "    if first_half:\n",
        "      end = int(len(dataset_input_ques)/2)\n",
        "    else:\n",
        "      start = int(len(dataset_input_ques)/2)\n",
        "      end = len(dataset_input_ques)\n",
        "\n",
        "  \n",
        "  for j in range(start, end):\n",
        "      actual_ans = ''\n",
        "      if mode == 'random':\n",
        "        k = np.random.randint(len(dataset_input_ques))\n",
        "        random_input_ques = dataset_input_ques[k]\n",
        "        random_input_title = dataset_input_title[k]\n",
        "        random_input_price = dataset_input_price[k]\n",
        "        random_input_image = dataset_input_image[k]\n",
        "        random_output = dataset_output[k]\n",
        "      elif mode == 'corpus' or mode == 'debug':\n",
        "        random_input_ques = dataset_input_ques[j]\n",
        "        random_input_title = dataset_input_title[j]\n",
        "        random_input_price = dataset_input_price[j]\n",
        "        random_input_image = dataset_input_image[j]\n",
        "        random_output = dataset_output[j]\n",
        "\n",
        "      random_input_ques = np.expand_dims(random_input_ques, 0)\n",
        "      random_input_title = np.expand_dims(random_input_title, 0)\n",
        "      random_input_price = np.expand_dims(random_input_price, 0)\n",
        "      random_input_image = np.expand_dims(random_input_image, 0)\n",
        "      if beam_search:\n",
        "        # <Havan Somaiya> [15-Aug-2020]\n",
        "        if tflite:\n",
        "          if quantize:\n",
        "            interpreter_fp16_encoder = get_interpreter(encoder)\n",
        "            interpreter_fp16_decoder = get_interpreter(decoder)\n",
        "            predicted_ans, ques = evaluate_tflite_beam(random_input_ques, random_input_title, \n",
        "                                             random_input_price, random_input_image, \n",
        "                                             interpreter_fp16_encoder, interpreter_fp16_decoder, \n",
        "                                             max_ques_length, max_title_length, max_ans_length, \n",
        "                                             special_input=special_input, quantize=quantize,\n",
        "                                             use_quantize_decoder_inputs_order=use_quantize_decoder_inputs_order)\n",
        "\n",
        "          else:\n",
        "            interpreter_encoder = get_interpreter(encoder)\n",
        "            interpreter_decoder = get_interpreter(decoder)\n",
        "            predicted_ans, ques = evaluate_tflite_beam(random_input_ques, random_input_title, \n",
        "                                             random_input_price, random_input_image, \n",
        "                                             interpreter_encoder, interpreter_decoder, \n",
        "                                             max_ques_length, max_title_length, max_ans_length, \n",
        "                                             special_input=special_input, quantize=quantize,\n",
        "                                             use_quantize_decoder_inputs_order=use_quantize_decoder_inputs_order)\n",
        "\n",
        "        else:\n",
        "          predicted_ans, ques = evaluate_beam(random_input_ques, random_input_title, \n",
        "                                             random_input_price, random_input_image, \n",
        "                                             encoder, decoder, max_ques_length, \n",
        "                                             max_title_length, max_ans_length, \n",
        "                                             special_input=special_input)\n",
        "      else:\n",
        "        if tflite:\n",
        "          if quantize:\n",
        "              interpreter_fp16_encoder = get_interpreter(encoder)\n",
        "              interpreter_fp16_decoder = get_interpreter(decoder)\n",
        "              predicted_ans, ques = evaluate_tflite(random_input_ques, random_input_title, \n",
        "                                              random_input_price, random_input_image, \n",
        "                                              interpreter_fp16_encoder, interpreter_fp16_decoder, \n",
        "                                              max_ques_length, max_title_length, max_ans_length, \n",
        "                                              special_input=special_input, quantize=quantize,\n",
        "                                              use_quantize_decoder_inputs_order=use_quantize_decoder_inputs_order)\n",
        "\n",
        "          else:\n",
        "              interpreter_encoder = get_interpreter(encoder)\n",
        "              interpreter_decoder = get_interpreter(decoder)\n",
        "              predicted_ans, ques = evaluate_tflite(random_input_ques, random_input_title, \n",
        "                                              random_input_price, random_input_image, \n",
        "                                              interpreter_encoder, interpreter_decoder, \n",
        "                                              max_ques_length, max_title_length, max_ans_length, \n",
        "                                              special_input=special_input, quantize=quantize,\n",
        "                                              use_quantize_decoder_inputs_order=use_quantize_decoder_inputs_order)\n",
        "            \n",
        "        else:\n",
        "          predicted_ans, ques = evaluate(random_input_ques, random_input_title, \n",
        "                                       random_input_price, random_input_image, \n",
        "                                       encoder, decoder, max_ques_length, \n",
        "                                       max_title_length, max_ans_length, \n",
        "                                       special_input=special_input)\n",
        "      for i in random_output:\n",
        "          if i == 0: # break if post padding detected\n",
        "            break\n",
        "          actual_ans = actual_ans + id2word[i] + ' '\n",
        "      \n",
        "      if mode == 'debug':\n",
        "        question_list.append(process(ques))\n",
        "        predicted_answer_list.append(process(predicted_ans))\n",
        "        actual_answer_list.append(process(actual_ans))\n",
        "\n",
        "      if mode == 'random':  \n",
        "        print()\n",
        "        print('Question: {}'.format(process(ques)))\n",
        "        print('Actual answer: {}'.format(process(actual_ans)))\n",
        "        print('Predicted answer: {}'.format(process(predicted_ans)))\n",
        "      elif mode == 'corpus': \n",
        "        hypothesis = process(predicted_ans).split(' ')\n",
        "        reference = process(actual_ans).split(' ')\n",
        "        references = [reference] # list of references for 1 sentence.\n",
        "        actual_answer_list.append(references) # list of references for all sentences in corpus.\n",
        "        predicted_answer_list.append(hypothesis) # list of hypotheses that corresponds to list of references.\n",
        "        \n",
        "\n",
        "  if mode == 'debug':\n",
        "    return question_list, predicted_answer_list, actual_answer_list\n",
        "  elif mode == 'corpus':\n",
        "    return predicted_answer_list, actual_answer_list\n",
        "  elif mode == 'random':\n",
        "    return"
      ],
      "execution_count": null,
      "outputs": []
    },
    {
      "cell_type": "markdown",
      "metadata": {
        "id": "9lXj-HoV1m5H",
        "colab_type": "text"
      },
      "source": [
        "###### 6.1.9.2. With TF-Lite"
      ]
    },
    {
      "cell_type": "code",
      "metadata": {
        "id": "lTne7XMDtPMf",
        "colab_type": "code",
        "colab": {}
      },
      "source": [
        "def get_tflite_model_outputs(interpreter):\n",
        "  output_index = interpreter.get_output_details()[0][\"index\"]\n",
        "  lstm_sate_c = interpreter.get_tensor(output_index)\n",
        "  output_index = interpreter.get_output_details()[1][\"index\"]\n",
        "  lstm_sate_h = interpreter.get_tensor(output_index)\n",
        "  output_index = interpreter.get_output_details()[2][\"index\"]\n",
        "  lstm_output = interpreter.get_tensor(output_index)\n",
        "  return lstm_sate_c, lstm_sate_h, lstm_output"
      ],
      "execution_count": null,
      "outputs": []
    },
    {
      "cell_type": "code",
      "metadata": {
        "id": "vK0c1qcfN-ZP",
        "colab_type": "code",
        "colab": {}
      },
      "source": [
        "## Beam Search\n",
        "def evaluate_tflite_beam(inputs_ques, inputs_title, inputs_price, inputs_image, \n",
        "                         interpreter_encoder, interpreter_decoder, \n",
        "                         max_length_inp_ques, max_length_inp_title, \n",
        "                         max_length_targ, special_input=False, beam_index=3, \n",
        "                         quantize=False, use_quantize_decoder_inputs_order=False):\n",
        "    if special_input:\n",
        "      inputs_ques = tf.zeros((1, max_length_inp_ques), dtype=tf.dtypes.int32)\n",
        "      inputs_title = tf.zeros((1, max_length_inp_title), dtype=tf.dtypes.int32)\n",
        "      inputs_price = tf.zeros((1, 1), dtype=tf.dtypes.float32)\n",
        "      inputs_image = tf.zeros((1, 40, 40, 3), dtype=tf.dtypes.float32)\n",
        "      sentence = 'All zeros'\n",
        "    else:\n",
        "      sentence = ''\n",
        "      for i in inputs_ques[0]:\n",
        "          if i == 0: # break if post padding detected\n",
        "              break\n",
        "          sentence = sentence + id2word[i] + ' '\n",
        "      \n",
        "      # Ensure proper dtype\n",
        "      inputs_ques = inputs_ques.astype(np.int32)\n",
        "      inputs_title = inputs_title.astype(np.int32)\n",
        "      inputs_price = inputs_price.astype(np.float32)\n",
        "      inputs_image = inputs_image.astype(np.float32)\n",
        "\n",
        "\n",
        "    start = [word2id['<start>']]\n",
        "    \n",
        "    # result[0][0] = index of the starting word\n",
        "    # result[0][1] = probability of the word predicted\n",
        "    result = [[start, 0.0]]\n",
        "\n",
        "    # Preparation of inputs to encoder\n",
        "    enc_hidden = (tf.zeros((1, units)), tf.zeros((1, units)))\n",
        "    \n",
        "    enc_inputs = [inputs_image, inputs_price, inputs_title, enc_hidden[0], enc_hidden[1], inputs_ques]\n",
        "    input_details_encoder = interpreter_encoder.get_input_details()\n",
        "\n",
        "    for i in range(len(input_details_encoder)):\n",
        "      input_index_encoder = interpreter_encoder.get_input_details()[i][\"index\"]\n",
        "      interpreter_encoder.set_tensor(input_index_encoder, enc_inputs[i])\n",
        "    \n",
        "    # Call the encoder\n",
        "    interpreter_encoder.invoke()\n",
        "\n",
        "    # Get the outputs\n",
        "    dec_state_c, dec_state_h, enc_output = get_tflite_model_outputs(interpreter_encoder)\n",
        "\n",
        "    # Decoder\n",
        "    # Set the inputs\n",
        "    dec_input = np.expand_dims([word2id['<start>']], axis=0).astype(np.float32)\n",
        "\n",
        "    # (max_length_targ-1) because start token is already added in the result\n",
        "    while len(result[0][0]) < (max_length_targ-1):\n",
        "        temp = []\n",
        "        for s in result:\n",
        "\n",
        "          if quantize or use_quantize_decoder_inputs_order:\n",
        "            dec_inputs = [enc_output, dec_input, dec_state_c, dec_state_h]\n",
        "          else:\n",
        "            dec_inputs = [enc_output, dec_state_c, dec_state_h, dec_input]\n",
        "          \n",
        "          input_details_decoder = interpreter_decoder.get_input_details()\n",
        "\n",
        "          for i in range(len(input_details_decoder)):\n",
        "            input_index_decoder = interpreter_decoder.get_input_details()[i][\"index\"]\n",
        "            interpreter_decoder.set_tensor(input_index_decoder, dec_inputs[i])\n",
        "          \n",
        "          # Call the decoder\n",
        "          interpreter_decoder.invoke()\n",
        "\n",
        "          # Get the outputs\n",
        "          dec_state_c, dec_state_h, predictions = get_tflite_model_outputs(interpreter_decoder)\n",
        "          \n",
        "          # Getting the top <beam_index>(n) predictions\n",
        "          word_preds = np.argsort(predictions[0])[-beam_index:]\n",
        "          \n",
        "          # creating a new list so as to put them via the model again\n",
        "          for w in word_preds:       \n",
        "            next_cap, prob = s[0][:], s[1]\n",
        "            next_cap.append(w)\n",
        "            prob += predictions[0][w]\n",
        "            temp.append([next_cap, prob])\n",
        "        result = temp\n",
        "        # Sorting according to the probabilities\n",
        "        result = sorted(result, reverse=False, key=lambda l: l[1])\n",
        "        # Getting the top words\n",
        "        result = result[-beam_index:]\n",
        "        \n",
        "        predicted_id = result[-1] # with Max Probability\n",
        "        pred_list = predicted_id[0]\n",
        "        \n",
        "        prd_id = pred_list[-1] \n",
        "\n",
        "        if(prd_id!=word2id['<end>']):\n",
        "          dec_input = np.expand_dims([prd_id], 0).astype(np.float32)  # Decoder input is the word predicted with highest probability among the top_k words predicted\n",
        "        else:\n",
        "          break\n",
        "\n",
        "    result = result[-1][0]\n",
        "    \n",
        "    intermediate_result = [id2word[i] for i in result]\n",
        "    \n",
        "    final_result = []\n",
        "    for i in intermediate_result:\n",
        "        if i != '<end>':\n",
        "            final_result.append(i)\n",
        "        else:\n",
        "            break\n",
        "\n",
        "    \n",
        "    final_result = ' '.join(final_result[1:])\n",
        "    return final_result, sentence"
      ],
      "execution_count": null,
      "outputs": []
    },
    {
      "cell_type": "code",
      "metadata": {
        "id": "X1YDZSpIJmfr",
        "colab_type": "code",
        "colab": {}
      },
      "source": [
        "## Greedy Search\n",
        "def evaluate_tflite(inputs_ques, inputs_title, inputs_price, inputs_image, \n",
        "                    interpreter_encoder, interpreter_decoder, max_length_inp_ques,\n",
        "                    max_length_inp_title, max_length_targ, special_input=False, \n",
        "                    quantize=False, use_quantize_decoder_inputs_order=False):\n",
        "    if special_input:\n",
        "      inputs_ques = tf.zeros((1, max_length_inp_ques), dtype=tf.dtypes.int32)\n",
        "      inputs_title = tf.zeros((1, max_length_inp_title), dtype=tf.dtypes.int32)\n",
        "      inputs_price = tf.zeros((1, 1), dtype=tf.dtypes.float32)\n",
        "      inputs_image = tf.zeros((1, 40, 40, 3), dtype=tf.dtypes.float32)\n",
        "      sentence = 'All zeros'\n",
        "    else:\n",
        "      sentence = ''\n",
        "      for i in inputs_ques[0]:\n",
        "          if i == 0: # break if post padding detected\n",
        "              break\n",
        "          sentence = sentence + id2word[i] + ' '\n",
        "      \n",
        "      # Ensure proper dtype\n",
        "      inputs_ques = inputs_ques.astype(np.int32)\n",
        "      inputs_title = inputs_title.astype(np.int32)\n",
        "      inputs_price = inputs_price.astype(np.float32)\n",
        "      inputs_image = inputs_image.astype(np.float32)\n",
        "\n",
        "\n",
        "    result = ''\n",
        "    # Preparation of inputs to encoder\n",
        "    enc_hidden = (tf.zeros((1, units)), tf.zeros((1, units)))\n",
        "    enc_inputs = [inputs_image, inputs_price, inputs_title, enc_hidden[0], enc_hidden[1], inputs_ques]\n",
        "    input_details_encoder = interpreter_encoder.get_input_details()\n",
        "    \n",
        "    for i in range(len(input_details_encoder)):\n",
        "      input_index_encoder = interpreter_encoder.get_input_details()[i][\"index\"]\n",
        "      interpreter_encoder.set_tensor(input_index_encoder, enc_inputs[i])\n",
        "    \n",
        "    # Call the encoder\n",
        "    interpreter_encoder.invoke()\n",
        "\n",
        "    # Get the outputs\n",
        "    dec_state_c, dec_state_h, enc_output = get_tflite_model_outputs(interpreter_encoder)\n",
        "\n",
        "    # Decoder\n",
        "    # Set the inputs\n",
        "    dec_input = np.expand_dims([word2id['<start>']], axis=0).astype(np.float32)\n",
        "    \n",
        "    for t in range(max_length_targ): # limit the length of the decoded sequence \n",
        "        if quantize or use_quantize_decoder_inputs_order:\n",
        "          dec_inputs = [enc_output, dec_input, dec_state_c, dec_state_h]\n",
        "        else:\n",
        "          dec_inputs = [enc_output, dec_state_c, dec_state_h, dec_input]\n",
        "\n",
        "        input_details_decoder = interpreter_decoder.get_input_details()\n",
        "\n",
        "        for i in range(len(input_details_decoder)):\n",
        "          input_index_decoder = interpreter_decoder.get_input_details()[i][\"index\"]\n",
        "          interpreter_decoder.set_tensor(input_index_decoder, dec_inputs[i])\n",
        "\n",
        "        # Call the decoder\n",
        "        interpreter_decoder.invoke()\n",
        "\n",
        "        # Get the outputs\n",
        "        dec_state_c, dec_state_h, predictions = get_tflite_model_outputs(interpreter_decoder)\n",
        "\n",
        "        predicted_id = tf.argmax(predictions[0]).numpy()\n",
        "        \n",
        "        if predicted_id == 0:\n",
        "            break\n",
        "\n",
        "        result += id2word[predicted_id] + ' '\n",
        "        if id2word[predicted_id] == '<end>':\n",
        "            break\n",
        "\n",
        "        dec_input = np.expand_dims([predicted_id], 0).astype(np.float32)\n",
        "\n",
        "    return result, sentence"
      ],
      "execution_count": null,
      "outputs": []
    },
    {
      "cell_type": "markdown",
      "metadata": {
        "colab_type": "text",
        "id": "0BQYsdZmNrwr"
      },
      "source": [
        "##### 6.1.10. Restore the latest checkpoint and test"
      ]
    },
    {
      "cell_type": "code",
      "metadata": {
        "colab_type": "code",
        "id": "0I_7Ctl8Nrwr",
        "colab": {
          "base_uri": "https://localhost:8080/",
          "height": 34
        },
        "outputId": "f645130c-34c9-4d85-936f-3946ce7099c8"
      },
      "source": [
        "# restoring the latest checkpoint in checkpoint_dir\n",
        "checkpoint.restore(tf.train.latest_checkpoint(checkpoint_dir))"
      ],
      "execution_count": null,
      "outputs": [
        {
          "output_type": "execute_result",
          "data": {
            "text/plain": [
              "<tensorflow.python.training.tracking.util.CheckpointLoadStatus at 0x7fc1b5c41e80>"
            ]
          },
          "metadata": {
            "tags": []
          },
          "execution_count": 100
        }
      ]
    },
    {
      "cell_type": "markdown",
      "metadata": {
        "colab_type": "text",
        "id": "O3DPPTVjNrws"
      },
      "source": [
        "###### 6.1.10.1. Inference with greedy search"
      ]
    },
    {
      "cell_type": "code",
      "metadata": {
        "id": "j-kB-LmYT9cp",
        "colab_type": "code",
        "colab": {
          "base_uri": "https://localhost:8080/",
          "height": 667
        },
        "outputId": "8e77ba18-d0c1-4d8f-9787-72760881d3f3"
      },
      "source": [
        "predict(encoder, decoder, enc_in_ques_test, enc_in_title_test, enc_in_price_test, enc_in_image_test, dec_in_test, 'random')"
      ],
      "execution_count": null,
      "outputs": [
        {
          "output_type": "stream",
          "text": [
            "\n",
            "Question: does it work while the device is charging\n",
            "Actual answer: oh yes beautifully\n",
            "Predicted answer: yes\n",
            "\n",
            "Question: are these expired\n",
            "Actual answer: no\n",
            "Predicted answer: yes\n",
            "\n",
            "Question: can i buy just the bearing without the hub assembly\n",
            "Actual answer: nope\n",
            "Predicted answer: yes\n",
            "\n",
            "Question: will this fit my 2012 switchback\n",
            "Actual answer: yes\n",
            "Predicted answer: yes\n",
            "\n",
            "Question: so this does not have the diamond rods with it\n",
            "Actual answer: nope\n",
            "Predicted answer: yes\n",
            "\n",
            "Question: does this canopy come with the sidewall shown\n",
            "Actual answer: yes\n",
            "Predicted answer: yes\n",
            "\n",
            "Question: can this use regular batteries as well as the rechargeable ones\n",
            "Actual answer: no\n",
            "Predicted answer: yes\n",
            "\n",
            "Question: are the paddles on the new auger\n",
            "Actual answer: yes comes complete\n",
            "Predicted answer: yes\n",
            "\n",
            "Question: are they made in the usa\n",
            "Actual answer: made in china\n",
            "Predicted answer: yes\n",
            "\n",
            "Question: how many players\n",
            "Actual answer: 2 6 players\n",
            "Predicted answer: 2\n"
          ],
          "name": "stdout"
        }
      ]
    },
    {
      "cell_type": "code",
      "metadata": {
        "id": "myDOIC9PUrYb",
        "colab_type": "code",
        "colab": {
          "base_uri": "https://localhost:8080/",
          "height": 82
        },
        "outputId": "526bfe5f-f5db-4fa0-9baa-3b83f4566415"
      },
      "source": [
        "predict(encoder, decoder, enc_in_ques_test, enc_in_title_test, enc_in_price_test, enc_in_image_test, dec_in_test, 'random', count=1, special_input=True)"
      ],
      "execution_count": null,
      "outputs": [
        {
          "output_type": "stream",
          "text": [
            "\n",
            "Question: All zeros\n",
            "Actual answer: yes\n",
            "Predicted answer: yes\n"
          ],
          "name": "stdout"
        }
      ]
    },
    {
      "cell_type": "code",
      "metadata": {
        "colab_type": "code",
        "id": "s4KCAz1DNrwu",
        "colab": {
          "base_uri": "https://localhost:8080/",
          "height": 33
        },
        "outputId": "3819a2f1-689f-44e1-c057-87898f4657c5"
      },
      "source": [
        "start_time = timer()\n",
        "predicted_answer_list, actual_answer_list = predict(encoder, decoder, enc_in_ques_test, enc_in_title_test, enc_in_price_test, enc_in_image_test, dec_in_test, 'corpus')\n",
        "timer(start_time)"
      ],
      "execution_count": null,
      "outputs": [
        {
          "output_type": "stream",
          "text": [
            "Time taken: 0 hours 0 minutes and 20.97 seconds.\n"
          ],
          "name": "stdout"
        }
      ]
    },
    {
      "cell_type": "markdown",
      "metadata": {
        "colab_type": "text",
        "id": "P6NwKnjlNrwx"
      },
      "source": [
        "###### 6.1.10.2. Inference with beam search"
      ]
    },
    {
      "cell_type": "code",
      "metadata": {
        "colab_type": "code",
        "id": "4y3Rb7b8Nrwx",
        "colab": {
          "base_uri": "https://localhost:8080/",
          "height": 667
        },
        "outputId": "cc86d1c4-de0b-49c6-ad0d-27e58193f8fc"
      },
      "source": [
        "predict(encoder, decoder, enc_in_ques_test, enc_in_title_test, enc_in_price_test, enc_in_image_test, dec_in_test, 'random', beam_search=True)"
      ],
      "execution_count": null,
      "outputs": [
        {
          "output_type": "stream",
          "text": [
            "\n",
            "Question: is it really from noble collection\n",
            "Actual answer: yes\n",
            "Predicted answer: yes\n",
            "\n",
            "Question: is the tire the type that needs inflating\n",
            "Actual answer: no\n",
            "Predicted answer: yes\n",
            "\n",
            "Question: flattering\n",
            "Actual answer: i think so\n",
            "Predicted answer: yes\n",
            "\n",
            "Question: will it fit an hp pavilion dv6 7014nr\n",
            "Actual answer: no\n",
            "Predicted answer: yes\n",
            "\n",
            "Question: will this fit a 2011 toyota tundra\n",
            "Actual answer: yes\n",
            "Predicted answer: yes\n",
            "\n",
            "Question: does this phone have to have a plan with at t\n",
            "Actual answer: no\n",
            "Predicted answer: yes\n",
            "\n",
            "Question: does this cooler have a spigot\n",
            "Actual answer: yes\n",
            "Predicted answer: yes\n",
            "\n",
            "Question: does it swivel\n",
            "Actual answer: no\n",
            "Predicted answer: yes\n",
            "\n",
            "Question: so where is this kettle made before i place my order\n",
            "Actual answer: japan i think\n",
            "Predicted answer: yes\n",
            "\n",
            "Question: can i used this for my galaxy note edge\n",
            "Actual answer: yes\n",
            "Predicted answer: yes\n"
          ],
          "name": "stdout"
        }
      ]
    },
    {
      "cell_type": "code",
      "metadata": {
        "colab_type": "code",
        "id": "rYsBzWxcNrwy",
        "colab": {
          "base_uri": "https://localhost:8080/",
          "height": 82
        },
        "outputId": "6bdc8fb3-187d-42c3-c17c-6b807da35d0b"
      },
      "source": [
        "predict(encoder, decoder, enc_in_ques_test, enc_in_title_test, enc_in_price_test, enc_in_image_test, dec_in_test, 'random', count=1, special_input=True, beam_search=True)"
      ],
      "execution_count": null,
      "outputs": [
        {
          "output_type": "stream",
          "text": [
            "\n",
            "Question: All zeros\n",
            "Actual answer: 120\n",
            "Predicted answer: yes\n"
          ],
          "name": "stdout"
        }
      ]
    },
    {
      "cell_type": "code",
      "metadata": {
        "colab_type": "code",
        "id": "k-AoOsK_Nrwz",
        "colab": {
          "base_uri": "https://localhost:8080/",
          "height": 33
        },
        "outputId": "9b53327e-9d50-4d94-9c8e-9c2d4eb2a904"
      },
      "source": [
        "start_time = timer()\n",
        "predicted_answer_list, actual_answer_list = predict(encoder, decoder, enc_in_ques_test, enc_in_title_test, enc_in_price_test, enc_in_image_test, dec_in_test, 'corpus', beam_search=True)\n",
        "timer(start_time)"
      ],
      "execution_count": null,
      "outputs": [
        {
          "output_type": "stream",
          "text": [
            "Time taken: 0 hours 0 minutes and 38.62 seconds.\n"
          ],
          "name": "stdout"
        }
      ]
    },
    {
      "cell_type": "markdown",
      "metadata": {
        "colab_type": "text",
        "id": "Ofdwgy6kBhCz"
      },
      "source": [
        "###### 6.1.10.3. Inference with greedy search (with TF-Lite)"
      ]
    },
    {
      "cell_type": "code",
      "metadata": {
        "colab_type": "code",
        "id": "5ZOyzJXZBhCz",
        "colab": {
          "base_uri": "https://localhost:8080/",
          "height": 667
        },
        "outputId": "db1136e7-6b9e-4ea8-e3aa-ec3cd2b20128"
      },
      "source": [
        "predict(tflite_encoder_model_file, tflite_decoder_model_file, enc_in_ques_test, \n",
        "        enc_in_title_test, enc_in_price_test, enc_in_image_test, dec_in_test, \n",
        "        'random', tflite=True)"
      ],
      "execution_count": null,
      "outputs": [
        {
          "output_type": "stream",
          "text": [
            "\n",
            "Question: this may be dumb but is this an electric marker\n",
            "Actual answer: yes\n",
            "Predicted answer: yes\n",
            "\n",
            "Question: does this include both tiers\n",
            "Actual answer: yes it does\n",
            "Predicted answer: yes\n",
            "\n",
            "Question: does the bg e13 battery grip have a tripod socket\n",
            "Actual answer: yes it does\n",
            "Predicted answer: yes\n",
            "\n",
            "Question: what material is the infuser made of\n",
            "Actual answer: very thin glass\n",
            "Predicted answer: 3\n",
            "\n",
            "Question: is this product good for ice melters\n",
            "Actual answer: yes\n",
            "Predicted answer: yes\n",
            "\n",
            "Question: does this keyboard have a number and caps lock indicator light\n",
            "Actual answer: no\n",
            "Predicted answer: yes\n",
            "\n",
            "Question: whats size\n",
            "Actual answer: 20l\n",
            "Predicted answer: yes\n",
            "\n",
            "Question: can you use this on laminate floors\n",
            "Actual answer: yea\n",
            "Predicted answer: yes\n",
            "\n",
            "Question: will these fit a 2007 a4 quattro\n",
            "Actual answer: yes\n",
            "Predicted answer: yes\n",
            "\n",
            "Question: does this calculator have built in computer algebra system\n",
            "Actual answer: no\n",
            "Predicted answer: yes\n"
          ],
          "name": "stdout"
        }
      ]
    },
    {
      "cell_type": "code",
      "metadata": {
        "colab_type": "code",
        "id": "eDsvwskqBhC1",
        "colab": {
          "base_uri": "https://localhost:8080/",
          "height": 82
        },
        "outputId": "5f2f85b4-9d8c-4539-f40e-74a1b6c33d49"
      },
      "source": [
        "predict(tflite_encoder_model_file, tflite_decoder_model_file, enc_in_ques_test, \n",
        "        enc_in_title_test, enc_in_price_test, enc_in_image_test, dec_in_test, \n",
        "        'random', count=1, special_input=True, tflite=True)"
      ],
      "execution_count": null,
      "outputs": [
        {
          "output_type": "stream",
          "text": [
            "\n",
            "Question: All zeros\n",
            "Actual answer: yes it can\n",
            "Predicted answer: yes\n"
          ],
          "name": "stdout"
        }
      ]
    },
    {
      "cell_type": "code",
      "metadata": {
        "colab_type": "code",
        "id": "iosTFD6oBhC2",
        "colab": {
          "base_uri": "https://localhost:8080/",
          "height": 33
        },
        "outputId": "1dfd7fca-99b1-483a-8a08-a70dac4b7f0b"
      },
      "source": [
        "start_time = timer()\n",
        "predicted_answer_list, actual_answer_list = predict(tflite_encoder_model_file, \n",
        "                                                    tflite_decoder_model_file, \n",
        "                                                    enc_in_ques_test, \n",
        "                                                    enc_in_title_test, \n",
        "                                                    enc_in_price_test, \n",
        "                                                    enc_in_image_test, \n",
        "                                                    dec_in_test, 'corpus',\n",
        "                                                    tflite=True)\n",
        "timer(start_time)"
      ],
      "execution_count": null,
      "outputs": [
        {
          "output_type": "stream",
          "text": [
            "Time taken: 0 hours 1 minutes and 57.9 seconds.\n"
          ],
          "name": "stdout"
        }
      ]
    },
    {
      "cell_type": "markdown",
      "metadata": {
        "colab_type": "text",
        "id": "_tcqQTk_BhC5"
      },
      "source": [
        "###### 6.1.10.4. Inference with beam search (with TF-Lite)"
      ]
    },
    {
      "cell_type": "code",
      "metadata": {
        "colab_type": "code",
        "id": "jr5dKJhkBhC5",
        "colab": {
          "base_uri": "https://localhost:8080/",
          "height": 667
        },
        "outputId": "c93ea262-51ca-4d0d-a54e-17c68a1a02d3"
      },
      "source": [
        "predict(tflite_encoder_model_file, tflite_decoder_model_file, enc_in_ques_test, \n",
        "        enc_in_title_test, enc_in_price_test, enc_in_image_test, dec_in_test, \n",
        "        'random', beam_search=True, tflite=True)"
      ],
      "execution_count": null,
      "outputs": [
        {
          "output_type": "stream",
          "text": [
            "\n",
            "Question: are there more than one set of the alphabet letters\n",
            "Actual answer: yes\n",
            "Predicted answer: yes\n",
            "\n",
            "Question: is the listed product 1 5 ounces or 3 ounce\n",
            "Actual answer: i 5 ounces\n",
            "Predicted answer: yes\n",
            "\n",
            "Question: if it removes moister from the air where does it go\n",
            "Actual answer: it evaporates\n",
            "Predicted answer: yes\n",
            "\n",
            "Question: how deep are the containers\n",
            "Actual answer: 3\n",
            "Predicted answer: 3\n",
            "\n",
            "Question: is it possible to get 75 sets of these\n",
            "Actual answer: yes\n",
            "Predicted answer: yes\n",
            "\n",
            "Question: can it also be used as a regular printer\n",
            "Actual answer: no\n",
            "Predicted answer: yes\n",
            "\n",
            "Question: how much does the box weights\n",
            "Actual answer: maybe 25 lbs\n",
            "Predicted answer: 3\n",
            "\n",
            "Question: does it fit 2015 xle\n",
            "Actual answer: yes\n",
            "Predicted answer: yes\n",
            "\n",
            "Question: exact size\n",
            "Actual answer: 12 x 12\n",
            "Predicted answer: 2\n",
            "\n",
            "Question: will this headset work on xbox 360 ps4 and laptop computer\n",
            "Actual answer: yes\n",
            "Predicted answer: yes\n"
          ],
          "name": "stdout"
        }
      ]
    },
    {
      "cell_type": "code",
      "metadata": {
        "colab_type": "code",
        "id": "MIWr-qZEBhC6",
        "colab": {
          "base_uri": "https://localhost:8080/",
          "height": 82
        },
        "outputId": "873b9a04-2c3d-4316-eb4f-d018dec093a2"
      },
      "source": [
        "predict(tflite_encoder_model_file, tflite_decoder_model_file, enc_in_ques_test, \n",
        "        enc_in_title_test, enc_in_price_test, enc_in_image_test, dec_in_test, \n",
        "        'random', count=1, special_input=True, beam_search=True, tflite=True)"
      ],
      "execution_count": null,
      "outputs": [
        {
          "output_type": "stream",
          "text": [
            "\n",
            "Question: All zeros\n",
            "Actual answer: restart nani 2\n",
            "Predicted answer: yes\n"
          ],
          "name": "stdout"
        }
      ]
    },
    {
      "cell_type": "code",
      "metadata": {
        "colab_type": "code",
        "id": "zENdFh4xBhC7",
        "colab": {
          "base_uri": "https://localhost:8080/",
          "height": 33
        },
        "outputId": "86caf85e-cb4c-4128-9c79-906b3e448271"
      },
      "source": [
        "start_time = timer()\n",
        "predicted_answer_list, actual_answer_list = predict(tflite_encoder_model_file, \n",
        "                                                    tflite_decoder_model_file, \n",
        "                                                    enc_in_ques_test, \n",
        "                                                    enc_in_title_test, \n",
        "                                                    enc_in_price_test, \n",
        "                                                    enc_in_image_test, \n",
        "                                                    dec_in_test, 'corpus', \n",
        "                                                    beam_search=True, \n",
        "                                                    tflite=True)\n",
        "timer(start_time)"
      ],
      "execution_count": null,
      "outputs": [
        {
          "output_type": "stream",
          "text": [
            "Time taken: 0 hours 2 minutes and 30.95 seconds.\n"
          ],
          "name": "stdout"
        }
      ]
    },
    {
      "cell_type": "markdown",
      "metadata": {
        "colab_type": "text",
        "id": "TRIUJsL9JOZf"
      },
      "source": [
        "###### 6.1.10.5. Inference with greedy search (with TF-Lite and Post Quantization)"
      ]
    },
    {
      "cell_type": "code",
      "metadata": {
        "colab_type": "code",
        "id": "FCPC3WnIJOZi",
        "colab": {
          "base_uri": "https://localhost:8080/",
          "height": 667
        },
        "outputId": "656481b4-1960-47a7-f94e-287725b3bcbe"
      },
      "source": [
        "predict(tflite_encoder_model_fp16_file, tflite_decoder_model_fp16_file, enc_in_ques_test, \n",
        "        enc_in_title_test, enc_in_price_test, enc_in_image_test, dec_in_test, \n",
        "        'random', tflite=True, quantize=True)"
      ],
      "execution_count": null,
      "outputs": [
        {
          "output_type": "stream",
          "text": [
            "\n",
            "Question: what kind of pop filter fits this mic best\n",
            "Actual answer: do not know\n",
            "Predicted answer: 2\n",
            "\n",
            "Question: does this use standard guitar cord for the amp\n",
            "Actual answer: yes no problem\n",
            "Predicted answer: yes\n",
            "\n",
            "Question: will it work in trinidad\n",
            "Actual answer: yes it will\n",
            "Predicted answer: yes\n",
            "\n",
            "Question: can this fan be converted to a wall fan\n",
            "Actual answer: no\n",
            "Predicted answer: yes\n",
            "\n",
            "Question: is it safe to use on a nintendo 3ds\n",
            "Actual answer: yed\n",
            "Predicted answer: yes\n",
            "\n",
            "Question: will it work for the canon pixma mg 5520\n",
            "Actual answer: yes\n",
            "Predicted answer: yes\n",
            "\n",
            "Question: is the arm resistance bi directional\n",
            "Actual answer: yes very good\n",
            "Predicted answer: yes\n",
            "\n",
            "Question: will this work in france and london\n",
            "Actual answer: for sure\n",
            "Predicted answer: yes\n",
            "\n",
            "Question: is the bag machine washable\n",
            "Actual answer: machine wash cold\n",
            "Predicted answer: yes\n",
            "\n",
            "Question: is it shiny chrome or brushed\n",
            "Actual answer: high gloss\n",
            "Predicted answer: yes\n"
          ],
          "name": "stdout"
        }
      ]
    },
    {
      "cell_type": "code",
      "metadata": {
        "colab_type": "code",
        "id": "L53TMLSFJOZk",
        "colab": {
          "base_uri": "https://localhost:8080/",
          "height": 82
        },
        "outputId": "e837a966-8a1d-45fd-b7eb-3318aad5dc5c"
      },
      "source": [
        "predict(tflite_encoder_model_fp16_file, tflite_decoder_model_fp16_file, enc_in_ques_test, \n",
        "        enc_in_title_test, enc_in_price_test, enc_in_image_test, dec_in_test, \n",
        "        'random', count=1, special_input=True, tflite=True, quantize=True)"
      ],
      "execution_count": null,
      "outputs": [
        {
          "output_type": "stream",
          "text": [
            "\n",
            "Question: All zeros\n",
            "Actual answer: yes it does\n",
            "Predicted answer: yes\n"
          ],
          "name": "stdout"
        }
      ]
    },
    {
      "cell_type": "code",
      "metadata": {
        "colab_type": "code",
        "id": "k5-caZJsJOZl",
        "colab": {
          "base_uri": "https://localhost:8080/",
          "height": 33
        },
        "outputId": "d35dad33-49c4-4098-cb40-0d818c50806c"
      },
      "source": [
        "start_time = timer()\n",
        "predicted_answer_list, actual_answer_list = predict(tflite_encoder_model_fp16_file, \n",
        "                                                    tflite_decoder_model_fp16_file, \n",
        "                                                    enc_in_ques_test, \n",
        "                                                    enc_in_title_test, \n",
        "                                                    enc_in_price_test, \n",
        "                                                    enc_in_image_test, \n",
        "                                                    dec_in_test, 'corpus',\n",
        "                                                    tflite=True, quantize=True)\n",
        "timer(start_time)"
      ],
      "execution_count": null,
      "outputs": [
        {
          "output_type": "stream",
          "text": [
            "Time taken: 0 hours 8 minutes and 10.22 seconds.\n"
          ],
          "name": "stdout"
        }
      ]
    },
    {
      "cell_type": "markdown",
      "metadata": {
        "colab_type": "text",
        "id": "aCOvGhDAJOZm"
      },
      "source": [
        "###### 6.1.10.6. Inference with beam search (with TF-Lite and Post Quantization)"
      ]
    },
    {
      "cell_type": "code",
      "metadata": {
        "colab_type": "code",
        "id": "54wdPgARJOZn",
        "colab": {
          "base_uri": "https://localhost:8080/",
          "height": 667
        },
        "outputId": "20f8fca1-289d-4b08-8c30-94dd188f1133"
      },
      "source": [
        "predict(tflite_encoder_model_fp16_file, tflite_decoder_model_fp16_file, enc_in_ques_test, \n",
        "        enc_in_title_test, enc_in_price_test, enc_in_image_test, dec_in_test, \n",
        "        'random', beam_search=True, tflite=True, quantize=True)"
      ],
      "execution_count": null,
      "outputs": [
        {
          "output_type": "stream",
          "text": [
            "\n",
            "Question: how long are they\n",
            "Actual answer: 4 inches long\n",
            "Predicted answer: 3\n",
            "\n",
            "Question: what keeps other animals outside the containment\n",
            "Actual answer: a real fence\n",
            "Predicted answer: 2\n",
            "\n",
            "Question: does this work in leapster 2\n",
            "Actual answer: yes it does\n",
            "Predicted answer: yes\n",
            "\n",
            "Question: what color is the frame black\n",
            "Actual answer: yes\n",
            "Predicted answer: 2\n",
            "\n",
            "Question: does it count up and down\n",
            "Actual answer: yes\n",
            "Predicted answer: yes\n",
            "\n",
            "Question: will it fit on fender cd60 acoustic guitar\n",
            "Actual answer: it should fit\n",
            "Predicted answer: yes\n",
            "\n",
            "Question: is this cacoa certified against child slave labor\n",
            "Actual answer: no\n",
            "Predicted answer: yes\n",
            "\n",
            "Question: will this fit the 7th generation ipod classic 160g\n",
            "Actual answer: yes\n",
            "Predicted answer: yes\n",
            "\n",
            "Question: does it have a motion sensor\n",
            "Actual answer: yes\n",
            "Predicted answer: yes\n",
            "\n",
            "Question: does in come in the orginial box with instructions\n",
            "Actual answer: mine did\n",
            "Predicted answer: yes\n"
          ],
          "name": "stdout"
        }
      ]
    },
    {
      "cell_type": "code",
      "metadata": {
        "colab_type": "code",
        "id": "CwmRzvqEJOZo",
        "colab": {
          "base_uri": "https://localhost:8080/",
          "height": 82
        },
        "outputId": "0db72565-0351-4f8b-dcad-58def0641dfe"
      },
      "source": [
        "predict(tflite_encoder_model_fp16_file, tflite_decoder_model_fp16_file, enc_in_ques_test, \n",
        "        enc_in_title_test, enc_in_price_test, enc_in_image_test, dec_in_test, \n",
        "        'random', count=1, special_input=True, beam_search=True, tflite=True, quantize=True)"
      ],
      "execution_count": null,
      "outputs": [
        {
          "output_type": "stream",
          "text": [
            "\n",
            "Question: All zeros\n",
            "Actual answer: yes\n",
            "Predicted answer: yes\n"
          ],
          "name": "stdout"
        }
      ]
    },
    {
      "cell_type": "code",
      "metadata": {
        "colab_type": "code",
        "id": "CcpFEF5kJOZp",
        "colab": {
          "base_uri": "https://localhost:8080/",
          "height": 33
        },
        "outputId": "79799d04-c2cf-4b72-a51e-063e9576b978"
      },
      "source": [
        "start_time = timer()\n",
        "predicted_answer_list, actual_answer_list = predict(tflite_encoder_model_fp16_file, \n",
        "                                                    tflite_decoder_model_fp16_file, \n",
        "                                                    enc_in_ques_test, \n",
        "                                                    enc_in_title_test, \n",
        "                                                    enc_in_price_test, \n",
        "                                                    enc_in_image_test, \n",
        "                                                    dec_in_test, 'corpus', \n",
        "                                                    beam_search=True, \n",
        "                                                    tflite=True, quantize=True)\n",
        "timer(start_time)"
      ],
      "execution_count": null,
      "outputs": [
        {
          "output_type": "stream",
          "text": [
            "Time taken: 0 hours 8 minutes and 41.84 seconds.\n"
          ],
          "name": "stdout"
        }
      ]
    },
    {
      "cell_type": "markdown",
      "metadata": {
        "colab_type": "text",
        "id": "mq2KlFjENrw0"
      },
      "source": [
        "##### 6.1.11. Calculate BLEU Score"
      ]
    },
    {
      "cell_type": "markdown",
      "metadata": {
        "colab_type": "text",
        "id": "WFbQTrxKNrw0"
      },
      "source": [
        "###### 6.1.11.1. With greedy search inference"
      ]
    },
    {
      "cell_type": "code",
      "metadata": {
        "id": "nEpx5dgLVJYs",
        "colab_type": "code",
        "colab": {
          "base_uri": "https://localhost:8080/",
          "height": 176
        },
        "outputId": "768fb26c-2bc8-4c84-bdb5-5b7169dbc0a4"
      },
      "source": [
        "start_time = timer()\n",
        "print('BLEU-1: %f' % corpus_bleu(actual_answer_list, predicted_answer_list, weights=(1.0, 0, 0, 0)))\n",
        "print('BLEU-2: %f' % corpus_bleu(actual_answer_list, predicted_answer_list, weights=(0.5, 0.5, 0, 0)))\n",
        "print('BLEU-3: %f' % corpus_bleu(actual_answer_list, predicted_answer_list, weights=(0.3, 0.3, 0.3, 0)))\n",
        "print('BLEU-4: %f' % corpus_bleu(actual_answer_list, predicted_answer_list, weights=(0.25, 0.25, 0.25, 0.25)))\n",
        "timer(start_time)"
      ],
      "execution_count": null,
      "outputs": [
        {
          "output_type": "stream",
          "text": [
            "BLEU-1: 0.175905\n",
            "BLEU-2: 0.286682\n",
            "BLEU-3: 0.348537\n",
            "BLEU-4: 0.365983\n",
            "Time taken: 0 hours 0 minutes and 0.14 seconds.\n"
          ],
          "name": "stdout"
        },
        {
          "output_type": "stream",
          "text": [
            "/usr/local/lib/python3.6/dist-packages/nltk/translate/bleu_score.py:490: UserWarning: \n",
            "Corpus/Sentence contains 0 counts of 2-gram overlaps.\n",
            "BLEU scores might be undesirable; use SmoothingFunction().\n",
            "  warnings.warn(_msg)\n"
          ],
          "name": "stderr"
        }
      ]
    },
    {
      "cell_type": "markdown",
      "metadata": {
        "colab_type": "text",
        "id": "x9HpLtlfNrw2"
      },
      "source": [
        "###### 6.1.11.2. With beam search inference"
      ]
    },
    {
      "cell_type": "code",
      "metadata": {
        "id": "roCowfiLVzT7",
        "colab_type": "code",
        "colab": {
          "base_uri": "https://localhost:8080/",
          "height": 176
        },
        "outputId": "aa5a5689-17a2-4ad5-893c-b495b6139ca2"
      },
      "source": [
        "start_time = timer()\n",
        "print('BLEU-1: %f' % corpus_bleu(actual_answer_list, predicted_answer_list, weights=(1.0, 0, 0, 0)))\n",
        "print('BLEU-2: %f' % corpus_bleu(actual_answer_list, predicted_answer_list, weights=(0.5, 0.5, 0, 0)))\n",
        "print('BLEU-3: %f' % corpus_bleu(actual_answer_list, predicted_answer_list, weights=(0.3, 0.3, 0.3, 0)))\n",
        "print('BLEU-4: %f' % corpus_bleu(actual_answer_list, predicted_answer_list, weights=(0.25, 0.25, 0.25, 0.25)))\n",
        "timer(start_time)"
      ],
      "execution_count": null,
      "outputs": [
        {
          "output_type": "stream",
          "text": [
            "BLEU-1: 0.175905\n",
            "BLEU-2: 0.286682\n",
            "BLEU-3: 0.348537\n",
            "BLEU-4: 0.365983\n",
            "Time taken: 0 hours 0 minutes and 0.13 seconds.\n"
          ],
          "name": "stdout"
        },
        {
          "output_type": "stream",
          "text": [
            "/usr/local/lib/python3.6/dist-packages/nltk/translate/bleu_score.py:490: UserWarning: \n",
            "Corpus/Sentence contains 0 counts of 2-gram overlaps.\n",
            "BLEU scores might be undesirable; use SmoothingFunction().\n",
            "  warnings.warn(_msg)\n"
          ],
          "name": "stderr"
        }
      ]
    },
    {
      "cell_type": "markdown",
      "metadata": {
        "colab_type": "text",
        "id": "l5kKkQa3Nrw3"
      },
      "source": [
        "##### 6.1.12. TensorBoard"
      ]
    },
    {
      "cell_type": "code",
      "metadata": {
        "colab_type": "code",
        "id": "Ym2QnAkLNrw4",
        "colab": {}
      },
      "source": [
        "# Code to zip the logs\n",
        "!zip -rqq logs.zip logs"
      ],
      "execution_count": null,
      "outputs": []
    },
    {
      "cell_type": "code",
      "metadata": {
        "colab_type": "code",
        "id": "UjDJNbXQNrw5",
        "colab": {}
      },
      "source": [
        "# Code to download logs zip\n",
        "try:\n",
        "  from google.colab import files\n",
        "except ImportError:\n",
        "   pass\n",
        "else:\n",
        "  files.download('logs.zip')"
      ],
      "execution_count": null,
      "outputs": []
    },
    {
      "cell_type": "code",
      "metadata": {
        "colab_type": "code",
        "id": "mExPaXGzNrw7",
        "colab": {}
      },
      "source": [
        "# Load the TensorBoard notebook extension\n",
        "%load_ext tensorboard"
      ],
      "execution_count": null,
      "outputs": []
    },
    {
      "cell_type": "code",
      "metadata": {
        "colab_type": "code",
        "id": "4Lxm4_wfNrw8",
        "colab": {}
      },
      "source": [
        "%tensorboard --logdir logs/gradient_tape/20200718-162358/baseline/"
      ],
      "execution_count": null,
      "outputs": []
    },
    {
      "cell_type": "markdown",
      "metadata": {
        "colab_type": "text",
        "id": "uad1Pe7QXEHb"
      },
      "source": [
        "#### 6.2. Baseline Model with Masking"
      ]
    },
    {
      "cell_type": "markdown",
      "metadata": {
        "colab_type": "text",
        "id": "Y1T87Q7hXEHc"
      },
      "source": [
        "##### 6.2.1. Create a tf.data dataset"
      ]
    },
    {
      "cell_type": "code",
      "metadata": {
        "colab_type": "code",
        "id": "hOoiANyBXEHc",
        "colab": {}
      },
      "source": [
        "# Use code cell from 6.1.1."
      ],
      "execution_count": null,
      "outputs": []
    },
    {
      "cell_type": "markdown",
      "metadata": {
        "colab_type": "text",
        "id": "vJfo_VgCXEHe"
      },
      "source": [
        "##### 6.2.2. Write the encoder and decoder model"
      ]
    },
    {
      "cell_type": "code",
      "metadata": {
        "colab_type": "code",
        "id": "BgdfcsELXEHg",
        "colab": {}
      },
      "source": [
        "class Encoder(tf.keras.Model):\n",
        "    def __init__(self, vocab_size, embedding_dim, enc_units, batch_sz):\n",
        "        super(Encoder, self).__init__()\n",
        "        self.batch_sz = batch_sz\n",
        "        self.enc_units = enc_units\n",
        "        \n",
        "        self.embedding_ques = tf.keras.layers.Embedding(vocab_size, embedding_dim, \n",
        "                                                        input_length=max_ques_length, \n",
        "                                                        weights=[embedding_matrix], \n",
        "                                                        trainable=False, mask_zero=True)\n",
        "        self.embedding_title = tf.keras.layers.Embedding(vocab_size, embedding_dim, \n",
        "                                                         input_length=max_title_length, \n",
        "                                                         weights=[embedding_matrix], \n",
        "                                                         trainable=False, mask_zero=True)\n",
        "        \n",
        "        self.lstm_ques = tf.keras.layers.LSTM(self.enc_units,\n",
        "                                   return_sequences=True,\n",
        "                                   return_state=True)\n",
        "        self.lstm_title = tf.keras.layers.LSTM(self.enc_units,\n",
        "                                   return_sequences=True,\n",
        "                                   return_state=True)\n",
        "        \n",
        "        self.dense_state_h_ques = tf.keras.layers.Dense(int(self.enc_units/2))\n",
        "        self.dense_state_h_title = tf.keras.layers.Dense(int(self.enc_units/2))\n",
        "        self.dense_state_c_ques = tf.keras.layers.Dense(int(self.enc_units/2))\n",
        "        self.dense_state_c_title = tf.keras.layers.Dense(int(self.enc_units/2))\n",
        "\n",
        "        self.conv2d_image = tf.keras.layers.Conv2D(32, (3, 3), \n",
        "                                    activation = 'relu',\n",
        "                                    kernel_initializer = tf.keras.initializers.HeNormal(seed=SEED),\n",
        "                                    padding = 'same')\n",
        "        self.flatten_image = tf.keras.layers.Flatten()\n",
        "        self.dense_image = tf.keras.layers.Dense(self.enc_units)\n",
        "\n",
        "        self.dense_price = tf.keras.layers.Dense(self.enc_units)\n",
        "      \n",
        "        \n",
        "    def call(self, x):   \n",
        "        question, title, price, image, hidden = x[0], x[1], x[2], x[3], x[4]\n",
        "        # question shape == (batch_size, max_ques_length)\n",
        "        # title shape == (batch_size, max_title_length)\n",
        "        # price shape == (batch_size, 1)\n",
        "        # image shape == (batch_size, img_width, img_height, channels)\n",
        "\n",
        "        question_e = self.embedding_ques(question)\n",
        "        # question_e shape == (batch_size, max_ques_length, embedding_dim)\n",
        "        question_mask = self.embedding_ques.compute_mask(question)\n",
        "        # question_mask shape == (batch_size, max_ques_length)\n",
        "        output_ques, state_h_ques, state_c_ques = self.lstm_ques(question_e, initial_state = hidden, mask=question_mask)\n",
        "        # output_ques shape == (batch_size, max_ques_length, enc_units)\n",
        "        # state_h_ques shape == (batch_size, enc_units)\n",
        "        # state_c_ques shape == (batch_size, enc_units)\n",
        "\n",
        "        title_e = self.embedding_title(title)\n",
        "        # title_e shape == (batch_size, max_title_length, embedding_dim)\n",
        "        title_mask = self.embedding_title.compute_mask(title)\n",
        "        # title_mask shape == (batch_size, max_title_length)\n",
        "        output_title, state_h_title, state_c_title = self.lstm_title(title_e, initial_state = hidden, mask=title_mask)\n",
        "        # output_title shape == (batch_size, max_title_length, enc_units)\n",
        "        # state_h_title shape == (batch_size, enc_units)\n",
        "        # state_c_title shape == (batch_size, enc_units)\n",
        "\n",
        "        price = self.dense_price(price)\n",
        "        # price shape == (batch_size, enc_units)\n",
        "\n",
        "        image = self.conv2d_image(image)\n",
        "        # image shape ==  (batch_size, img_width, img_height, filters=32)\n",
        "        image = self.flatten_image(image)\n",
        "        # image shape == (batch_size, 51200)\n",
        "        image = self.dense_image(image)\n",
        "        # image shape == (batch_size, enc_units)\n",
        "        \n",
        "        output = tf.concat([output_ques, output_title], axis=1)\n",
        "        # output shape == (batch_size, max_ques_length + max_title_length, enc_units)\n",
        "        output = tf.concat([tf.expand_dims(price, 1), output], axis=1)\n",
        "        # output shape == (batch_size, max_ques_length + max_title_length + 1, enc_units)\n",
        "        output = tf.concat([tf.expand_dims(image, 1), output], axis=1)\n",
        "        # output shape == (batch_size, max_ques_length + max_title_length + 1 + 1, enc_units)\n",
        "\n",
        "        state_h_ques = self.dense_state_h_ques(state_h_ques)\n",
        "        # state_h_ques shape == (batch_size, int(enc_units/2))\n",
        "        state_h_title = self.dense_state_h_title(state_h_title)\n",
        "        # state_h_title shape == (batch_size, int(enc_units/2))\n",
        "        state_h = tf.concat([state_h_ques, state_h_title], axis=-1)\n",
        "        # state_h shape == (batch_size, enc_units)\n",
        "\n",
        "        state_c_ques = self.dense_state_c_ques(state_c_ques)\n",
        "        # state_c_ques shape == (batch_size, int(enc_units/2))\n",
        "        state_c_title = self.dense_state_c_title(state_c_title)\n",
        "        # state_c_title shape == (batch_size, int(enc_units/2))\n",
        "        state_c = tf.concat([state_c_ques, state_c_title], axis=-1)\n",
        "        # state_c shape == (batch_size, enc_units + enc_units)\n",
        "\n",
        "        return output, state_h, state_c\n",
        "\n",
        "    def initialize_hidden_state(self):\n",
        "        return (tf.zeros((self.batch_sz, self.enc_units)),\n",
        "                tf.zeros((self.batch_sz, self.enc_units)))\n",
        "\n",
        "class Decoder(tf.keras.Model):\n",
        "    def __init__(self, vocab_size, embedding_dim, dec_units, batch_sz):\n",
        "        super(Decoder, self).__init__()\n",
        "        self.batch_sz = batch_sz\n",
        "        self.dec_units = dec_units\n",
        "        self.embedding = tf.keras.layers.Embedding(vocab_size, embedding_dim, \n",
        "                                                   input_length=max_ans_length, \n",
        "                                                   weights=[embedding_matrix], \n",
        "                                                   trainable=False, mask_zero=True)\n",
        "        self.lstm = tf.keras.layers.LSTM(self.dec_units,\n",
        "                                   return_sequences=True,\n",
        "                                   return_state=True)\n",
        "        self.fc = tf.keras.layers.Dense(vocab_size)\n",
        "\n",
        "    def call(self, y):\n",
        "        inputs, hidden, enc_output = y[0], y[1], y[2]\n",
        "        # inputs shape == (batch_size, 1)\n",
        "        # hidden shape == tuple of two (batch_size, enc_units)\n",
        "        # enc_output shape == (batch_size, max_ques_length, enc_units)\n",
        "\n",
        "        # x shape after passing through embedding and masking == (batch_size, 1, embedding_dim)\n",
        "        x = self.embedding(inputs)\n",
        "        mask = self.embedding.compute_mask(inputs)\n",
        "        # mask shape == (batch_size, 1)\n",
        "        \n",
        "        # passing the concatenated vector to the LSTM\n",
        "        output, state_h, state_c = self.lstm(x, initial_state=hidden, mask=mask)\n",
        "        # output shape == (batch_size, 1, dec_units)\n",
        "        # state_h shape == (batch_size, dec_units)\n",
        "        # state_c shape == (batch_size, dec_units)\n",
        " \n",
        "        output = tf.reshape(output, (-1, output.shape[2]))\n",
        "        # output shape == (batch_size * 1, dec_units)\n",
        "        \n",
        "        x = self.fc(output)\n",
        "        # output shape == (batch_size, vocab)\n",
        "        \n",
        "        return x, state_h, state_c\n",
        "\n",
        "        \n",
        "    def initialize_hidden_state(self):\n",
        "        return (tf.zeros((self.batch_sz, self.dec_units)),\n",
        "                tf.zeros((self.batch_sz, self.dec_units)))"
      ],
      "execution_count": null,
      "outputs": []
    },
    {
      "cell_type": "code",
      "metadata": {
        "colab_type": "code",
        "id": "ml4vP3laXEHh",
        "colab": {
          "base_uri": "https://localhost:8080/",
          "height": 281
        },
        "outputId": "5fa0ef30-60b7-440e-c208-9cab0836d91c"
      },
      "source": [
        "encoder = Encoder(qa_vocab_size, embedding_dim, units, BATCH_SIZE)\n",
        "\n",
        "# sample input\n",
        "sample_hidden = encoder.initialize_hidden_state()\n",
        "sample_output, sample_state_hidden, sample_state_cell = encoder([example_input_ques_batch, example_input_title_batch, example_input_price_batch, example_input_image_batch, sample_hidden])\n",
        "print ('Encoder output shape: (batch size, sequence length, units) {}'.format(sample_output.shape))\n",
        "print ('Encoder hidden state shape: (batch size, units) {}'.format(sample_state_hidden.shape))\n",
        "print ('Encoder cell state shape: (batch size, units) {}'.format(sample_state_cell.shape))"
      ],
      "execution_count": null,
      "outputs": [
        {
          "output_type": "stream",
          "text": [
            "WARNING:tensorflow:Layer encoder_3 is casting an input tensor from dtype float64 to the layer's dtype of float32, which is new behavior in TensorFlow 2.  The layer has dtype float32 because its dtype defaults to floatx.\n",
            "\n",
            "If you intended to run this layer in float32, you can safely ignore this warning. If in doubt, this warning is likely only an issue if you are porting a TensorFlow 1.X model to TensorFlow 2.\n",
            "\n",
            "To change all layers to have dtype float64 by default, call `tf.keras.backend.set_floatx('float64')`. To change just this layer, pass dtype='float64' to the layer constructor. If you are the author of this layer, you can disable autocasting by passing autocast=False to the base Layer constructor.\n",
            "\n"
          ],
          "name": "stdout"
        },
        {
          "output_type": "stream",
          "text": [
            "WARNING:tensorflow:Layer encoder_3 is casting an input tensor from dtype float64 to the layer's dtype of float32, which is new behavior in TensorFlow 2.  The layer has dtype float32 because its dtype defaults to floatx.\n",
            "\n",
            "If you intended to run this layer in float32, you can safely ignore this warning. If in doubt, this warning is likely only an issue if you are porting a TensorFlow 1.X model to TensorFlow 2.\n",
            "\n",
            "To change all layers to have dtype float64 by default, call `tf.keras.backend.set_floatx('float64')`. To change just this layer, pass dtype='float64' to the layer constructor. If you are the author of this layer, you can disable autocasting by passing autocast=False to the base Layer constructor.\n",
            "\n"
          ],
          "name": "stderr"
        },
        {
          "output_type": "stream",
          "text": [
            "Encoder output shape: (batch size, sequence length, units) (32, 26, 1024)\n",
            "Encoder hidden state shape: (batch size, units) (32, 1024)\n",
            "Encoder cell state shape: (batch size, units) (32, 1024)\n"
          ],
          "name": "stdout"
        }
      ]
    },
    {
      "cell_type": "code",
      "metadata": {
        "colab_type": "code",
        "id": "GUbUrvw2XEHj",
        "colab": {
          "base_uri": "https://localhost:8080/",
          "height": 585
        },
        "outputId": "edd6078b-91a4-4b60-f36e-5b2725a5bc3a"
      },
      "source": [
        "encoder.summary()"
      ],
      "execution_count": null,
      "outputs": [
        {
          "output_type": "stream",
          "text": [
            "Model: \"encoder\"\n",
            "_________________________________________________________________\n",
            "Layer (type)                 Output Shape              Param #   \n",
            "=================================================================\n",
            "embedding (Embedding)        multiple                  8872800   \n",
            "_________________________________________________________________\n",
            "embedding_1 (Embedding)      multiple                  8872800   \n",
            "_________________________________________________________________\n",
            "lstm (LSTM)                  multiple                  5427200   \n",
            "_________________________________________________________________\n",
            "lstm_1 (LSTM)                multiple                  5427200   \n",
            "_________________________________________________________________\n",
            "dense (Dense)                multiple                  524800    \n",
            "_________________________________________________________________\n",
            "dense_1 (Dense)              multiple                  524800    \n",
            "_________________________________________________________________\n",
            "dense_2 (Dense)              multiple                  524800    \n",
            "_________________________________________________________________\n",
            "dense_3 (Dense)              multiple                  524800    \n",
            "_________________________________________________________________\n",
            "conv2d (Conv2D)              multiple                  896       \n",
            "_________________________________________________________________\n",
            "flatten (Flatten)            multiple                  0         \n",
            "_________________________________________________________________\n",
            "dense_4 (Dense)              multiple                  52429824  \n",
            "_________________________________________________________________\n",
            "dense_5 (Dense)              multiple                  2048      \n",
            "=================================================================\n",
            "Total params: 83,131,968\n",
            "Trainable params: 65,386,368\n",
            "Non-trainable params: 17,745,600\n",
            "_________________________________________________________________\n"
          ],
          "name": "stdout"
        }
      ]
    },
    {
      "cell_type": "code",
      "metadata": {
        "colab_type": "code",
        "id": "pduAaLHGXEHk",
        "colab": {
          "base_uri": "https://localhost:8080/",
          "height": 33
        },
        "outputId": "da4fcbc2-2e8c-4bf2-b9b4-75b34202b7b0"
      },
      "source": [
        "decoder = Decoder(qa_vocab_size, embedding_dim, units, BATCH_SIZE)\n",
        "\n",
        "sample_decoder_output, _, _ = decoder([tf.random.uniform((BATCH_SIZE, 1)),\n",
        "                                      sample_hidden, sample_output])\n",
        "\n",
        "print ('Decoder output shape: (batch_size, vocab size) {}'.format(sample_decoder_output.shape))"
      ],
      "execution_count": null,
      "outputs": [
        {
          "output_type": "stream",
          "text": [
            "Decoder output shape: (batch_size, vocab size) (32, 29576)\n"
          ],
          "name": "stdout"
        }
      ]
    },
    {
      "cell_type": "code",
      "metadata": {
        "colab_type": "code",
        "id": "5X_P-13SXEHl",
        "colab": {
          "base_uri": "https://localhost:8080/",
          "height": 265
        },
        "outputId": "be0db9e2-2347-4892-c3d3-847d315858cf"
      },
      "source": [
        "decoder.summary()"
      ],
      "execution_count": null,
      "outputs": [
        {
          "output_type": "stream",
          "text": [
            "Model: \"decoder\"\n",
            "_________________________________________________________________\n",
            "Layer (type)                 Output Shape              Param #   \n",
            "=================================================================\n",
            "embedding_2 (Embedding)      multiple                  8872800   \n",
            "_________________________________________________________________\n",
            "lstm_2 (LSTM)                multiple                  5427200   \n",
            "_________________________________________________________________\n",
            "dense_6 (Dense)              multiple                  30315400  \n",
            "=================================================================\n",
            "Total params: 44,615,400\n",
            "Trainable params: 35,742,600\n",
            "Non-trainable params: 8,872,800\n",
            "_________________________________________________________________\n"
          ],
          "name": "stdout"
        }
      ]
    },
    {
      "cell_type": "markdown",
      "metadata": {
        "colab_type": "text",
        "id": "KMWVB9IeXEHm"
      },
      "source": [
        "##### 6.2.3. Define the optimizer and the loss function"
      ]
    },
    {
      "cell_type": "code",
      "metadata": {
        "colab_type": "code",
        "id": "aaTW2EVUXEHm",
        "colab": {}
      },
      "source": [
        "optimizer = tf.keras.optimizers.Adam()\n",
        "loss_object = tf.keras.losses.SparseCategoricalCrossentropy(\n",
        "    from_logits=True, reduction='none')\n",
        "\n",
        "def loss_function(real, pred):\n",
        "  mask = tf.math.logical_not(tf.math.equal(real, 0))\n",
        "  loss_ = loss_object(real, pred)\n",
        "\n",
        "  mask = tf.cast(mask, dtype=loss_.dtype)\n",
        "  loss_ *= mask\n",
        "  return tf.reduce_sum(loss_)/tf.reduce_sum(mask)"
      ],
      "execution_count": null,
      "outputs": []
    },
    {
      "cell_type": "markdown",
      "metadata": {
        "colab_type": "text",
        "id": "_PxTCkRwXEHn"
      },
      "source": [
        "##### 6.2.4. Checkpoints (Object-based saving)"
      ]
    },
    {
      "cell_type": "code",
      "metadata": {
        "colab_type": "code",
        "id": "JsKeQZ9zXEHn",
        "colab": {}
      },
      "source": [
        "checkpoint_dir = './baseline_mask_checkpoints'\n",
        "checkpoint_prefix = os.path.join(checkpoint_dir, \"ckpt\")\n",
        "checkpoint = tf.train.Checkpoint(optimizer=optimizer,\n",
        "                                 encoder=encoder,\n",
        "                                 decoder=decoder)"
      ],
      "execution_count": null,
      "outputs": []
    },
    {
      "cell_type": "markdown",
      "metadata": {
        "colab_type": "text",
        "id": "3e3rVCNeXEHo"
      },
      "source": [
        "##### 6.2.5. Setup TensorBoard logging"
      ]
    },
    {
      "cell_type": "code",
      "metadata": {
        "colab_type": "code",
        "id": "YbcxhQNsXEHo",
        "colab": {}
      },
      "source": [
        "if not os.path.exists('logs'):\n",
        "  os.makedirs('logs')"
      ],
      "execution_count": null,
      "outputs": []
    },
    {
      "cell_type": "code",
      "metadata": {
        "colab_type": "code",
        "id": "IbyM1dW1XEHp",
        "colab": {}
      },
      "source": [
        "current_time = datetime.now().strftime(\"%Y%m%d-%H%M%S\")\n",
        "log_dir = 'logs/gradient_tape/' + current_time + '/baseline_mask'\n",
        "summary_writer = tf.summary.create_file_writer(log_dir)"
      ],
      "execution_count": null,
      "outputs": []
    },
    {
      "cell_type": "markdown",
      "metadata": {
        "colab_type": "text",
        "id": "9c4VElapXEHq"
      },
      "source": [
        "##### 6.2.6. Training\n"
      ]
    },
    {
      "cell_type": "code",
      "metadata": {
        "colab_type": "code",
        "id": "740ieprSXEHq",
        "colab": {}
      },
      "source": [
        "@tf.function\n",
        "def train_step(inp_ques, inp_title, inp_price, inp_img, targ, enc_hidden):\n",
        "  loss = 0\n",
        "\n",
        "  with tf.GradientTape() as tape:\n",
        "    enc_outputs = encoder([inp_ques, inp_title, inp_price, inp_img, enc_hidden])\n",
        "\n",
        "    enc_output = enc_outputs[0]\n",
        "\n",
        "    enc_states = enc_outputs[1:]\n",
        "\n",
        "    dec_state_h, dec_state_c = enc_states\n",
        "\n",
        "    dec_input = tf.expand_dims([word2id['<start>']] * BATCH_SIZE, 1)\n",
        "\n",
        "    # Teacher forcing - feeding the target as the next input\n",
        "    for t in range(1, targ.shape[1]):\n",
        "      # passing enc_output to the decoder\n",
        "      predictions, dec_state_h, dec_state_c = \\\n",
        "                      decoder([dec_input, (dec_state_h, dec_state_c), enc_output])\n",
        "\n",
        "      loss += loss_function(targ[:, t], predictions)\n",
        "\n",
        "      # using teacher forcing\n",
        "      dec_input = tf.expand_dims(targ[:, t], 1)\n",
        "\n",
        "  batch_loss = (loss / int(targ.shape[1]))\n",
        "\n",
        "  variables = encoder.trainable_variables + decoder.trainable_variables\n",
        "\n",
        "  gradients = tape.gradient(loss, variables)\n",
        "\n",
        "  optimizer.apply_gradients(zip(gradients, variables))\n",
        "\n",
        "  return batch_loss"
      ],
      "execution_count": null,
      "outputs": []
    },
    {
      "cell_type": "code",
      "metadata": {
        "colab_type": "code",
        "id": "IUx_gqDFXEHr",
        "colab": {}
      },
      "source": [
        "EPOCHS = 10"
      ],
      "execution_count": null,
      "outputs": []
    },
    {
      "cell_type": "code",
      "metadata": {
        "colab_type": "code",
        "id": "uhISYq1_XEHs",
        "colab": {}
      },
      "source": [
        "# train function defined in code cells of 6.1.6."
      ],
      "execution_count": null,
      "outputs": []
    },
    {
      "cell_type": "code",
      "metadata": {
        "id": "FNJKu4OQmmay",
        "colab_type": "code",
        "colab": {
          "base_uri": "https://localhost:8080/",
          "height": 1000
        },
        "outputId": "32473299-2a27-4373-af67-bc6bfa093145"
      },
      "source": [
        "start_time = timer()\n",
        "loss_train, loss_val = train(EPOCHS)\n",
        "timer(start_time)"
      ],
      "execution_count": null,
      "outputs": [
        {
          "output_type": "stream",
          "text": [
            "----- Training -----\n",
            "WARNING:tensorflow:Gradients do not exist for variables ['encoder/conv2d/kernel:0', 'encoder/conv2d/bias:0', 'encoder/dense_4/kernel:0', 'encoder/dense_4/bias:0', 'encoder/dense_5/kernel:0', 'encoder/dense_5/bias:0'] when minimizing the loss.\n",
            "WARNING:tensorflow:Gradients do not exist for variables ['encoder/conv2d/kernel:0', 'encoder/conv2d/bias:0', 'encoder/dense_4/kernel:0', 'encoder/dense_4/bias:0', 'encoder/dense_5/kernel:0', 'encoder/dense_5/bias:0'] when minimizing the loss.\n",
            "Epoch 1 Batch 0 Loss 8.2351\n",
            "Epoch 1 Batch 100 Loss 2.7739\n",
            "Epoch 1 Batch 200 Loss 2.6967\n",
            "Epoch 1 Batch 300 Loss 2.2470\n",
            "Epoch 1 Batch 400 Loss 2.4700\n",
            "Epoch 1 Batch 500 Loss 2.8532\n",
            "Epoch 1 Batch 600 Loss 2.1559\n",
            "Epoch 1 Batch 700 Loss 2.0676\n",
            "Epoch 1 Loss 2.3364\n",
            "Time taken: 0 hours 0 minutes and 48.73 seconds.\n",
            "----- Validation -----\n",
            "Epoch 1 Batch 0 Val-Loss 1.8244\n",
            "Epoch 1 Batch 40 Val-Loss 2.0806\n",
            "Epoch 1 Batch 80 Val-Loss 1.9730\n",
            "Epoch 1 Batch 120 Val-Loss 2.3272\n",
            "Epoch 1 Batch 160 Val-Loss 2.0484\n",
            "Epoch 1 Val-Loss 2.0256\n",
            "Time taken: 0 hours 0 minutes and 8.99 seconds.\n",
            "----- Training -----\n",
            "Epoch 2 Batch 0 Loss 1.7319\n",
            "Epoch 2 Batch 100 Loss 1.2442\n",
            "Epoch 2 Batch 200 Loss 1.9056\n",
            "Epoch 2 Batch 300 Loss 1.7837\n",
            "Epoch 2 Batch 400 Loss 1.8982\n",
            "Epoch 2 Batch 500 Loss 1.9445\n",
            "Epoch 2 Batch 600 Loss 1.7660\n",
            "Epoch 2 Batch 700 Loss 1.6747\n",
            "Epoch 2 Loss 1.8540\n",
            "Time taken: 0 hours 0 minutes and 35.37 seconds.\n",
            "----- Validation -----\n",
            "Epoch 2 Batch 0 Val-Loss 1.8395\n",
            "Epoch 2 Batch 40 Val-Loss 1.8573\n",
            "Epoch 2 Batch 80 Val-Loss 1.9769\n",
            "Epoch 2 Batch 120 Val-Loss 1.7137\n",
            "Epoch 2 Batch 160 Val-Loss 2.0381\n",
            "Epoch 2 Val-Loss 1.7767\n",
            "Time taken: 0 hours 0 minutes and 8.88 seconds.\n",
            "----- Training -----\n",
            "Epoch 3 Batch 0 Loss 1.5535\n",
            "Epoch 3 Batch 100 Loss 1.7814\n",
            "Epoch 3 Batch 200 Loss 1.3786\n",
            "Epoch 3 Batch 300 Loss 1.6853\n",
            "Epoch 3 Batch 400 Loss 1.8072\n",
            "Epoch 3 Batch 500 Loss 1.6890\n",
            "Epoch 3 Batch 600 Loss 1.4866\n",
            "Epoch 3 Batch 700 Loss 2.1808\n",
            "Epoch 3 Loss 1.7238\n",
            "Time taken: 0 hours 0 minutes and 35.27 seconds.\n",
            "----- Validation -----\n",
            "Epoch 3 Batch 0 Val-Loss 2.0148\n",
            "Epoch 3 Batch 40 Val-Loss 1.3252\n",
            "Epoch 3 Batch 80 Val-Loss 1.5793\n",
            "Epoch 3 Batch 120 Val-Loss 2.1994\n",
            "Epoch 3 Batch 160 Val-Loss 1.6800\n",
            "Epoch 3 Val-Loss 1.6624\n",
            "Time taken: 0 hours 0 minutes and 8.88 seconds.\n",
            "----- Training -----\n",
            "Epoch 4 Batch 0 Loss 1.7748\n",
            "Epoch 4 Batch 100 Loss 1.8768\n",
            "Epoch 4 Batch 200 Loss 1.8395\n",
            "Epoch 4 Batch 300 Loss 1.1135\n",
            "Epoch 4 Batch 400 Loss 1.7780\n",
            "Epoch 4 Batch 500 Loss 1.1882\n",
            "Epoch 4 Batch 600 Loss 1.6944\n",
            "Epoch 4 Batch 700 Loss 1.6894\n",
            "Epoch 4 Loss 1.6266\n",
            "Time taken: 0 hours 0 minutes and 35.39 seconds.\n",
            "----- Validation -----\n",
            "Epoch 4 Batch 0 Val-Loss 1.6413\n",
            "Epoch 4 Batch 40 Val-Loss 1.3012\n",
            "Epoch 4 Batch 80 Val-Loss 1.4468\n",
            "Epoch 4 Batch 120 Val-Loss 1.7774\n",
            "Epoch 4 Batch 160 Val-Loss 2.0534\n",
            "Epoch 4 Val-Loss 1.5704\n",
            "Time taken: 0 hours 0 minutes and 8.87 seconds.\n",
            "----- Training -----\n",
            "Epoch 5 Batch 0 Loss 1.4886\n",
            "Epoch 5 Batch 100 Loss 1.6619\n",
            "Epoch 5 Batch 200 Loss 1.6894\n",
            "Epoch 5 Batch 300 Loss 1.8035\n",
            "Epoch 5 Batch 400 Loss 1.5168\n",
            "Epoch 5 Batch 500 Loss 1.7820\n",
            "Epoch 5 Batch 600 Loss 1.6112\n",
            "Epoch 5 Batch 700 Loss 1.7943\n",
            "Epoch 5 Loss 1.5553\n",
            "Time taken: 0 hours 0 minutes and 35.35 seconds.\n",
            "----- Validation -----\n",
            "Epoch 5 Batch 0 Val-Loss 1.3942\n",
            "Epoch 5 Batch 40 Val-Loss 1.5515\n",
            "Epoch 5 Batch 80 Val-Loss 1.2592\n",
            "Epoch 5 Batch 120 Val-Loss 1.8616\n",
            "Epoch 5 Batch 160 Val-Loss 0.9618\n",
            "Epoch 5 Val-Loss 1.4870\n",
            "Time taken: 0 hours 0 minutes and 8.87 seconds.\n",
            "----- Training -----\n",
            "Epoch 6 Batch 0 Loss 1.4765\n",
            "Epoch 6 Batch 100 Loss 1.8392\n",
            "Epoch 6 Batch 200 Loss 1.5379\n",
            "Epoch 6 Batch 300 Loss 1.5801\n",
            "Epoch 6 Batch 400 Loss 1.6535\n",
            "Epoch 6 Batch 500 Loss 1.4334\n",
            "Epoch 6 Batch 600 Loss 1.1286\n",
            "Epoch 6 Batch 700 Loss 1.3505\n",
            "Epoch 6 Loss 1.4807\n",
            "Time taken: 0 hours 0 minutes and 35.35 seconds.\n",
            "----- Validation -----\n",
            "Epoch 6 Batch 0 Val-Loss 1.3958\n",
            "Epoch 6 Batch 40 Val-Loss 1.4969\n",
            "Epoch 6 Batch 80 Val-Loss 1.5920\n",
            "Epoch 6 Batch 120 Val-Loss 1.2962\n",
            "Epoch 6 Batch 160 Val-Loss 1.3960\n",
            "Epoch 6 Val-Loss 1.4665\n",
            "Time taken: 0 hours 0 minutes and 8.97 seconds.\n",
            "----- Training -----\n",
            "Epoch 7 Batch 0 Loss 1.1322\n",
            "Epoch 7 Batch 100 Loss 1.6402\n",
            "Epoch 7 Batch 200 Loss 1.4183\n",
            "Epoch 7 Batch 300 Loss 1.3686\n",
            "Epoch 7 Batch 400 Loss 1.3389\n",
            "Epoch 7 Batch 500 Loss 1.9118\n",
            "Epoch 7 Batch 600 Loss 1.9299\n",
            "Epoch 7 Batch 700 Loss 1.3586\n",
            "Epoch 7 Loss 1.4869\n",
            "Time taken: 0 hours 0 minutes and 35.6 seconds.\n",
            "----- Validation -----\n",
            "Epoch 7 Batch 0 Val-Loss 1.4087\n",
            "Epoch 7 Batch 40 Val-Loss 1.3443\n",
            "Epoch 7 Batch 80 Val-Loss 1.4435\n",
            "Epoch 7 Batch 120 Val-Loss 1.7522\n",
            "Epoch 7 Batch 160 Val-Loss 1.3728\n",
            "Epoch 7 Val-Loss 1.4207\n",
            "Time taken: 0 hours 0 minutes and 8.92 seconds.\n",
            "----- Training -----\n",
            "Epoch 8 Batch 0 Loss 1.3966\n",
            "Epoch 8 Batch 100 Loss 1.2879\n",
            "Epoch 8 Batch 200 Loss 0.9426\n",
            "Epoch 8 Batch 300 Loss 1.4512\n",
            "Epoch 8 Batch 400 Loss 1.4716\n",
            "Epoch 8 Batch 500 Loss 1.4150\n",
            "Epoch 8 Batch 600 Loss 1.3369\n",
            "Epoch 8 Batch 700 Loss 1.2573\n",
            "Epoch 8 Loss 1.4228\n",
            "Time taken: 0 hours 0 minutes and 35.28 seconds.\n",
            "----- Validation -----\n",
            "Epoch 8 Batch 0 Val-Loss 1.6204\n",
            "Epoch 8 Batch 40 Val-Loss 1.1433\n",
            "Epoch 8 Batch 80 Val-Loss 1.5284\n",
            "Epoch 8 Batch 120 Val-Loss 1.3999\n",
            "Epoch 8 Batch 160 Val-Loss 1.3385\n",
            "Epoch 8 Val-Loss 1.3674\n",
            "Time taken: 0 hours 0 minutes and 8.97 seconds.\n",
            "----- Training -----\n",
            "Epoch 9 Batch 0 Loss 1.3552\n",
            "Epoch 9 Batch 100 Loss 1.4111\n",
            "Epoch 9 Batch 200 Loss 1.2937\n",
            "Epoch 9 Batch 300 Loss 1.2509\n",
            "Epoch 9 Batch 400 Loss 1.2752\n",
            "Epoch 9 Batch 500 Loss 1.1596\n",
            "Epoch 9 Batch 600 Loss 0.9948\n",
            "Epoch 9 Batch 700 Loss 1.5032\n",
            "Epoch 9 Loss 1.3761\n",
            "Time taken: 0 hours 0 minutes and 35.33 seconds.\n",
            "----- Validation -----\n",
            "Epoch 9 Batch 0 Val-Loss 1.6521\n",
            "Epoch 9 Batch 40 Val-Loss 1.2753\n",
            "Epoch 9 Batch 80 Val-Loss 1.2698\n",
            "Epoch 9 Batch 120 Val-Loss 1.2177\n",
            "Epoch 9 Batch 160 Val-Loss 1.5000\n",
            "Epoch 9 Val-Loss 1.3305\n",
            "Time taken: 0 hours 0 minutes and 8.97 seconds.\n",
            "----- Training -----\n",
            "Epoch 10 Batch 0 Loss 1.1726\n",
            "Epoch 10 Batch 100 Loss 1.6097\n",
            "Epoch 10 Batch 200 Loss 1.2132\n",
            "Epoch 10 Batch 300 Loss 1.0299\n",
            "Epoch 10 Batch 400 Loss 1.3159\n",
            "Epoch 10 Batch 500 Loss 1.6187\n",
            "Epoch 10 Batch 600 Loss 0.9485\n",
            "Epoch 10 Batch 700 Loss 1.3266\n",
            "Epoch 10 Loss 1.3331\n",
            "Time taken: 0 hours 0 minutes and 35.46 seconds.\n",
            "----- Validation -----\n",
            "Epoch 10 Batch 0 Val-Loss 1.5745\n",
            "Epoch 10 Batch 40 Val-Loss 1.2614\n",
            "Epoch 10 Batch 80 Val-Loss 1.2221\n",
            "Epoch 10 Batch 120 Val-Loss 1.5039\n",
            "Epoch 10 Batch 160 Val-Loss 1.5750\n",
            "Epoch 10 Val-Loss 1.2727\n",
            "WARNING:tensorflow:From /usr/local/lib/python3.6/dist-packages/tensorflow/python/ops/summary_ops_v2.py:1297: start (from tensorflow.python.eager.profiler) is deprecated and will be removed after 2020-07-01.\n",
            "Instructions for updating:\n",
            "use `tf.profiler.experimental.start` instead.\n",
            "WARNING:tensorflow:From /usr/local/lib/python3.6/dist-packages/tensorflow/python/ops/summary_ops_v2.py:1353: stop (from tensorflow.python.eager.profiler) is deprecated and will be removed after 2020-07-01.\n",
            "Instructions for updating:\n",
            "use `tf.profiler.experimental.stop` instead.\n",
            "WARNING:tensorflow:From /usr/local/lib/python3.6/dist-packages/tensorflow/python/ops/summary_ops_v2.py:1353: save (from tensorflow.python.eager.profiler) is deprecated and will be removed after 2020-07-01.\n",
            "Instructions for updating:\n",
            "`tf.python.eager.profiler` has deprecated, use `tf.profiler` instead.\n",
            "WARNING:tensorflow:From /usr/local/lib/python3.6/dist-packages/tensorflow/python/eager/profiler.py:151: maybe_create_event_file (from tensorflow.python.eager.profiler) is deprecated and will be removed after 2020-07-01.\n",
            "Instructions for updating:\n",
            "`tf.python.eager.profiler` has deprecated, use `tf.profiler` instead.\n",
            "Time taken: 0 hours 0 minutes and 12.89 seconds.\n",
            "Time taken: 0 hours 7 minutes and 40.33 seconds.\n"
          ],
          "name": "stdout"
        }
      ]
    },
    {
      "cell_type": "markdown",
      "metadata": {
        "colab_type": "text",
        "id": "eN-lmIq4XEHv"
      },
      "source": [
        "##### 6.2.7. Save the model"
      ]
    },
    {
      "cell_type": "code",
      "metadata": {
        "colab_type": "code",
        "id": "9-EKU7VZXEHv",
        "colab": {}
      },
      "source": [
        "encoder.save_weights('baseline_mask_encoder_weights.h5')\n",
        "decoder.save_weights('baseline_mask_decoder_weights.h5')"
      ],
      "execution_count": null,
      "outputs": []
    },
    {
      "cell_type": "code",
      "metadata": {
        "colab_type": "code",
        "id": "FQ9HMhIXXEHw",
        "colab": {
          "base_uri": "https://localhost:8080/",
          "height": 98
        },
        "outputId": "6e72b014-1a93-49a2-ded6-3e07c27ef196"
      },
      "source": [
        "!tar cvzf baseline_mask_checkpoints.tar.gz ./baseline_mask_checkpoints/checkpoint ./baseline_mask_checkpoints/ckpt-1.data-00000-of-00001 ./baseline_mask_checkpoints/ckpt-1.index ./baseline_mask_encoder_weights.h5 ./baseline_mask_decoder_weights.h5"
      ],
      "execution_count": null,
      "outputs": [
        {
          "output_type": "stream",
          "text": [
            "./baseline_mask_checkpoints/checkpoint\n",
            "./baseline_mask_checkpoints/ckpt-1.data-00000-of-00001\n",
            "./baseline_mask_checkpoints/ckpt-1.index\n",
            "./baseline_mask_encoder_weights.h5\n",
            "./baseline_mask_decoder_weights.h5\n"
          ],
          "name": "stdout"
        }
      ]
    },
    {
      "cell_type": "code",
      "metadata": {
        "colab_type": "code",
        "id": "iAeSwlI6TxAM",
        "colab": {}
      },
      "source": [
        "ENC_SAVED_MODEL_DIR = 'baseline_mask_encoder'\n",
        "DEC_SAVED_MODEL_DIR = 'baseline_mask_decoder'\n",
        "TFLITE_MODELS_DIR = 'baseline_mask_tflite_models'\n",
        "ENC_TFLITE_MODEL_NAME = 'baseline_mask_encoder'\n",
        "DEC_TFLITE_MODEL_NAME = 'baseline_mask_decoder'\n",
        "ENC_TFLITE_QUANTIZED_MODEL_NAME = 'baseline_mask_encoder_f16'\n",
        "DEC_TFLITE_QUANTIZED_MODEL_NAME = 'baseline_mask_decoder_f16'"
      ],
      "execution_count": null,
      "outputs": []
    },
    {
      "cell_type": "code",
      "metadata": {
        "colab_type": "code",
        "id": "Gp8c3DrkTxAO",
        "colab": {
          "base_uri": "https://localhost:8080/",
          "height": 82
        },
        "outputId": "70ee25dc-3359-48f0-c025-1b95b5070e90"
      },
      "source": [
        "encoder.save(ENC_SAVED_MODEL_DIR)\n",
        "decoder.save(DEC_SAVED_MODEL_DIR)"
      ],
      "execution_count": null,
      "outputs": [
        {
          "output_type": "stream",
          "text": [
            "INFO:tensorflow:Assets written to: baseline_mask_encoder/assets\n"
          ],
          "name": "stdout"
        },
        {
          "output_type": "stream",
          "text": [
            "INFO:tensorflow:Assets written to: baseline_mask_encoder/assets\n"
          ],
          "name": "stderr"
        },
        {
          "output_type": "stream",
          "text": [
            "INFO:tensorflow:Assets written to: baseline_mask_decoder/assets\n"
          ],
          "name": "stdout"
        },
        {
          "output_type": "stream",
          "text": [
            "INFO:tensorflow:Assets written to: baseline_mask_decoder/assets\n"
          ],
          "name": "stderr"
        }
      ]
    },
    {
      "cell_type": "code",
      "metadata": {
        "id": "kYbTjugbZwWM",
        "colab_type": "code",
        "colab": {}
      },
      "source": [
        "tflite_models_dir = prepare_tflite_models_dir(TFLITE_MODELS_DIR)\n",
        "tflite_encoder_model_file = convert_saved_model_to_tflite(ENC_SAVED_MODEL_DIR, tflite_models_dir, ENC_TFLITE_MODEL_NAME)\n",
        "tflite_decoder_model_file = convert_saved_model_to_tflite(DEC_SAVED_MODEL_DIR, tflite_models_dir, DEC_TFLITE_MODEL_NAME)\n",
        "tflite_encoder_model_fp16_file = convert_saved_model_to_tflite(ENC_SAVED_MODEL_DIR, tflite_models_dir, ENC_TFLITE_QUANTIZED_MODEL_NAME, quantize=True)\n",
        "tflite_decoder_model_fp16_file = convert_saved_model_to_tflite(DEC_SAVED_MODEL_DIR, tflite_models_dir, DEC_TFLITE_QUANTIZED_MODEL_NAME, quantize=True)"
      ],
      "execution_count": null,
      "outputs": []
    },
    {
      "cell_type": "code",
      "metadata": {
        "colab_type": "code",
        "id": "FAPLb4H2TxAQ",
        "colab": {
          "base_uri": "https://localhost:8080/",
          "height": 98
        },
        "outputId": "2552cb53-db5c-4260-d776-a1f80c81bfb7"
      },
      "source": [
        "# Print tf-lite model sizes\n",
        "!ls -lh {tflite_models_dir}"
      ],
      "execution_count": null,
      "outputs": [
        {
          "output_type": "stream",
          "text": [
            "total 774M\n",
            "-rw-r--r-- 1 root root 191M Aug 15 13:56 baseline_mask_decoder\n",
            "-rw-r--r-- 1 root root  96M Aug 15 13:56 baseline_mask_decoder_f16\n",
            "-rw-r--r-- 1 root root 325M Aug 15 13:55 baseline_mask_encoder\n",
            "-rw-r--r-- 1 root root 163M Aug 15 13:56 baseline_mask_encoder_f16\n"
          ],
          "name": "stdout"
        }
      ]
    },
    {
      "cell_type": "markdown",
      "metadata": {
        "colab_type": "text",
        "id": "Ai4wP6gYXEHx"
      },
      "source": [
        "##### 6.2.8. Plot the model's loss"
      ]
    },
    {
      "cell_type": "code",
      "metadata": {
        "colab_type": "code",
        "id": "cs6rqRilXEHx",
        "colab": {}
      },
      "source": [
        "# plot_loss function defined in 6.1.8."
      ],
      "execution_count": null,
      "outputs": []
    },
    {
      "cell_type": "code",
      "metadata": {
        "colab_type": "code",
        "id": "6-QxgpJdXEHy",
        "colab": {
          "base_uri": "https://localhost:8080/",
          "height": 294
        },
        "outputId": "a851ccfd-7f52-41a0-869c-bff5e5167472"
      },
      "source": [
        "plot_loss(EPOCHS, loss_train, loss_val)"
      ],
      "execution_count": null,
      "outputs": [
        {
          "output_type": "display_data",
          "data": {
            "image/png": "[encoded data removed]",
            "text/plain": [
              "<Figure size 432x288 with 1 Axes>"
            ]
          },
          "metadata": {
            "tags": [],
            "needs_background": "light"
          }
        }
      ]
    },
    {
      "cell_type": "markdown",
      "metadata": {
        "colab_type": "text",
        "id": "s7aqwmAWXEHz"
      },
      "source": [
        "##### 6.2.9. Inference\n"
      ]
    },
    {
      "cell_type": "code",
      "metadata": {
        "colab_type": "code",
        "id": "0dzDXgi5XEHz",
        "colab": {}
      },
      "source": [
        "# Use code cells of 6.1.9."
      ],
      "execution_count": null,
      "outputs": []
    },
    {
      "cell_type": "markdown",
      "metadata": {
        "colab_type": "text",
        "id": "o08iGxCFXEH0"
      },
      "source": [
        "##### 6.2.10. Restore the latest checkpoint and test"
      ]
    },
    {
      "cell_type": "code",
      "metadata": {
        "colab_type": "code",
        "id": "n3wR70yOXEH0",
        "colab": {
          "base_uri": "https://localhost:8080/",
          "height": 34
        },
        "outputId": "00aa2cce-4514-4373-80d6-894f834343c1"
      },
      "source": [
        "# restoring the latest checkpoint in checkpoint_dir\n",
        "checkpoint.restore(tf.train.latest_checkpoint(checkpoint_dir))"
      ],
      "execution_count": null,
      "outputs": [
        {
          "output_type": "execute_result",
          "data": {
            "text/plain": [
              "<tensorflow.python.training.tracking.util.CheckpointLoadStatus at 0x7f8c54335cf8>"
            ]
          },
          "metadata": {
            "tags": []
          },
          "execution_count": 190
        }
      ]
    },
    {
      "cell_type": "markdown",
      "metadata": {
        "colab_type": "text",
        "id": "HQHyM7dAXEH2"
      },
      "source": [
        "###### 6.2.10.1. Inference with greedy search"
      ]
    },
    {
      "cell_type": "code",
      "metadata": {
        "colab_type": "code",
        "id": "ifZcFUaxXEH2",
        "colab": {
          "base_uri": "https://localhost:8080/"
        },
        "outputId": "94b17ebc-0fb7-46d0-e14a-36d1a210562f"
      },
      "source": [
        "predict(encoder, decoder, enc_in_ques_test, enc_in_title_test, enc_in_price_test, \n",
        "        enc_in_image_test, dec_in_test, 'random')"
      ],
      "execution_count": null,
      "outputs": [
        {
          "output_type": "stream",
          "text": [
            "\n",
            "Question: does this calculator have built in computer algebra system\n",
            "Actual answer: no\n",
            "Predicted answer: yes\n",
            "\n",
            "Question: can you use this pot on a glass top stove\n",
            "Actual answer: absolutely tony\n",
            "Predicted answer: yes\n",
            "\n",
            "Question: does it have a mic\n",
            "Actual answer: sorry no\n",
            "Predicted answer: yes\n",
            "\n",
            "Question: mix 1 1 of what cold milk or cold water\n",
            "Actual answer: water\n",
            "Predicted answer: yes\n",
            "\n",
            "Question: how many watts thanks\n",
            "Actual answer: its battery operated\n",
            "Predicted answer: about 3 feet\n",
            "\n",
            "Question: is there a magnet on the back of this item\n",
            "Actual answer: yes\n",
            "Predicted answer: yes\n",
            "\n",
            "Question: are thre three individual temperature settings\n",
            "Actual answer: yes works great\n",
            "Predicted answer: yes\n",
            "\n",
            "Question: will these headphones fit children\n",
            "Actual answer: they might\n",
            "Predicted answer: yes\n",
            "\n",
            "Question: is this mic silver or black\n",
            "Actual answer: silver\n",
            "Predicted answer: yes\n",
            "\n",
            "Question: is this wind up or battery\n",
            "Actual answer: wind up\n",
            "Predicted answer: yes\n"
          ],
          "name": "stdout"
        }
      ]
    },
    {
      "cell_type": "code",
      "metadata": {
        "colab_type": "code",
        "id": "8Ruoh95KnJTE",
        "colab": {
          "base_uri": "https://localhost:8080/"
        },
        "outputId": "04512ee3-06c9-456d-ab01-95407ff91eab"
      },
      "source": [
        "predict(encoder, decoder, enc_in_ques_test, enc_in_title_test, enc_in_price_test, \n",
        "        enc_in_image_test, dec_in_test, 'random', count=1, special_input=True)"
      ],
      "execution_count": null,
      "outputs": [
        {
          "output_type": "stream",
          "text": [
            "\n",
            "Question: All zeros\n",
            "Actual answer: no\n",
            "Predicted answer: \n"
          ],
          "name": "stdout"
        }
      ]
    },
    {
      "cell_type": "code",
      "metadata": {
        "colab_type": "code",
        "id": "Mlb54hTpXEH5",
        "colab": {
          "base_uri": "https://localhost:8080/"
        },
        "outputId": "3124ff1e-c4f3-4fb8-ab7a-6630f587105b"
      },
      "source": [
        "start_time = timer()\n",
        "predicted_answer_list, actual_answer_list = predict(encoder, decoder, \n",
        "                                                    enc_in_ques_test, \n",
        "                                                    enc_in_title_test, \n",
        "                                                    enc_in_price_test, \n",
        "                                                    enc_in_image_test, \n",
        "                                                    dec_in_test, 'corpus')\n",
        "timer(start_time)"
      ],
      "execution_count": null,
      "outputs": [
        {
          "output_type": "stream",
          "text": [
            "Time taken: 0 hours 0 minutes and 47.96 seconds.\n"
          ],
          "name": "stdout"
        }
      ]
    },
    {
      "cell_type": "markdown",
      "metadata": {
        "colab_type": "text",
        "id": "VM_LxoprXEH6"
      },
      "source": [
        "###### 6.2.10.2. Inference with beam search"
      ]
    },
    {
      "cell_type": "code",
      "metadata": {
        "colab_type": "code",
        "id": "D51rxrZRXEH6",
        "colab": {
          "base_uri": "https://localhost:8080/",
          "height": 667
        },
        "outputId": "37a2248d-a91b-4944-d656-7177b119de25"
      },
      "source": [
        "predict(encoder, decoder, enc_in_ques_test, enc_in_title_test, enc_in_price_test, \n",
        "        enc_in_image_test, dec_in_test, 'random', beam_search=True)"
      ],
      "execution_count": null,
      "outputs": [
        {
          "output_type": "stream",
          "text": [
            "\n",
            "Question: can it be used for an iphone 3gs\n",
            "Actual answer: no\n",
            "Predicted answer: yes\n",
            "\n",
            "Question: does the color look black or brown\n",
            "Actual answer: black\n",
            "Predicted answer: yes\n",
            "\n",
            "Question: what color is the inside\n",
            "Actual answer: black\n",
            "Predicted answer: about\n",
            "\n",
            "Question: how thick is this seat\n",
            "Actual answer: roughly 3 4\n",
            "Predicted answer: about\n",
            "\n",
            "Question: latin american or european pronunciation\n",
            "Actual answer: latin american\n",
            "Predicted answer: yes\n",
            "\n",
            "Question: can this be mounted to a tripod\n",
            "Actual answer: nope\n",
            "Predicted answer: yes\n",
            "\n",
            "Question: is this really 71 inches tall\n",
            "Actual answer: yes indeed\n",
            "Predicted answer: yes\n",
            "\n",
            "Question: is it small enough to use on eyeglasses\n",
            "Actual answer: yes it is\n",
            "Predicted answer: yes\n",
            "\n",
            "Question: how much power does this draw\n",
            "Actual answer: 15 amps\n",
            "Predicted answer: about\n",
            "\n",
            "Question: will it work with an ipod\n",
            "Actual answer: of course\n",
            "Predicted answer: yes\n"
          ],
          "name": "stdout"
        }
      ]
    },
    {
      "cell_type": "code",
      "metadata": {
        "colab_type": "code",
        "id": "LMywQJP-XEH7",
        "colab": {
          "base_uri": "https://localhost:8080/",
          "height": 82
        },
        "outputId": "6b4e5b6c-118b-4d07-cefa-13baacb53cd2"
      },
      "source": [
        "predict(encoder, decoder, enc_in_ques_test, enc_in_title_test, enc_in_price_test, \n",
        "        enc_in_image_test, dec_in_test, 'random', count=1, special_input=True, \n",
        "        beam_search=True)"
      ],
      "execution_count": null,
      "outputs": [
        {
          "output_type": "stream",
          "text": [
            "\n",
            "Question: All zeros\n",
            "Actual answer: china\n",
            "Predicted answer: \n"
          ],
          "name": "stdout"
        }
      ]
    },
    {
      "cell_type": "code",
      "metadata": {
        "colab_type": "code",
        "id": "s7kV-pM8XEH8",
        "colab": {
          "base_uri": "https://localhost:8080/",
          "height": 33
        },
        "outputId": "12570e41-c7f6-4506-8772-e61e33a0def5"
      },
      "source": [
        "start_time = timer()\n",
        "predicted_answer_list, actual_answer_list = predict(encoder, decoder, \n",
        "                                                    enc_in_ques_test, \n",
        "                                                    enc_in_title_test, \n",
        "                                                    enc_in_price_test, \n",
        "                                                    enc_in_image_test, \n",
        "                                                    dec_in_test, 'corpus', \n",
        "                                                    beam_search=True)\n",
        "timer(start_time)"
      ],
      "execution_count": null,
      "outputs": [
        {
          "output_type": "stream",
          "text": [
            "Time taken: 0 hours 1 minutes and 14.6 seconds.\n"
          ],
          "name": "stdout"
        }
      ]
    },
    {
      "cell_type": "markdown",
      "metadata": {
        "colab_type": "text",
        "id": "YPTbmU5hUedX"
      },
      "source": [
        "###### 6.2.10.3. Inference with greedy search (with TF-Lite)"
      ]
    },
    {
      "cell_type": "code",
      "metadata": {
        "colab_type": "code",
        "id": "LqXMPs2QUedY",
        "colab": {
          "base_uri": "https://localhost:8080/",
          "height": 667
        },
        "outputId": "5a45317e-cead-4f62-8833-d9dd44d10e91"
      },
      "source": [
        "predict(tflite_encoder_model_file, tflite_decoder_model_file, enc_in_ques_test, \n",
        "        enc_in_title_test, enc_in_price_test, enc_in_image_test, dec_in_test, \n",
        "        'random', tflite=True, use_quantize_decoder_inputs_order=True)"
      ],
      "execution_count": null,
      "outputs": [
        {
          "output_type": "stream",
          "text": [
            "\n",
            "Question: does the center handle on the pelican 1720 case fold down\n",
            "Actual answer: yes\n",
            "Predicted answer: yes\n",
            "\n",
            "Question: does it sound like a real drumset\n",
            "Actual answer: yes\n",
            "Predicted answer: yes\n",
            "\n",
            "Question: does this cooler have a spigot\n",
            "Actual answer: yes\n",
            "Predicted answer: yes\n",
            "\n",
            "Question: ditto does the racquet xome with case\n",
            "Actual answer: yes\n",
            "Predicted answer: yes\n",
            "\n",
            "Question: what is the length of this diverter spout\n",
            "Actual answer: 6 1 8\n",
            "Predicted answer: about 3 feet\n",
            "\n",
            "Question: is this popcorn pesticide free\n",
            "Actual answer: yes it is\n",
            "Predicted answer: yes\n",
            "\n",
            "Question: it works with clarion cdm6\n",
            "Actual answer: yes\n",
            "Predicted answer: yes\n",
            "\n",
            "Question: does seat and back heat\n",
            "Actual answer: yes\n",
            "Predicted answer: yes\n",
            "\n",
            "Question: do the arms move or permanent\n",
            "Actual answer: yes they do\n",
            "Predicted answer: yes\n",
            "\n",
            "Question: does it count up and down\n",
            "Actual answer: yes\n",
            "Predicted answer: yes\n"
          ],
          "name": "stdout"
        }
      ]
    },
    {
      "cell_type": "code",
      "metadata": {
        "colab_type": "code",
        "id": "oxFGgG3sUeda",
        "colab": {
          "base_uri": "https://localhost:8080/",
          "height": 82
        },
        "outputId": "1cb996d6-6c31-448f-e59b-582a0f7d36b2"
      },
      "source": [
        "predict(tflite_encoder_model_file, tflite_decoder_model_file, enc_in_ques_test, \n",
        "        enc_in_title_test, enc_in_price_test, enc_in_image_test, dec_in_test, \n",
        "        'random', count=1, special_input=True, tflite=True, \n",
        "        use_quantize_decoder_inputs_order=True)"
      ],
      "execution_count": null,
      "outputs": [
        {
          "output_type": "stream",
          "text": [
            "\n",
            "Question: All zeros\n",
            "Actual answer: 4 to 7psi\n",
            "Predicted answer: \n"
          ],
          "name": "stdout"
        }
      ]
    },
    {
      "cell_type": "code",
      "metadata": {
        "colab_type": "code",
        "id": "Mt-PdZe0Uedc",
        "colab": {
          "base_uri": "https://localhost:8080/",
          "height": 33
        },
        "outputId": "1bedfbbe-a0bf-4e48-d012-3a605152a9c9"
      },
      "source": [
        "start_time = timer()\n",
        "predicted_answer_list, actual_answer_list = predict(tflite_encoder_model_file, \n",
        "                                                    tflite_decoder_model_file, \n",
        "                                                    enc_in_ques_test, \n",
        "                                                    enc_in_title_test, \n",
        "                                                    enc_in_price_test, \n",
        "                                                    enc_in_image_test, \n",
        "                                                    dec_in_test, 'corpus',\n",
        "                                                    tflite=True,\n",
        "                                                    use_quantize_decoder_inputs_order=True)\n",
        "timer(start_time)"
      ],
      "execution_count": null,
      "outputs": [
        {
          "output_type": "stream",
          "text": [
            "Time taken: 0 hours 2 minutes and 19.22 seconds.\n"
          ],
          "name": "stdout"
        }
      ]
    },
    {
      "cell_type": "markdown",
      "metadata": {
        "colab_type": "text",
        "id": "IWTG5oRgUede"
      },
      "source": [
        "###### 6.2.10.4. Inference with beam search (with TF-Lite)"
      ]
    },
    {
      "cell_type": "code",
      "metadata": {
        "colab_type": "code",
        "id": "gOoOXpg4Uede",
        "colab": {}
      },
      "source": [
        "predict(tflite_encoder_model_file, tflite_decoder_model_file, enc_in_ques_test, \n",
        "        enc_in_title_test, enc_in_price_test, enc_in_image_test, dec_in_test, \n",
        "        'random', beam_search=True, tflite=True, use_quantize_decoder_inputs_order=True)"
      ],
      "execution_count": null,
      "outputs": []
    },
    {
      "cell_type": "code",
      "metadata": {
        "colab_type": "code",
        "id": "nQtmD-XxUedg",
        "colab": {}
      },
      "source": [
        "predict(tflite_encoder_model_file, tflite_decoder_model_file, enc_in_ques_test, \n",
        "        enc_in_title_test, enc_in_price_test, enc_in_image_test, dec_in_test, \n",
        "        'random', count=1, special_input=True, beam_search=True, tflite=True,\n",
        "         use_quantize_decoder_inputs_order=True)"
      ],
      "execution_count": null,
      "outputs": []
    },
    {
      "cell_type": "code",
      "metadata": {
        "colab_type": "code",
        "id": "eMxBX3dMUedh",
        "colab": {}
      },
      "source": [
        "start_time = timer()\n",
        "predicted_answer_list, actual_answer_list = predict(tflite_encoder_model_file, \n",
        "                                                    tflite_decoder_model_file, \n",
        "                                                    enc_in_ques_test, \n",
        "                                                    enc_in_title_test, \n",
        "                                                    enc_in_price_test, \n",
        "                                                    enc_in_image_test, \n",
        "                                                    dec_in_test, 'corpus', \n",
        "                                                    beam_search=True, \n",
        "                                                    tflite=True,\n",
        "                                                    use_quantize_decoder_inputs_order=True)\n",
        "timer(start_time)"
      ],
      "execution_count": null,
      "outputs": []
    },
    {
      "cell_type": "markdown",
      "metadata": {
        "colab_type": "text",
        "id": "UpKYwL0CUedi"
      },
      "source": [
        "###### 6.2.10.5. Inference with greedy search (with TF-Lite and Post Quantization)"
      ]
    },
    {
      "cell_type": "code",
      "metadata": {
        "colab_type": "code",
        "id": "2nkwtgn5Uedi",
        "colab": {
          "base_uri": "https://localhost:8080/",
          "height": 667
        },
        "outputId": "b5f8d4b6-3569-499f-af61-ca79ccac4804"
      },
      "source": [
        "predict(tflite_encoder_model_fp16_file, tflite_decoder_model_fp16_file, enc_in_ques_test, \n",
        "        enc_in_title_test, enc_in_price_test, enc_in_image_test, dec_in_test, \n",
        "        'random', tflite=True, quantize=True)"
      ],
      "execution_count": null,
      "outputs": [
        {
          "output_type": "stream",
          "text": [
            "\n",
            "Question: can be operated during the day\n",
            "Actual answer: yes it can\n",
            "Predicted answer: yes\n",
            "\n",
            "Question: are these noise canceling\n",
            "Actual answer: no\n",
            "Predicted answer: yes\n",
            "\n",
            "Question: can i get facebook on it\n",
            "Actual answer: yes\n",
            "Predicted answer: yes\n",
            "\n",
            "Question: will it work with my cordless 2 speed dremel 7300\n",
            "Actual answer: no\n",
            "Predicted answer: yes\n",
            "\n",
            "Question: would this fit a 1959 gibson archtop l 48\n",
            "Actual answer: definetly not\n",
            "Predicted answer: yes\n",
            "\n",
            "Question: does this phone have a slot for a verizon sim card\n",
            "Actual answer: yes it does\n",
            "Predicted answer: yes\n",
            "\n",
            "Question: is there warranty on this printer\n",
            "Actual answer: 1 yr\n",
            "Predicted answer: yes\n",
            "\n",
            "Question: is this battery rechareable\n",
            "Actual answer: yes\n",
            "Predicted answer: yes\n",
            "\n",
            "Question: what are the dimensions of this rug thanks\n",
            "Actual answer: 26 x 78\n",
            "Predicted answer: about 3 feet\n",
            "\n",
            "Question: how tall is the unit\n",
            "Actual answer: about 5 tall\n",
            "Predicted answer: about 3 feet\n"
          ],
          "name": "stdout"
        }
      ]
    },
    {
      "cell_type": "code",
      "metadata": {
        "colab_type": "code",
        "id": "18LZY_VrUedj",
        "colab": {
          "base_uri": "https://localhost:8080/",
          "height": 82
        },
        "outputId": "159c5d4e-e810-4826-ea21-fdc84560e580"
      },
      "source": [
        "predict(tflite_encoder_model_fp16_file, tflite_decoder_model_fp16_file, enc_in_ques_test, \n",
        "        enc_in_title_test, enc_in_price_test, enc_in_image_test, dec_in_test, \n",
        "        'random', count=1, special_input=True, tflite=True, quantize=True)"
      ],
      "execution_count": null,
      "outputs": [
        {
          "output_type": "stream",
          "text": [
            "\n",
            "Question: All zeros\n",
            "Actual answer: yes\n",
            "Predicted answer: \n"
          ],
          "name": "stdout"
        }
      ]
    },
    {
      "cell_type": "code",
      "metadata": {
        "colab_type": "code",
        "id": "t7jlhDpTUedl",
        "colab": {
          "base_uri": "https://localhost:8080/",
          "height": 33
        },
        "outputId": "b4447171-8423-4f78-eaf2-5365a6b38f34"
      },
      "source": [
        "start_time = timer()\n",
        "predicted_answer_list, actual_answer_list = predict(tflite_encoder_model_fp16_file, \n",
        "                                                    tflite_decoder_model_fp16_file, \n",
        "                                                    enc_in_ques_test, \n",
        "                                                    enc_in_title_test, \n",
        "                                                    enc_in_price_test, \n",
        "                                                    enc_in_image_test, \n",
        "                                                    dec_in_test, 'corpus',\n",
        "                                                    tflite=True, quantize=True)\n",
        "timer(start_time)"
      ],
      "execution_count": null,
      "outputs": [
        {
          "output_type": "stream",
          "text": [
            "Time taken: 0 hours 11 minutes and 59.37 seconds.\n"
          ],
          "name": "stdout"
        }
      ]
    },
    {
      "cell_type": "markdown",
      "metadata": {
        "colab_type": "text",
        "id": "wj1wuhhsUedm"
      },
      "source": [
        "###### 6.2.10.6. Inference with beam search (with TF-Lite and Post Quantization)"
      ]
    },
    {
      "cell_type": "code",
      "metadata": {
        "colab_type": "code",
        "id": "w6znS4G-Uedn",
        "colab": {
          "base_uri": "https://localhost:8080/",
          "height": 667
        },
        "outputId": "62255349-feb6-494a-8ef3-f9d8eeedbb97"
      },
      "source": [
        "predict(tflite_encoder_model_fp16_file, tflite_decoder_model_fp16_file, enc_in_ques_test, \n",
        "        enc_in_title_test, enc_in_price_test, enc_in_image_test, dec_in_test, \n",
        "        'random', beam_search=True, tflite=True, quantize=True)"
      ],
      "execution_count": null,
      "outputs": [
        {
          "output_type": "stream",
          "text": [
            "\n",
            "Question: does this chair recline\n",
            "Actual answer: no\n",
            "Predicted answer: yes\n",
            "\n",
            "Question: can this reversing module be used on a dcc system\n",
            "Actual answer: yes\n",
            "Predicted answer: yes\n",
            "\n",
            "Question: what are the dimensions\n",
            "Actual answer: 42x17 2x30 inches\n",
            "Predicted answer: about\n",
            "\n",
            "Question: can you see when light is working\n",
            "Actual answer: absolutely\n",
            "Predicted answer: yes\n",
            "\n",
            "Question: what is the measurement\n",
            "Actual answer: 2 3\n",
            "Predicted answer: about\n",
            "\n",
            "Question: hello the voltage and current can be independently adjusted right\n",
            "Actual answer: yes they can\n",
            "Predicted answer: yes\n",
            "\n",
            "Question: is bottom part of curtain a polyester fabric or also vinyl\n",
            "Actual answer: it is vinyl\n",
            "Predicted answer: yes\n",
            "\n",
            "Question: what color is the cord\n",
            "Actual answer: clear\n",
            "Predicted answer: about\n",
            "\n",
            "Question: does this product come with lifetime map updates for the gps\n",
            "Actual answer: i hope so\n",
            "Predicted answer: yes\n",
            "\n",
            "Question: what color is the mat\n",
            "Actual answer: black\n",
            "Predicted answer: about\n"
          ],
          "name": "stdout"
        }
      ]
    },
    {
      "cell_type": "code",
      "metadata": {
        "colab_type": "code",
        "id": "hdVrlshjUedo",
        "colab": {
          "base_uri": "https://localhost:8080/",
          "height": 82
        },
        "outputId": "a2478f7d-503b-4ab4-ec39-7aad9d2e13cb"
      },
      "source": [
        "predict(tflite_encoder_model_fp16_file, tflite_decoder_model_fp16_file, enc_in_ques_test, \n",
        "        enc_in_title_test, enc_in_price_test, enc_in_image_test, dec_in_test, \n",
        "        'random', count=1, special_input=True, beam_search=True, tflite=True, quantize=True)"
      ],
      "execution_count": null,
      "outputs": [
        {
          "output_type": "stream",
          "text": [
            "\n",
            "Question: All zeros\n",
            "Actual answer: yes it fits\n",
            "Predicted answer: \n"
          ],
          "name": "stdout"
        }
      ]
    },
    {
      "cell_type": "code",
      "metadata": {
        "colab_type": "code",
        "id": "hPiL3QO9Uedp",
        "colab": {
          "base_uri": "https://localhost:8080/",
          "height": 33
        },
        "outputId": "76e1e1e9-faf2-4088-913b-0a89350beb90"
      },
      "source": [
        "start_time = timer()\n",
        "predicted_answer_list, actual_answer_list = predict(tflite_encoder_model_fp16_file, \n",
        "                                                    tflite_decoder_model_fp16_file, \n",
        "                                                    enc_in_ques_test, \n",
        "                                                    enc_in_title_test, \n",
        "                                                    enc_in_price_test, \n",
        "                                                    enc_in_image_test, \n",
        "                                                    dec_in_test, 'corpus', \n",
        "                                                    beam_search=True, \n",
        "                                                    tflite=True, quantize=True)\n",
        "timer(start_time)"
      ],
      "execution_count": null,
      "outputs": [
        {
          "output_type": "stream",
          "text": [
            "Time taken: 0 hours 12 minutes and 31.93 seconds.\n"
          ],
          "name": "stdout"
        }
      ]
    },
    {
      "cell_type": "markdown",
      "metadata": {
        "colab_type": "text",
        "id": "SxJ605WQXEH9"
      },
      "source": [
        "##### 6.2.11. Calculate BLEU Score"
      ]
    },
    {
      "cell_type": "markdown",
      "metadata": {
        "colab_type": "text",
        "id": "DPHuJRmmXEH9"
      },
      "source": [
        "###### 6.2.11.1. With greedy search inference"
      ]
    },
    {
      "cell_type": "code",
      "metadata": {
        "id": "rYWxovUqnp1l",
        "colab_type": "code",
        "colab": {
          "base_uri": "https://localhost:8080/",
          "height": 176
        },
        "outputId": "67100435-5d66-4a8e-8b9d-b51d811f3aa4"
      },
      "source": [
        "start_time = timer()\n",
        "print('BLEU-1: %f' % corpus_bleu(actual_answer_list, predicted_answer_list, weights=(1.0, 0, 0, 0)))\n",
        "print('BLEU-2: %f' % corpus_bleu(actual_answer_list, predicted_answer_list, weights=(0.5, 0.5, 0, 0)))\n",
        "print('BLEU-3: %f' % corpus_bleu(actual_answer_list, predicted_answer_list, weights=(0.3, 0.3, 0.3, 0)))\n",
        "print('BLEU-4: %f' % corpus_bleu(actual_answer_list, predicted_answer_list, weights=(0.25, 0.25, 0.25, 0.25)))\n",
        "timer(start_time)"
      ],
      "execution_count": null,
      "outputs": [
        {
          "output_type": "stream",
          "text": [
            "BLEU-1: 0.188138\n",
            "BLEU-2: 0.013439\n",
            "BLEU-3: 0.007108\n",
            "BLEU-4: 0.014381\n",
            "Time taken: 0 hours 0 minutes and 0.15 seconds.\n"
          ],
          "name": "stdout"
        },
        {
          "output_type": "stream",
          "text": [
            "/usr/local/lib/python3.6/dist-packages/nltk/translate/bleu_score.py:490: UserWarning: \n",
            "Corpus/Sentence contains 0 counts of 4-gram overlaps.\n",
            "BLEU scores might be undesirable; use SmoothingFunction().\n",
            "  warnings.warn(_msg)\n"
          ],
          "name": "stderr"
        }
      ]
    },
    {
      "cell_type": "markdown",
      "metadata": {
        "colab_type": "text",
        "id": "EUASF4eRXEH-"
      },
      "source": [
        "###### 6.2.11.2. With beam search inference"
      ]
    },
    {
      "cell_type": "code",
      "metadata": {
        "id": "5fmK0yMYnyli",
        "colab_type": "code",
        "colab": {
          "base_uri": "https://localhost:8080/",
          "height": 176
        },
        "outputId": "2cde6331-4cb0-44c5-e012-dfa42e8c28a0"
      },
      "source": [
        "start_time = timer()\n",
        "print('BLEU-1: %f' % corpus_bleu(actual_answer_list, predicted_answer_list, weights=(1.0, 0, 0, 0)))\n",
        "print('BLEU-2: %f' % corpus_bleu(actual_answer_list, predicted_answer_list, weights=(0.5, 0.5, 0, 0)))\n",
        "print('BLEU-3: %f' % corpus_bleu(actual_answer_list, predicted_answer_list, weights=(0.3, 0.3, 0.3, 0)))\n",
        "print('BLEU-4: %f' % corpus_bleu(actual_answer_list, predicted_answer_list, weights=(0.25, 0.25, 0.25, 0.25)))\n",
        "timer(start_time)"
      ],
      "execution_count": null,
      "outputs": [
        {
          "output_type": "stream",
          "text": [
            "BLEU-1: 0.182886\n",
            "BLEU-2: 0.292314\n",
            "BLEU-3: 0.352629\n",
            "BLEU-4: 0.369561\n",
            "Time taken: 0 hours 0 minutes and 0.15 seconds.\n"
          ],
          "name": "stdout"
        },
        {
          "output_type": "stream",
          "text": [
            "/usr/local/lib/python3.6/dist-packages/nltk/translate/bleu_score.py:490: UserWarning: \n",
            "Corpus/Sentence contains 0 counts of 2-gram overlaps.\n",
            "BLEU scores might be undesirable; use SmoothingFunction().\n",
            "  warnings.warn(_msg)\n"
          ],
          "name": "stderr"
        }
      ]
    },
    {
      "cell_type": "markdown",
      "metadata": {
        "colab_type": "text",
        "id": "SOSjMKnEXEH_"
      },
      "source": [
        "##### 6.2.12. TensorBoard"
      ]
    },
    {
      "cell_type": "code",
      "metadata": {
        "colab_type": "code",
        "id": "C83Z1kdrXEH_",
        "colab": {}
      },
      "source": [
        "# Code to zip the logs\n",
        "!zip -rqq logs.zip logs"
      ],
      "execution_count": null,
      "outputs": []
    },
    {
      "cell_type": "code",
      "metadata": {
        "colab_type": "code",
        "id": "1-BY0UV9XEIA",
        "colab": {}
      },
      "source": [
        "# Code to download logs zip\n",
        "try:\n",
        "  from google.colab import files\n",
        "except ImportError:\n",
        "   pass\n",
        "else:\n",
        "  files.download('logs.zip')"
      ],
      "execution_count": null,
      "outputs": []
    },
    {
      "cell_type": "code",
      "metadata": {
        "colab_type": "code",
        "id": "mF3bhboDXEIB",
        "colab": {}
      },
      "source": [
        "# Load the TensorBoard notebook extension\n",
        "%load_ext tensorboard"
      ],
      "execution_count": null,
      "outputs": []
    },
    {
      "cell_type": "code",
      "metadata": {
        "colab_type": "code",
        "id": "-RTBff9hXEIC",
        "colab": {}
      },
      "source": [
        "%tensorboard --logdir logs/gradient_tape/20200720-042440/baseline_mask/"
      ],
      "execution_count": null,
      "outputs": []
    },
    {
      "cell_type": "markdown",
      "metadata": {
        "colab_type": "text",
        "id": "Qp44Tk6IXEID"
      },
      "source": [
        "#### 6.3. Attention Model with Masking"
      ]
    },
    {
      "cell_type": "markdown",
      "metadata": {
        "colab_type": "text",
        "id": "wim32ZMLXEID"
      },
      "source": [
        "##### 6.3.1. Create a tf.data dataset"
      ]
    },
    {
      "cell_type": "code",
      "metadata": {
        "colab_type": "code",
        "id": "wNAa8FvqXEID",
        "colab": {}
      },
      "source": [
        "# Use code cells of 6.1.1."
      ],
      "execution_count": null,
      "outputs": []
    },
    {
      "cell_type": "markdown",
      "metadata": {
        "colab_type": "text",
        "id": "PbeqNAgwXEIE"
      },
      "source": [
        "##### 6.3.2. Write the encoder and decoder model"
      ]
    },
    {
      "cell_type": "markdown",
      "metadata": {
        "colab_type": "text",
        "id": "t5dmm-kAXEIE"
      },
      "source": [
        "###### 6.3.2.1. Custom Masking Layer"
      ]
    },
    {
      "cell_type": "code",
      "metadata": {
        "colab_type": "code",
        "id": "6vwKCXPCXEIE",
        "colab": {}
      },
      "source": [
        "class CustomMaskingLayer(tf.keras.layers.Layer):\n",
        "    def __init__(self, mask_zero=False, **kwargs):\n",
        "        super(CustomMaskingLayer, self).__init__(**kwargs)\n",
        "        self.mask_zero = mask_zero\n",
        "\n",
        "    def compute_mask(self, inputs, mask=None):\n",
        "        if not self.mask_zero:\n",
        "            return None\n",
        "        return tf.not_equal(inputs, 0.0)"
      ],
      "execution_count": null,
      "outputs": []
    },
    {
      "cell_type": "code",
      "metadata": {
        "colab_type": "code",
        "id": "6YLBlQPMXEIF",
        "colab": {}
      },
      "source": [
        "class Encoder(tf.keras.Model):\n",
        "    def __init__(self, vocab_size, embedding_dim, enc_units, batch_sz):\n",
        "        super(Encoder, self).__init__()\n",
        "        self.batch_sz = batch_sz\n",
        "        self.enc_units = enc_units\n",
        "        self.embedding_ques = tf.keras.layers.Embedding(vocab_size, embedding_dim, \n",
        "                                                        input_length=max_ques_length, \n",
        "                                                        weights=[embedding_matrix], \n",
        "                                                        trainable=False, mask_zero=True)\n",
        "        self.embedding_title = tf.keras.layers.Embedding(vocab_size, embedding_dim, \n",
        "                                                         input_length=max_title_length, \n",
        "                                                         weights=[embedding_matrix], \n",
        "                                                         trainable=False, mask_zero=True)\n",
        "        \n",
        "        self.lstm_ques = tf.keras.layers.LSTM(self.enc_units,\n",
        "                                   return_sequences=True,\n",
        "                                   return_state=True)\n",
        "        self.lstm_title = tf.keras.layers.LSTM(self.enc_units,\n",
        "                                   return_sequences=True,\n",
        "                                   return_state=True)\n",
        "        \n",
        "        self.dense_state_h_ques = tf.keras.layers.Dense(int(self.enc_units/2))\n",
        "        self.dense_state_h_title = tf.keras.layers.Dense(int(self.enc_units/2))\n",
        "        self.dense_state_c_ques = tf.keras.layers.Dense(int(self.enc_units/2))\n",
        "        self.dense_state_c_title = tf.keras.layers.Dense(int(self.enc_units/2))\n",
        "\n",
        "        self.conv2d_image = tf.keras.layers.Conv2D(32, (3, 3), \n",
        "                                    activation = 'relu',\n",
        "                                    kernel_initializer = tf.keras.initializers.HeNormal(seed=SEED),\n",
        "                                    padding = 'same')\n",
        "        self.flatten_image = tf.keras.layers.Flatten()\n",
        "        self.dense_image = tf.keras.layers.Dense(self.enc_units)\n",
        "\n",
        "        self.dense_price = tf.keras.layers.Dense(self.enc_units)\n",
        "\n",
        "        \n",
        "    def call(self, x):   \n",
        "        question, title, price, image, hidden = x[0], x[1], x[2], x[3], x[4]\n",
        "        # question shape == (batch_size, max_ques_length)\n",
        "        # title shape == (batch_size, max_title_length)\n",
        "        # price shape == (batch_size, 1)\n",
        "        # image shape == (batch_size, img_width, img_height, channels)\n",
        "\n",
        "        question_e = self.embedding_ques(question)\n",
        "        # question_e shape == (batch_size, max_ques_length, embedding_dim)\n",
        "        question_mask = self.embedding_ques.compute_mask(question)\n",
        "        # question_mask shape == (batch_size, max_ques_length)\n",
        "        output_ques, state_h_ques, state_c_ques = self.lstm_ques(question_e, initial_state = hidden, mask=question_mask)\n",
        "        # output_ques shape == (batch_size, max_ques_length, enc_units)\n",
        "        # state_h_ques shape == (batch_size, enc_units)\n",
        "        # state_c_ques shape == (batch_size, enc_units)\n",
        "\n",
        "        title_e = self.embedding_title(title)\n",
        "        # title_e shape == (batch_size, max_title_length, embedding_dim)\n",
        "        title_mask = self.embedding_title.compute_mask(title)\n",
        "        # title_mask shape == (batch_size, max_title_length)\n",
        "        output_title, state_h_title, state_c_title = self.lstm_title(title_e, initial_state = hidden, mask=title_mask)\n",
        "        # output_title shape == (batch_size, max_title_length, enc_units)\n",
        "        # state_h_title shape == (batch_size, enc_units)\n",
        "        # state_c_title shape == (batch_size, enc_units)\n",
        "\n",
        "        price = self.dense_price(price)\n",
        "        # price shape == (batch_size, enc_units)\n",
        "\n",
        "        image = self.conv2d_image(image)\n",
        "        # image shape ==  (batch_size, img_width, img_height, filters=32)\n",
        "        image = self.flatten_image(image)\n",
        "        # image shape == (batch_size, 51200)\n",
        "        image = self.dense_image(image)\n",
        "        # image shape == (batch_size, enc_units)\n",
        "        \n",
        "        output = tf.concat([output_ques, output_title], axis=1)\n",
        "        # output shape == (batch_size, max_ques_length + max_title_length, enc_units)\n",
        "        output = tf.concat([tf.expand_dims(price, 1), output], axis=1)\n",
        "        # output shape == (batch_size, max_ques_length + max_title_length + 1, enc_units)\n",
        "        output = tf.concat([tf.expand_dims(image, 1), output], axis=1)\n",
        "        # output shape == (batch_size, max_ques_length + max_title_length + 1 + 1, enc_units)\n",
        "\n",
        "        state_h_ques = self.dense_state_h_ques(state_h_ques)\n",
        "        # state_h_ques shape == (batch_size, int(enc_units/2))\n",
        "        state_h_title = self.dense_state_h_title(state_h_title)\n",
        "        # state_h_title shape == (batch_size, int(enc_units/2))\n",
        "        state_h = tf.concat([state_h_ques, state_h_title], axis=-1)\n",
        "        # state_h shape == (batch_size, enc_units)\n",
        "\n",
        "        state_c_ques = self.dense_state_c_ques(state_c_ques)\n",
        "        # state_c_ques shape == (batch_size, int(enc_units/2))\n",
        "        state_c_title = self.dense_state_c_title(state_c_title)\n",
        "        # state_c_title shape == (batch_size, int(enc_units/2))\n",
        "        state_c = tf.concat([state_c_ques, state_c_title], axis=-1)\n",
        "        # state_c shape == (batch_size, enc_units + enc_units)\n",
        "\n",
        "        return output, state_h, state_c\n",
        "\n",
        "    def initialize_hidden_state(self):\n",
        "        return (tf.zeros((self.batch_sz, self.enc_units)),\n",
        "                tf.zeros((self.batch_sz, self.enc_units)))\n",
        "\n",
        "class Decoder(tf.keras.Model):\n",
        "    def __init__(self, vocab_size, embedding_dim, dec_units, batch_sz):\n",
        "        super(Decoder, self).__init__()\n",
        "        self.batch_sz = batch_sz\n",
        "        self.dec_units = dec_units\n",
        "        self.embedding = tf.keras.layers.Embedding(vocab_size, embedding_dim, \n",
        "                                                   input_length=max_ans_length, \n",
        "                                                   weights=[embedding_matrix], \n",
        "                                                   trainable=False, mask_zero=True)\n",
        "        \n",
        "        self.lstm = tf.keras.layers.LSTM(self.dec_units,\n",
        "                                   return_sequences=True,\n",
        "                                   return_state=True)\n",
        "        self.fc = tf.keras.layers.Dense(vocab_size)\n",
        "        self.attention = tf.keras.layers.AdditiveAttention()\n",
        "\n",
        "        self.masking_hidden = CustomMaskingLayer(mask_zero=True)\n",
        "        self.masking_enc_ouput = CustomMaskingLayer(mask_zero=True)\n",
        "        \n",
        "    def call(self, y):\n",
        "        inputs, hidden, enc_output = y[0], y[1], y[2]\n",
        "        # inputs shape == (batch_size, 1)\n",
        "        # hidden shape == tuple of two (batch_size, enc_units) [lstm state_h and state_c]\n",
        "        # enc_output shape == (batch_size, max_ques_length, enc_units)\n",
        "\n",
        "        # hidden == lstm state_h\n",
        " \n",
        "        hidden_with_time_axis = tf.expand_dims(hidden[0], 1)\n",
        "        # hidden_with_time_axis shape == (batch_size, 1, enc_units)\n",
        "        \n",
        "        mask_hidden = self.masking_hidden(hidden_with_time_axis[:,:,0])\n",
        "        hidden_with_time_axis_mask = self.masking_hidden.compute_mask(mask_hidden)\n",
        "\n",
        "        \n",
        "        # hidden_with_time_axis_mask shape == (batch_size, 1)\n",
        "        \n",
        "        mask_enc_output = self.masking_enc_ouput(enc_output[:,:,0])\n",
        "        enc_output_mask = self.masking_enc_ouput.compute_mask(mask_enc_output)\n",
        "        \n",
        "        # enc_output_mask shape == (batch_size, max_ques_length)\n",
        "        \n",
        "        \n",
        "        context_vector = self.attention(inputs=[hidden_with_time_axis, enc_output],\n",
        "                                        mask=[hidden_with_time_axis_mask, enc_output_mask])\n",
        "        \n",
        "        # context_vector shape == (batch_size, 1, enc_units)\n",
        "\n",
        "        \n",
        "        # x shape after passing through embedding == (batch_size, 1, embedding_dim)\n",
        "        x = self.embedding(inputs)\n",
        "        \n",
        "        mask = self.embedding.compute_mask(inputs)\n",
        "        # mask shape == (batch_size, 1)\n",
        "\n",
        "        # x shape after concatenation == (batch_size, 1, embedding_dim + hidden_size)\n",
        "        x = tf.concat([context_vector, x], axis=-1)\n",
        "        \n",
        "        # passing the concatenated vector to the LSTM\n",
        "        output, state_h, state_c = self.lstm(x, initial_state=hidden, mask=mask)\n",
        "        # output shape == (batch_size, 1, dec_units)\n",
        "        # state_h shape == (batch_size, dec_units)\n",
        "        # state_c shape == (batch_size, dec_units)\n",
        " \n",
        "        output = tf.reshape(output, (-1, output.shape[2]))\n",
        "        # output shape == (batch_size * 1, dec_units)\n",
        "        \n",
        "        x = self.fc(output)\n",
        "        # output shape == (batch_size, vocab)\n",
        "        \n",
        "        return x, state_h, state_c\n",
        "\n",
        "    def initialize_hidden_state(self):\n",
        "        return (tf.zeros((self.batch_sz, self.dec_units)),\n",
        "                tf.zeros((self.batch_sz, self.dec_units)))"
      ],
      "execution_count": null,
      "outputs": []
    },
    {
      "cell_type": "code",
      "metadata": {
        "colab_type": "code",
        "id": "G4yABU6ZXEIG",
        "colab": {
          "base_uri": "https://localhost:8080/"
        },
        "outputId": "0ee27990-1db1-4302-d001-9d23bc01a80b"
      },
      "source": [
        "encoder = Encoder(qa_vocab_size, embedding_dim, units, BATCH_SIZE)\n",
        "\n",
        "# sample input\n",
        "sample_hidden = encoder.initialize_hidden_state()\n",
        "sample_output, sample_state_hidden, sample_state_cell = encoder([example_input_ques_batch, example_input_title_batch, example_input_price_batch, example_input_image_batch, sample_hidden])\n",
        "print ('Encoder output shape: (batch size, sequence length, units) {}'.format(sample_output.shape))\n",
        "print ('Encoder hidden state shape: (batch size, units) {}'.format(sample_state_hidden.shape))\n",
        "print ('Encoder cell state shape: (batch size, units) {}'.format(sample_state_cell.shape))"
      ],
      "execution_count": null,
      "outputs": [
        {
          "output_type": "stream",
          "text": [
            "WARNING:tensorflow:Layer encoder_4 is casting an input tensor from dtype float64 to the layer's dtype of float32, which is new behavior in TensorFlow 2.  The layer has dtype float32 because its dtype defaults to floatx.\n",
            "\n",
            "If you intended to run this layer in float32, you can safely ignore this warning. If in doubt, this warning is likely only an issue if you are porting a TensorFlow 1.X model to TensorFlow 2.\n",
            "\n",
            "To change all layers to have dtype float64 by default, call `tf.keras.backend.set_floatx('float64')`. To change just this layer, pass dtype='float64' to the layer constructor. If you are the author of this layer, you can disable autocasting by passing autocast=False to the base Layer constructor.\n",
            "\n"
          ],
          "name": "stdout"
        },
        {
          "output_type": "stream",
          "text": [
            "WARNING:tensorflow:Layer encoder_4 is casting an input tensor from dtype float64 to the layer's dtype of float32, which is new behavior in TensorFlow 2.  The layer has dtype float32 because its dtype defaults to floatx.\n",
            "\n",
            "If you intended to run this layer in float32, you can safely ignore this warning. If in doubt, this warning is likely only an issue if you are porting a TensorFlow 1.X model to TensorFlow 2.\n",
            "\n",
            "To change all layers to have dtype float64 by default, call `tf.keras.backend.set_floatx('float64')`. To change just this layer, pass dtype='float64' to the layer constructor. If you are the author of this layer, you can disable autocasting by passing autocast=False to the base Layer constructor.\n",
            "\n"
          ],
          "name": "stderr"
        },
        {
          "output_type": "stream",
          "text": [
            "Encoder output shape: (batch size, sequence length, units) (32, 26, 1024)\n",
            "Encoder hidden state shape: (batch size, units) (32, 1024)\n",
            "Encoder cell state shape: (batch size, units) (32, 1024)\n"
          ],
          "name": "stdout"
        }
      ]
    },
    {
      "cell_type": "code",
      "metadata": {
        "colab_type": "code",
        "id": "RrtV7vD-XEIG",
        "colab": {
          "base_uri": "https://localhost:8080/",
          "height": 585
        },
        "outputId": "dd0354fd-a6ff-40ba-955b-9d4adc29c9af"
      },
      "source": [
        "encoder.summary()"
      ],
      "execution_count": null,
      "outputs": [
        {
          "output_type": "stream",
          "text": [
            "Model: \"encoder_2\"\n",
            "_________________________________________________________________\n",
            "Layer (type)                 Output Shape              Param #   \n",
            "=================================================================\n",
            "embedding_5 (Embedding)      multiple                  8872800   \n",
            "_________________________________________________________________\n",
            "embedding_6 (Embedding)      multiple                  8872800   \n",
            "_________________________________________________________________\n",
            "lstm_5 (LSTM)                multiple                  5427200   \n",
            "_________________________________________________________________\n",
            "lstm_6 (LSTM)                multiple                  5427200   \n",
            "_________________________________________________________________\n",
            "dense_13 (Dense)             multiple                  524800    \n",
            "_________________________________________________________________\n",
            "dense_14 (Dense)             multiple                  524800    \n",
            "_________________________________________________________________\n",
            "dense_15 (Dense)             multiple                  524800    \n",
            "_________________________________________________________________\n",
            "dense_16 (Dense)             multiple                  524800    \n",
            "_________________________________________________________________\n",
            "conv2d_2 (Conv2D)            multiple                  896       \n",
            "_________________________________________________________________\n",
            "flatten_2 (Flatten)          multiple                  0         \n",
            "_________________________________________________________________\n",
            "dense_17 (Dense)             multiple                  52429824  \n",
            "_________________________________________________________________\n",
            "dense_18 (Dense)             multiple                  2048      \n",
            "=================================================================\n",
            "Total params: 83,131,968\n",
            "Trainable params: 65,386,368\n",
            "Non-trainable params: 17,745,600\n",
            "_________________________________________________________________\n"
          ],
          "name": "stdout"
        }
      ]
    },
    {
      "cell_type": "code",
      "metadata": {
        "colab_type": "code",
        "id": "CV7dsjX3XEIH",
        "colab": {
          "base_uri": "https://localhost:8080/"
        },
        "outputId": "7a080c59-0329-462a-fb37-e43f85a964f1"
      },
      "source": [
        "decoder = Decoder(qa_vocab_size, embedding_dim, units, BATCH_SIZE)\n",
        "\n",
        "sample_decoder_output, _, _ = decoder([tf.random.uniform((BATCH_SIZE, 1)),\n",
        "                                      sample_hidden, sample_output])\n",
        "\n",
        "print ('Decoder output shape: (batch_size, vocab size) {}'.format(sample_decoder_output.shape))"
      ],
      "execution_count": null,
      "outputs": [
        {
          "output_type": "stream",
          "text": [
            "Decoder output shape: (batch_size, vocab size) (32, 29576)\n"
          ],
          "name": "stdout"
        }
      ]
    },
    {
      "cell_type": "code",
      "metadata": {
        "colab_type": "code",
        "id": "JyOnb5bGXEII",
        "colab": {
          "base_uri": "https://localhost:8080/",
          "height": 372
        },
        "outputId": "d143af53-027b-4e65-ddce-506c7eb71101"
      },
      "source": [
        "decoder.summary()"
      ],
      "execution_count": null,
      "outputs": [
        {
          "output_type": "stream",
          "text": [
            "Model: \"decoder_1\"\n",
            "_________________________________________________________________\n",
            "Layer (type)                 Output Shape              Param #   \n",
            "=================================================================\n",
            "embedding_7 (Embedding)      multiple                  8872800   \n",
            "_________________________________________________________________\n",
            "lstm_7 (LSTM)                multiple                  9621504   \n",
            "_________________________________________________________________\n",
            "dense_19 (Dense)             multiple                  30315400  \n",
            "_________________________________________________________________\n",
            "additive_attention (Additive multiple                  1024      \n",
            "_________________________________________________________________\n",
            "custom_masking_layer (Custom multiple                  0         \n",
            "_________________________________________________________________\n",
            "custom_masking_layer_1 (Cust multiple                  0         \n",
            "=================================================================\n",
            "Total params: 48,810,728\n",
            "Trainable params: 39,937,928\n",
            "Non-trainable params: 8,872,800\n",
            "_________________________________________________________________\n"
          ],
          "name": "stdout"
        }
      ]
    },
    {
      "cell_type": "markdown",
      "metadata": {
        "colab_type": "text",
        "id": "qS5RIeZ1XEIK"
      },
      "source": [
        "###### 6.3.2.2. tf.keras.layers.Masking Layer"
      ]
    },
    {
      "cell_type": "code",
      "metadata": {
        "colab_type": "code",
        "id": "0SgZsmkmXEIK",
        "colab": {}
      },
      "source": [
        "class Encoder(tf.keras.Model):\n",
        "    def __init__(self, vocab_size, embedding_dim, enc_units, batch_sz):\n",
        "        super(Encoder, self).__init__()\n",
        "        self.batch_sz = batch_sz\n",
        "        self.enc_units = enc_units\n",
        "        self.embedding_ques = tf.keras.layers.Embedding(vocab_size, embedding_dim, \n",
        "                                                        input_length=max_ques_length, \n",
        "                                                        weights=[embedding_matrix], \n",
        "                                                        trainable=False, mask_zero=True)\n",
        "        self.embedding_title = tf.keras.layers.Embedding(vocab_size, embedding_dim, \n",
        "                                                         input_length=max_title_length, \n",
        "                                                         weights=[embedding_matrix], \n",
        "                                                         trainable=False, mask_zero=True)\n",
        "        \n",
        "        self.lstm_ques = tf.keras.layers.LSTM(self.enc_units,\n",
        "                                   return_sequences=True,\n",
        "                                   return_state=True)\n",
        "        self.lstm_title = tf.keras.layers.LSTM(self.enc_units,\n",
        "                                   return_sequences=True,\n",
        "                                   return_state=True)\n",
        "        \n",
        "        self.dense_state_h_ques = tf.keras.layers.Dense(int(self.enc_units/2))\n",
        "        self.dense_state_h_title = tf.keras.layers.Dense(int(self.enc_units/2))\n",
        "        self.dense_state_c_ques = tf.keras.layers.Dense(int(self.enc_units/2))\n",
        "        self.dense_state_c_title = tf.keras.layers.Dense(int(self.enc_units/2))\n",
        "\n",
        "        self.conv2d_image = tf.keras.layers.Conv2D(32, (3, 3), \n",
        "                                    activation = 'relu',\n",
        "                                    kernel_initializer = tf.keras.initializers.HeNormal(seed=SEED),\n",
        "                                    padding = 'same')\n",
        "        self.flatten_image = tf.keras.layers.Flatten()\n",
        "        self.dense_image = tf.keras.layers.Dense(self.enc_units)\n",
        "\n",
        "        self.dense_price = tf.keras.layers.Dense(self.enc_units)\n",
        "        \n",
        "    def call(self, x):   \n",
        "        question, title, price, image, hidden = x[0], x[1], x[2], x[3], x[4]\n",
        "        # question shape == (batch_size, max_ques_length)\n",
        "        # title shape == (batch_size, max_title_length)\n",
        "        # price shape == (batch_size, 1)\n",
        "        # image shape == (batch_size, img_width, img_height, channels)\n",
        "\n",
        "        question_e = self.embedding_ques(question)\n",
        "        # question_e shape == (batch_size, max_ques_length, embedding_dim)\n",
        "        question_mask = self.embedding_ques.compute_mask(question)\n",
        "        # question_mask shape == (batch_size, max_ques_length)\n",
        "        output_ques, state_h_ques, state_c_ques = self.lstm_ques(question_e, initial_state = hidden, mask=question_mask)\n",
        "        # output_ques shape == (batch_size, max_ques_length, enc_units)\n",
        "        # state_h_ques shape == (batch_size, enc_units)\n",
        "        # state_c_ques shape == (batch_size, enc_units)\n",
        "\n",
        "        title_e = self.embedding_title(title)\n",
        "        # title_e shape == (batch_size, max_title_length, embedding_dim)\n",
        "        title_mask = self.embedding_title.compute_mask(title)\n",
        "        # title_mask shape == (batch_size, max_title_length)\n",
        "        output_title, state_h_title, state_c_title = self.lstm_title(title_e, initial_state = hidden, mask=title_mask)\n",
        "        # output_title shape == (batch_size, max_title_length, enc_units)\n",
        "        # state_h_title shape == (batch_size, enc_units)\n",
        "        # state_c_title shape == (batch_size, enc_units)\n",
        "\n",
        "        price = self.dense_price(price)\n",
        "        # price shape == (batch_size, enc_units)\n",
        "\n",
        "        image = self.conv2d_image(image)\n",
        "        # image shape ==  (batch_size, img_width, img_height, filters=32)\n",
        "        image = self.flatten_image(image)\n",
        "        # image shape == (batch_size, 51200)\n",
        "        image = self.dense_image(image)\n",
        "        # image shape == (batch_size, enc_units)\n",
        "        \n",
        "        output = tf.concat([output_ques, output_title], axis=1)\n",
        "        # output shape == (batch_size, max_ques_length + max_title_length, enc_units)\n",
        "        output = tf.concat([tf.expand_dims(price, 1), output], axis=1)\n",
        "        # output shape == (batch_size, max_ques_length + max_title_length + 1, enc_units)\n",
        "        output = tf.concat([tf.expand_dims(image, 1), output], axis=1)\n",
        "        # output shape == (batch_size, max_ques_length + max_title_length + 1 + 1, enc_units)\n",
        "\n",
        "        state_h_ques = self.dense_state_h_ques(state_h_ques)\n",
        "        # state_h_ques shape == (batch_size, int(enc_units/2))\n",
        "        state_h_title = self.dense_state_h_title(state_h_title)\n",
        "        # state_h_title shape == (batch_size, int(enc_units/2))\n",
        "        state_h = tf.concat([state_h_ques, state_h_title], axis=-1)\n",
        "        # state_h shape == (batch_size, enc_units)\n",
        "\n",
        "        state_c_ques = self.dense_state_c_ques(state_c_ques)\n",
        "        # state_c_ques shape == (batch_size, int(enc_units/2))\n",
        "        state_c_title = self.dense_state_c_title(state_c_title)\n",
        "        # state_c_title shape == (batch_size, int(enc_units/2))\n",
        "        state_c = tf.concat([state_c_ques, state_c_title], axis=-1)\n",
        "        # state_c shape == (batch_size, enc_units + enc_units)\n",
        "\n",
        "        return output, state_h, state_c\n",
        "\n",
        "\n",
        "    def initialize_hidden_state(self):\n",
        "        return (tf.zeros((self.batch_sz, self.enc_units)),\n",
        "                tf.zeros((self.batch_sz, self.enc_units)))\n",
        "\n",
        "class Decoder(tf.keras.Model):\n",
        "    def __init__(self, vocab_size, embedding_dim, dec_units, batch_sz):\n",
        "        super(Decoder, self).__init__()\n",
        "        self.batch_sz = batch_sz\n",
        "        self.dec_units = dec_units\n",
        "        self.embedding = tf.keras.layers.Embedding(vocab_size, embedding_dim, \n",
        "                                                   input_length=max_ans_length, \n",
        "                                                   weights=[embedding_matrix], \n",
        "                                                   trainable=False, mask_zero=True)\n",
        "        \n",
        "        self.lstm = tf.keras.layers.LSTM(self.dec_units,\n",
        "                                   return_sequences=True,\n",
        "                                   return_state=True)\n",
        "        self.fc = tf.keras.layers.Dense(vocab_size)\n",
        "        self.attention = tf.keras.layers.AdditiveAttention()\n",
        "\n",
        "        self.masking_hidden = tf.keras.layers.Masking()\n",
        "        self.masking_enc_output = tf.keras.layers.Masking()\n",
        "        \n",
        "    def call(self, y):\n",
        "        inputs, hidden, enc_output = y[0], y[1], y[2]\n",
        "        # inputs shape == (batch_size, 1)\n",
        "        # hidden shape == tuple of two (batch_size, enc_units)\n",
        "        # enc_output shape == (batch_size, max_ques_length, enc_units)\n",
        "\n",
        "        hidden_with_time_axis = tf.expand_dims(hidden[0], 1)\n",
        "        # hidden_with_time_axis shape == (batch_size, 1, enc_units)\n",
        "        \n",
        "        hidden_with_time_axis_mask = self.masking_hidden(hidden_with_time_axis)\n",
        "        # hidden_with_time_axis_mask._keras_mask shape == (batch_size, 1)\n",
        "        \n",
        "        enc_output_mask = self.masking_enc_output(enc_output)\n",
        "        # enc_output_mask._keras_mask shape == (batch_size, max_ques_length)\n",
        "        \n",
        "        context_vector = self.attention(inputs=[hidden_with_time_axis, enc_output],\n",
        "                                        mask=[hidden_with_time_axis_mask._keras_mask, enc_output_mask._keras_mask])\n",
        "        # context_vector shape == (batch_size, 1, enc_units)\n",
        "\n",
        "        \n",
        "        # x shape after passing through embedding == (batch_size, 1, embedding_dim)\n",
        "        x = self.embedding(inputs)\n",
        "\n",
        "        mask = self.embedding.compute_mask(inputs)\n",
        "        # mask shape == (batch_size, 1)\n",
        "\n",
        "        # x shape after concatenation == (batch_size, 1, embedding_dim + hidden_size)\n",
        "        x = tf.concat([context_vector, x], axis=-1)\n",
        "        \n",
        "        # passing the concatenated vector to the LSTM\n",
        "        output, state_h, state_c = self.lstm(x, initial_state=hidden, mask=mask)\n",
        "        # output shape == (batch_size, 1, dec_units)\n",
        "        # state_h shape == (batch_size, dec_units)\n",
        "        # state_c shape == (batch_size, dec_units)\n",
        " \n",
        "        output = tf.reshape(output, (-1, output.shape[2]))\n",
        "        # output shape == (batch_size * 1, dec_units)\n",
        "        \n",
        "        x = self.fc(output)\n",
        "        # output shape == (batch_size, vocab)\n",
        "        \n",
        "        return x, state_h, state_c\n",
        "\n",
        "    def initialize_hidden_state(self):\n",
        "        return (tf.zeros((self.batch_sz, self.dec_units)),\n",
        "                tf.zeros((self.batch_sz, self.dec_units)))"
      ],
      "execution_count": null,
      "outputs": []
    },
    {
      "cell_type": "code",
      "metadata": {
        "colab_type": "code",
        "id": "4ij2_M-uXEIL",
        "colab": {
          "base_uri": "https://localhost:8080/",
          "height": 183
        },
        "outputId": "dd3a5ff2-8c75-453b-97f6-d1121579d35b"
      },
      "source": [
        "encoder = Encoder(qa_vocab_size, embedding_dim, units, BATCH_SIZE)\n",
        "\n",
        "# sample input\n",
        "sample_hidden = encoder.initialize_hidden_state()\n",
        "sample_output, sample_state_hidden, sample_state_cell = encoder([example_input_ques_batch, example_input_title_batch, example_input_price_batch, example_input_image_batch, sample_hidden])\n",
        "print ('Encoder output shape: (batch size, sequence length, units) {}'.format(sample_output.shape))\n",
        "print ('Encoder hidden state shape: (batch size, units) {}'.format(sample_state_hidden.shape))\n",
        "print ('Encoder cell state shape: (batch size, units) {}'.format(sample_state_cell.shape))"
      ],
      "execution_count": null,
      "outputs": [
        {
          "output_type": "stream",
          "text": [
            "WARNING:tensorflow:Layer encoder_4 is casting an input tensor from dtype float64 to the layer's dtype of float32, which is new behavior in TensorFlow 2.  The layer has dtype float32 because its dtype defaults to floatx.\n",
            "\n",
            "If you intended to run this layer in float32, you can safely ignore this warning. If in doubt, this warning is likely only an issue if you are porting a TensorFlow 1.X model to TensorFlow 2.\n",
            "\n",
            "To change all layers to have dtype float64 by default, call `tf.keras.backend.set_floatx('float64')`. To change just this layer, pass dtype='float64' to the layer constructor. If you are the author of this layer, you can disable autocasting by passing autocast=False to the base Layer constructor.\n",
            "\n",
            "Encoder output shape: (batch size, sequence length, units) (32, 26, 1024)\n",
            "Encoder hidden state shape: (batch size, units) (32, 1024)\n",
            "Encoder cell state shape: (batch size, units) (32, 1024)\n"
          ],
          "name": "stdout"
        }
      ]
    },
    {
      "cell_type": "code",
      "metadata": {
        "colab_type": "code",
        "id": "zN3p0Ls9XEIN",
        "colab": {
          "base_uri": "https://localhost:8080/",
          "height": 537
        },
        "outputId": "4d395281-7a5d-4a54-b115-9aa41a53a8f8"
      },
      "source": [
        "encoder.summary()"
      ],
      "execution_count": null,
      "outputs": [
        {
          "output_type": "stream",
          "text": [
            "Model: \"encoder_4\"\n",
            "_________________________________________________________________\n",
            "Layer (type)                 Output Shape              Param #   \n",
            "=================================================================\n",
            "embedding_12 (Embedding)     multiple                  8872800   \n",
            "_________________________________________________________________\n",
            "embedding_13 (Embedding)     multiple                  8872800   \n",
            "_________________________________________________________________\n",
            "lstm_12 (LSTM)               multiple                  5427200   \n",
            "_________________________________________________________________\n",
            "lstm_13 (LSTM)               multiple                  5427200   \n",
            "_________________________________________________________________\n",
            "dense_28 (Dense)             multiple                  524800    \n",
            "_________________________________________________________________\n",
            "dense_29 (Dense)             multiple                  524800    \n",
            "_________________________________________________________________\n",
            "dense_30 (Dense)             multiple                  524800    \n",
            "_________________________________________________________________\n",
            "dense_31 (Dense)             multiple                  524800    \n",
            "_________________________________________________________________\n",
            "conv2d_4 (Conv2D)            multiple                  896       \n",
            "_________________________________________________________________\n",
            "flatten_4 (Flatten)          multiple                  0         \n",
            "_________________________________________________________________\n",
            "dense_32 (Dense)             multiple                  52429824  \n",
            "_________________________________________________________________\n",
            "dense_33 (Dense)             multiple                  2048      \n",
            "=================================================================\n",
            "Total params: 83,131,968\n",
            "Trainable params: 65,386,368\n",
            "Non-trainable params: 17,745,600\n",
            "_________________________________________________________________\n"
          ],
          "name": "stdout"
        }
      ]
    },
    {
      "cell_type": "code",
      "metadata": {
        "colab_type": "code",
        "id": "EbkhTnWlXEIO",
        "colab": {
          "base_uri": "https://localhost:8080/",
          "height": 33
        },
        "outputId": "3f8e3bc6-6b60-46a0-ce0b-cd6bb28c53b9"
      },
      "source": [
        "decoder = Decoder(qa_vocab_size, embedding_dim, units, BATCH_SIZE)\n",
        "\n",
        "sample_decoder_output, _, _ = decoder([tf.random.uniform((BATCH_SIZE, 1)),\n",
        "                                      sample_hidden, sample_output])\n",
        "\n",
        "print ('Decoder output shape: (batch_size, vocab size) {}'.format(sample_decoder_output.shape))"
      ],
      "execution_count": null,
      "outputs": [
        {
          "output_type": "stream",
          "text": [
            "Decoder output shape: (batch_size, vocab size) (32, 29576)\n"
          ],
          "name": "stdout"
        }
      ]
    },
    {
      "cell_type": "code",
      "metadata": {
        "colab_type": "code",
        "id": "tdpp_RIFXEIP",
        "colab": {
          "base_uri": "https://localhost:8080/",
          "height": 342
        },
        "outputId": "70e2689e-823a-4843-d27f-a57c1bc80700"
      },
      "source": [
        "decoder.summary()"
      ],
      "execution_count": null,
      "outputs": [
        {
          "output_type": "stream",
          "text": [
            "Model: \"decoder_4\"\n",
            "_________________________________________________________________\n",
            "Layer (type)                 Output Shape              Param #   \n",
            "=================================================================\n",
            "embedding_14 (Embedding)     multiple                  8872800   \n",
            "_________________________________________________________________\n",
            "lstm_14 (LSTM)               multiple                  9621504   \n",
            "_________________________________________________________________\n",
            "dense_34 (Dense)             multiple                  30315400  \n",
            "_________________________________________________________________\n",
            "additive_attention_4 (Additi multiple                  1024      \n",
            "_________________________________________________________________\n",
            "masking_8 (Masking)          multiple                  0         \n",
            "_________________________________________________________________\n",
            "masking_9 (Masking)          multiple                  0         \n",
            "=================================================================\n",
            "Total params: 48,810,728\n",
            "Trainable params: 39,937,928\n",
            "Non-trainable params: 8,872,800\n",
            "_________________________________________________________________\n"
          ],
          "name": "stdout"
        }
      ]
    },
    {
      "cell_type": "markdown",
      "metadata": {
        "colab_type": "text",
        "id": "aEGCAcrlXEIP"
      },
      "source": [
        "##### 6.3.3. Define the optimizer and the loss function"
      ]
    },
    {
      "cell_type": "markdown",
      "metadata": {
        "colab_type": "text",
        "id": "JvHZgnExXEIQ"
      },
      "source": [
        "###### 6.3.3.1. Custom Masking Layer"
      ]
    },
    {
      "cell_type": "code",
      "metadata": {
        "colab_type": "code",
        "id": "rilkyWA0XEIQ",
        "colab": {}
      },
      "source": [
        "optimizer = tf.keras.optimizers.Adam()\n",
        "loss_object = tf.keras.losses.SparseCategoricalCrossentropy(\n",
        "    from_logits=True, reduction='none')\n",
        "\n",
        "def loss_function(real, pred):\n",
        "  mask = tf.math.logical_not(tf.math.equal(real, 0))\n",
        "  loss_ = loss_object(real, pred)\n",
        "\n",
        "  mask = tf.cast(mask, dtype=loss_.dtype)\n",
        "  loss_ *= mask\n",
        "  return tf.reduce_sum(loss_)/tf.reduce_sum(mask)"
      ],
      "execution_count": null,
      "outputs": []
    },
    {
      "cell_type": "markdown",
      "metadata": {
        "colab_type": "text",
        "id": "Z9cIHjkZXEIR"
      },
      "source": [
        "###### 6.3.3.2. tf.keras.layers.Masking Layer"
      ]
    },
    {
      "cell_type": "code",
      "metadata": {
        "colab_type": "code",
        "id": "eVW8VfxPXEIR",
        "colab": {}
      },
      "source": [
        "optimizer = tf.keras.optimizers.Adam()\n",
        "loss_object = tf.keras.losses.SparseCategoricalCrossentropy(\n",
        "    from_logits=True, reduction='none')\n",
        "\n",
        "def loss_function(real, pred):\n",
        "  mask = tf.math.logical_not(tf.math.equal(real, 0))\n",
        "  loss_ = loss_object(real, pred)\n",
        "\n",
        "  mask = tf.cast(mask, dtype=loss_.dtype)\n",
        "  loss_ *= mask\n",
        "  return tf.reduce_sum(loss_)/tf.reduce_sum(mask)"
      ],
      "execution_count": null,
      "outputs": []
    },
    {
      "cell_type": "markdown",
      "metadata": {
        "colab_type": "text",
        "id": "dYvarATEXEIS"
      },
      "source": [
        "##### 6.3.4. Checkpoints (Object-based saving)"
      ]
    },
    {
      "cell_type": "markdown",
      "metadata": {
        "colab_type": "text",
        "id": "1NaK6B-vXEIS"
      },
      "source": [
        "###### 6.3.4.1. Custom Masking Layer"
      ]
    },
    {
      "cell_type": "code",
      "metadata": {
        "colab_type": "code",
        "id": "xDBE4irwXEIS",
        "colab": {}
      },
      "source": [
        "checkpoint_dir = './attention_one_checkpoints'\n",
        "checkpoint_prefix = os.path.join(checkpoint_dir, \"ckpt\")\n",
        "checkpoint = tf.train.Checkpoint(optimizer=optimizer,\n",
        "                                 encoder=encoder,\n",
        "                                 decoder=decoder)"
      ],
      "execution_count": null,
      "outputs": []
    },
    {
      "cell_type": "markdown",
      "metadata": {
        "colab_type": "text",
        "id": "nr0uLniyXEIU"
      },
      "source": [
        "###### 6.3.4.2. tf.keras.layers.Masking Layer"
      ]
    },
    {
      "cell_type": "code",
      "metadata": {
        "colab_type": "code",
        "id": "XGUk9t0xXEIV",
        "colab": {}
      },
      "source": [
        "checkpoint_dir = './attention_two_checkpoints'\n",
        "checkpoint_prefix = os.path.join(checkpoint_dir, \"ckpt\")\n",
        "checkpoint = tf.train.Checkpoint(optimizer=optimizer,\n",
        "                                 encoder=encoder,\n",
        "                                 decoder=decoder)"
      ],
      "execution_count": null,
      "outputs": []
    },
    {
      "cell_type": "markdown",
      "metadata": {
        "colab_type": "text",
        "id": "SqI1rGBrXEIV"
      },
      "source": [
        "##### 6.3.5. Setup TensorBoard logging"
      ]
    },
    {
      "cell_type": "code",
      "metadata": {
        "colab_type": "code",
        "id": "bvp6AH7yXEIW",
        "colab": {}
      },
      "source": [
        "if not os.path.exists('logs'):\n",
        "  os.makedirs('logs')"
      ],
      "execution_count": null,
      "outputs": []
    },
    {
      "cell_type": "markdown",
      "metadata": {
        "colab_type": "text",
        "id": "5djXYuKMXEIX"
      },
      "source": [
        "###### 6.3.5.1. Custom Masking Layer"
      ]
    },
    {
      "cell_type": "code",
      "metadata": {
        "colab_type": "code",
        "id": "hKS6Q0-VXEIX",
        "colab": {}
      },
      "source": [
        "current_time = datetime.now().strftime(\"%Y%m%d-%H%M%S\")\n",
        "log_dir = 'logs/gradient_tape/' + current_time + '/attention_one'\n",
        "summary_writer = tf.summary.create_file_writer(log_dir)"
      ],
      "execution_count": null,
      "outputs": []
    },
    {
      "cell_type": "markdown",
      "metadata": {
        "colab_type": "text",
        "id": "XNy0JVEhXEIX"
      },
      "source": [
        "###### 6.3.5.2. tf.keras.layers.Masking Layer"
      ]
    },
    {
      "cell_type": "code",
      "metadata": {
        "colab_type": "code",
        "id": "NjmaJACBXEIY",
        "colab": {}
      },
      "source": [
        "current_time = datetime.now().strftime(\"%Y%m%d-%H%M%S\")\n",
        "log_dir = 'logs/gradient_tape/' + current_time + '/attention_two'\n",
        "summary_writer = tf.summary.create_file_writer(log_dir)"
      ],
      "execution_count": null,
      "outputs": []
    },
    {
      "cell_type": "markdown",
      "metadata": {
        "colab_type": "text",
        "id": "1gO0mAYNXEIY"
      },
      "source": [
        "##### 6.3.6. Training\n"
      ]
    },
    {
      "cell_type": "code",
      "metadata": {
        "colab_type": "code",
        "id": "NFMJNqf6XEIZ",
        "colab": {}
      },
      "source": [
        "EPOCHS = 10"
      ],
      "execution_count": null,
      "outputs": []
    },
    {
      "cell_type": "code",
      "metadata": {
        "colab_type": "code",
        "id": "DqQzxEKBXEIZ",
        "colab": {}
      },
      "source": [
        "# train function is defined in 6.1.6."
      ],
      "execution_count": null,
      "outputs": []
    },
    {
      "cell_type": "markdown",
      "metadata": {
        "colab_type": "text",
        "id": "VUbT-XL2XEIb"
      },
      "source": [
        "###### 6.3.6.1. Custom Masking Layer"
      ]
    },
    {
      "cell_type": "code",
      "metadata": {
        "colab_type": "code",
        "id": "-8O_MpnyXEIb",
        "colab": {}
      },
      "source": [
        "@tf.function\n",
        "def train_step(inp_ques, inp_title, inp_price, inp_img, targ, enc_hidden):\n",
        "  loss = 0\n",
        "\n",
        "  with tf.GradientTape() as tape:\n",
        "    enc_outputs = encoder([inp_ques, inp_title, inp_price, inp_img, enc_hidden])\n",
        "\n",
        "    enc_output = enc_outputs[0]\n",
        "\n",
        "    enc_states = enc_outputs[1:]\n",
        "\n",
        "    dec_state_h, dec_state_c = enc_states\n",
        "\n",
        "    dec_input = tf.expand_dims([word2id['<start>']] * BATCH_SIZE, 1)\n",
        "\n",
        "    # Teacher forcing - feeding the target as the next input\n",
        "    for t in range(1, targ.shape[1]):\n",
        "      # passing enc_output to the decoder\n",
        "      predictions, dec_state_h, dec_state_c = \\\n",
        "                      decoder([dec_input, (dec_state_h, dec_state_c), enc_output])\n",
        "\n",
        "      loss += loss_function(targ[:, t], predictions)\n",
        "\n",
        "      # using teacher forcing\n",
        "      dec_input = tf.expand_dims(targ[:, t], 1)\n",
        "\n",
        "  batch_loss = (loss / int(targ.shape[1]))\n",
        "\n",
        "  variables = encoder.trainable_variables + decoder.trainable_variables\n",
        "\n",
        "  gradients = tape.gradient(loss, variables)\n",
        "\n",
        "  optimizer.apply_gradients(zip(gradients, variables))\n",
        "\n",
        "  return batch_loss"
      ],
      "execution_count": null,
      "outputs": []
    },
    {
      "cell_type": "code",
      "metadata": {
        "colab_type": "code",
        "id": "VZVXLpfTXEIc",
        "colab": {
          "base_uri": "https://localhost:8080/",
          "height": 1000
        },
        "outputId": "aa4c7160-b8b6-4164-d2db-458d0d809395"
      },
      "source": [
        "start_time = timer()\n",
        "loss_train, loss_val = train(EPOCHS)\n",
        "timer(start_time)"
      ],
      "execution_count": null,
      "outputs": [
        {
          "output_type": "stream",
          "text": [
            "----- Training -----\n",
            "Epoch 1 Batch 0 Loss 8.2365\n",
            "Epoch 1 Batch 100 Loss 3.7968\n",
            "Epoch 1 Batch 200 Loss 2.6993\n",
            "Epoch 1 Batch 300 Loss 2.3093\n",
            "Epoch 1 Batch 400 Loss 2.0397\n",
            "Epoch 1 Batch 500 Loss 2.3020\n",
            "Epoch 1 Batch 600 Loss 2.7019\n",
            "Epoch 1 Batch 700 Loss 2.3192\n",
            "Epoch 1 Loss 2.7537\n",
            "Time taken: 0 hours 1 minutes and 6.56 seconds.\n",
            "----- Validation -----\n",
            "Epoch 1 Batch 0 Val-Loss 2.4931\n",
            "Epoch 1 Batch 40 Val-Loss 2.0495\n",
            "Epoch 1 Batch 80 Val-Loss 2.4234\n",
            "Epoch 1 Batch 120 Val-Loss 1.6168\n",
            "Epoch 1 Batch 160 Val-Loss 2.9156\n",
            "Epoch 1 Val-Loss 2.4049\n",
            "Time taken: 0 hours 0 minutes and 12.91 seconds.\n",
            "----- Training -----\n",
            "Epoch 2 Batch 0 Loss 2.3724\n",
            "Epoch 2 Batch 100 Loss 2.4307\n",
            "Epoch 2 Batch 200 Loss 1.7933\n",
            "Epoch 2 Batch 300 Loss 2.4730\n",
            "Epoch 2 Batch 400 Loss 2.1131\n",
            "Epoch 2 Batch 500 Loss 2.4670\n",
            "Epoch 2 Batch 600 Loss 1.6742\n",
            "Epoch 2 Batch 700 Loss 2.2269\n",
            "Epoch 2 Loss 2.1761\n",
            "Time taken: 0 hours 0 minutes and 51.62 seconds.\n",
            "----- Validation -----\n",
            "Epoch 2 Batch 0 Val-Loss 1.6635\n",
            "Epoch 2 Batch 40 Val-Loss 1.9982\n",
            "Epoch 2 Batch 80 Val-Loss 1.3149\n",
            "Epoch 2 Batch 120 Val-Loss 1.9895\n",
            "Epoch 2 Batch 160 Val-Loss 1.6710\n",
            "Epoch 2 Val-Loss 1.9339\n",
            "Time taken: 0 hours 0 minutes and 12.96 seconds.\n",
            "----- Training -----\n",
            "Epoch 3 Batch 0 Loss 1.7804\n",
            "Epoch 3 Batch 100 Loss 1.5783\n",
            "Epoch 3 Batch 200 Loss 1.9185\n",
            "Epoch 3 Batch 300 Loss 2.2053\n",
            "Epoch 3 Batch 400 Loss 1.6495\n",
            "Epoch 3 Batch 500 Loss 1.4786\n",
            "Epoch 3 Batch 600 Loss 1.6115\n",
            "Epoch 3 Batch 700 Loss 1.6506\n",
            "Epoch 3 Loss 1.8217\n",
            "Time taken: 0 hours 0 minutes and 51.5 seconds.\n",
            "----- Validation -----\n",
            "Epoch 3 Batch 0 Val-Loss 1.9363\n",
            "Epoch 3 Batch 40 Val-Loss 2.1743\n",
            "Epoch 3 Batch 80 Val-Loss 1.4737\n",
            "Epoch 3 Batch 120 Val-Loss 1.8388\n",
            "Epoch 3 Batch 160 Val-Loss 1.8367\n",
            "Epoch 3 Val-Loss 1.6728\n",
            "Time taken: 0 hours 0 minutes and 12.97 seconds.\n",
            "----- Training -----\n",
            "Epoch 4 Batch 0 Loss 1.5872\n",
            "Epoch 4 Batch 100 Loss 1.1602\n",
            "Epoch 4 Batch 200 Loss 1.4475\n",
            "Epoch 4 Batch 300 Loss 1.8795\n",
            "Epoch 4 Batch 400 Loss 1.3864\n",
            "Epoch 4 Batch 500 Loss 1.8108\n",
            "Epoch 4 Batch 600 Loss 1.4078\n",
            "Epoch 4 Batch 700 Loss 1.8611\n",
            "Epoch 4 Loss 1.6639\n",
            "Time taken: 0 hours 0 minutes and 51.44 seconds.\n",
            "----- Validation -----\n",
            "Epoch 4 Batch 0 Val-Loss 1.2702\n",
            "Epoch 4 Batch 40 Val-Loss 1.4436\n",
            "Epoch 4 Batch 80 Val-Loss 1.4690\n",
            "Epoch 4 Batch 120 Val-Loss 1.3376\n",
            "Epoch 4 Batch 160 Val-Loss 1.3582\n",
            "Epoch 4 Val-Loss 1.6088\n",
            "Time taken: 0 hours 0 minutes and 12.94 seconds.\n",
            "----- Training -----\n",
            "Epoch 5 Batch 0 Loss 1.8062\n",
            "Epoch 5 Batch 100 Loss 1.3891\n",
            "Epoch 5 Batch 200 Loss 1.8657\n",
            "Epoch 5 Batch 300 Loss 1.1920\n",
            "Epoch 5 Batch 400 Loss 1.6150\n",
            "Epoch 5 Batch 500 Loss 1.7150\n",
            "Epoch 5 Batch 600 Loss 1.5542\n",
            "Epoch 5 Batch 700 Loss 1.6371\n",
            "Epoch 5 Loss 1.5905\n",
            "Time taken: 0 hours 0 minutes and 51.54 seconds.\n",
            "----- Validation -----\n",
            "Epoch 5 Batch 0 Val-Loss 1.3540\n",
            "Epoch 5 Batch 40 Val-Loss 1.4567\n",
            "Epoch 5 Batch 80 Val-Loss 1.5842\n",
            "Epoch 5 Batch 120 Val-Loss 1.3967\n",
            "Epoch 5 Batch 160 Val-Loss 1.4513\n",
            "Epoch 5 Val-Loss 1.5195\n",
            "Time taken: 0 hours 0 minutes and 12.98 seconds.\n",
            "----- Training -----\n",
            "Epoch 6 Batch 0 Loss 1.6263\n",
            "Epoch 6 Batch 100 Loss 1.5901\n",
            "Epoch 6 Batch 200 Loss 1.4976\n",
            "Epoch 6 Batch 300 Loss 1.5037\n",
            "Epoch 6 Batch 400 Loss 1.5541\n",
            "Epoch 6 Batch 500 Loss 1.8578\n",
            "Epoch 6 Batch 600 Loss 0.9849\n",
            "Epoch 6 Batch 700 Loss 1.5449\n",
            "Epoch 6 Loss 1.4853\n",
            "Time taken: 0 hours 0 minutes and 51.68 seconds.\n",
            "----- Validation -----\n",
            "Epoch 6 Batch 0 Val-Loss 1.5090\n",
            "Epoch 6 Batch 40 Val-Loss 2.0423\n",
            "Epoch 6 Batch 80 Val-Loss 1.2868\n",
            "Epoch 6 Batch 120 Val-Loss 1.2628\n",
            "Epoch 6 Batch 160 Val-Loss 1.5833\n",
            "Epoch 6 Val-Loss 1.4581\n",
            "Time taken: 0 hours 0 minutes and 12.93 seconds.\n",
            "----- Training -----\n",
            "Epoch 7 Batch 0 Loss 1.4338\n",
            "Epoch 7 Batch 100 Loss 1.2986\n",
            "Epoch 7 Batch 200 Loss 1.3801\n",
            "Epoch 7 Batch 300 Loss 1.4151\n",
            "Epoch 7 Batch 400 Loss 1.4874\n",
            "Epoch 7 Batch 500 Loss 1.1057\n",
            "Epoch 7 Batch 600 Loss 1.3234\n",
            "Epoch 7 Batch 700 Loss 1.1610\n",
            "Epoch 7 Loss 1.4230\n",
            "Time taken: 0 hours 0 minutes and 51.52 seconds.\n",
            "----- Validation -----\n",
            "Epoch 7 Batch 0 Val-Loss 1.0057\n",
            "Epoch 7 Batch 40 Val-Loss 0.9714\n",
            "Epoch 7 Batch 80 Val-Loss 1.0776\n",
            "Epoch 7 Batch 120 Val-Loss 1.2184\n",
            "Epoch 7 Batch 160 Val-Loss 1.6917\n",
            "Epoch 7 Val-Loss 1.3788\n",
            "Time taken: 0 hours 0 minutes and 12.9 seconds.\n",
            "----- Training -----\n",
            "Epoch 8 Batch 0 Loss 1.0736\n",
            "Epoch 8 Batch 100 Loss 1.5575\n",
            "Epoch 8 Batch 200 Loss 1.2874\n",
            "Epoch 8 Batch 300 Loss 1.2595\n",
            "Epoch 8 Batch 400 Loss 1.3404\n",
            "Epoch 8 Batch 500 Loss 1.1473\n",
            "Epoch 8 Batch 600 Loss 1.2950\n",
            "Epoch 8 Batch 700 Loss 1.6294\n",
            "Epoch 8 Loss 1.3208\n",
            "Time taken: 0 hours 0 minutes and 51.24 seconds.\n",
            "----- Validation -----\n",
            "Epoch 8 Batch 0 Val-Loss 0.9936\n",
            "Epoch 8 Batch 40 Val-Loss 1.1947\n",
            "Epoch 8 Batch 80 Val-Loss 1.1944\n",
            "Epoch 8 Batch 120 Val-Loss 1.3421\n",
            "Epoch 8 Batch 160 Val-Loss 0.8405\n",
            "Epoch 8 Val-Loss 1.2423\n",
            "Time taken: 0 hours 0 minutes and 12.95 seconds.\n",
            "----- Training -----\n",
            "Epoch 9 Batch 0 Loss 1.4907\n",
            "Epoch 9 Batch 100 Loss 1.2761\n",
            "Epoch 9 Batch 200 Loss 1.3051\n",
            "Epoch 9 Batch 300 Loss 1.0998\n",
            "Epoch 9 Batch 400 Loss 1.6039\n",
            "Epoch 9 Batch 500 Loss 1.2710\n",
            "Epoch 9 Batch 600 Loss 1.2400\n",
            "Epoch 9 Batch 700 Loss 1.2850\n",
            "Epoch 9 Loss 1.1979\n",
            "Time taken: 0 hours 0 minutes and 51.24 seconds.\n",
            "----- Validation -----\n",
            "Epoch 9 Batch 0 Val-Loss 1.1294\n",
            "Epoch 9 Batch 40 Val-Loss 1.1471\n",
            "Epoch 9 Batch 80 Val-Loss 1.0615\n",
            "Epoch 9 Batch 120 Val-Loss 1.0337\n",
            "Epoch 9 Batch 160 Val-Loss 1.2113\n",
            "Epoch 9 Val-Loss 1.1435\n",
            "Time taken: 0 hours 0 minutes and 12.92 seconds.\n",
            "----- Training -----\n",
            "Epoch 10 Batch 0 Loss 1.2833\n",
            "Epoch 10 Batch 100 Loss 1.1644\n",
            "Epoch 10 Batch 200 Loss 1.1078\n",
            "Epoch 10 Batch 300 Loss 1.4734\n",
            "Epoch 10 Batch 400 Loss 0.8685\n",
            "Epoch 10 Batch 500 Loss 1.1567\n",
            "Epoch 10 Batch 600 Loss 0.9228\n",
            "Epoch 10 Batch 700 Loss 1.2381\n",
            "Epoch 10 Loss 1.0962\n",
            "Time taken: 0 hours 0 minutes and 51.39 seconds.\n",
            "----- Validation -----\n",
            "Epoch 10 Batch 0 Val-Loss 1.2790\n",
            "Epoch 10 Batch 40 Val-Loss 1.1556\n",
            "Epoch 10 Batch 80 Val-Loss 1.0256\n",
            "Epoch 10 Batch 120 Val-Loss 0.9063\n",
            "Epoch 10 Batch 160 Val-Loss 0.9990\n",
            "Epoch 10 Val-Loss 1.0513\n",
            "Time taken: 0 hours 0 minutes and 19.32 seconds.\n",
            "Time taken: 0 hours 11 minutes and 5.52 seconds.\n"
          ],
          "name": "stdout"
        }
      ]
    },
    {
      "cell_type": "markdown",
      "metadata": {
        "colab_type": "text",
        "id": "zqy1b-I0XEId"
      },
      "source": [
        "###### 6.3.6.2. tf.keras.layers.Masking Layer"
      ]
    },
    {
      "cell_type": "code",
      "metadata": {
        "colab_type": "code",
        "id": "sWnKvt4xXEIf",
        "colab": {}
      },
      "source": [
        "@tf.function\n",
        "def train_step(inp_ques, inp_title, inp_price, inp_img, targ, enc_hidden):\n",
        "  loss = 0\n",
        "\n",
        "  with tf.GradientTape() as tape:\n",
        "    enc_outputs = encoder([inp_ques, inp_title, inp_price, inp_img, enc_hidden])\n",
        "\n",
        "    enc_output = enc_outputs[0]\n",
        "\n",
        "    enc_states = enc_outputs[1:]\n",
        "\n",
        "    dec_state_h, dec_state_c = enc_states\n",
        "\n",
        "    dec_input = tf.expand_dims([word2id['<start>']] * BATCH_SIZE, 1)\n",
        "\n",
        "    # Teacher forcing - feeding the target as the next input\n",
        "    for t in range(1, targ.shape[1]):\n",
        "      # passing enc_output to the decoder\n",
        "      predictions, dec_state_h, dec_state_c = \\\n",
        "                      decoder([dec_input, (dec_state_h, dec_state_c), enc_output])\n",
        "\n",
        "      loss += loss_function(targ[:, t], predictions)\n",
        "\n",
        "      # using teacher forcing\n",
        "      dec_input = tf.expand_dims(targ[:, t], 1)\n",
        "\n",
        "  batch_loss = (loss / int(targ.shape[1]))\n",
        "\n",
        "  variables = encoder.trainable_variables + decoder.trainable_variables\n",
        "\n",
        "  gradients = tape.gradient(loss, variables)\n",
        "\n",
        "  optimizer.apply_gradients(zip(gradients, variables))\n",
        "\n",
        "  return batch_loss"
      ],
      "execution_count": null,
      "outputs": []
    },
    {
      "cell_type": "code",
      "metadata": {
        "colab_type": "code",
        "id": "g0Dsh_NhXEIg",
        "colab": {
          "base_uri": "https://localhost:8080/",
          "height": 1000
        },
        "outputId": "6e0c3caa-32f8-4c7c-fe5d-b8a386548e83"
      },
      "source": [
        "start_time = timer()\n",
        "loss_train, loss_val = train(EPOCHS)\n",
        "timer(start_time)"
      ],
      "execution_count": null,
      "outputs": [
        {
          "output_type": "stream",
          "text": [
            "----- Training -----\n",
            "Epoch 1 Batch 0 Loss 8.2331\n",
            "Epoch 1 Batch 100 Loss 2.5534\n",
            "Epoch 1 Batch 200 Loss 2.4311\n",
            "Epoch 1 Batch 300 Loss 2.5925\n",
            "Epoch 1 Batch 400 Loss 1.9531\n",
            "Epoch 1 Batch 500 Loss 1.9723\n",
            "Epoch 1 Batch 600 Loss 2.5470\n",
            "Epoch 1 Batch 700 Loss 1.5699\n",
            "Epoch 1 Loss 2.3308\n",
            "Time taken: 0 hours 1 minutes and 7.05 seconds.\n",
            "----- Validation -----\n",
            "Epoch 1 Batch 0 Val-Loss 1.6885\n",
            "Epoch 1 Batch 40 Val-Loss 2.0142\n",
            "Epoch 1 Batch 80 Val-Loss 1.3743\n",
            "Epoch 1 Batch 120 Val-Loss 1.7610\n",
            "Epoch 1 Batch 160 Val-Loss 2.7137\n",
            "Epoch 1 Val-Loss 2.0759\n",
            "Time taken: 0 hours 0 minutes and 12.99 seconds.\n",
            "----- Training -----\n",
            "Epoch 2 Batch 0 Loss 1.6003\n",
            "Epoch 2 Batch 100 Loss 1.6989\n",
            "Epoch 2 Batch 200 Loss 1.7023\n",
            "Epoch 2 Batch 300 Loss 1.6475\n",
            "Epoch 2 Batch 400 Loss 1.6773\n",
            "Epoch 2 Batch 500 Loss 1.8963\n",
            "Epoch 2 Batch 600 Loss 2.0308\n",
            "Epoch 2 Batch 700 Loss 1.5498\n",
            "Epoch 2 Loss 1.8873\n",
            "Time taken: 0 hours 0 minutes and 51.76 seconds.\n",
            "----- Validation -----\n",
            "Epoch 2 Batch 0 Val-Loss 2.3579\n",
            "Epoch 2 Batch 40 Val-Loss 2.2427\n",
            "Epoch 2 Batch 80 Val-Loss 1.8051\n",
            "Epoch 2 Batch 120 Val-Loss 1.4743\n",
            "Epoch 2 Batch 160 Val-Loss 1.4202\n",
            "Epoch 2 Val-Loss 1.8222\n",
            "Time taken: 0 hours 0 minutes and 12.98 seconds.\n",
            "----- Training -----\n",
            "Epoch 3 Batch 0 Loss 1.4915\n",
            "Epoch 3 Batch 100 Loss 1.8035\n",
            "Epoch 3 Batch 200 Loss 1.5442\n",
            "Epoch 3 Batch 300 Loss 1.8812\n",
            "Epoch 3 Batch 400 Loss 1.9782\n",
            "Epoch 3 Batch 500 Loss 1.6008\n",
            "Epoch 3 Batch 600 Loss 1.8514\n",
            "Epoch 3 Batch 700 Loss 1.7945\n",
            "Epoch 3 Loss 1.7616\n",
            "Time taken: 0 hours 0 minutes and 51.64 seconds.\n",
            "----- Validation -----\n",
            "Epoch 3 Batch 0 Val-Loss 1.9013\n",
            "Epoch 3 Batch 40 Val-Loss 0.9772\n",
            "Epoch 3 Batch 80 Val-Loss 1.8359\n",
            "Epoch 3 Batch 120 Val-Loss 1.6282\n",
            "Epoch 3 Batch 160 Val-Loss 1.5897\n",
            "Epoch 3 Val-Loss 1.6821\n",
            "Time taken: 0 hours 0 minutes and 13.09 seconds.\n",
            "----- Training -----\n",
            "Epoch 4 Batch 0 Loss 1.5935\n",
            "Epoch 4 Batch 100 Loss 1.6874\n",
            "Epoch 4 Batch 200 Loss 1.5631\n",
            "Epoch 4 Batch 300 Loss 1.9387\n",
            "Epoch 4 Batch 400 Loss 1.5899\n",
            "Epoch 4 Batch 500 Loss 1.2591\n",
            "Epoch 4 Batch 600 Loss 1.4251\n",
            "Epoch 4 Batch 700 Loss 1.4559\n",
            "Epoch 4 Loss 1.6359\n",
            "Time taken: 0 hours 0 minutes and 51.6 seconds.\n",
            "----- Validation -----\n",
            "Epoch 4 Batch 0 Val-Loss 1.4802\n",
            "Epoch 4 Batch 40 Val-Loss 1.6853\n",
            "Epoch 4 Batch 80 Val-Loss 1.2974\n",
            "Epoch 4 Batch 120 Val-Loss 1.4577\n",
            "Epoch 4 Batch 160 Val-Loss 1.2859\n",
            "Epoch 4 Val-Loss 1.5523\n",
            "Time taken: 0 hours 0 minutes and 12.98 seconds.\n",
            "----- Training -----\n",
            "Epoch 5 Batch 0 Loss 1.2198\n",
            "Epoch 5 Batch 100 Loss 1.8238\n",
            "Epoch 5 Batch 200 Loss 1.2313\n",
            "Epoch 5 Batch 300 Loss 1.7847\n",
            "Epoch 5 Batch 400 Loss 1.5119\n",
            "Epoch 5 Batch 500 Loss 1.3907\n",
            "Epoch 5 Batch 600 Loss 1.2166\n",
            "Epoch 5 Batch 700 Loss 1.5801\n",
            "Epoch 5 Loss 1.5206\n",
            "Time taken: 0 hours 0 minutes and 51.61 seconds.\n",
            "----- Validation -----\n",
            "Epoch 5 Batch 0 Val-Loss 1.2102\n",
            "Epoch 5 Batch 40 Val-Loss 1.3922\n",
            "Epoch 5 Batch 80 Val-Loss 1.5717\n",
            "Epoch 5 Batch 120 Val-Loss 1.3538\n",
            "Epoch 5 Batch 160 Val-Loss 1.2599\n",
            "Epoch 5 Val-Loss 1.4721\n",
            "Time taken: 0 hours 0 minutes and 12.97 seconds.\n",
            "----- Training -----\n",
            "Epoch 6 Batch 0 Loss 1.7021\n",
            "Epoch 6 Batch 100 Loss 1.4339\n",
            "Epoch 6 Batch 200 Loss 1.2946\n",
            "Epoch 6 Batch 300 Loss 1.2449\n",
            "Epoch 6 Batch 400 Loss 1.3036\n",
            "Epoch 6 Batch 500 Loss 1.2426\n",
            "Epoch 6 Batch 600 Loss 1.2358\n",
            "Epoch 6 Batch 700 Loss 1.8791\n",
            "Epoch 6 Loss 1.4411\n",
            "Time taken: 0 hours 0 minutes and 51.72 seconds.\n",
            "----- Validation -----\n",
            "Epoch 6 Batch 0 Val-Loss 1.0779\n",
            "Epoch 6 Batch 40 Val-Loss 1.3574\n",
            "Epoch 6 Batch 80 Val-Loss 1.2332\n",
            "Epoch 6 Batch 120 Val-Loss 1.1174\n",
            "Epoch 6 Batch 160 Val-Loss 1.3224\n",
            "Epoch 6 Val-Loss 1.3687\n",
            "Time taken: 0 hours 0 minutes and 13.05 seconds.\n",
            "----- Training -----\n",
            "Epoch 7 Batch 0 Loss 1.2884\n",
            "Epoch 7 Batch 100 Loss 1.3258\n",
            "Epoch 7 Batch 200 Loss 1.2966\n",
            "Epoch 7 Batch 300 Loss 1.4550\n",
            "Epoch 7 Batch 400 Loss 1.3435\n",
            "Epoch 7 Batch 500 Loss 1.8513\n",
            "Epoch 7 Batch 600 Loss 1.1473\n",
            "Epoch 7 Batch 700 Loss 1.3059\n",
            "Epoch 7 Loss 1.3429\n",
            "Time taken: 0 hours 0 minutes and 51.65 seconds.\n",
            "----- Validation -----\n",
            "Epoch 7 Batch 0 Val-Loss 1.2011\n",
            "Epoch 7 Batch 40 Val-Loss 1.1535\n",
            "Epoch 7 Batch 80 Val-Loss 1.4462\n",
            "Epoch 7 Batch 120 Val-Loss 1.1710\n",
            "Epoch 7 Batch 160 Val-Loss 1.2036\n",
            "Epoch 7 Val-Loss 1.2688\n",
            "Time taken: 0 hours 0 minutes and 13.06 seconds.\n",
            "----- Training -----\n",
            "Epoch 8 Batch 0 Loss 1.3932\n",
            "Epoch 8 Batch 100 Loss 1.0506\n",
            "Epoch 8 Batch 200 Loss 1.2116\n",
            "Epoch 8 Batch 300 Loss 1.2340\n",
            "Epoch 8 Batch 400 Loss 1.0697\n",
            "Epoch 8 Batch 500 Loss 1.2799\n",
            "Epoch 8 Batch 600 Loss 1.1704\n",
            "Epoch 8 Batch 700 Loss 0.9905\n",
            "Epoch 8 Loss 1.2416\n",
            "Time taken: 0 hours 0 minutes and 51.93 seconds.\n",
            "----- Validation -----\n",
            "Epoch 8 Batch 0 Val-Loss 1.3730\n",
            "Epoch 8 Batch 40 Val-Loss 1.5569\n",
            "Epoch 8 Batch 80 Val-Loss 0.8505\n",
            "Epoch 8 Batch 120 Val-Loss 1.1947\n",
            "Epoch 8 Batch 160 Val-Loss 1.1881\n",
            "Epoch 8 Val-Loss 1.1718\n",
            "Time taken: 0 hours 0 minutes and 13.0 seconds.\n",
            "----- Training -----\n",
            "Epoch 9 Batch 0 Loss 1.3639\n",
            "Epoch 9 Batch 100 Loss 1.0872\n",
            "Epoch 9 Batch 200 Loss 1.4541\n",
            "Epoch 9 Batch 300 Loss 1.0274\n",
            "Epoch 9 Batch 400 Loss 0.9783\n",
            "Epoch 9 Batch 500 Loss 0.8596\n",
            "Epoch 9 Batch 600 Loss 1.2993\n",
            "Epoch 9 Batch 700 Loss 1.2406\n",
            "Epoch 9 Loss 1.1421\n",
            "Time taken: 0 hours 0 minutes and 51.72 seconds.\n",
            "----- Validation -----\n",
            "Epoch 9 Batch 0 Val-Loss 1.2248\n",
            "Epoch 9 Batch 40 Val-Loss 1.2135\n",
            "Epoch 9 Batch 80 Val-Loss 0.9844\n",
            "Epoch 9 Batch 120 Val-Loss 0.9428\n",
            "Epoch 9 Batch 160 Val-Loss 0.9804\n",
            "Epoch 9 Val-Loss 1.0941\n",
            "Time taken: 0 hours 0 minutes and 12.97 seconds.\n",
            "----- Training -----\n",
            "Epoch 10 Batch 0 Loss 1.1581\n",
            "Epoch 10 Batch 100 Loss 0.7765\n",
            "Epoch 10 Batch 200 Loss 1.1599\n",
            "Epoch 10 Batch 300 Loss 1.1204\n",
            "Epoch 10 Batch 400 Loss 0.9357\n",
            "Epoch 10 Batch 500 Loss 1.3387\n",
            "Epoch 10 Batch 600 Loss 1.1674\n",
            "Epoch 10 Batch 700 Loss 1.0933\n",
            "Epoch 10 Loss 1.0726\n",
            "Time taken: 0 hours 0 minutes and 51.68 seconds.\n",
            "----- Validation -----\n",
            "Epoch 10 Batch 0 Val-Loss 1.1848\n",
            "Epoch 10 Batch 40 Val-Loss 1.0809\n",
            "Epoch 10 Batch 80 Val-Loss 1.1914\n",
            "Epoch 10 Batch 120 Val-Loss 0.9671\n",
            "Epoch 10 Batch 160 Val-Loss 1.0185\n",
            "Epoch 10 Val-Loss 1.0672\n",
            "Time taken: 0 hours 0 minutes and 19.28 seconds.\n",
            "Time taken: 0 hours 11 minutes and 8.73 seconds.\n"
          ],
          "name": "stdout"
        }
      ]
    },
    {
      "cell_type": "markdown",
      "metadata": {
        "colab_type": "text",
        "id": "bC-mDpUpXEIh"
      },
      "source": [
        "##### 6.3.7. Save the model"
      ]
    },
    {
      "cell_type": "markdown",
      "metadata": {
        "colab_type": "text",
        "id": "KOU2KlokXEIh"
      },
      "source": [
        "###### 6.3.7.1. Custom Masking Layer"
      ]
    },
    {
      "cell_type": "code",
      "metadata": {
        "colab_type": "code",
        "id": "0kQnmWFLXEIh",
        "colab": {}
      },
      "source": [
        "encoder.save_weights('attention_one_encoder_weights.h5')\n",
        "decoder.save_weights('attention_one_decoder_weights.h5')"
      ],
      "execution_count": null,
      "outputs": []
    },
    {
      "cell_type": "code",
      "metadata": {
        "colab_type": "code",
        "id": "YM1ZKI_OXEIi",
        "colab": {
          "base_uri": "https://localhost:8080/"
        },
        "outputId": "a766fbef-1af5-4f48-b78e-f031ca9a7bc8"
      },
      "source": [
        "!tar cvzf attention_one_checkpoints.tar.gz ./attention_one_checkpoints/checkpoint ./attention_one_checkpoints/ckpt-1.data-00000-of-00001 ./attention_one_checkpoints/ckpt-1.index ./attention_one_encoder_weights.h5 ./attention_one_decoder_weights.h5"
      ],
      "execution_count": null,
      "outputs": [
        {
          "output_type": "stream",
          "text": [
            "./attention_one_checkpoints/checkpoint\n",
            "./attention_one_checkpoints/ckpt-1.data-00000-of-00001\n",
            "./attention_one_checkpoints/ckpt-1.index\n",
            "./attention_one_encoder_weights.h5\n",
            "./attention_one_decoder_weights.h5\n"
          ],
          "name": "stdout"
        }
      ]
    },
    {
      "cell_type": "code",
      "metadata": {
        "colab_type": "code",
        "id": "D-QbO2dzYXBO",
        "colab": {}
      },
      "source": [
        "ENC_SAVED_MODEL_DIR = 'attention_one_encoder'\n",
        "DEC_SAVED_MODEL_DIR = 'attention_one_decoder'\n",
        "TFLITE_MODELS_DIR = 'attention_one_tflite_models'\n",
        "ENC_TFLITE_MODEL_NAME = 'attention_one_encoder'\n",
        "DEC_TFLITE_MODEL_NAME = 'attention_one_decoder'\n",
        "ENC_TFLITE_QUANTIZED_MODEL_NAME = 'attention_one_encoder_f16'\n",
        "DEC_TFLITE_QUANTIZED_MODEL_NAME = 'attention_one_decoder_f16'"
      ],
      "execution_count": null,
      "outputs": []
    },
    {
      "cell_type": "code",
      "metadata": {
        "colab_type": "code",
        "id": "FWw7ynksYXBP",
        "colab": {
          "base_uri": "https://localhost:8080/",
          "height": 82
        },
        "outputId": "533f96fa-3064-4100-b491-08edb11c01fd"
      },
      "source": [
        "encoder.save(ENC_SAVED_MODEL_DIR)\n",
        "decoder.save(DEC_SAVED_MODEL_DIR)"
      ],
      "execution_count": null,
      "outputs": [
        {
          "output_type": "stream",
          "text": [
            "INFO:tensorflow:Assets written to: attention_one_encoder/assets\n"
          ],
          "name": "stdout"
        },
        {
          "output_type": "stream",
          "text": [
            "INFO:tensorflow:Assets written to: attention_one_encoder/assets\n"
          ],
          "name": "stderr"
        },
        {
          "output_type": "stream",
          "text": [
            "INFO:tensorflow:Assets written to: attention_one_decoder/assets\n"
          ],
          "name": "stdout"
        },
        {
          "output_type": "stream",
          "text": [
            "INFO:tensorflow:Assets written to: attention_one_decoder/assets\n"
          ],
          "name": "stderr"
        }
      ]
    },
    {
      "cell_type": "code",
      "metadata": {
        "id": "LPcvSOseaBcs",
        "colab_type": "code",
        "colab": {}
      },
      "source": [
        "tflite_models_dir = prepare_tflite_models_dir(TFLITE_MODELS_DIR)\n",
        "tflite_encoder_model_file = convert_saved_model_to_tflite(ENC_SAVED_MODEL_DIR, tflite_models_dir, ENC_TFLITE_MODEL_NAME)\n",
        "tflite_decoder_model_file = convert_saved_model_to_tflite(DEC_SAVED_MODEL_DIR, tflite_models_dir, DEC_TFLITE_MODEL_NAME)\n",
        "tflite_encoder_model_fp16_file = convert_saved_model_to_tflite(ENC_SAVED_MODEL_DIR, tflite_models_dir, ENC_TFLITE_QUANTIZED_MODEL_NAME, quantize=True)\n",
        "tflite_decoder_model_fp16_file = convert_saved_model_to_tflite(DEC_SAVED_MODEL_DIR, tflite_models_dir, DEC_TFLITE_QUANTIZED_MODEL_NAME, quantize=True)"
      ],
      "execution_count": null,
      "outputs": []
    },
    {
      "cell_type": "code",
      "metadata": {
        "colab_type": "code",
        "id": "bVwo2j69YXBR",
        "colab": {
          "base_uri": "https://localhost:8080/",
          "height": 98
        },
        "outputId": "c6fa3e2c-7fbc-45f9-fad1-40871317a2e0"
      },
      "source": [
        "# Print tf-lite model sizes\n",
        "!ls -lh {tflite_models_dir}"
      ],
      "execution_count": null,
      "outputs": [
        {
          "output_type": "stream",
          "text": [
            "total 822M\n",
            "-rw-r--r-- 1 root root 223M Aug 15 15:12 attention_one_decoder\n",
            "-rw-r--r-- 1 root root 112M Aug 15 15:13 attention_one_decoder_f16\n",
            "-rw-r--r-- 1 root root 325M Aug 15 15:12 attention_one_encoder\n",
            "-rw-r--r-- 1 root root 163M Aug 15 15:13 attention_one_encoder_f16\n"
          ],
          "name": "stdout"
        }
      ]
    },
    {
      "cell_type": "markdown",
      "metadata": {
        "colab_type": "text",
        "id": "DZG6pTpvXEIi"
      },
      "source": [
        "###### 6.3.7.2. tf.keras.layers.Masking Layer"
      ]
    },
    {
      "cell_type": "code",
      "metadata": {
        "colab_type": "code",
        "id": "ZNpviDCKXEIj",
        "colab": {}
      },
      "source": [
        "encoder.save_weights('attention_two_encoder_weights.h5')\n",
        "decoder.save_weights('attention_two_decoder_weights.h5')"
      ],
      "execution_count": null,
      "outputs": []
    },
    {
      "cell_type": "code",
      "metadata": {
        "colab_type": "code",
        "id": "nfoo-HhOXEIj",
        "colab": {
          "base_uri": "https://localhost:8080/",
          "height": 105
        },
        "outputId": "44026cf8-a39c-4d0b-c85d-ba6f9fd512aa"
      },
      "source": [
        "!tar cvzf attention_two_checkpoints.tar.gz ./attention_two_checkpoints/checkpoint ./attention_two_checkpoints/ckpt-1.data-00000-of-00001 ./attention_two_checkpoints/ckpt-1.index ./attention_two_encoder_weights.h5 ./attention_two_decoder_weights.h5"
      ],
      "execution_count": null,
      "outputs": [
        {
          "output_type": "stream",
          "text": [
            "./attention_two_checkpoints/checkpoint\n",
            "./attention_two_checkpoints/ckpt-1.data-00000-of-00001\n",
            "./attention_two_checkpoints/ckpt-1.index\n",
            "./attention_two_encoder_weights.h5\n",
            "./attention_two_decoder_weights.h5\n"
          ],
          "name": "stdout"
        }
      ]
    },
    {
      "cell_type": "code",
      "metadata": {
        "colab_type": "code",
        "id": "fEsZP30iXEIk",
        "colab": {
          "base_uri": "https://localhost:8080/",
          "height": 70
        },
        "outputId": "9fa98391-fb5b-4bdd-8198-da9cc34025da"
      },
      "source": [
        "!tar xvzf attention_two_checkpoints.tar.gz ./attention_two_checkpoints"
      ],
      "execution_count": null,
      "outputs": [
        {
          "output_type": "stream",
          "text": [
            "./attention_two_checkpoints/checkpoint\n",
            "./attention_two_checkpoints/ckpt-15.data-00000-of-00001\n",
            "./attention_two_checkpoints/ckpt-15.index\n"
          ],
          "name": "stdout"
        }
      ]
    },
    {
      "cell_type": "code",
      "metadata": {
        "colab_type": "code",
        "id": "il1RaH8fYgQv",
        "colab": {}
      },
      "source": [
        "ENC_SAVED_MODEL_DIR = 'attention_two_encoder'\n",
        "DEC_SAVED_MODEL_DIR = 'attention_two_decoder'\n",
        "TFLITE_MODELS_DIR = 'attention_two_tflite_models'\n",
        "ENC_TFLITE_MODEL_NAME = 'attention_two_encoder'\n",
        "DEC_TFLITE_MODEL_NAME = 'attention_two_decoder'\n",
        "ENC_TFLITE_QUANTIZED_MODEL_NAME = 'attention_two_encoder_f16'\n",
        "DEC_TFLITE_QUANTIZED_MODEL_NAME = 'attention_two_decoder_f16'"
      ],
      "execution_count": null,
      "outputs": []
    },
    {
      "cell_type": "code",
      "metadata": {
        "colab_type": "code",
        "id": "OfHZ0dnNYgQx",
        "colab": {}
      },
      "source": [
        "# This code cell does not work as of tf-nightly 2.4.0-dev20200815\n",
        "encoder.save(ENC_SAVED_MODEL_DIR)\n",
        "decoder.save(DEC_SAVED_MODEL_DIR)"
      ],
      "execution_count": null,
      "outputs": []
    },
    {
      "cell_type": "code",
      "metadata": {
        "id": "yDJ5rz8iaABd",
        "colab_type": "code",
        "colab": {}
      },
      "source": [
        "tflite_models_dir = prepare_tflite_models_dir(TFLITE_MODELS_DIR)\n",
        "tflite_encoder_model_file = convert_saved_model_to_tflite(ENC_SAVED_MODEL_DIR, tflite_models_dir, ENC_TFLITE_MODEL_NAME)\n",
        "tflite_decoder_model_file = convert_saved_model_to_tflite(DEC_SAVED_MODEL_DIR, tflite_models_dir, DEC_TFLITE_MODEL_NAME)\n",
        "tflite_encoder_model_fp16_file = convert_saved_model_to_tflite(ENC_SAVED_MODEL_DIR, tflite_models_dir, ENC_TFLITE_QUANTIZED_MODEL_NAME, quantize=True)\n",
        "tflite_decoder_model_fp16_file = convert_saved_model_to_tflite(DEC_SAVED_MODEL_DIR, tflite_models_dir, DEC_TFLITE_QUANTIZED_MODEL_NAME, quantize=True)"
      ],
      "execution_count": null,
      "outputs": []
    },
    {
      "cell_type": "code",
      "metadata": {
        "colab_type": "code",
        "id": "eTcIqJxQYgQy",
        "colab": {}
      },
      "source": [
        "# Print tf-lite model sizes\n",
        "!ls -lh {tflite_models_dir}"
      ],
      "execution_count": null,
      "outputs": []
    },
    {
      "cell_type": "markdown",
      "metadata": {
        "colab_type": "text",
        "id": "OHDs1KeqXEIl"
      },
      "source": [
        "##### 6.3.8. Plot the model's loss"
      ]
    },
    {
      "cell_type": "code",
      "metadata": {
        "colab_type": "code",
        "id": "VTVuoxygXEIl",
        "colab": {}
      },
      "source": [
        "# plot_loss function is defined in 6.1.8."
      ],
      "execution_count": null,
      "outputs": []
    },
    {
      "cell_type": "markdown",
      "metadata": {
        "colab_type": "text",
        "id": "lbSH8wtvXEIn"
      },
      "source": [
        "###### 6.3.8.1. Custom Masking Layer"
      ]
    },
    {
      "cell_type": "code",
      "metadata": {
        "colab_type": "code",
        "id": "zJ8tKJ_kXEIn",
        "colab": {
          "base_uri": "https://localhost:8080/",
          "height": 294
        },
        "outputId": "1588ff40-b2aa-4e68-cd22-9f053a7417e9"
      },
      "source": [
        "plot_loss(EPOCHS, loss_train, loss_val)"
      ],
      "execution_count": null,
      "outputs": [
        {
          "output_type": "display_data",
          "data": {
            "image/png": "[encoded data removed]",
            "text/plain": [
              "<Figure size 432x288 with 1 Axes>"
            ]
          },
          "metadata": {
            "tags": [],
            "needs_background": "light"
          }
        }
      ]
    },
    {
      "cell_type": "markdown",
      "metadata": {
        "colab_type": "text",
        "id": "L5fCCqxzXEIo"
      },
      "source": [
        "###### 6.3.8.2. tf.keras.layers.Masking Layer"
      ]
    },
    {
      "cell_type": "code",
      "metadata": {
        "colab_type": "code",
        "id": "09D3iGarXEIo",
        "colab": {
          "base_uri": "https://localhost:8080/",
          "height": 294
        },
        "outputId": "fc7a015f-493d-4092-b35a-d3180322d443"
      },
      "source": [
        "plot_loss(EPOCHS, loss_train, loss_val)"
      ],
      "execution_count": null,
      "outputs": [
        {
          "output_type": "display_data",
          "data": {
            "image/png": "[encoded data removed]",
            "text/plain": [
              "<Figure size 432x288 with 1 Axes>"
            ]
          },
          "metadata": {
            "tags": [],
            "needs_background": "light"
          }
        }
      ]
    },
    {
      "cell_type": "markdown",
      "metadata": {
        "colab_type": "text",
        "id": "It0dJcRYXEIo"
      },
      "source": [
        "##### 6.3.9. Inference\n"
      ]
    },
    {
      "cell_type": "code",
      "metadata": {
        "colab_type": "code",
        "id": "YNv5wbzyXEIp",
        "colab": {}
      },
      "source": [
        "# Use code cells of 6.1.9."
      ],
      "execution_count": null,
      "outputs": []
    },
    {
      "cell_type": "markdown",
      "metadata": {
        "colab_type": "text",
        "id": "ig49uLbeXEIp"
      },
      "source": [
        "##### 6.3.10. Restore the latest checkpoint and test (Custom Masking Layer)"
      ]
    },
    {
      "cell_type": "code",
      "metadata": {
        "colab_type": "code",
        "id": "Ko2bjQyMXEIp",
        "colab": {
          "base_uri": "https://localhost:8080/",
          "height": 34
        },
        "outputId": "7b856549-062e-40da-a467-9901e9532e67"
      },
      "source": [
        "# restoring the latest checkpoint in checkpoint_dir\n",
        "checkpoint.restore(tf.train.latest_checkpoint(checkpoint_dir))"
      ],
      "execution_count": null,
      "outputs": [
        {
          "output_type": "execute_result",
          "data": {
            "text/plain": [
              "<tensorflow.python.training.tracking.util.CheckpointLoadStatus at 0x7f726de71198>"
            ]
          },
          "metadata": {
            "tags": []
          },
          "execution_count": 160
        }
      ]
    },
    {
      "cell_type": "markdown",
      "metadata": {
        "colab_type": "text",
        "id": "KDomLvErVrvP"
      },
      "source": [
        "###### 6.3.10.1. Inference with greedy search"
      ]
    },
    {
      "cell_type": "code",
      "metadata": {
        "colab_type": "code",
        "id": "0yBIRjXcVrvQ",
        "colab": {
          "base_uri": "https://localhost:8080/",
          "height": 667
        },
        "outputId": "105ebe98-8ec2-4963-bb3e-7dd3104af56c"
      },
      "source": [
        "predict(encoder, decoder, enc_in_ques_test, enc_in_title_test, enc_in_price_test, \n",
        "        enc_in_image_test, dec_in_test, 'random')"
      ],
      "execution_count": null,
      "outputs": [
        {
          "output_type": "stream",
          "text": [
            "\n",
            "Question: can the hammer function be turned off\n",
            "Actual answer: yes it ca\n",
            "Predicted answer: yes\n",
            "\n",
            "Question: is it for iphone 5\n",
            "Actual answer: no its not\n",
            "Predicted answer: yes\n",
            "\n",
            "Question: does it have button or zipper closure\n",
            "Actual answer: zipper\n",
            "Predicted answer: yes\n",
            "\n",
            "Question: is the color a gloss black or matte black\n",
            "Actual answer: matte black\n",
            "Predicted answer: yes\n",
            "\n",
            "Question: is 69in the length or the height\n",
            "Actual answer: height\n",
            "Predicted answer: yes\n",
            "\n",
            "Question: how much power does this draw\n",
            "Actual answer: 15 amps\n",
            "Predicted answer: about 2\n",
            "\n",
            "Question: does product come with a warranty\n",
            "Actual answer: one year\n",
            "Predicted answer: yes\n",
            "\n",
            "Question: hood comes with this lens\n",
            "Actual answer: yes it does\n",
            "Predicted answer: yes\n",
            "\n",
            "Question: does this work with the gopro hero4 black\n",
            "Actual answer: no\n",
            "Predicted answer: yes\n",
            "\n",
            "Question: latin american or european pronunciation\n",
            "Actual answer: latib american\n",
            "Predicted answer: yes\n"
          ],
          "name": "stdout"
        }
      ]
    },
    {
      "cell_type": "code",
      "metadata": {
        "colab_type": "code",
        "id": "bRLjCn4GVrvT",
        "colab": {
          "base_uri": "https://localhost:8080/",
          "height": 82
        },
        "outputId": "00237c5d-ba89-498d-93b0-aa1135e8b797"
      },
      "source": [
        "predict(encoder, decoder, enc_in_ques_test, enc_in_title_test, enc_in_price_test, \n",
        "        enc_in_image_test, dec_in_test, 'random', count=1, special_input=True)"
      ],
      "execution_count": null,
      "outputs": [
        {
          "output_type": "stream",
          "text": [
            "\n",
            "Question: All zeros\n",
            "Actual answer: yes\n",
            "Predicted answer: \n"
          ],
          "name": "stdout"
        }
      ]
    },
    {
      "cell_type": "code",
      "metadata": {
        "colab_type": "code",
        "id": "uAs5WcRBVrvV",
        "colab": {
          "base_uri": "https://localhost:8080/",
          "height": 33
        },
        "outputId": "b55b5116-1a9b-444b-e6cf-4339db098c95"
      },
      "source": [
        "start_time = timer()\n",
        "predicted_answer_list, actual_answer_list = predict(encoder, decoder, \n",
        "                                                    enc_in_ques_test, \n",
        "                                                    enc_in_title_test, \n",
        "                                                    enc_in_price_test, \n",
        "                                                    enc_in_image_test, \n",
        "                                                    dec_in_test, 'corpus')\n",
        "timer(start_time)"
      ],
      "execution_count": null,
      "outputs": [
        {
          "output_type": "stream",
          "text": [
            "Time taken: 0 hours 0 minutes and 51.73 seconds.\n"
          ],
          "name": "stdout"
        }
      ]
    },
    {
      "cell_type": "markdown",
      "metadata": {
        "colab_type": "text",
        "id": "bevDqCkDVrvW"
      },
      "source": [
        "###### 6.3.10.2. Inference with beam search"
      ]
    },
    {
      "cell_type": "code",
      "metadata": {
        "colab_type": "code",
        "id": "ROQpp_F2VrvW",
        "colab": {
          "base_uri": "https://localhost:8080/",
          "height": 667
        },
        "outputId": "3b7e70e1-bcbd-45ba-ac37-e81881b0d477"
      },
      "source": [
        "predict(encoder, decoder, enc_in_ques_test, enc_in_title_test, enc_in_price_test, \n",
        "        enc_in_image_test, dec_in_test, 'random', beam_search=True)"
      ],
      "execution_count": null,
      "outputs": [
        {
          "output_type": "stream",
          "text": [
            "\n",
            "Question: is this an auto open umbrella\n",
            "Actual answer: yes\n",
            "Predicted answer: yes\n",
            "\n",
            "Question: what is the biggest turkey this will cook\n",
            "Actual answer: 20lbs\n",
            "Predicted answer: 120\n",
            "\n",
            "Question: can you use this pot on a glass top stove\n",
            "Actual answer: absolutely tony\n",
            "Predicted answer: yes\n",
            "\n",
            "Question: how many shells does the gun hold\n",
            "Actual answer: 6\n",
            "Predicted answer: about\n",
            "\n",
            "Question: will this work on a keller 250 pound kkl 16 ladder\n",
            "Actual answer: no\n",
            "Predicted answer: yes\n",
            "\n",
            "Question: is this toy actually out yet\n",
            "Actual answer: yup\n",
            "Predicted answer: yes\n",
            "\n",
            "Question: does this have a seatbelt for younger kids\n",
            "Actual answer: no seat belts\n",
            "Predicted answer: yes\n",
            "\n",
            "Question: is there warranty on this printer\n",
            "Actual answer: do not knw\n",
            "Predicted answer: yes\n",
            "\n",
            "Question: how deep are the containers\n",
            "Actual answer: 3\n",
            "Predicted answer: about\n",
            "\n",
            "Question: will they fit the nutri bullet 600 and the 900\n",
            "Actual answer: no\n",
            "Predicted answer: yes\n"
          ],
          "name": "stdout"
        }
      ]
    },
    {
      "cell_type": "code",
      "metadata": {
        "colab_type": "code",
        "id": "f3IOmgvVVrvX",
        "colab": {
          "base_uri": "https://localhost:8080/",
          "height": 82
        },
        "outputId": "209b5d80-1820-483b-e5c8-564590ea5bd5"
      },
      "source": [
        "predict(encoder, decoder, enc_in_ques_test, enc_in_title_test, enc_in_price_test, \n",
        "        enc_in_image_test, dec_in_test, 'random', count=1, special_input=True, \n",
        "        beam_search=True)"
      ],
      "execution_count": null,
      "outputs": [
        {
          "output_type": "stream",
          "text": [
            "\n",
            "Question: All zeros\n",
            "Actual answer: no\n",
            "Predicted answer: \n"
          ],
          "name": "stdout"
        }
      ]
    },
    {
      "cell_type": "code",
      "metadata": {
        "colab_type": "code",
        "id": "2MnLta--VrvY",
        "colab": {
          "base_uri": "https://localhost:8080/",
          "height": 33
        },
        "outputId": "6b9a16d1-d0a8-4925-898e-4b90dc39e082"
      },
      "source": [
        "start_time = timer()\n",
        "predicted_answer_list, actual_answer_list = predict(encoder, decoder, \n",
        "                                                    enc_in_ques_test, \n",
        "                                                    enc_in_title_test, \n",
        "                                                    enc_in_price_test, \n",
        "                                                    enc_in_image_test, \n",
        "                                                    dec_in_test, 'corpus', \n",
        "                                                    beam_search=True)\n",
        "timer(start_time)"
      ],
      "execution_count": null,
      "outputs": [
        {
          "output_type": "stream",
          "text": [
            "Time taken: 0 hours 1 minutes and 26.83 seconds.\n"
          ],
          "name": "stdout"
        }
      ]
    },
    {
      "cell_type": "markdown",
      "metadata": {
        "colab_type": "text",
        "id": "J898raaEVrva"
      },
      "source": [
        "###### 6.3.10.3. Inference with greedy search (with TF-Lite)"
      ]
    },
    {
      "cell_type": "code",
      "metadata": {
        "colab_type": "code",
        "id": "f_edl5CmVrva",
        "colab": {
          "base_uri": "https://localhost:8080/",
          "height": 667
        },
        "outputId": "98103d80-918c-43ae-ae04-edbd5542b50c"
      },
      "source": [
        "predict(tflite_encoder_model_file, tflite_decoder_model_file, enc_in_ques_test, \n",
        "        enc_in_title_test, enc_in_price_test, enc_in_image_test, dec_in_test, \n",
        "        'random', tflite=True)"
      ],
      "execution_count": null,
      "outputs": [
        {
          "output_type": "stream",
          "text": [
            "\n",
            "Question: are you able to keep the white folio clean\n",
            "Actual answer: impossible\n",
            "Predicted answer: yes\n",
            "\n",
            "Question: how much does the dyson dc65 weigh when it is assembled\n",
            "Actual answer: 17 lbs\n",
            "Predicted answer: about 2 lbs\n",
            "\n",
            "Question: does this have a seatbelt for younger kids\n",
            "Actual answer: no seat belts\n",
            "Predicted answer: yes\n",
            "\n",
            "Question: where are these straws made\n",
            "Actual answer: china\n",
            "Predicted answer: china\n",
            "\n",
            "Question: gaskets included\n",
            "Actual answer: yes they are\n",
            "Predicted answer: no\n",
            "\n",
            "Question: does it come with a tray inside\n",
            "Actual answer: nope\n",
            "Predicted answer: yes\n",
            "\n",
            "Question: will this work in france and london\n",
            "Actual answer: for sure\n",
            "Predicted answer: yes\n",
            "\n",
            "Question: what is the voltage of the oven\n",
            "Actual answer: 120vac\n",
            "Predicted answer: 120\n",
            "\n",
            "Question: will this headset work on xbox 360 ps4 and laptop computer\n",
            "Actual answer: yes\n",
            "Predicted answer: yes\n",
            "\n",
            "Question: is the tire the type that needs inflating\n",
            "Actual answer: no\n",
            "Predicted answer: yes\n"
          ],
          "name": "stdout"
        }
      ]
    },
    {
      "cell_type": "code",
      "metadata": {
        "colab_type": "code",
        "id": "C5kO6qtIVrvb",
        "colab": {
          "base_uri": "https://localhost:8080/",
          "height": 82
        },
        "outputId": "1c95993f-c4eb-48d4-89b8-9ebd9591cc0f"
      },
      "source": [
        "predict(tflite_encoder_model_file, tflite_decoder_model_file, enc_in_ques_test, \n",
        "        enc_in_title_test, enc_in_price_test, enc_in_image_test, dec_in_test, \n",
        "        'random', count=1, special_input=True, tflite=True)"
      ],
      "execution_count": null,
      "outputs": [
        {
          "output_type": "stream",
          "text": [
            "\n",
            "Question: All zeros\n",
            "Actual answer: yes\n",
            "Predicted answer: \n"
          ],
          "name": "stdout"
        }
      ]
    },
    {
      "cell_type": "code",
      "metadata": {
        "colab_type": "code",
        "id": "niV6QRW0Vrvf",
        "colab": {
          "base_uri": "https://localhost:8080/",
          "height": 33
        },
        "outputId": "ad737f04-89f0-4176-ecdc-be7ad36c3893"
      },
      "source": [
        "start_time = timer()\n",
        "predicted_answer_list, actual_answer_list = predict(tflite_encoder_model_file, \n",
        "                                                    tflite_decoder_model_file, \n",
        "                                                    enc_in_ques_test, \n",
        "                                                    enc_in_title_test, \n",
        "                                                    enc_in_price_test, \n",
        "                                                    enc_in_image_test, \n",
        "                                                    dec_in_test, 'corpus',\n",
        "                                                    tflite=True)\n",
        "timer(start_time)"
      ],
      "execution_count": null,
      "outputs": [
        {
          "output_type": "stream",
          "text": [
            "Time taken: 0 hours 2 minutes and 24.62 seconds.\n"
          ],
          "name": "stdout"
        }
      ]
    },
    {
      "cell_type": "markdown",
      "metadata": {
        "colab_type": "text",
        "id": "zk2AKecfVrvg"
      },
      "source": [
        "###### 6.3.10.4. Inference with beam search (with TF-Lite)"
      ]
    },
    {
      "cell_type": "code",
      "metadata": {
        "colab_type": "code",
        "id": "PiHYO5GCVrvg",
        "colab": {
          "base_uri": "https://localhost:8080/",
          "height": 667
        },
        "outputId": "0e51288d-94a6-4455-a58a-68028c4119fa"
      },
      "source": [
        "predict(tflite_encoder_model_file, tflite_decoder_model_file, enc_in_ques_test, \n",
        "        enc_in_title_test, enc_in_price_test, enc_in_image_test, dec_in_test, \n",
        "        'random', beam_search=True, tflite=True)"
      ],
      "execution_count": null,
      "outputs": [
        {
          "output_type": "stream",
          "text": [
            "\n",
            "Question: can the sound music voice be heard through the tv\n",
            "Actual answer: yes\n",
            "Predicted answer: yes\n",
            "\n",
            "Question: does this have twist rudder\n",
            "Actual answer: no\n",
            "Predicted answer: yes\n",
            "\n",
            "Question: does this board come assembled\n",
            "Actual answer: yes 100\n",
            "Predicted answer: yes\n",
            "\n",
            "Question: how much power does this draw\n",
            "Actual answer: 15 amps\n",
            "Predicted answer: about\n",
            "\n",
            "Question: exact size\n",
            "Actual answer: 12 x 12\n",
            "Predicted answer: no\n",
            "\n",
            "Question: does this also transmit audio\n",
            "Actual answer: yes\n",
            "Predicted answer: yes\n",
            "\n",
            "Question: can it make copies\n",
            "Actual answer: no\n",
            "Predicted answer: yes\n",
            "\n",
            "Question: will this be good in a class room for teachers\n",
            "Actual answer: yes very good\n",
            "Predicted answer: yes\n",
            "\n",
            "Question: will this work with an ifrogz case for an ipad mini\n",
            "Actual answer: doubt it\n",
            "Predicted answer: yes\n",
            "\n",
            "Question: will this headset work on xbox 360 ps4 and laptop computer\n",
            "Actual answer: yes\n",
            "Predicted answer: yes\n"
          ],
          "name": "stdout"
        }
      ]
    },
    {
      "cell_type": "code",
      "metadata": {
        "colab_type": "code",
        "id": "Q7moT-8RVrvh",
        "colab": {
          "base_uri": "https://localhost:8080/",
          "height": 82
        },
        "outputId": "07dc0e1f-9a7d-4558-a976-c847e1b810bb"
      },
      "source": [
        "predict(tflite_encoder_model_file, tflite_decoder_model_file, enc_in_ques_test, \n",
        "        enc_in_title_test, enc_in_price_test, enc_in_image_test, dec_in_test, \n",
        "        'random', count=1, special_input=True, beam_search=True, tflite=True)"
      ],
      "execution_count": null,
      "outputs": [
        {
          "output_type": "stream",
          "text": [
            "\n",
            "Question: All zeros\n",
            "Actual answer: yes\n",
            "Predicted answer: \n"
          ],
          "name": "stdout"
        }
      ]
    },
    {
      "cell_type": "code",
      "metadata": {
        "colab_type": "code",
        "id": "btH_6KWUVrvj",
        "colab": {
          "base_uri": "https://localhost:8080/",
          "height": 33
        },
        "outputId": "646e893f-afaa-469e-cdd1-9e0c365bc8a1"
      },
      "source": [
        "start_time = timer()\n",
        "predicted_answer_list, actual_answer_list = predict(tflite_encoder_model_file, \n",
        "                                                    tflite_decoder_model_file, \n",
        "                                                    enc_in_ques_test, \n",
        "                                                    enc_in_title_test, \n",
        "                                                    enc_in_price_test, \n",
        "                                                    enc_in_image_test, \n",
        "                                                    dec_in_test, 'corpus', \n",
        "                                                    beam_search=True, \n",
        "                                                    tflite=True)\n",
        "timer(start_time)"
      ],
      "execution_count": null,
      "outputs": [
        {
          "output_type": "stream",
          "text": [
            "Time taken: 0 hours 3 minutes and 8.59 seconds.\n"
          ],
          "name": "stdout"
        }
      ]
    },
    {
      "cell_type": "markdown",
      "metadata": {
        "colab_type": "text",
        "id": "TmUpKpIbVrvk"
      },
      "source": [
        "###### 6.3.10.5. Inference with greedy search (with TF-Lite and Post Quantization)"
      ]
    },
    {
      "cell_type": "code",
      "metadata": {
        "colab_type": "code",
        "id": "AZIW-ujkVrvl",
        "colab": {
          "base_uri": "https://localhost:8080/",
          "height": 667
        },
        "outputId": "557f151d-e4fc-49e9-e43a-821d97205bc2"
      },
      "source": [
        "predict(tflite_encoder_model_fp16_file, tflite_decoder_model_fp16_file, enc_in_ques_test, \n",
        "        enc_in_title_test, enc_in_price_test, enc_in_image_test, dec_in_test, \n",
        "        'random', tflite=True, quantize=True)"
      ],
      "execution_count": null,
      "outputs": [
        {
          "output_type": "stream",
          "text": [
            "\n",
            "Question: is the interior stainless steel\n",
            "Actual answer: yes it is\n",
            "Predicted answer: \n",
            "\n",
            "Question: are the spark plug sockets magnetized\n",
            "Actual answer: no\n",
            "Predicted answer: \n",
            "\n",
            "Question: does magnets stick to this\n",
            "Actual answer: yes they do\n",
            "Predicted answer: \n",
            "\n",
            "Question: what is the measurements on the table\n",
            "Actual answer: 20 squared\n",
            "Predicted answer: \n",
            "\n",
            "Question: are these for females\n",
            "Actual answer: yes\n",
            "Predicted answer: \n",
            "\n",
            "Question: are these the kernals or in the shell\n",
            "Actual answer: in the shell\n",
            "Predicted answer: \n",
            "\n",
            "Question: can i use this wagner 0525032 with water base paint\n",
            "Actual answer: yes\n",
            "Predicted answer: \n",
            "\n",
            "Question: does this also transmit audio\n",
            "Actual answer: yes\n",
            "Predicted answer: \n",
            "\n",
            "Question: what is the expiration date thanks\n",
            "Actual answer: april 25 2014\n",
            "Predicted answer: \n",
            "\n",
            "Question: is there a sd card slot\n",
            "Actual answer: sure\n",
            "Predicted answer: \n"
          ],
          "name": "stdout"
        }
      ]
    },
    {
      "cell_type": "code",
      "metadata": {
        "colab_type": "code",
        "id": "uRGa4ZLfVrvm",
        "colab": {
          "base_uri": "https://localhost:8080/",
          "height": 82
        },
        "outputId": "e94a9d97-e1fa-4250-da32-01ca8ffe684d"
      },
      "source": [
        "predict(tflite_encoder_model_fp16_file, tflite_decoder_model_fp16_file, enc_in_ques_test, \n",
        "        enc_in_title_test, enc_in_price_test, enc_in_image_test, dec_in_test, \n",
        "        'random', count=1, special_input=True, tflite=True, quantize=True)"
      ],
      "execution_count": null,
      "outputs": [
        {
          "output_type": "stream",
          "text": [
            "\n",
            "Question: All zeros\n",
            "Actual answer: no\n",
            "Predicted answer: \n"
          ],
          "name": "stdout"
        }
      ]
    },
    {
      "cell_type": "code",
      "metadata": {
        "colab_type": "code",
        "id": "xqKelg85Vrvo",
        "colab": {
          "base_uri": "https://localhost:8080/",
          "height": 33
        },
        "outputId": "a3adf1f7-d16b-48a3-b185-334b03912ca9"
      },
      "source": [
        "start_time = timer()\n",
        "predicted_answer_list, actual_answer_list = predict(tflite_encoder_model_fp16_file, \n",
        "                                                    tflite_decoder_model_fp16_file, \n",
        "                                                    enc_in_ques_test, \n",
        "                                                    enc_in_title_test, \n",
        "                                                    enc_in_price_test, \n",
        "                                                    enc_in_image_test, \n",
        "                                                    dec_in_test, 'corpus',\n",
        "                                                    tflite=True, quantize=True)\n",
        "timer(start_time)"
      ],
      "execution_count": null,
      "outputs": [
        {
          "output_type": "stream",
          "text": [
            "Time taken: 0 hours 11 minutes and 53.9 seconds.\n"
          ],
          "name": "stdout"
        }
      ]
    },
    {
      "cell_type": "markdown",
      "metadata": {
        "colab_type": "text",
        "id": "Myo2tRbZVrvp"
      },
      "source": [
        "###### 6.3.10.6. Inference with beam search (with TF-Lite and Post Quantization)"
      ]
    },
    {
      "cell_type": "code",
      "metadata": {
        "colab_type": "code",
        "id": "K4EQ_qyUVrvp",
        "colab": {
          "base_uri": "https://localhost:8080/",
          "height": 667
        },
        "outputId": "7512acbf-28b5-481a-c8b9-baa8adf0e036"
      },
      "source": [
        "predict(tflite_encoder_model_fp16_file, tflite_decoder_model_fp16_file, enc_in_ques_test, \n",
        "        enc_in_title_test, enc_in_price_test, enc_in_image_test, dec_in_test, \n",
        "        'random', beam_search=True, tflite=True, quantize=True)"
      ],
      "execution_count": null,
      "outputs": [
        {
          "output_type": "stream",
          "text": [
            "\n",
            "Question: does this come with the supply lines that feed the spider\n",
            "Actual answer: no lines\n",
            "Predicted answer: sixaxis sixaxis sixaxis\n",
            "\n",
            "Question: would this work on tarnished kitchen utensils\n",
            "Actual answer: no\n",
            "Predicted answer: sixaxis sixaxis sixaxis\n",
            "\n",
            "Question: is the inside bottom smooth\n",
            "Actual answer: yup\n",
            "Predicted answer: sixaxis sixaxis sixaxis\n",
            "\n",
            "Question: are these wireless\n",
            "Actual answer: no\n",
            "Predicted answer: sixaxis sixaxis sixaxis\n",
            "\n",
            "Question: where is the country of origin\n",
            "Actual answer: japan i believe\n",
            "Predicted answer: sixaxis sixaxis sixaxis\n",
            "\n",
            "Question: will these headphones fit children\n",
            "Actual answer: they might\n",
            "Predicted answer: sixaxis sixaxis sixaxis\n",
            "\n",
            "Question: will this fit 9x3 50x4 tires\n",
            "Actual answer: yes\n",
            "Predicted answer: sixaxis sixaxis sixaxis\n",
            "\n",
            "Question: the phone is gsm or cdma only\n",
            "Actual answer: cdma\n",
            "Predicted answer: sixaxis sixaxis sixaxis\n",
            "\n",
            "Question: is the tube glass or plastic\n",
            "Actual answer: plastic regards\n",
            "Predicted answer: sixaxis sixaxis sixaxis\n",
            "\n",
            "Question: where is it made\n",
            "Actual answer: china\n",
            "Predicted answer: sixaxis sixaxis sixaxis\n"
          ],
          "name": "stdout"
        }
      ]
    },
    {
      "cell_type": "code",
      "metadata": {
        "colab_type": "code",
        "id": "ZpSq81apVrvr",
        "colab": {
          "base_uri": "https://localhost:8080/",
          "height": 82
        },
        "outputId": "0c657581-60e3-4c00-e84f-cbc428e99497"
      },
      "source": [
        "predict(tflite_encoder_model_fp16_file, tflite_decoder_model_fp16_file, enc_in_ques_test, \n",
        "        enc_in_title_test, enc_in_price_test, enc_in_image_test, dec_in_test, \n",
        "        'random', count=1, special_input=True, beam_search=True, tflite=True, quantize=True)"
      ],
      "execution_count": null,
      "outputs": [
        {
          "output_type": "stream",
          "text": [
            "\n",
            "Question: All zeros\n",
            "Actual answer: no\n",
            "Predicted answer: sixaxis sixaxis sixaxis\n"
          ],
          "name": "stdout"
        }
      ]
    },
    {
      "cell_type": "code",
      "metadata": {
        "colab_type": "code",
        "id": "i7BrGyIHVrvs",
        "colab": {
          "base_uri": "https://localhost:8080/",
          "height": 33
        },
        "outputId": "5c278075-69c3-4601-9180-91564212d8df"
      },
      "source": [
        "start_time = timer()\n",
        "predicted_answer_list, actual_answer_list = predict(tflite_encoder_model_fp16_file, \n",
        "                                                    tflite_decoder_model_fp16_file, \n",
        "                                                    enc_in_ques_test, \n",
        "                                                    enc_in_title_test, \n",
        "                                                    enc_in_price_test, \n",
        "                                                    enc_in_image_test, \n",
        "                                                    dec_in_test, 'corpus', \n",
        "                                                    beam_search=True, \n",
        "                                                    tflite=True, quantize=True)\n",
        "timer(start_time)"
      ],
      "execution_count": null,
      "outputs": [
        {
          "output_type": "stream",
          "text": [
            "Time taken: 0 hours 14 minutes and 0.37 seconds.\n"
          ],
          "name": "stdout"
        }
      ]
    },
    {
      "cell_type": "markdown",
      "metadata": {
        "colab_type": "text",
        "id": "kQz944_pXEIw"
      },
      "source": [
        "##### 6.3.11. Restore the latest checkpoint and test (tf.keras.layers.Masking Layer)"
      ]
    },
    {
      "cell_type": "code",
      "metadata": {
        "colab_type": "code",
        "id": "XED_pUYVXEIw",
        "colab": {
          "base_uri": "https://localhost:8080/",
          "height": 33
        },
        "outputId": "7e8aadd2-0d97-4845-8853-faf9df46fed8"
      },
      "source": [
        "# restoring the latest checkpoint in checkpoint_dir\n",
        "checkpoint.restore(tf.train.latest_checkpoint(checkpoint_dir))"
      ],
      "execution_count": null,
      "outputs": [
        {
          "output_type": "execute_result",
          "data": {
            "text/plain": [
              "<tensorflow.python.training.tracking.util.CheckpointLoadStatus at 0x7f08a022d4a8>"
            ]
          },
          "metadata": {
            "tags": []
          },
          "execution_count": 81
        }
      ]
    },
    {
      "cell_type": "markdown",
      "metadata": {
        "colab_type": "text",
        "id": "5e1vGD13WAp5"
      },
      "source": [
        "###### 6.3.11.1. Inference with greedy search"
      ]
    },
    {
      "cell_type": "code",
      "metadata": {
        "colab_type": "code",
        "id": "btkYdRj6WAp6",
        "colab": {
          "base_uri": "https://localhost:8080/",
          "height": 667
        },
        "outputId": "0e472a3b-2485-4c6c-bbcc-51d7b830afbb"
      },
      "source": [
        "predict(encoder, decoder, enc_in_ques_test, enc_in_title_test, enc_in_price_test, \n",
        "        enc_in_image_test, dec_in_test, 'random')"
      ],
      "execution_count": null,
      "outputs": [
        {
          "output_type": "stream",
          "text": [
            "\n",
            "Question: does it work while the device is charging\n",
            "Actual answer: oh yes beautifully\n",
            "Predicted answer: yes\n",
            "\n",
            "Question: are these expired\n",
            "Actual answer: no\n",
            "Predicted answer: no\n",
            "\n",
            "Question: can i buy just the bearing without the hub assembly\n",
            "Actual answer: nope\n",
            "Predicted answer: yes\n",
            "\n",
            "Question: will this fit my 2012 switchback\n",
            "Actual answer: yes\n",
            "Predicted answer: yes\n",
            "\n",
            "Question: so this does not have the diamond rods with it\n",
            "Actual answer: nope\n",
            "Predicted answer: yes\n",
            "\n",
            "Question: does this canopy come with the sidewall shown\n",
            "Actual answer: yes\n",
            "Predicted answer: yes\n",
            "\n",
            "Question: can this use regular batteries as well as the rechargeable ones\n",
            "Actual answer: no\n",
            "Predicted answer: yes\n",
            "\n",
            "Question: are the paddles on the new auger\n",
            "Actual answer: yes comes complete\n",
            "Predicted answer: yes\n",
            "\n",
            "Question: are they made in the usa\n",
            "Actual answer: made in china\n",
            "Predicted answer: yes\n",
            "\n",
            "Question: how many players\n",
            "Actual answer: 2 6 players\n",
            "Predicted answer: mp mp\n"
          ],
          "name": "stdout"
        }
      ]
    },
    {
      "cell_type": "code",
      "metadata": {
        "colab_type": "code",
        "id": "CggQOvGaWAp8",
        "colab": {
          "base_uri": "https://localhost:8080/",
          "height": 82
        },
        "outputId": "1a433e82-0f2b-432f-96d5-c95aadaf7d9a"
      },
      "source": [
        "predict(encoder, decoder, enc_in_ques_test, enc_in_title_test, enc_in_price_test, \n",
        "        enc_in_image_test, dec_in_test, 'random', count=1, special_input=True)"
      ],
      "execution_count": null,
      "outputs": [
        {
          "output_type": "stream",
          "text": [
            "\n",
            "Question: All zeros\n",
            "Actual answer: yes\n",
            "Predicted answer: \n"
          ],
          "name": "stdout"
        }
      ]
    },
    {
      "cell_type": "code",
      "metadata": {
        "colab_type": "code",
        "id": "6A3Zf4BhWAp9",
        "colab": {
          "base_uri": "https://localhost:8080/",
          "height": 33
        },
        "outputId": "236d3fba-c2ba-4e3e-a74d-845a688942b7"
      },
      "source": [
        "start_time = timer()\n",
        "predicted_answer_list, actual_answer_list = predict(encoder, decoder, \n",
        "                                                    enc_in_ques_test, \n",
        "                                                    enc_in_title_test, \n",
        "                                                    enc_in_price_test, \n",
        "                                                    enc_in_image_test, \n",
        "                                                    dec_in_test, 'corpus')\n",
        "timer(start_time)"
      ],
      "execution_count": null,
      "outputs": [
        {
          "output_type": "stream",
          "text": [
            "Time taken: 0 hours 0 minutes and 33.34 seconds.\n"
          ],
          "name": "stdout"
        }
      ]
    },
    {
      "cell_type": "markdown",
      "metadata": {
        "colab_type": "text",
        "id": "2ewa4TaCWAp_"
      },
      "source": [
        "###### 6.3.11.2. Inference with beam search"
      ]
    },
    {
      "cell_type": "code",
      "metadata": {
        "colab_type": "code",
        "id": "mBA_AvHaWAp_",
        "colab": {
          "base_uri": "https://localhost:8080/",
          "height": 667
        },
        "outputId": "d89b163d-816e-43bf-97d1-a01500069e0b"
      },
      "source": [
        "predict(encoder, decoder, enc_in_ques_test, enc_in_title_test, enc_in_price_test, \n",
        "        enc_in_image_test, dec_in_test, 'random', beam_search=True)"
      ],
      "execution_count": null,
      "outputs": [
        {
          "output_type": "stream",
          "text": [
            "\n",
            "Question: is it really from noble collection\n",
            "Actual answer: yes\n",
            "Predicted answer: yes\n",
            "\n",
            "Question: is the tire the type that needs inflating\n",
            "Actual answer: no\n",
            "Predicted answer: no\n",
            "\n",
            "Question: flattering\n",
            "Actual answer: i think so\n",
            "Predicted answer: i\n",
            "\n",
            "Question: will it fit an hp pavilion dv6 7014nr\n",
            "Actual answer: no\n",
            "Predicted answer: yes\n",
            "\n",
            "Question: will this fit a 2011 toyota tundra\n",
            "Actual answer: yes\n",
            "Predicted answer: yes\n",
            "\n",
            "Question: does this phone have to have a plan with at t\n",
            "Actual answer: no\n",
            "Predicted answer: no\n",
            "\n",
            "Question: does this cooler have a spigot\n",
            "Actual answer: yes\n",
            "Predicted answer: no\n",
            "\n",
            "Question: does it swivel\n",
            "Actual answer: no\n",
            "Predicted answer: yes\n",
            "\n",
            "Question: so where is this kettle made before i place my order\n",
            "Actual answer: japan i think\n",
            "Predicted answer: china\n",
            "\n",
            "Question: can i used this for my galaxy note edge\n",
            "Actual answer: yes\n",
            "Predicted answer: yes\n"
          ],
          "name": "stdout"
        }
      ]
    },
    {
      "cell_type": "code",
      "metadata": {
        "colab_type": "code",
        "id": "8fOxbBi-WAqA",
        "colab": {
          "base_uri": "https://localhost:8080/",
          "height": 82
        },
        "outputId": "8495ead0-8bd0-492c-81c6-cc708364cc39"
      },
      "source": [
        "predict(encoder, decoder, enc_in_ques_test, enc_in_title_test, enc_in_price_test, \n",
        "        enc_in_image_test, dec_in_test, 'random', count=1, special_input=True, \n",
        "        beam_search=True)"
      ],
      "execution_count": null,
      "outputs": [
        {
          "output_type": "stream",
          "text": [
            "\n",
            "Question: All zeros\n",
            "Actual answer: 120\n",
            "Predicted answer: \n"
          ],
          "name": "stdout"
        }
      ]
    },
    {
      "cell_type": "code",
      "metadata": {
        "colab_type": "code",
        "id": "ARyP3-2xWAqB",
        "colab": {
          "base_uri": "https://localhost:8080/"
        },
        "outputId": "08a5550d-bca5-4bc9-8bd0-50e2114a3e1f"
      },
      "source": [
        "start_time = timer()\n",
        "predicted_answer_list, actual_answer_list = predict(encoder, decoder, \n",
        "                                                    enc_in_ques_test, \n",
        "                                                    enc_in_title_test, \n",
        "                                                    enc_in_price_test, \n",
        "                                                    enc_in_image_test, \n",
        "                                                    dec_in_test, 'corpus', \n",
        "                                                    beam_search=True)\n",
        "timer(start_time)"
      ],
      "execution_count": null,
      "outputs": [
        {
          "output_type": "stream",
          "text": [
            "Time taken: 0 hours 0 minutes and 59.38 seconds.\n"
          ],
          "name": "stdout"
        }
      ]
    },
    {
      "cell_type": "markdown",
      "metadata": {
        "colab_type": "text",
        "id": "fvASNE3OWAqD"
      },
      "source": [
        "###### 6.3.11.3. Inference with greedy search (with TF-Lite)"
      ]
    },
    {
      "cell_type": "code",
      "metadata": {
        "colab_type": "code",
        "id": "h-1nlOLDWAqD",
        "colab": {}
      },
      "source": [
        "predict(tflite_encoder_model_file, tflite_decoder_model_file, enc_in_ques_test, \n",
        "        enc_in_title_test, enc_in_price_test, enc_in_image_test, dec_in_test, \n",
        "        'random', tflite=True)"
      ],
      "execution_count": null,
      "outputs": []
    },
    {
      "cell_type": "code",
      "metadata": {
        "colab_type": "code",
        "id": "_-GEFBnJWAqG",
        "colab": {}
      },
      "source": [
        "predict(tflite_encoder_model_file, tflite_decoder_model_file, enc_in_ques_test, \n",
        "        enc_in_title_test, enc_in_price_test, enc_in_image_test, dec_in_test, \n",
        "        'random', count=1, special_input=True, tflite=True)"
      ],
      "execution_count": null,
      "outputs": []
    },
    {
      "cell_type": "code",
      "metadata": {
        "colab_type": "code",
        "id": "7OdhKGyDWAqH",
        "colab": {}
      },
      "source": [
        "start_time = timer()\n",
        "predicted_answer_list, actual_answer_list = predict(tflite_encoder_model_file, \n",
        "                                                    tflite_decoder_model_file, \n",
        "                                                    enc_in_ques_test, \n",
        "                                                    enc_in_title_test, \n",
        "                                                    enc_in_price_test, \n",
        "                                                    enc_in_image_test, \n",
        "                                                    dec_in_test, 'corpus',\n",
        "                                                    tflite=True)\n",
        "timer(start_time)"
      ],
      "execution_count": null,
      "outputs": []
    },
    {
      "cell_type": "markdown",
      "metadata": {
        "colab_type": "text",
        "id": "Ken2OspdWAqI"
      },
      "source": [
        "###### 6.3.11.4. Inference with beam search (with TF-Lite)"
      ]
    },
    {
      "cell_type": "code",
      "metadata": {
        "colab_type": "code",
        "id": "-EFjATmjWAqJ",
        "colab": {}
      },
      "source": [
        "predict(tflite_encoder_model_file, tflite_decoder_model_file, enc_in_ques_test, \n",
        "        enc_in_title_test, enc_in_price_test, enc_in_image_test, dec_in_test, \n",
        "        'random', beam_search=True, tflite=True)"
      ],
      "execution_count": null,
      "outputs": []
    },
    {
      "cell_type": "code",
      "metadata": {
        "colab_type": "code",
        "id": "N6sJ69r0WAqK",
        "colab": {}
      },
      "source": [
        "predict(tflite_encoder_model_file, tflite_decoder_model_file, enc_in_ques_test, \n",
        "        enc_in_title_test, enc_in_price_test, enc_in_image_test, dec_in_test, \n",
        "        'random', count=1, special_input=True, beam_search=True, tflite=True)"
      ],
      "execution_count": null,
      "outputs": []
    },
    {
      "cell_type": "code",
      "metadata": {
        "colab_type": "code",
        "id": "qjmCu7ZEWAqL",
        "colab": {}
      },
      "source": [
        "start_time = timer()\n",
        "predicted_answer_list, actual_answer_list = predict(tflite_encoder_model_file, \n",
        "                                                    tflite_decoder_model_file, \n",
        "                                                    enc_in_ques_test, \n",
        "                                                    enc_in_title_test, \n",
        "                                                    enc_in_price_test, \n",
        "                                                    enc_in_image_test, \n",
        "                                                    dec_in_test, 'corpus', \n",
        "                                                    beam_search=True, \n",
        "                                                    tflite=True)\n",
        "timer(start_time)"
      ],
      "execution_count": null,
      "outputs": []
    },
    {
      "cell_type": "markdown",
      "metadata": {
        "colab_type": "text",
        "id": "4lGlOXsIWAqN"
      },
      "source": [
        "###### 6.3.11.5. Inference with greedy search (with TF-Lite and Post Quantization)"
      ]
    },
    {
      "cell_type": "code",
      "metadata": {
        "colab_type": "code",
        "id": "AI_JzqwwWAqO",
        "colab": {}
      },
      "source": [
        "predict(tflite_encoder_model_fp16_file, tflite_decoder_model_fp16_file, enc_in_ques_test, \n",
        "        enc_in_title_test, enc_in_price_test, enc_in_image_test, dec_in_test, \n",
        "        'random', tflite=True, quantize=True)"
      ],
      "execution_count": null,
      "outputs": []
    },
    {
      "cell_type": "code",
      "metadata": {
        "colab_type": "code",
        "id": "DjukzoejWAqP",
        "colab": {}
      },
      "source": [
        "predict(tflite_encoder_model_fp16_file, tflite_decoder_model_fp16_file, enc_in_ques_test, \n",
        "        enc_in_title_test, enc_in_price_test, enc_in_image_test, dec_in_test, \n",
        "        'random', count=1, special_input=True, tflite=True, quantize=True)"
      ],
      "execution_count": null,
      "outputs": []
    },
    {
      "cell_type": "code",
      "metadata": {
        "colab_type": "code",
        "id": "lwfncSAsWAqQ",
        "colab": {}
      },
      "source": [
        "start_time = timer()\n",
        "predicted_answer_list, actual_answer_list = predict(tflite_encoder_model_fp16_file, \n",
        "                                                    tflite_decoder_model_fp16_file, \n",
        "                                                    enc_in_ques_test, \n",
        "                                                    enc_in_title_test, \n",
        "                                                    enc_in_price_test, \n",
        "                                                    enc_in_image_test, \n",
        "                                                    dec_in_test, 'corpus',\n",
        "                                                    tflite=True, quantize=True)\n",
        "timer(start_time)"
      ],
      "execution_count": null,
      "outputs": []
    },
    {
      "cell_type": "markdown",
      "metadata": {
        "colab_type": "text",
        "id": "tQpeKZTPWAqR"
      },
      "source": [
        "###### 6.3.11.6. Inference with beam search (with TF-Lite and Post Quantization)"
      ]
    },
    {
      "cell_type": "code",
      "metadata": {
        "colab_type": "code",
        "id": "WRNTH_suWAqR",
        "colab": {}
      },
      "source": [
        "predict(tflite_encoder_model_fp16_file, tflite_decoder_model_fp16_file, enc_in_ques_test, \n",
        "        enc_in_title_test, enc_in_price_test, enc_in_image_test, dec_in_test, \n",
        "        'random', beam_search=True, tflite=True, quantize=True)"
      ],
      "execution_count": null,
      "outputs": []
    },
    {
      "cell_type": "code",
      "metadata": {
        "colab_type": "code",
        "id": "wm9Ngk69WAqS",
        "colab": {}
      },
      "source": [
        "predict(tflite_encoder_model_fp16_file, tflite_decoder_model_fp16_file, enc_in_ques_test, \n",
        "        enc_in_title_test, enc_in_price_test, enc_in_image_test, dec_in_test, \n",
        "        'random', count=1, special_input=True, beam_search=True, tflite=True, quantize=True)"
      ],
      "execution_count": null,
      "outputs": []
    },
    {
      "cell_type": "code",
      "metadata": {
        "colab_type": "code",
        "id": "UkBoxrEOWAqT",
        "colab": {}
      },
      "source": [
        "start_time = timer()\n",
        "predicted_answer_list, actual_answer_list = predict(tflite_encoder_model_fp16_file, \n",
        "                                                    tflite_decoder_model_fp16_file, \n",
        "                                                    enc_in_ques_test, \n",
        "                                                    enc_in_title_test, \n",
        "                                                    enc_in_price_test, \n",
        "                                                    enc_in_image_test, \n",
        "                                                    dec_in_test, 'corpus', \n",
        "                                                    beam_search=True, \n",
        "                                                    tflite=True, quantize=True)\n",
        "timer(start_time)"
      ],
      "execution_count": null,
      "outputs": []
    },
    {
      "cell_type": "markdown",
      "metadata": {
        "colab_type": "text",
        "id": "oN4RSocjXEI1"
      },
      "source": [
        "##### 6.3.12. Calculate BLEU Score (Custom Masking Layer)"
      ]
    },
    {
      "cell_type": "markdown",
      "metadata": {
        "colab_type": "text",
        "id": "EAMF6VDSXEI1"
      },
      "source": [
        "###### 6.3.12.1. With greedy search inference"
      ]
    },
    {
      "cell_type": "code",
      "metadata": {
        "id": "P2qbA0l0qkPF",
        "colab_type": "code",
        "colab": {
          "base_uri": "https://localhost:8080/",
          "height": 176
        },
        "outputId": "b4ed1218-dd7e-4946-96f1-00fe1a265ce3"
      },
      "source": [
        "start_time = timer()\n",
        "print('BLEU-1: %f' % corpus_bleu(actual_answer_list, predicted_answer_list, weights=(1.0, 0, 0, 0)))\n",
        "print('BLEU-2: %f' % corpus_bleu(actual_answer_list, predicted_answer_list, weights=(0.5, 0.5, 0, 0)))\n",
        "print('BLEU-3: %f' % corpus_bleu(actual_answer_list, predicted_answer_list, weights=(0.3, 0.3, 0.3, 0)))\n",
        "print('BLEU-4: %f' % corpus_bleu(actual_answer_list, predicted_answer_list, weights=(0.25, 0.25, 0.25, 0.25)))\n",
        "timer(start_time)"
      ],
      "execution_count": null,
      "outputs": [
        {
          "output_type": "stream",
          "text": [
            "BLEU-1: 0.283994\n",
            "BLEU-2: 0.075399\n",
            "BLEU-3: 0.046779\n",
            "BLEU-4: 0.074845\n",
            "Time taken: 0 hours 0 minutes and 0.17 seconds.\n"
          ],
          "name": "stdout"
        },
        {
          "output_type": "stream",
          "text": [
            "/usr/local/lib/python3.6/dist-packages/nltk/translate/bleu_score.py:490: UserWarning: \n",
            "Corpus/Sentence contains 0 counts of 4-gram overlaps.\n",
            "BLEU scores might be undesirable; use SmoothingFunction().\n",
            "  warnings.warn(_msg)\n"
          ],
          "name": "stderr"
        }
      ]
    },
    {
      "cell_type": "markdown",
      "metadata": {
        "colab_type": "text",
        "id": "PKZ39dIIXEI3"
      },
      "source": [
        "###### 6.3.12.2. With beam search inference"
      ]
    },
    {
      "cell_type": "code",
      "metadata": {
        "id": "5j0tlqAhqqHp",
        "colab_type": "code",
        "colab": {
          "base_uri": "https://localhost:8080/",
          "height": 176
        },
        "outputId": "1efcd857-7587-4774-eb29-8abec99f4b15"
      },
      "source": [
        "start_time = timer()\n",
        "print('BLEU-1: %f' % corpus_bleu(actual_answer_list, predicted_answer_list, weights=(1.0, 0, 0, 0)))\n",
        "print('BLEU-2: %f' % corpus_bleu(actual_answer_list, predicted_answer_list, weights=(0.5, 0.5, 0, 0)))\n",
        "print('BLEU-3: %f' % corpus_bleu(actual_answer_list, predicted_answer_list, weights=(0.3, 0.3, 0.3, 0)))\n",
        "print('BLEU-4: %f' % corpus_bleu(actual_answer_list, predicted_answer_list, weights=(0.25, 0.25, 0.25, 0.25)))\n",
        "timer(start_time)"
      ],
      "execution_count": null,
      "outputs": [
        {
          "output_type": "stream",
          "text": [
            "BLEU-1: 0.203827\n",
            "BLEU-2: 0.308597\n",
            "BLEU-3: 0.364286\n",
            "BLEU-4: 0.379713\n",
            "Time taken: 0 hours 0 minutes and 0.17 seconds.\n"
          ],
          "name": "stdout"
        },
        {
          "output_type": "stream",
          "text": [
            "/usr/local/lib/python3.6/dist-packages/nltk/translate/bleu_score.py:490: UserWarning: \n",
            "Corpus/Sentence contains 0 counts of 2-gram overlaps.\n",
            "BLEU scores might be undesirable; use SmoothingFunction().\n",
            "  warnings.warn(_msg)\n"
          ],
          "name": "stderr"
        }
      ]
    },
    {
      "cell_type": "markdown",
      "metadata": {
        "colab_type": "text",
        "id": "4xGIyMmLXEI4"
      },
      "source": [
        "##### 6.3.13. Calculate BLEU Score (tf.keras.layers.Masking Layer)"
      ]
    },
    {
      "cell_type": "markdown",
      "metadata": {
        "colab_type": "text",
        "id": "OenMBeloXEI4"
      },
      "source": [
        "###### 6.3.13.1. With greedy search inference"
      ]
    },
    {
      "cell_type": "code",
      "metadata": {
        "id": "yhrKP_bZq3Vm",
        "colab_type": "code",
        "colab": {
          "base_uri": "https://localhost:8080/",
          "height": 176
        },
        "outputId": "db013aef-8f9d-440c-9fd5-59d086d8ab70"
      },
      "source": [
        "start_time = timer()\n",
        "print('BLEU-1: %f' % corpus_bleu(actual_answer_list, predicted_answer_list, weights=(1.0, 0, 0, 0)))\n",
        "print('BLEU-2: %f' % corpus_bleu(actual_answer_list, predicted_answer_list, weights=(0.5, 0.5, 0, 0)))\n",
        "print('BLEU-3: %f' % corpus_bleu(actual_answer_list, predicted_answer_list, weights=(0.3, 0.3, 0.3, 0)))\n",
        "print('BLEU-4: %f' % corpus_bleu(actual_answer_list, predicted_answer_list, weights=(0.25, 0.25, 0.25, 0.25)))\n",
        "timer(start_time)"
      ],
      "execution_count": null,
      "outputs": [
        {
          "output_type": "stream",
          "text": [
            "BLEU-1: 0.228777\n",
            "BLEU-2: 0.039098\n",
            "BLEU-3: 0.015423\n",
            "BLEU-4: 0.028999\n",
            "Time taken: 0 hours 0 minutes and 0.17 seconds.\n"
          ],
          "name": "stdout"
        },
        {
          "output_type": "stream",
          "text": [
            "/usr/local/lib/python3.6/dist-packages/nltk/translate/bleu_score.py:490: UserWarning: \n",
            "Corpus/Sentence contains 0 counts of 4-gram overlaps.\n",
            "BLEU scores might be undesirable; use SmoothingFunction().\n",
            "  warnings.warn(_msg)\n"
          ],
          "name": "stderr"
        }
      ]
    },
    {
      "cell_type": "markdown",
      "metadata": {
        "colab_type": "text",
        "id": "s9qGDnV9XEI5"
      },
      "source": [
        "###### 6.3.13.2. With beam search inference"
      ]
    },
    {
      "cell_type": "code",
      "metadata": {
        "id": "k0oZhRChq777",
        "colab_type": "code",
        "colab": {
          "base_uri": "https://localhost:8080/",
          "height": 176
        },
        "outputId": "205dc846-e1e1-4bb4-d347-c27aab4c10b0"
      },
      "source": [
        "start_time = timer()\n",
        "print('BLEU-1: %f' % corpus_bleu(actual_answer_list, predicted_answer_list, weights=(1.0, 0, 0, 0)))\n",
        "print('BLEU-2: %f' % corpus_bleu(actual_answer_list, predicted_answer_list, weights=(0.5, 0.5, 0, 0)))\n",
        "print('BLEU-3: %f' % corpus_bleu(actual_answer_list, predicted_answer_list, weights=(0.3, 0.3, 0.3, 0)))\n",
        "print('BLEU-4: %f' % corpus_bleu(actual_answer_list, predicted_answer_list, weights=(0.25, 0.25, 0.25, 0.25)))\n",
        "timer(start_time)"
      ],
      "execution_count": null,
      "outputs": [
        {
          "output_type": "stream",
          "text": [
            "BLEU-1: 0.194456\n",
            "BLEU-2: 0.314775\n",
            "BLEU-3: 0.381656\n",
            "BLEU-4: 0.400489\n",
            "Time taken: 0 hours 0 minutes and 0.15 seconds.\n"
          ],
          "name": "stdout"
        },
        {
          "output_type": "stream",
          "text": [
            "/usr/local/lib/python3.6/dist-packages/nltk/translate/bleu_score.py:490: UserWarning: \n",
            "Corpus/Sentence contains 0 counts of 2-gram overlaps.\n",
            "BLEU scores might be undesirable; use SmoothingFunction().\n",
            "  warnings.warn(_msg)\n"
          ],
          "name": "stderr"
        }
      ]
    },
    {
      "cell_type": "markdown",
      "metadata": {
        "colab_type": "text",
        "id": "LpRikH4CXEI6"
      },
      "source": [
        "##### 6.3.12. TensorBoard"
      ]
    },
    {
      "cell_type": "code",
      "metadata": {
        "colab_type": "code",
        "id": "ZMzVI9DgXEI6",
        "colab": {}
      },
      "source": [
        "# Code to zip the logs\n",
        "!zip -rqq logs.zip logs"
      ],
      "execution_count": null,
      "outputs": []
    },
    {
      "cell_type": "code",
      "metadata": {
        "colab_type": "code",
        "id": "-ZRuknJ9XEI7",
        "colab": {}
      },
      "source": [
        "!tar cvzf logs.tar.gz logs/"
      ],
      "execution_count": null,
      "outputs": []
    },
    {
      "cell_type": "code",
      "metadata": {
        "colab_type": "code",
        "id": "QCS1ZVyuXEI8",
        "colab": {}
      },
      "source": [
        "# Code to download logs zip\n",
        "try:\n",
        "  from google.colab import files\n",
        "except ImportError:\n",
        "   pass\n",
        "else:\n",
        "  files.download('logs.zip')"
      ],
      "execution_count": null,
      "outputs": []
    },
    {
      "cell_type": "code",
      "metadata": {
        "colab_type": "code",
        "id": "QN3qPEx_XEI8",
        "colab": {}
      },
      "source": [
        "# Load the TensorBoard notebook extension\n",
        "%load_ext tensorboard"
      ],
      "execution_count": null,
      "outputs": []
    },
    {
      "cell_type": "code",
      "metadata": {
        "colab_type": "code",
        "id": "BbUMFmGvXEI9",
        "colab": {}
      },
      "source": [
        "%tensorboard --logdir logs/gradient_tape/20200719-064637/attention_two/"
      ],
      "execution_count": null,
      "outputs": []
    },
    {
      "cell_type": "markdown",
      "metadata": {
        "colab_type": "text",
        "id": "5sqve_ohXEJA"
      },
      "source": [
        "### 7. Tabulated Results\n",
        "\n",
        "Iteration-I Models - Index 01 to 08\n",
        "\n",
        "Iteration-II Models - Index 09 to 16"
      ]
    },
    {
      "cell_type": "code",
      "metadata": {
        "id": "s1SijwH3bbCh",
        "colab_type": "code",
        "colab": {
          "base_uri": "https://localhost:8080/",
          "height": 428
        },
        "outputId": "edae5eb8-edab-45fc-f21c-30a6ada90238"
      },
      "source": [
        "from prettytable import PrettyTable\n",
        " \n",
        "x = PrettyTable()\n",
        "\n",
        "x.field_names = [\"Index\", \"Model\", \"Features\", \"Epochs\", \"Loss\", \"Val-Loss\", \"BLEU Score\"]\n",
        "x.add_row([\"01\", \"Baseline\", \"No Masking + Greedy Search Inference\", 10, \"01.0581\", \"01.0331\", \"07.5227\"])\n",
        "x.add_row([\"02\", \"Baseline\", \"Masking + Greedy Search Inference\", 10, \"01.0487\", \"01.0106\", \"03.6751\"])\n",
        "x.add_row([\"03\", \"Attention\", \"Bahdanau + Custom Masking Layer + Greedy Search Inference\", 10, \"01.0039\", \"00.9739\", \"05.5855\"])\n",
        "x.add_row([\"04\", \"Attention\", \"Bahdanau + Masking Layer + Greedy Search Inference\", 10, \"01.3435\", \"01.3068\", \"12.4567\"])\n",
        "x.add_row([\"--\", \"---------\", \"---------------------------------------------------------------------------\", \"--\", \"------\", \"------\", \"------\"])\n",
        "x.add_row([\"05\", \"Baseline\", \"No Masking + Beam Search Inference\", 10, \"01.0581\", \"01.0331\", \"35.8249\"])\n",
        "x.add_row([\"06\", \"Baseline\", \"Masking + Beam Search Inference\", 10, \"01.0487\", \"01.0106\", \"35.6468\"])\n",
        "x.add_row([\"07\", \"Attention\", \"Bahdanau + Custom Masking Layer + Beam Search Inference\", 10, \"01.0039\", \"00.9739\", \"35.7717\"])\n",
        "x.add_row([\"08\", \"Attention\", \"Bahdanau + Masking Layer + Beam Search Inference\", 10, \"01.3435\", \"01.3068\", \"35.9478\"])\n",
        "x.add_row([\"--\", \"---------\", \"---------------------------------------------------------------------------\", \"--\", \"------\", \"------\", \"------\"])\n",
        "x.add_row([\"09\", \"Baseline\", \"Extra Features + No Masking + Greedy Search Inference\", 10, \"01.4932\", \"01.4320\", \"36.5983\"])\n",
        "x.add_row([\"10\", \"Baseline\", \"Extra Features + Masking + Greedy Search Inference\", 10, \"01.3331\", \"01.2727\", \"01.4381\"])\n",
        "x.add_row([\"11\", \"Attention\", \"Extra Features + Bahdanau + Custom Masking Layer + Greedy Search Inference\", 10, \"01.0962\", \"01.0513\", \"07.4845\"])\n",
        "x.add_row([\"12\", \"Attention\", \"Extra Features + Bahdanau + Masking Layer + Greedy Search Inference\", 10, \"01.0726\", \"01.0672\", \"02.8999\"])\n",
        "x.add_row([\"--\", \"---------\", \"---------------------------------------------------------------------------\", \"--\", \"------\", \"------\", \"------\"])\n",
        "x.add_row([\"13\", \"Baseline\", \"New Features + No Masking + Beam Search Inference\", 10, \"01.4932\", \"01.4320\", \"36.5983\"])\n",
        "x.add_row([\"14\", \"Baseline\", \"New Features + Masking + Beam Search Inference\", 10, \"01.3331\", \"01.2727\", \"36.9561\"])\n",
        "x.add_row([\"15\", \"Attention\", \"New Features + Bahdanau + Custom Masking Layer + Beam Search Inference\", 10, \"01.0962\", \"01.0513\", \"37.9713\"])\n",
        "x.add_row([\"16\", \"Attention\", \"New Features + Bahdanau + Masking Layer + Beam Search Inference\", 10, \"01.0726\", \"01.0672\", \"40.0489\"])\n",
        "\n",
        "\n",
        "print(x)"
      ],
      "execution_count": null,
      "outputs": [
        {
          "output_type": "stream",
          "text": [
            "+-------+-----------+-----------------------------------------------------------------------------+--------+---------+----------+------------+\n",
            "| Index |   Model   |                                   Features                                  | Epochs |   Loss  | Val-Loss | BLEU Score |\n",
            "+-------+-----------+-----------------------------------------------------------------------------+--------+---------+----------+------------+\n",
            "|   01  |  Baseline |                     No Masking + Greedy Search Inference                    |   10   | 01.0581 | 01.0331  |  07.5227   |\n",
            "|   02  |  Baseline |                      Masking + Greedy Search Inference                      |   10   | 01.0487 | 01.0106  |  03.6751   |\n",
            "|   03  | Attention |          Bahdanau + Custom Masking Layer + Greedy Search Inference          |   10   | 01.0039 | 00.9739  |  05.5855   |\n",
            "|   04  | Attention |              Bahdanau + Masking Layer + Greedy Search Inference             |   10   | 01.3435 | 01.3068  |  12.4567   |\n",
            "|   --  | --------- | --------------------------------------------------------------------------- |   --   |  ------ |  ------  |   ------   |\n",
            "|   05  |  Baseline |                      No Masking + Beam Search Inference                     |   10   | 01.0581 | 01.0331  |  35.8249   |\n",
            "|   06  |  Baseline |                       Masking + Beam Search Inference                       |   10   | 01.0487 | 01.0106  |  35.6468   |\n",
            "|   07  | Attention |           Bahdanau + Custom Masking Layer + Beam Search Inference           |   10   | 01.0039 | 00.9739  |  35.7717   |\n",
            "|   08  | Attention |               Bahdanau + Masking Layer + Beam Search Inference              |   10   | 01.3435 | 01.3068  |  35.9478   |\n",
            "|   --  | --------- | --------------------------------------------------------------------------- |   --   |  ------ |  ------  |   ------   |\n",
            "|   09  |  Baseline |            Extra Features + No Masking + Greedy Search Inference            |   10   | 01.4932 | 01.4320  |  36.5983   |\n",
            "|   10  |  Baseline |              Extra Features + Masking + Greedy Search Inference             |   10   | 01.3331 | 01.2727  |  01.4381   |\n",
            "|   11  | Attention |  Extra Features + Bahdanau + Custom Masking Layer + Greedy Search Inference |   10   | 01.0962 | 01.0513  |  07.4845   |\n",
            "|   12  | Attention |     Extra Features + Bahdanau + Masking Layer + Greedy Search Inference     |   10   | 01.0726 | 01.0672  |  02.8999   |\n",
            "|   --  | --------- | --------------------------------------------------------------------------- |   --   |  ------ |  ------  |   ------   |\n",
            "|   13  |  Baseline |              New Features + No Masking + Beam Search Inference              |   10   | 01.4932 | 01.4320  |  36.5983   |\n",
            "|   14  |  Baseline |                New Features + Masking + Beam Search Inference               |   10   | 01.3331 | 01.2727  |  36.9561   |\n",
            "|   15  | Attention |    New Features + Bahdanau + Custom Masking Layer + Beam Search Inference   |   10   | 01.0962 | 01.0513  |  37.9713   |\n",
            "|   16  | Attention |       New Features + Bahdanau + Masking Layer + Beam Search Inference       |   10   | 01.0726 | 01.0672  |  40.0489   |\n",
            "+-------+-----------+-----------------------------------------------------------------------------+--------+---------+----------+------------+\n"
          ],
          "name": "stdout"
        }
      ]
    },
    {
      "cell_type": "markdown",
      "metadata": {
        "id": "f9E1ZfvgTV5d",
        "colab_type": "text"
      },
      "source": [
        "### 8. Model Inferencing"
      ]
    },
    {
      "cell_type": "code",
      "metadata": {
        "id": "IyqTg-6GOnsK",
        "colab_type": "code",
        "colab": {
          "base_uri": "https://localhost:8080/",
          "height": 1000
        },
        "outputId": "a5c6b469-be68-4b23-e62c-5652df094dad"
      },
      "source": [
        "!python ./src/main.py 'Are these hex head screws?' 'Dynamite screw set slash stampede rustler bandit' '$25.99' 'https://images-na.ssl-images-amazon.com/images/I/41qZd9n61AL._SX38_SY50_CR,0,0,38,50_.jpg'"
      ],
      "execution_count": null,
      "outputs": [
        {
          "output_type": "stream",
          "text": [
            "2020-08-14 04:46:36.740003: I tensorflow/stream_executor/platform/default/dso_loader.cc:48] Successfully opened dynamic library libcudart.so.10.1\n",
            "2020-08-14 04:46:39.287768: I tensorflow/compiler/jit/xla_cpu_device.cc:41] Not creating XLA devices, tf_xla_enable_xla_devices not set\n",
            "2020-08-14 04:46:39.287827: I tensorflow/compiler/jit/xla_gpu_device.cc:69] Not creating XLA devices, tf_xla_enable_xla_devices not set\n",
            "2020-08-14 04:46:39.289021: I tensorflow/stream_executor/platform/default/dso_loader.cc:48] Successfully opened dynamic library libcuda.so.1\n",
            "2020-08-14 04:46:39.292324: I tensorflow/stream_executor/cuda/cuda_gpu_executor.cc:941] successful NUMA node read from SysFS had negative value (-1), but there must be at least one NUMA node, so returning NUMA node zero\n",
            "2020-08-14 04:46:39.293069: I tensorflow/core/common_runtime/gpu/gpu_device.cc:1716] Found device 0 with properties: \n",
            "pciBusID: 0000:00:04.0 name: Tesla K80 computeCapability: 3.7\n",
            "coreClock: 0.8235GHz coreCount: 13 deviceMemorySize: 11.17GiB deviceMemoryBandwidth: 223.96GiB/s\n",
            "2020-08-14 04:46:39.293127: I tensorflow/stream_executor/platform/default/dso_loader.cc:48] Successfully opened dynamic library libcudart.so.10.1\n",
            "2020-08-14 04:46:39.295100: I tensorflow/stream_executor/platform/default/dso_loader.cc:48] Successfully opened dynamic library libcublas.so.10\n",
            "2020-08-14 04:46:39.297040: I tensorflow/stream_executor/platform/default/dso_loader.cc:48] Successfully opened dynamic library libcufft.so.10\n",
            "2020-08-14 04:46:39.297415: I tensorflow/stream_executor/platform/default/dso_loader.cc:48] Successfully opened dynamic library libcurand.so.10\n",
            "2020-08-14 04:46:39.299376: I tensorflow/stream_executor/platform/default/dso_loader.cc:48] Successfully opened dynamic library libcusolver.so.10\n",
            "2020-08-14 04:46:39.300270: I tensorflow/stream_executor/platform/default/dso_loader.cc:48] Successfully opened dynamic library libcusparse.so.10\n",
            "2020-08-14 04:46:39.306816: I tensorflow/stream_executor/platform/default/dso_loader.cc:48] Successfully opened dynamic library libcudnn.so.7\n",
            "2020-08-14 04:46:39.307000: I tensorflow/stream_executor/cuda/cuda_gpu_executor.cc:941] successful NUMA node read from SysFS had negative value (-1), but there must be at least one NUMA node, so returning NUMA node zero\n",
            "2020-08-14 04:46:39.307812: I tensorflow/stream_executor/cuda/cuda_gpu_executor.cc:941] successful NUMA node read from SysFS had negative value (-1), but there must be at least one NUMA node, so returning NUMA node zero\n",
            "2020-08-14 04:46:39.308523: I tensorflow/core/common_runtime/gpu/gpu_device.cc:1858] Adding visible gpu devices: 0\n",
            "2020-08-14 04:46:39.308904: I tensorflow/core/platform/cpu_feature_guard.cc:142] This TensorFlow binary is optimized with oneAPI Deep Neural Network Library (oneDNN) to use the following CPU instructions in performance-critical operations:  AVX2 FMA\n",
            "To enable them in other operations, rebuild TensorFlow with the appropriate compiler flags.\n",
            "2020-08-14 04:46:39.309107: I tensorflow/compiler/jit/xla_cpu_device.cc:54] Not creating XLA devices, tf_xla_enable_xla_devices not set\n",
            "2020-08-14 04:46:39.309141: I tensorflow/compiler/jit/xla_gpu_device.cc:99] Not creating XLA devices, tf_xla_enable_xla_devices not set\n",
            "2020-08-14 04:46:39.309396: I tensorflow/stream_executor/cuda/cuda_gpu_executor.cc:941] successful NUMA node read from SysFS had negative value (-1), but there must be at least one NUMA node, so returning NUMA node zero\n",
            "2020-08-14 04:46:39.310083: I tensorflow/core/common_runtime/gpu/gpu_device.cc:1716] Found device 0 with properties: \n",
            "pciBusID: 0000:00:04.0 name: Tesla K80 computeCapability: 3.7\n",
            "coreClock: 0.8235GHz coreCount: 13 deviceMemorySize: 11.17GiB deviceMemoryBandwidth: 223.96GiB/s\n",
            "2020-08-14 04:46:39.310127: I tensorflow/stream_executor/platform/default/dso_loader.cc:48] Successfully opened dynamic library libcudart.so.10.1\n",
            "2020-08-14 04:46:39.310178: I tensorflow/stream_executor/platform/default/dso_loader.cc:48] Successfully opened dynamic library libcublas.so.10\n",
            "2020-08-14 04:46:39.310222: I tensorflow/stream_executor/platform/default/dso_loader.cc:48] Successfully opened dynamic library libcufft.so.10\n",
            "2020-08-14 04:46:39.310268: I tensorflow/stream_executor/platform/default/dso_loader.cc:48] Successfully opened dynamic library libcurand.so.10\n",
            "2020-08-14 04:46:39.310327: I tensorflow/stream_executor/platform/default/dso_loader.cc:48] Successfully opened dynamic library libcusolver.so.10\n",
            "2020-08-14 04:46:39.310370: I tensorflow/stream_executor/platform/default/dso_loader.cc:48] Successfully opened dynamic library libcusparse.so.10\n",
            "2020-08-14 04:46:39.310411: I tensorflow/stream_executor/platform/default/dso_loader.cc:48] Successfully opened dynamic library libcudnn.so.7\n",
            "2020-08-14 04:46:39.310588: I tensorflow/stream_executor/cuda/cuda_gpu_executor.cc:941] successful NUMA node read from SysFS had negative value (-1), but there must be at least one NUMA node, so returning NUMA node zero\n",
            "2020-08-14 04:46:39.311390: I tensorflow/stream_executor/cuda/cuda_gpu_executor.cc:941] successful NUMA node read from SysFS had negative value (-1), but there must be at least one NUMA node, so returning NUMA node zero\n",
            "2020-08-14 04:46:39.312074: I tensorflow/core/common_runtime/gpu/gpu_device.cc:1858] Adding visible gpu devices: 0\n",
            "2020-08-14 04:46:39.312129: I tensorflow/stream_executor/platform/default/dso_loader.cc:48] Successfully opened dynamic library libcudart.so.10.1\n",
            "2020-08-14 04:46:39.935360: I tensorflow/core/common_runtime/gpu/gpu_device.cc:1257] Device interconnect StreamExecutor with strength 1 edge matrix:\n",
            "2020-08-14 04:46:39.935426: I tensorflow/core/common_runtime/gpu/gpu_device.cc:1263]      0 \n",
            "2020-08-14 04:46:39.935449: I tensorflow/core/common_runtime/gpu/gpu_device.cc:1276] 0:   N \n",
            "2020-08-14 04:46:39.935762: I tensorflow/stream_executor/cuda/cuda_gpu_executor.cc:941] successful NUMA node read from SysFS had negative value (-1), but there must be at least one NUMA node, so returning NUMA node zero\n",
            "2020-08-14 04:46:39.936640: I tensorflow/stream_executor/cuda/cuda_gpu_executor.cc:941] successful NUMA node read from SysFS had negative value (-1), but there must be at least one NUMA node, so returning NUMA node zero\n",
            "2020-08-14 04:46:39.937414: I tensorflow/stream_executor/cuda/cuda_gpu_executor.cc:941] successful NUMA node read from SysFS had negative value (-1), but there must be at least one NUMA node, so returning NUMA node zero\n",
            "2020-08-14 04:46:39.938109: W tensorflow/core/common_runtime/gpu/gpu_bfc_allocator.cc:39] Overriding allow_growth setting because the TF_FORCE_GPU_ALLOW_GROWTH environment variable is set. Original config value was 0.\n",
            "2020-08-14 04:46:39.938185: I tensorflow/core/common_runtime/gpu/gpu_device.cc:1402] Created TensorFlow device (/job:localhost/replica:0/task:0/device:GPU:0 with 10488 MB memory) -> physical GPU (device: 0, name: Tesla K80, pci bus id: 0000:00:04.0, compute capability: 3.7)\n",
            "2020-08-14 04:46:40.161022: I tensorflow/stream_executor/platform/default/dso_loader.cc:48] Successfully opened dynamic library libcudnn.so.7\n",
            "2020-08-14 04:46:40.968339: I tensorflow/stream_executor/platform/default/dso_loader.cc:48] Successfully opened dynamic library libcublas.so.10\n",
            "2020-08-14 04:46:41.261875: W tensorflow/core/framework/cpu_allocator_impl.cc:81] Allocation of 209715200 exceeds 10% of free system memory.\n",
            "2020-08-14 04:46:41.616436: W tensorflow/core/framework/cpu_allocator_impl.cc:81] Allocation of 121143296 exceeds 10% of free system memory.\n",
            "---- Without Beam Search ----\n",
            "Original Question: Are these hex head screws?\n",
            "Predicted Answer: yes they are\n",
            "Time taken: 0 hours 0 minutes and 1.76 seconds.\n",
            "---- With Beam Search ----\n",
            "Original Question: Are these hex head screws?\n",
            "Predicted Answer: yes\n",
            "Time taken: 0 hours 0 minutes and 0.09 seconds.\n"
          ],
          "name": "stdout"
        }
      ]
    }
  ]
}